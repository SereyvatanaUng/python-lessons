{
 "cells": [
  {
   "cell_type": "markdown",
   "id": "f65bba53",
   "metadata": {},
   "source": [
    "## Tuple is Immutable Attributes"
   ]
  },
  {
   "cell_type": "code",
   "execution_count": 2,
   "id": "828830e9",
   "metadata": {},
   "outputs": [
    {
     "data": {
      "text/plain": [
       "('red', 'green', 'blue')"
      ]
     },
     "execution_count": 2,
     "metadata": {},
     "output_type": "execute_result"
    }
   ],
   "source": [
    "colors = ('red', 'green', 'blue')\n",
    "colors"
   ]
  },
  {
   "cell_type": "code",
   "execution_count": 4,
   "id": "8a74830c",
   "metadata": {},
   "outputs": [],
   "source": [
    "numbers = (1, 2, 3, 4, 5)"
   ]
  },
  {
   "cell_type": "markdown",
   "id": "98088805",
   "metadata": {},
   "source": [
    "### Defining a tuple"
   ]
  },
  {
   "cell_type": "code",
   "execution_count": 6,
   "id": "6568e04c",
   "metadata": {},
   "outputs": [],
   "source": [
    "tuple0 = tuple()"
   ]
  },
  {
   "cell_type": "code",
   "execution_count": 8,
   "id": "060488ce",
   "metadata": {},
   "outputs": [],
   "source": [
    "tuple1 = (1,)"
   ]
  },
  {
   "cell_type": "code",
   "execution_count": 9,
   "id": "5704cfcf",
   "metadata": {},
   "outputs": [],
   "source": [
    "tuple2 = (1, 2, 3, 4)"
   ]
  },
  {
   "cell_type": "code",
   "execution_count": 10,
   "id": "950ec5dd",
   "metadata": {},
   "outputs": [],
   "source": [
    "tuple3 = 1, 2, 3, 4"
   ]
  },
  {
   "cell_type": "code",
   "execution_count": 11,
   "id": "14a5b57b",
   "metadata": {},
   "outputs": [],
   "source": [
    "n_list = [1, 2, 3, 4]\n",
    "tuple3 = tuple(n_list)"
   ]
  }
 ],
 "metadata": {
  "kernelspec": {
   "display_name": "Python 3 (ipykernel)",
   "language": "python",
   "name": "python3"
  },
  "language_info": {
   "codemirror_mode": {
    "name": "ipython",
    "version": 3
   },
   "file_extension": ".py",
   "mimetype": "text/x-python",
   "name": "python",
   "nbconvert_exporter": "python",
   "pygments_lexer": "ipython3",
   "version": "3.10.9"
  }
 },
 "nbformat": 4,
 "nbformat_minor": 5
}
