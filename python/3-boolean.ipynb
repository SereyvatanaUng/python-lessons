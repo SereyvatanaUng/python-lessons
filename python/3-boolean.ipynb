{
 "cells": [
  {
   "cell_type": "code",
   "execution_count": 3,
   "id": "416c3b68",
   "metadata": {},
   "outputs": [
    {
     "name": "stdout",
     "output_type": "stream",
     "text": [
      "True\n",
      "False\n",
      "False\n",
      "False\n"
     ]
    }
   ],
   "source": [
    "print(bool(1))\n",
    "print(bool(0))\n",
    "print(bool(''))\n",
    "print(bool(None))"
   ]
  },
  {
   "cell_type": "code",
   "execution_count": 4,
   "id": "aa82751f",
   "metadata": {},
   "outputs": [
    {
     "name": "stdout",
     "output_type": "stream",
     "text": [
      "True\n",
      "True\n"
     ]
    }
   ],
   "source": [
    "print(bool(-1))\n",
    "print(bool('Hello'))"
   ]
  },
  {
   "cell_type": "code",
   "execution_count": 7,
   "id": "ca7c0f78",
   "metadata": {},
   "outputs": [
    {
     "name": "stdout",
     "output_type": "stream",
     "text": [
      "Results of 10 > 5 : True\n",
      "Results of 5 < 1 : False\n",
      "Results of 5 == 5 : True\n",
      "Results of 5 != 5 : False\n",
      "Results of 'a' > 'b' : False\n"
     ]
    }
   ],
   "source": [
    "print('Results of 10 > 5 :', 10 > 5)\n",
    "print('Results of 5 < 1 :', 5 < 1)\n",
    "print('Results of 5 == 5 :', 5 == 5)\n",
    "print('Results of 5 != 5 :', 5 != 5)\n",
    "print(\"Results of 'a' > 'b' :\", 'a' > 'b')"
   ]
  },
  {
   "cell_type": "code",
   "execution_count": 9,
   "id": "fda22243",
   "metadata": {},
   "outputs": [
    {
     "name": "stdout",
     "output_type": "stream",
     "text": [
      "False\n",
      "True\n",
      "False\n",
      "True\n"
     ]
    }
   ],
   "source": [
    "x = True\n",
    "y = False\n",
    "print(x and y)\n",
    "print(x or y)\n",
    "print(not x)\n",
    "print(not y)"
   ]
  },
  {
   "cell_type": "code",
   "execution_count": 11,
   "id": "dadf26a2",
   "metadata": {},
   "outputs": [
    {
     "name": "stdout",
     "output_type": "stream",
     "text": [
      "Enter an integer : 99\n",
      "Is this integer an even number within the range of 0 to 100? False\n"
     ]
    }
   ],
   "source": [
    "num = int(input('Enter an integer : '))\n",
    "result = num >= 0 and num <= 100 and num % 2 == 0\n",
    "print('Is this integer an even number within the range of 0 to 100?', result)"
   ]
  },
  {
   "cell_type": "code",
   "execution_count": 13,
   "id": "10db05c4",
   "metadata": {},
   "outputs": [
    {
     "data": {
      "text/plain": [
       "False"
      ]
     },
     "execution_count": 13,
     "metadata": {},
     "output_type": "execute_result"
    }
   ],
   "source": [
    "num = 2023\n",
    "(num % 4 == 0 and num % 100 != 0) or num % 400 == 0"
   ]
  },
  {
   "cell_type": "code",
   "execution_count": 15,
   "id": "4802a881",
   "metadata": {},
   "outputs": [
    {
     "name": "stdout",
     "output_type": "stream",
     "text": [
      "True\n",
      "False\n"
     ]
    }
   ],
   "source": [
    "a = 1\n",
    "b = 1.0\n",
    "print(a == b)\n",
    "print(a is b)"
   ]
  },
  {
   "cell_type": "code",
   "execution_count": 16,
   "id": "9fecf0fe",
   "metadata": {},
   "outputs": [
    {
     "name": "stdout",
     "output_type": "stream",
     "text": [
      "True\n",
      "True\n",
      "False\n"
     ]
    }
   ],
   "source": [
    "print('aaa' in 'aaa-bbb-ccc')\n",
    "print('bbb' in 'aaa-bbb-ccc')\n",
    "print('ddd' in 'aaa-bbb-ccc')"
   ]
  },
  {
   "cell_type": "code",
   "execution_count": 19,
   "id": "93860328",
   "metadata": {},
   "outputs": [
    {
     "name": "stdout",
     "output_type": "stream",
     "text": [
      "Enter a number: 23\n",
      "False\n"
     ]
    }
   ],
   "source": [
    "m = int(input('Enter a number: '))\n",
    "print(m % 2 ==0)"
   ]
  },
  {
   "cell_type": "code",
   "execution_count": 29,
   "id": "b2ad17c9",
   "metadata": {},
   "outputs": [
    {
     "name": "stdout",
     "output_type": "stream",
     "text": [
      "Enter a number:100\n",
      "Is the entered integer an even number within the range of 0 to 10? False\n"
     ]
    }
   ],
   "source": [
    "n = int(input('Enter a number:'))\n",
    "print('Is the entered integer an even number within the range of 0 to 10?', n % 2 == 0 and n <= 10)"
   ]
  },
  {
   "cell_type": "code",
   "execution_count": 32,
   "id": "f024e19f",
   "metadata": {},
   "outputs": [
    {
     "name": "stdout",
     "output_type": "stream",
     "text": [
      "Enter year to calculate the leap year: 1100\n",
      "False\n"
     ]
    }
   ],
   "source": [
    "y = int(input('Enter year to calculate the leap year: '))\n",
    "ly = ((y % 4 == 0 and y % 100 != 0) or y % 400 == 0)\n",
    "print(ly)"
   ]
  },
  {
   "cell_type": "code",
   "execution_count": 37,
   "id": "766916d1",
   "metadata": {},
   "outputs": [
    {
     "name": "stdout",
     "output_type": "stream",
     "text": [
      "Please enter a three-digit integer : 123\n",
      "True\n"
     ]
    }
   ],
   "source": [
    "n = int(input('Please enter a three-digit integer : '))\n",
    "print(n / 100 >= 1 and n / 100 <= 9)"
   ]
  },
  {
   "cell_type": "code",
   "execution_count": 38,
   "id": "09e7a771",
   "metadata": {},
   "outputs": [
    {
     "name": "stdout",
     "output_type": "stream",
     "text": [
      "Enter an integer: 125\n",
      "True\n"
     ]
    }
   ],
   "source": [
    "n = int(input('Enter an integer: '))\n",
    "print(n % 5 == 0)"
   ]
  },
  {
   "cell_type": "code",
   "execution_count": null,
   "id": "9adaa6d8",
   "metadata": {},
   "outputs": [],
   "source": []
  }
 ],
 "metadata": {
  "kernelspec": {
   "display_name": "Python 3 (ipykernel)",
   "language": "python",
   "name": "python3"
  },
  "language_info": {
   "codemirror_mode": {
    "name": "ipython",
    "version": 3
   },
   "file_extension": ".py",
   "mimetype": "text/x-python",
   "name": "python",
   "nbconvert_exporter": "python",
   "pygments_lexer": "ipython3",
   "version": "3.10.9"
  }
 },
 "nbformat": 4,
 "nbformat_minor": 5
}
