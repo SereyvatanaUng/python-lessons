{
 "cells": [
  {
   "cell_type": "code",
   "execution_count": 9,
   "id": "be3cc33b",
   "metadata": {},
   "outputs": [
    {
     "data": {
      "text/plain": [
       "'us'"
      ]
     },
     "execution_count": 9,
     "metadata": {},
     "output_type": "execute_result"
    }
   ],
   "source": [
    "score_list = [65, 'us', None, 68, 69]\n",
    "score_list[1]"
   ]
  },
  {
   "cell_type": "code",
   "execution_count": 21,
   "id": "b53a4730",
   "metadata": {},
   "outputs": [
    {
     "name": "stdout",
     "output_type": "stream",
     "text": [
      "BTS's members are : ['V', 'Jungkook', 'Jimin', 'RM', 'J-Hope', 'Jin', 'Suga', 'Vatana', 'Phirom', 'Sun']\n"
     ]
    }
   ],
   "source": [
    "bts = ['V', 'Jungkook', 'Jimin', 'RM', 'J-Hope', 'Jin', 'Suga']\n",
    "bts.append('Vatana')\n",
    "bts += ['Phirom'] + ['Sun']\n",
    "print(\"BTS's members are :\", bts)\n"
   ]
  },
  {
   "cell_type": "code",
   "execution_count": 29,
   "id": "f218cb9d",
   "metadata": {},
   "outputs": [
    {
     "data": {
      "text/plain": [
       "66"
      ]
     },
     "execution_count": 29,
     "metadata": {},
     "output_type": "execute_result"
    }
   ],
   "source": [
    "list2 = [11, 22, 33, 44, 55, 66]\n",
    "list2[-1]"
   ]
  },
  {
   "cell_type": "code",
   "execution_count": 24,
   "id": "199ea097",
   "metadata": {
    "scrolled": true
   },
   "outputs": [
    {
     "name": "stdout",
     "output_type": "stream",
     "text": [
      "[1, 2, 3, 4, 5, 6, 7, 8, 9]\n",
      "9\n"
     ]
    }
   ],
   "source": [
    "list1 = list(range(1, 10))\n",
    "print(list1)\n",
    "print(len(list1))"
   ]
  },
  {
   "cell_type": "code",
   "execution_count": 34,
   "id": "bc086470",
   "metadata": {},
   "outputs": [
    {
     "data": {
      "text/plain": [
       "[3, 4, 5, 6]"
      ]
     },
     "execution_count": 34,
     "metadata": {},
     "output_type": "execute_result"
    }
   ],
   "source": [
    "list1[2 : 6]"
   ]
  },
  {
   "cell_type": "code",
   "execution_count": 36,
   "id": "9f69291b",
   "metadata": {},
   "outputs": [
    {
     "data": {
      "text/plain": [
       "[1, 2, 3, 4, 5, 6]"
      ]
     },
     "execution_count": 36,
     "metadata": {},
     "output_type": "execute_result"
    }
   ],
   "source": [
    "list1[ : 6]"
   ]
  },
  {
   "cell_type": "code",
   "execution_count": 38,
   "id": "efc7b168",
   "metadata": {},
   "outputs": [
    {
     "data": {
      "text/plain": [
       "[7, 8, 9]"
      ]
     },
     "execution_count": 38,
     "metadata": {},
     "output_type": "execute_result"
    }
   ],
   "source": [
    "list1[6 :]"
   ]
  },
  {
   "cell_type": "code",
   "execution_count": 41,
   "id": "6e59daf5",
   "metadata": {},
   "outputs": [
    {
     "data": {
      "text/plain": [
       "[4, 5, 6, 7]"
      ]
     },
     "execution_count": 41,
     "metadata": {},
     "output_type": "execute_result"
    }
   ],
   "source": [
    "list1[-6 : -2]"
   ]
  },
  {
   "cell_type": "code",
   "execution_count": 42,
   "id": "4d1c71fa",
   "metadata": {},
   "outputs": [
    {
     "data": {
      "text/plain": [
       "[8, 9]"
      ]
     },
     "execution_count": 42,
     "metadata": {},
     "output_type": "execute_result"
    }
   ],
   "source": [
    "list1[-2:]"
   ]
  },
  {
   "cell_type": "code",
   "execution_count": 44,
   "id": "a019711b",
   "metadata": {},
   "outputs": [
    {
     "data": {
      "text/plain": [
       "[1, 2, 3, 4, 5, 6, 7]"
      ]
     },
     "execution_count": 44,
     "metadata": {},
     "output_type": "execute_result"
    }
   ],
   "source": [
    "list1[:-2]"
   ]
  },
  {
   "cell_type": "code",
   "execution_count": 46,
   "id": "baeb1183",
   "metadata": {},
   "outputs": [
    {
     "data": {
      "text/plain": [
       "[9, 8, 7, 6, 5, 4, 3, 2, 1]"
      ]
     },
     "execution_count": 46,
     "metadata": {},
     "output_type": "execute_result"
    }
   ],
   "source": [
    "list1[::-1]"
   ]
  },
  {
   "cell_type": "code",
   "execution_count": 50,
   "id": "900bde22",
   "metadata": {},
   "outputs": [
    {
     "data": {
      "text/plain": [
       "[2, 1]"
      ]
     },
     "execution_count": 50,
     "metadata": {},
     "output_type": "execute_result"
    }
   ],
   "source": [
    "list1[1::-1]"
   ]
  },
  {
   "cell_type": "code",
   "execution_count": 52,
   "id": "5c8c3806",
   "metadata": {},
   "outputs": [
    {
     "name": "stdout",
     "output_type": "stream",
     "text": [
      "['David Doe', 20, 1, 180.0, 100.0, 'John Smith', 25, 1, 170.0, 70.0]\n"
     ]
    }
   ],
   "source": [
    "person1 = ['David Doe', 20, 1, 180.0, 100.0]\n",
    "person2 = [\"John Smith\", 25, 1, 170.0, 70.0]\n",
    "\n",
    "person_list = person1 + person2\n",
    "print(person_list)"
   ]
  },
  {
   "cell_type": "code",
   "execution_count": 54,
   "id": "04963e99",
   "metadata": {},
   "outputs": [
    {
     "name": "stdout",
     "output_type": "stream",
     "text": [
      "['a', 'b', 'c', 1, 2, 3]\n",
      "['a', 'b', 'c', 1, 2, 3, 'd']\n"
     ]
    }
   ],
   "source": [
    "list1 = ['a', 'b', 'c']\n",
    "list2 = [1, 2, 3]\n",
    "list1.extend(list2)\n",
    "print(list1)\n",
    "list1.extend('d')\n",
    "print(list1)"
   ]
  },
  {
   "cell_type": "code",
   "execution_count": 58,
   "id": "55bc9dda",
   "metadata": {},
   "outputs": [
    {
     "data": {
      "text/plain": [
       "[11, 22, 33, 44, [55, 66]]"
      ]
     },
     "execution_count": 58,
     "metadata": {},
     "output_type": "execute_result"
    }
   ],
   "source": [
    "list1 = [11, 22, 33, 44]\n",
    "list1.append([55, 66])\n",
    "list1"
   ]
  },
  {
   "cell_type": "code",
   "execution_count": 67,
   "id": "9fdae1a8",
   "metadata": {},
   "outputs": [
    {
     "name": "stdout",
     "output_type": "stream",
     "text": [
      "['David', 178.9, 'John', 173.5, 'Jane', 176.1]\n",
      "['David', 178.9, 'John', 173.5, 'Petter', 'Jane', 176.1]\n",
      "['David', 178.9, 'John', 173.5, 'Petter', 168.1, 'Jane', 176.1]\n",
      "['David', 178.9, 'John', 173.5, 168.1, 'Jane', 176.1]\n"
     ]
    }
   ],
   "source": [
    "slist = ['David', 178.9, 'John', 173.5, 'Jane', 176.1]\n",
    "print(slist)\n",
    "slist.insert(4, 'Petter')\n",
    "print(slist)\n",
    "slist.insert(5, 168.1)\n",
    "print(slist)\n",
    "\n",
    "slist.remove('Petter')\n",
    "print(slist)"
   ]
  },
  {
   "cell_type": "code",
   "execution_count": 69,
   "id": "8981f7c9",
   "metadata": {},
   "outputs": [
    {
     "name": "stdout",
     "output_type": "stream",
     "text": [
      "['V', 'J-Hope', 'Jungkook']\n"
     ]
    }
   ],
   "source": [
    "bts = ['V', 'J-Hope', 'Jungkook']\n",
    "if 'Suga' in bts :\n",
    "    bts.remove('Suga')\n",
    "print(bts)"
   ]
  },
  {
   "cell_type": "code",
   "execution_count": 72,
   "id": "6574251a",
   "metadata": {},
   "outputs": [
    {
     "data": {
      "text/plain": [
       "['J-Hope', 'Jungkook']"
      ]
     },
     "execution_count": 72,
     "metadata": {},
     "output_type": "execute_result"
    }
   ],
   "source": [
    "del bts[0]\n",
    "bts"
   ]
  },
  {
   "cell_type": "code",
   "execution_count": 103,
   "id": "2f10dad7",
   "metadata": {},
   "outputs": [
    {
     "name": "stdout",
     "output_type": "stream",
     "text": [
      "[10, 20, 30]\n",
      "n = 30\n",
      "list1 = [10, 20]\n",
      "##################################################\n",
      "0\n",
      "[10, 20, 30, 40]\n",
      "1\n",
      "0\n",
      "##################################################\n",
      "[10, 20, 30, 40]\n",
      "[10, 20, 30, 40]\n",
      "[40, 30, 20, 10]\n",
      "##################################################\n",
      "10\n",
      "40\n",
      "100\n"
     ]
    }
   ],
   "source": [
    "list1 = [10, 20, 30]\n",
    "print(list1)\n",
    "n = list1.pop()\n",
    "print('n =', n)\n",
    "print('list1 =', list1)\n",
    "\n",
    "print('#' * 50)\n",
    "print(list1.index(10))\n",
    "list1.extend([30,40])\n",
    "print(list1)\n",
    "print(list1.count(40))\n",
    "print(list1.count(50))\n",
    "\n",
    "print('#' * 50)\n",
    "print(list1)\n",
    "list1.sort()\n",
    "print(list1)\n",
    "list1.reverse()\n",
    "print(list1)\n",
    "\n",
    "print('#' * 50)\n",
    "print(min(list1))\n",
    "print(max(list1))\n",
    "print(sum(list1))"
   ]
  },
  {
   "cell_type": "code",
   "execution_count": 107,
   "id": "d5287afd",
   "metadata": {},
   "outputs": [
    {
     "name": "stdout",
     "output_type": "stream",
     "text": [
      "True\n",
      "False\n"
     ]
    }
   ],
   "source": [
    "n_list = [200, 700, 500, 300, 400]\n",
    "a_list = [0, '']\n",
    "print(any(n_list))\n",
    "print(any(a_list))\n"
   ]
  },
  {
   "cell_type": "code",
   "execution_count": 1,
   "id": "e27d1fb1",
   "metadata": {},
   "outputs": [
    {
     "name": "stdout",
     "output_type": "stream",
     "text": [
      "1st element of prime_list : 2\n",
      "##################################################\n",
      "Prime numbers : [2, 3, 5, 7]\n",
      "Prime numbers after addition : [2, 3, 5, 7, 11]\n",
      "##################################################\n",
      "3 * 2 = 6\n",
      "3 * 3 = 9\n",
      "3 * 4 = 12\n",
      "3 * 5 = 15\n",
      "3 * 6 = 18\n",
      "\n",
      "5 * 2 = 10\n",
      "5 * 3 = 15\n",
      "5 * 4 = 20\n",
      "5 * 5 = 25\n",
      "5 * 6 = 30\n",
      "\n",
      "7 * 2 = 14\n",
      "7 * 3 = 21\n",
      "7 * 4 = 28\n",
      "7 * 5 = 35\n",
      "7 * 6 = 42\n",
      "\n"
     ]
    }
   ],
   "source": [
    "prime_list = [2, 3, 5, 7]\n",
    "print(\"1st element of prime_list :\", prime_list[0])\n",
    "\n",
    "print('#' * 50)\n",
    "print(\"Prime numbers :\", prime_list)\n",
    "prime_list.append(11)\n",
    "print(\"Prime numbers after addition :\", prime_list)\n",
    "\n",
    "print('#' * 50)\n",
    "list1 = [3, 5, 7]\n",
    "list2 = [2, 3, 4, 5, 6]\n",
    "for i in range(len(list1)) :\n",
    "    for j in range(len(list2)) :\n",
    "        print(f\"{list1[i]} * {list2[j]} = {list1[i] * list2[j]}\")\n",
    "    print('')"
   ]
  },
  {
   "cell_type": "code",
   "execution_count": 3,
   "id": "cf223d2d",
   "metadata": {},
   "outputs": [
    {
     "name": "stdout",
     "output_type": "stream",
     "text": [
      "Average age is 26.75.\n"
     ]
    }
   ],
   "source": [
    "p1 = ['David Doe', 20, 1, 100.0, 100.0]\n",
    "p2 = ['John Smith', 25, 1, 170.0, 70.0]\n",
    "p3 = ['Jane Carter', 22, 0, 169.0, 60.0]\n",
    "p4 = ['Peter Kelly', 40, 1, 150.0, 50.0]\n",
    "\n",
    "p_list = p1 + p2 + p3 + p4\n",
    "# n_person = len(p_list) / len(p1)\n",
    "# sum = 0\n",
    "# for i in p_list[1::5] :\n",
    "#     sum += i\n",
    "# average = sum / n_person\n",
    "# print(\"The average age of person is :\", average)\n",
    "\n",
    "\n",
    "# =================================== #\n",
    "n_person = int(len(p_list) / 5)\n",
    "age = p_list[1::5]\n",
    "age_sum = sum(age)\n",
    "average_age = float(age_sum / n_person)\n",
    "\n",
    "print(f\"Average age is {str(average_age)}.\")"
   ]
  },
  {
   "cell_type": "code",
   "execution_count": 58,
   "id": "25b751a6",
   "metadata": {},
   "outputs": [
    {
     "name": "stdout",
     "output_type": "stream",
     "text": [
      "['abc', 'bcd', 'opq', 'cddc', 'abba', 'bcdefg']\n",
      "bcdefg\n"
     ]
    }
   ],
   "source": [
    "s_list = ['abc', 'bcd', 'bcdefg', 'abba', 'cddc', 'opq']\n",
    "for i in range(len(s_list) - 1):\n",
    "    for j in range(i+1, len(s_list)) :\n",
    "        if len(s_list[i]) > len(s_list[j]) :\n",
    "            temp = s_list[i]\n",
    "            s_list[i] = s_list[j]\n",
    "            s_list[j] = temp\n",
    "print(s_list)\n",
    "\n",
    "\n",
    "for i in range(len(s_list) - 1):\n",
    "    for j in range(i+1, len(s_list)) :\n",
    "        if len(s_list[i]) < len(s_list[j]) :\n",
    "            temp = s_list[i]\n",
    "            s_list[i] = s_list[j]\n",
    "            s_list[j] = temp\n",
    "print(s_list[0])"
   ]
  },
  {
   "cell_type": "code",
   "execution_count": 57,
   "id": "09339934",
   "metadata": {},
   "outputs": [
    {
     "name": "stdout",
     "output_type": "stream",
     "text": [
      "abc bcd opq "
     ]
    }
   ],
   "source": [
    "s_list = ['abc', 'bcd', 'bcdefg', 'abba', 'cddc', 'opq']\n",
    "\n",
    "for i in range(len(s_list) - 1):\n",
    "    for j in range(i+1, len(s_list)) :\n",
    "        if len(s_list[i]) > len(s_list[j]) :\n",
    "            temp = s_list[i]\n",
    "            s_list[i] = s_list[j]\n",
    "            s_list[j] = temp\n",
    "count = len(s_list[0])\n",
    "\n",
    "for i in range(len(s_list)) :\n",
    "    if len(s_list[i]) == count :\n",
    "        print(s_list[i], end = \" \")"
   ]
  },
  {
   "cell_type": "code",
   "execution_count": 77,
   "id": "3d9087f6",
   "metadata": {},
   "outputs": [
    {
     "name": "stdout",
     "output_type": "stream",
     "text": [
      "abcdfvsaf is not shorter than abcdfvsaf\n",
      "bcd is shorter than abcdfvsaf\n",
      "bcdefg is not shorter than bcd\n",
      "abba is not shorter than bcd\n",
      "cddc is not shorter than bcd\n",
      "opq is not shorter than bcd\n",
      "bcd\n"
     ]
    }
   ],
   "source": [
    "s_list = ['abcdfvsaf', 'bcd', 'bcdefg', 'abba', 'cddc', 'opq']\n",
    "shortest = s_list[0]\n",
    "for i in s_list :\n",
    "    if len(i) < len(shortest) :\n",
    "        print(f'{i} is shorter than {shortest}')\n",
    "        shortest = i\n",
    "    else:\n",
    "        print(f'{i} is not shorter than {shortest}')\n",
    "print(shortest)"
   ]
  },
  {
   "cell_type": "code",
   "execution_count": 4,
   "id": "3da0c5b0",
   "metadata": {},
   "outputs": [
    {
     "name": "stdout",
     "output_type": "stream",
     "text": [
      "The shortest string : abc\n",
      "The longest string : bcdefg\n",
      "The shortest strings : abc bcd opq "
     ]
    }
   ],
   "source": [
    "s_list = ['abc', 'bcd', 'bcdefg', 'abba', 'cddc', 'opq']\n",
    "shortest = s_list[0]\n",
    "longest = s_list[0]\n",
    "\n",
    "for i in s_list :\n",
    "    if len(i) < len(shortest) :\n",
    "       shortest = i\n",
    "    if len(i) > len(longest) :\n",
    "        longest = i\n",
    "\n",
    "print(\"The shortest string :\", shortest)\n",
    "print(\"The longest string :\", longest)\n",
    "\n",
    "print(\"The shortest strings :\", end = \" \")\n",
    "for j in s_list :\n",
    "    if len(j) == len(shortest) :\n",
    "        print(j, end = \" \")"
   ]
  }
 ],
 "metadata": {
  "kernelspec": {
   "display_name": "Python 3 (ipykernel)",
   "language": "python",
   "name": "python3"
  },
  "language_info": {
   "codemirror_mode": {
    "name": "ipython",
    "version": 3
   },
   "file_extension": ".py",
   "mimetype": "text/x-python",
   "name": "python",
   "nbconvert_exporter": "python",
   "pygments_lexer": "ipython3",
   "version": "3.10.9"
  }
 },
 "nbformat": 4,
 "nbformat_minor": 5
}
