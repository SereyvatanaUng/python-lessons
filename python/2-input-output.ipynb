{
 "cells": [
  {
   "cell_type": "code",
   "execution_count": 5,
   "id": "842425ff",
   "metadata": {},
   "outputs": [
    {
     "name": "stdout",
     "output_type": "stream",
     "text": [
      "hello world\n"
     ]
    }
   ],
   "source": [
    "s1 = 'hello world'\n",
    "print(s1)"
   ]
  },
  {
   "cell_type": "code",
   "execution_count": 6,
   "id": "1f6ca6fb",
   "metadata": {},
   "outputs": [
    {
     "name": "stdout",
     "output_type": "stream",
     "text": [
      "helloworld\n"
     ]
    }
   ],
   "source": [
    "s1 = 'hello'\n",
    "s2 = 'world'\n",
    "print(s1+s2)"
   ]
  },
  {
   "cell_type": "code",
   "execution_count": 7,
   "id": "e386a176",
   "metadata": {},
   "outputs": [
    {
     "data": {
      "text/plain": [
       "'ILovePython!'"
      ]
     },
     "execution_count": 7,
     "metadata": {},
     "output_type": "execute_result"
    }
   ],
   "source": [
    "'I' + 'Love' + 'Python!'"
   ]
  },
  {
   "cell_type": "code",
   "execution_count": 8,
   "id": "cba25b08",
   "metadata": {},
   "outputs": [
    {
     "data": {
      "text/plain": [
       "'PythonPythonPythonPythonPythonPythonPythonPythonPythonPython'"
      ]
     },
     "execution_count": 8,
     "metadata": {},
     "output_type": "execute_result"
    }
   ],
   "source": [
    "'Python' * 10"
   ]
  },
  {
   "cell_type": "code",
   "execution_count": 9,
   "id": "c069f368",
   "metadata": {},
   "outputs": [
    {
     "data": {
      "text/plain": [
       "'**************************************************'"
      ]
     },
     "execution_count": 9,
     "metadata": {},
     "output_type": "execute_result"
    }
   ],
   "source": [
    "'*' * 50"
   ]
  },
  {
   "cell_type": "code",
   "execution_count": 10,
   "id": "8c720560",
   "metadata": {},
   "outputs": [
    {
     "data": {
      "text/plain": [
       "'100100100100100100100100100100'"
      ]
     },
     "execution_count": 10,
     "metadata": {},
     "output_type": "execute_result"
    }
   ],
   "source": [
    "str(100) * 10"
   ]
  },
  {
   "cell_type": "code",
   "execution_count": 11,
   "id": "41fc921a",
   "metadata": {},
   "outputs": [
    {
     "name": "stdout",
     "output_type": "stream",
     "text": [
      "<class 'str'>\n"
     ]
    }
   ],
   "source": [
    "print(type('This is a string'))"
   ]
  },
  {
   "cell_type": "code",
   "execution_count": 16,
   "id": "87ccaa0a",
   "metadata": {},
   "outputs": [
    {
     "data": {
      "text/plain": [
       "'o'"
      ]
     },
     "execution_count": 16,
     "metadata": {},
     "output_type": "execute_result"
    }
   ],
   "source": [
    "\"hello\"[4]"
   ]
  },
  {
   "cell_type": "code",
   "execution_count": 17,
   "id": "7ff32188",
   "metadata": {},
   "outputs": [
    {
     "data": {
      "text/plain": [
       "'o'"
      ]
     },
     "execution_count": 17,
     "metadata": {},
     "output_type": "execute_result"
    }
   ],
   "source": [
    "'hello'[-1]"
   ]
  },
  {
   "cell_type": "code",
   "execution_count": 26,
   "id": "8169b6cf",
   "metadata": {},
   "outputs": [
    {
     "name": "stdout",
     "output_type": "stream",
     "text": [
      "the first linethe second line\n"
     ]
    }
   ],
   "source": [
    "text = '''the first line\n",
    "the second line'''\n",
    "print(text)"
   ]
  },
  {
   "cell_type": "code",
   "execution_count": 27,
   "id": "e07451fa",
   "metadata": {},
   "outputs": [
    {
     "data": {
      "text/plain": [
       "'first value 1 and second value 2'"
      ]
     },
     "execution_count": 27,
     "metadata": {},
     "output_type": "execute_result"
    }
   ],
   "source": [
    "value1 = 1\n",
    "value2 = '2'\n",
    "'first value {} and second value {}'.format(value1, value2)"
   ]
  },
  {
   "cell_type": "code",
   "execution_count": 28,
   "id": "aa6c5e3b",
   "metadata": {},
   "outputs": [
    {
     "data": {
      "text/plain": [
       "'Hello Python'"
      ]
     },
     "execution_count": 28,
     "metadata": {},
     "output_type": "execute_result"
    }
   ],
   "source": [
    "'Hello {}'.format('Python')"
   ]
  },
  {
   "cell_type": "code",
   "execution_count": 29,
   "id": "bf17dd68",
   "metadata": {},
   "outputs": [
    {
     "data": {
      "text/plain": [
       "'1 + 2 = 3'"
      ]
     },
     "execution_count": 29,
     "metadata": {},
     "output_type": "execute_result"
    }
   ],
   "source": [
    "'{} + {} = {}'.format(1, 2, 1+2)"
   ]
  },
  {
   "cell_type": "code",
   "execution_count": 36,
   "id": "c1662eb7",
   "metadata": {},
   "outputs": [
    {
     "data": {
      "text/plain": [
       "'       123'"
      ]
     },
     "execution_count": 36,
     "metadata": {},
     "output_type": "execute_result"
    }
   ],
   "source": [
    "'{:10}'.format(123)"
   ]
  },
  {
   "cell_type": "code",
   "execution_count": 33,
   "id": "54b97e1e",
   "metadata": {},
   "outputs": [
    {
     "data": {
      "text/plain": [
       "'Hello     '"
      ]
     },
     "execution_count": 33,
     "metadata": {},
     "output_type": "execute_result"
    }
   ],
   "source": [
    "'{:10}'.format('Hello')"
   ]
  },
  {
   "cell_type": "code",
   "execution_count": 38,
   "id": "4fce9db0",
   "metadata": {},
   "outputs": [
    {
     "name": "stdout",
     "output_type": "stream",
     "text": [
      "       123\n",
      "123       \n",
      "       123\n",
      "   123    \n"
     ]
    }
   ],
   "source": [
    "value = 123\n",
    "formatted_value = '{:10}'.format(value)\n",
    "print(formatted_value)\n",
    "\n",
    "formatted_value = '{:<10}'.format(value)\n",
    "print(formatted_value)\n",
    "\n",
    "formatted_value = '{:>10}'.format(value)\n",
    "print(formatted_value)\n",
    "\n",
    "formatted_value = '{:^10}'.format(value)\n",
    "print(formatted_value)"
   ]
  },
  {
   "cell_type": "code",
   "execution_count": 39,
   "id": "6babe333",
   "metadata": {},
   "outputs": [
    {
     "data": {
      "text/plain": [
       "'       123'"
      ]
     },
     "execution_count": 39,
     "metadata": {},
     "output_type": "execute_result"
    }
   ],
   "source": [
    "'{:10d}'.format(123)"
   ]
  },
  {
   "cell_type": "code",
   "execution_count": 46,
   "id": "3b3dd715",
   "metadata": {},
   "outputs": [
    {
     "ename": "ValueError",
     "evalue": "Unknown format code 'd' for object of type 'float'",
     "output_type": "error",
     "traceback": [
      "\u001b[0;31m---------------------------------------------------------------------------\u001b[0m",
      "\u001b[0;31mValueError\u001b[0m                                Traceback (most recent call last)",
      "Cell \u001b[0;32mIn[46], line 1\u001b[0m\n\u001b[0;32m----> 1\u001b[0m \u001b[38;5;124;43m'\u001b[39;49m\u001b[38;5;132;43;01m{:10d}\u001b[39;49;00m\u001b[38;5;124;43m'\u001b[39;49m\u001b[38;5;241;43m.\u001b[39;49m\u001b[43mformat\u001b[49m\u001b[43m(\u001b[49m\u001b[38;5;241;43m123.5\u001b[39;49m\u001b[43m)\u001b[49m\n",
      "\u001b[0;31mValueError\u001b[0m: Unknown format code 'd' for object of type 'float'"
     ]
    }
   ],
   "source": [
    "'{:10d}'.format(123.5)"
   ]
  },
  {
   "cell_type": "code",
   "execution_count": 43,
   "id": "19079956",
   "metadata": {},
   "outputs": [
    {
     "data": {
      "text/plain": [
       "'123.000000'"
      ]
     },
     "execution_count": 43,
     "metadata": {},
     "output_type": "execute_result"
    }
   ],
   "source": [
    "'{:10f}'.format(123)"
   ]
  },
  {
   "cell_type": "code",
   "execution_count": 47,
   "id": "ccf841de",
   "metadata": {},
   "outputs": [
    {
     "data": {
      "text/plain": [
       "['Python', 'is', 'beautiful']"
      ]
     },
     "execution_count": 47,
     "metadata": {},
     "output_type": "execute_result"
    }
   ],
   "source": [
    "'Python is beautiful'.split()"
   ]
  },
  {
   "cell_type": "code",
   "execution_count": 48,
   "id": "49c3fff4",
   "metadata": {},
   "outputs": [
    {
     "name": "stdout",
     "output_type": "stream",
     "text": [
      "Python is beautiful\n"
     ]
    }
   ],
   "source": [
    "word1, word2, word3 = 'Python is beautiful'.split()\n",
    "print(word1, word2, word3)"
   ]
  },
  {
   "cell_type": "code",
   "execution_count": 49,
   "id": "6bb58bf9",
   "metadata": {},
   "outputs": [
    {
     "name": "stdout",
     "output_type": "stream",
     "text": [
      "True\n",
      "False\n",
      "False\n",
      "False\n",
      "True\n"
     ]
    }
   ],
   "source": [
    "s1 = '12345'\n",
    "print(s1.isdigit())\n",
    "\n",
    "s2 = 'Hello'\n",
    "print(s2.isdigit())\n",
    "\n",
    "s3 = '3.14'\n",
    "print(s3.isdigit())\n",
    "\n",
    "s4 = '-42'\n",
    "print(s4.isdigit())\n",
    "\n",
    "s5 = '0'\n",
    "print(s5.isdigit())"
   ]
  },
  {
   "cell_type": "code",
   "execution_count": 51,
   "id": "8a4601f2",
   "metadata": {},
   "outputs": [
    {
     "name": "stdout",
     "output_type": "stream",
     "text": [
      "Please enter your name: \n",
      "vt\n",
      "Hello, vt\n"
     ]
    }
   ],
   "source": [
    "print('Please enter your name: ')\n",
    "name = input()\n",
    "print('Hello,', name)"
   ]
  },
  {
   "cell_type": "code",
   "execution_count": 53,
   "id": "fd6b0c72",
   "metadata": {},
   "outputs": [
    {
     "name": "stdout",
     "output_type": "stream",
     "text": [
      "Please enter your name: vtn\n",
      "Hello, vtn\n"
     ]
    }
   ],
   "source": [
    "name = input('Please enter your name: ')\n",
    "print('Hello,', name)"
   ]
  },
  {
   "cell_type": "code",
   "execution_count": 55,
   "id": "152f1e7b",
   "metadata": {},
   "outputs": [
    {
     "name": "stdout",
     "output_type": "stream",
     "text": [
      "Please enter your weight in kilograms(kg): 45\n",
      "Please enter your height in meters(m)1.7\n",
      "Your BMI = 15.570934256055365\n"
     ]
    }
   ],
   "source": [
    "weight = float(input(\"Please enter your weight in kilograms(kg): \"))\n",
    "height = float(input(\"Please enter your height in meters(m): \"))\n",
    "\n",
    "bmi = (weight / (height ** 2))\n",
    "print(\"Your BMI =\", bmi)"
   ]
  },
  {
   "cell_type": "code",
   "execution_count": 59,
   "id": "4356c7ca",
   "metadata": {},
   "outputs": [
    {
     "name": "stdout",
     "output_type": "stream",
     "text": [
      "Enter three integers seperated by space: 12 34 56\n",
      "12 34 56\n"
     ]
    }
   ],
   "source": [
    "num1, num2, num3 = input('Enter three integers seperated by space: ').split()\n",
    "print(num1, num2, num3)"
   ]
  },
  {
   "cell_type": "code",
   "execution_count": 62,
   "id": "be15d295",
   "metadata": {},
   "outputs": [
    {
     "name": "stdout",
     "output_type": "stream",
     "text": [
      "Money you put in: 5000\n",
      "Price of goods: 300\n",
      "Change:  4700\n",
      "The number of 500 won coins:  9\n",
      "The number of 100 won coins:  2\n"
     ]
    }
   ],
   "source": [
    "money  = int(input(\"Money you put in: \"))\n",
    "price = int (input(\"Price of goods: \"))\n",
    "\n",
    "change = money - price\n",
    "print(\"Change: \", change)\n",
    "coin500s = change // 500\n",
    "change = change % 500\n",
    "coin100s = change // 100\n",
    "\n",
    "print(\"The number of 500 won coins: \", coin500s)\n",
    "print(\"The number of 100 won coins: \", coin100s)"
   ]
  },
  {
   "cell_type": "code",
   "execution_count": 64,
   "id": "360fa450",
   "metadata": {},
   "outputs": [
    {
     "name": "stdout",
     "output_type": "stream",
     "text": [
      "helloworld\n"
     ]
    }
   ],
   "source": [
    "print('hello', end='')\n",
    "print('world')"
   ]
  },
  {
   "cell_type": "code",
   "execution_count": 67,
   "id": "e3dacc3a",
   "metadata": {},
   "outputs": [
    {
     "name": "stdout",
     "output_type": "stream",
     "text": [
      "My name is: vtn\n"
     ]
    }
   ],
   "source": [
    "print('My name is', end=\":\")\n",
    "print(\" vtn\")"
   ]
  },
  {
   "cell_type": "code",
   "execution_count": 69,
   "id": "c9608262",
   "metadata": {},
   "outputs": [
    {
     "name": "stdout",
     "output_type": "stream",
     "text": [
      "Hello,World!\n"
     ]
    }
   ],
   "source": [
    "print('Hello', 'World!', sep=',')"
   ]
  },
  {
   "cell_type": "code",
   "execution_count": 71,
   "id": "6b3ee4ce",
   "metadata": {},
   "outputs": [
    {
     "data": {
      "text/plain": [
       "302"
      ]
     },
     "execution_count": 71,
     "metadata": {},
     "output_type": "execute_result"
    }
   ],
   "source": [
    "eval('100+2+200')"
   ]
  },
  {
   "cell_type": "code",
   "execution_count": 77,
   "id": "867a1b88",
   "metadata": {},
   "outputs": [
    {
     "data": {
      "text/plain": [
       "100"
      ]
     },
     "execution_count": 77,
     "metadata": {},
     "output_type": "execute_result"
    }
   ],
   "source": [
    "abs(-100)"
   ]
  },
  {
   "cell_type": "code",
   "execution_count": 79,
   "id": "be6210ab",
   "metadata": {},
   "outputs": [
    {
     "data": {
      "text/plain": [
       "[' ', ' ', 'I', 'e', 'l', 'o', 'o', 'u', 'v', 'y']"
      ]
     },
     "execution_count": 79,
     "metadata": {},
     "output_type": "execute_result"
    }
   ],
   "source": [
    "sorted('I love you')"
   ]
  },
  {
   "cell_type": "code",
   "execution_count": 83,
   "id": "9f072e4d",
   "metadata": {},
   "outputs": [
    {
     "data": {
      "text/plain": [
       "datetime.datetime(2023, 6, 7, 10, 53, 28, 118702)"
      ]
     },
     "execution_count": 83,
     "metadata": {},
     "output_type": "execute_result"
    }
   ],
   "source": [
    "import datetime as dt\n",
    "start_time = dt.datetime.now()\n",
    "start_time.replace(month=6)"
   ]
  },
  {
   "cell_type": "code",
   "execution_count": 3,
   "id": "139dd6f7",
   "metadata": {},
   "outputs": [
    {
     "name": "stdout",
     "output_type": "stream",
     "text": [
      "2023-07-07 10:57:10.870435\n"
     ]
    }
   ],
   "source": [
    "from datetime import datetime\n",
    "start_time = datetime.now()\n",
    "print(start_time)"
   ]
  },
  {
   "cell_type": "code",
   "execution_count": 4,
   "id": "150a3621",
   "metadata": {},
   "outputs": [
    {
     "data": {
      "text/plain": [
       "datetime.date(2023, 7, 7)"
      ]
     },
     "execution_count": 4,
     "metadata": {},
     "output_type": "execute_result"
    }
   ],
   "source": [
    "from datetime import *\n",
    "today = date.today()\n",
    "today"
   ]
  },
  {
   "cell_type": "code",
   "execution_count": 5,
   "id": "d110682b",
   "metadata": {},
   "outputs": [
    {
     "data": {
      "text/plain": [
       "datetime.date(2023, 7, 7)"
      ]
     },
     "execution_count": 5,
     "metadata": {},
     "output_type": "execute_result"
    }
   ],
   "source": [
    "today\n"
   ]
  },
  {
   "cell_type": "code",
   "execution_count": 6,
   "id": "c4cc9cc9",
   "metadata": {},
   "outputs": [
    {
     "name": "stdout",
     "output_type": "stream",
     "text": [
      "['__add__', '__class__', '__delattr__', '__dir__', '__doc__', '__eq__', '__format__', '__ge__', '__getattribute__', '__gt__', '__hash__', '__init__', '__init_subclass__', '__le__', '__lt__', '__ne__', '__new__', '__radd__', '__reduce__', '__reduce_ex__', '__repr__', '__rsub__', '__setattr__', '__sizeof__', '__str__', '__sub__', '__subclasshook__', 'astimezone', 'combine', 'ctime', 'date', 'day', 'dst', 'fold', 'fromisocalendar', 'fromisoformat', 'fromordinal', 'fromtimestamp', 'hour', 'isocalendar', 'isoformat', 'isoweekday', 'max', 'microsecond', 'min', 'minute', 'month', 'now', 'replace', 'resolution', 'second', 'strftime', 'strptime', 'time', 'timestamp', 'timetuple', 'timetz', 'today', 'toordinal', 'tzinfo', 'tzname', 'utcfromtimestamp', 'utcnow', 'utcoffset', 'utctimetuple', 'weekday', 'year']\n"
     ]
    }
   ],
   "source": [
    "print(dir(datetime))"
   ]
  },
  {
   "cell_type": "code",
   "execution_count": 7,
   "id": "f440099c",
   "metadata": {},
   "outputs": [
    {
     "name": "stdout",
     "output_type": "stream",
     "text": [
      "Time after epoch =  1688702708.527158\n"
     ]
    }
   ],
   "source": [
    "import time\n",
    "seconds = time.time()\n",
    "print('Time after epoch = ',seconds)"
   ]
  },
  {
   "cell_type": "code",
   "execution_count": 8,
   "id": "996896ec",
   "metadata": {},
   "outputs": [
    {
     "name": "stdout",
     "output_type": "stream",
     "text": [
      "['CLOCK_MONOTONIC', 'CLOCK_MONOTONIC_RAW', 'CLOCK_PROCESS_CPUTIME_ID', 'CLOCK_REALTIME', 'CLOCK_THREAD_CPUTIME_ID', 'CLOCK_UPTIME_RAW', '_STRUCT_TM_ITEMS', '__doc__', '__loader__', '__name__', '__package__', '__spec__', 'altzone', 'asctime', 'clock_getres', 'clock_gettime', 'clock_gettime_ns', 'clock_settime', 'clock_settime_ns', 'ctime', 'daylight', 'get_clock_info', 'gmtime', 'localtime', 'mktime', 'monotonic', 'monotonic_ns', 'perf_counter', 'perf_counter_ns', 'process_time', 'process_time_ns', 'sleep', 'strftime', 'strptime', 'struct_time', 'thread_time', 'thread_time_ns', 'time', 'time_ns', 'timezone', 'tzname', 'tzset']\n"
     ]
    }
   ],
   "source": [
    "print(dir(time))"
   ]
  },
  {
   "cell_type": "code",
   "execution_count": 9,
   "id": "c0c5c05d",
   "metadata": {},
   "outputs": [
    {
     "data": {
      "text/plain": [
       "time.struct_time(tm_year=2023, tm_mon=7, tm_mday=7, tm_hour=11, tm_min=6, tm_sec=24, tm_wday=4, tm_yday=188, tm_isdst=0)"
      ]
     },
     "execution_count": 9,
     "metadata": {},
     "output_type": "execute_result"
    }
   ],
   "source": [
    "import time \n",
    "unix_timestamp = time.time()\n",
    "local_time = time.localtime(unix_timestamp)\n",
    "local_time"
   ]
  },
  {
   "cell_type": "code",
   "execution_count": 11,
   "id": "d68de28e",
   "metadata": {},
   "outputs": [
    {
     "name": "stdout",
     "output_type": "stream",
     "text": [
      "2023-07-07 11-08-40\n"
     ]
    }
   ],
   "source": [
    "import time \n",
    "unix_timestamp = time.time()\n",
    "local_time = time.localtime(unix_timestamp)\n",
    "print(time.strftime('%Y-%m-%d %H-%M-%S', local_time))"
   ]
  },
  {
   "cell_type": "code",
   "execution_count": 13,
   "id": "f19fbb70",
   "metadata": {},
   "outputs": [
    {
     "data": {
      "text/plain": [
       "27.0"
      ]
     },
     "execution_count": 13,
     "metadata": {},
     "output_type": "execute_result"
    }
   ],
   "source": [
    "import math as m\n",
    "m.pow(3,3)"
   ]
  },
  {
   "cell_type": "code",
   "execution_count": 15,
   "id": "3c057c41",
   "metadata": {},
   "outputs": [
    {
     "data": {
      "text/plain": [
       "2"
      ]
     },
     "execution_count": 15,
     "metadata": {},
     "output_type": "execute_result"
    }
   ],
   "source": [
    "m.floor(2.1)"
   ]
  },
  {
   "cell_type": "code",
   "execution_count": 16,
   "id": "bae845e7",
   "metadata": {},
   "outputs": [
    {
     "data": {
      "text/plain": [
       "0.999999327347282"
      ]
     },
     "execution_count": 16,
     "metadata": {},
     "output_type": "execute_result"
    }
   ],
   "source": [
    "m.log(2.71828)"
   ]
  },
  {
   "cell_type": "code",
   "execution_count": 19,
   "id": "99613a08",
   "metadata": {},
   "outputs": [
    {
     "name": "stdout",
     "output_type": "stream",
     "text": [
      "0.7382116476214887\n",
      "0.5562797878812134\n",
      "3\n",
      "2\n",
      "10\n"
     ]
    }
   ],
   "source": [
    "import random as rd\n",
    "print(rd.random())\n",
    "print(rd.random())\n",
    "print(rd.randrange(1, 7))\n",
    "print(rd.randrange(0, 10, 2))\n",
    "print(rd.randint(1,10))"
   ]
  },
  {
   "cell_type": "code",
   "execution_count": 23,
   "id": "dea4e1b7",
   "metadata": {},
   "outputs": [
    {
     "name": "stdout",
     "output_type": "stream",
     "text": [
      "40\n"
     ]
    }
   ],
   "source": [
    "numlist = [10,20,30,40,50]\n",
    "print(rd.choice(numlist))"
   ]
  },
  {
   "cell_type": "code",
   "execution_count": 25,
   "id": "178c8fc4",
   "metadata": {},
   "outputs": [
    {
     "name": "stdout",
     "output_type": "stream",
     "text": [
      "[40, 10, 20]\n"
     ]
    }
   ],
   "source": [
    "print(rd.sample(numlist, 3))"
   ]
  },
  {
   "cell_type": "code",
   "execution_count": 30,
   "id": "4b041e6e",
   "metadata": {},
   "outputs": [
    {
     "name": "stdout",
     "output_type": "stream",
     "text": [
      "Random integer form 1 to 10: [4, 1, 3]\n"
     ]
    }
   ],
   "source": [
    "import random as rd\n",
    "\n",
    "a = list(range(1,11))\n",
    "b = rd.sample(a,3)\n",
    "print('Random integer form 1 to 10:', b)"
   ]
  },
  {
   "cell_type": "code",
   "execution_count": 33,
   "id": "15ef7c2a",
   "metadata": {},
   "outputs": [
    {
     "name": "stdout",
     "output_type": "stream",
     "text": [
      "2.0\n"
     ]
    }
   ],
   "source": [
    "import math         \n",
    "a = math.sqrt(4)\n",
    "print(a)"
   ]
  },
  {
   "cell_type": "code",
   "execution_count": 40,
   "id": "0338114e",
   "metadata": {},
   "outputs": [
    {
     "name": "stdout",
     "output_type": "stream",
     "text": [
      "Enter your name: vatana\n",
      "Enter your weigth(kg): 45\n",
      "Enter you height(cm): 167\n",
      "\n",
      "User's name: vatana \n",
      "Weigth: 45\n",
      "Height: 1.67\n",
      "BMI: 16.1353938828929\n"
     ]
    }
   ],
   "source": [
    "import math as m\n",
    "name = input(\"Enter your name: \")\n",
    "weigth = int(input(\"Enter your weigth(kg): \"))\n",
    "height = int(input(\"Enter you height(cm): \"))\n",
    "height /= 100\n",
    "\n",
    "bmi = width / pow(height, 2)\n",
    "print(f\"\\nUser's name: {name} \\nWeigth: {weigth}\\nHeight: {height}\\nBMI: {bmi}\")"
   ]
  },
  {
   "cell_type": "code",
   "execution_count": null,
   "id": "d2933070",
   "metadata": {},
   "outputs": [],
   "source": []
  }
 ],
 "metadata": {
  "kernelspec": {
   "display_name": "Python 3 (ipykernel)",
   "language": "python",
   "name": "python3"
  },
  "language_info": {
   "codemirror_mode": {
    "name": "ipython",
    "version": 3
   },
   "file_extension": ".py",
   "mimetype": "text/x-python",
   "name": "python",
   "nbconvert_exporter": "python",
   "pygments_lexer": "ipython3",
   "version": "3.10.9"
  }
 },
 "nbformat": 4,
 "nbformat_minor": 5
}
