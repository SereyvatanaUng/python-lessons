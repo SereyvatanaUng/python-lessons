{
 "cells": [
  {
   "cell_type": "code",
   "execution_count": 7,
   "id": "e8ecdb88",
   "metadata": {},
   "outputs": [
    {
     "name": "stdout",
     "output_type": "stream",
     "text": [
      "Youth discount\n"
     ]
    }
   ],
   "source": [
    "age = 18\n",
    "if age < 20 :\n",
    "    print('Youth discount')"
   ]
  },
  {
   "cell_type": "code",
   "execution_count": 8,
   "id": "7b78b5c3",
   "metadata": {},
   "outputs": [],
   "source": [
    "age = 18\n",
    "if age < 20 :\n",
    "    pass"
   ]
  },
  {
   "cell_type": "code",
   "execution_count": 6,
   "id": "e34049f6",
   "metadata": {},
   "outputs": [
    {
     "name": "stdout",
     "output_type": "stream",
     "text": [
      "Enter your id: david\n",
      "ID matches.\n"
     ]
    }
   ],
   "source": [
    "my_id = 'david'\n",
    "s = input('Enter your id: ')\n",
    "if s == my_id :\n",
    "    print('ID matches.')"
   ]
  },
  {
   "cell_type": "code",
   "execution_count": 9,
   "id": "da9947a0",
   "metadata": {},
   "outputs": [
    {
     "name": "stdout",
     "output_type": "stream",
     "text": [
      "Enter an integer : 6\n",
      "6 is a multiple of 3.\n"
     ]
    }
   ],
   "source": [
    "number = int(input('Enter an integer : '))\n",
    "if (number % 3) == 0 :\n",
    "    print(number, 'is a multiple of 3.')"
   ]
  },
  {
   "cell_type": "code",
   "execution_count": 10,
   "id": "7dc82fcb",
   "metadata": {},
   "outputs": [
    {
     "name": "stdout",
     "output_type": "stream",
     "text": [
      "Enter an integer : 15\n",
      "15 is a multiple of 3 and a multiple of 5.\n"
     ]
    }
   ],
   "source": [
    "number = int(input('Enter an integer : '))\n",
    "if (number % 3) == 0 and (number % 5) == 0:\n",
    "    print(number, 'is a multiple of 3 and a multiple of 5.')"
   ]
  },
  {
   "cell_type": "code",
   "execution_count": 12,
   "id": "5fda2c59",
   "metadata": {},
   "outputs": [
    {
     "name": "stdout",
     "output_type": "stream",
     "text": [
      "The two strings are not the same.\n"
     ]
    }
   ],
   "source": [
    "str1 = 'aaa'\n",
    "str2 = 'bbb'\n",
    "if str1 == str2 :\n",
    "    print('The two strings are the same.')\n",
    "if str1 != str2 :\n",
    "    print('The two strings are not the same.')"
   ]
  },
  {
   "cell_type": "code",
   "execution_count": 15,
   "id": "b53ef2a1",
   "metadata": {},
   "outputs": [
    {
     "name": "stdout",
     "output_type": "stream",
     "text": [
      "One or more of the two numbers are even.\n"
     ]
    }
   ],
   "source": [
    "a = 10\n",
    "b = 13\n",
    "if (a % 2 == 0) and (b % 2 == 0) :\n",
    "    print('Both numbers are even number.')\n",
    "if (a % 2 == 0) or (b % 2 == 0) :\n",
    "    print('One or more of the two numbers are even.')"
   ]
  },
  {
   "cell_type": "code",
   "execution_count": 17,
   "id": "0294b4cd",
   "metadata": {},
   "outputs": [
    {
     "name": "stdout",
     "output_type": "stream",
     "text": [
      "Enter your game score : 1000\n",
      "You are a pro.\n"
     ]
    }
   ],
   "source": [
    "game_score = int(input('Enter your game score : '))\n",
    "if game_score >= 1000 :\n",
    "    print('You are a pro.')\n",
    "if game_score < 1000 :\n",
    "    print(f'game_score = {game_score}')"
   ]
  },
  {
   "cell_type": "code",
   "execution_count": 21,
   "id": "688f7a9f",
   "metadata": {},
   "outputs": [
    {
     "name": "stdout",
     "output_type": "stream",
     "text": [
      "r = -27\n"
     ]
    }
   ],
   "source": [
    "from random import randint\n",
    "r = randint(-100, 101)\n",
    "if r >= 0 :\n",
    "    print(f'r = {r}\\n{r} is a natural number.')\n",
    "if r < 0 :\n",
    "    print('r =', r)"
   ]
  },
  {
   "cell_type": "code",
   "execution_count": 48,
   "id": "8a5d3956",
   "metadata": {},
   "outputs": [
    {
     "name": "stdout",
     "output_type": "stream",
     "text": [
      "Please enter three lottery numbers seperated by space : 2 2 2\n",
      "You won the lottery!\n"
     ]
    }
   ],
   "source": [
    "r1, r2, r3 = 2, 3, 9\n",
    "\n",
    "n = 0\n",
    "a, b, c = input('Please enter three lottery numbers seperated by space : ').split()\n",
    "\n",
    "a = int(a)\n",
    "b = int(b)\n",
    "c = int(c)\n",
    "\n",
    "if (a == r1 or a == r2 or a == r3) :\n",
    "    n += 1\n",
    "if (b == r1 or b == r2 or b == r3) :\n",
    "    n += 1\n",
    "if (c == r1 or c == r2 or c == r3) :\n",
    "    n += 1\n",
    "    \n",
    "if n == 3 :\n",
    "    print('You won the lottery!')\n",
    "if n != 3 :\n",
    "    print('You lost!')"
   ]
  },
  {
   "cell_type": "markdown",
   "id": "89b2ce0e",
   "metadata": {},
   "source": [
    "## hour = 10 \n",
    "if hour < 12 :\n",
    "    print(\"It's morning.\")\n",
    "else :\n",
    "    print(\"It's Afternoon.\")"
   ]
  },
  {
   "cell_type": "code",
   "execution_count": 5,
   "id": "62840e72",
   "metadata": {},
   "outputs": [
    {
     "name": "stdout",
     "output_type": "stream",
     "text": [
      "10 is an even number.\n"
     ]
    }
   ],
   "source": [
    "num = 10\n",
    "if num % 2 == 0 :\n",
    "    print(num, 'is an even number.')\n",
    "else :\n",
    "    print(num, 'is an odd number.')"
   ]
  },
  {
   "cell_type": "code",
   "execution_count": 9,
   "id": "95644f14",
   "metadata": {},
   "outputs": [
    {
     "name": "stdout",
     "output_type": "stream",
     "text": [
      "Enter the first integer : f\n",
      "Input data type :  <class 'str'>\n",
      "x is not a numeric character.\n"
     ]
    }
   ],
   "source": [
    "x = input(\"Enter the first integer : \")\n",
    "print('Input data type : ', type(x))\n",
    "\n",
    "if x.isdigit() == True :\n",
    "    x = int(x)\n",
    "    print('Input data type : ', type(x))\n",
    "else :\n",
    "    print('x is not a numeric character.')"
   ]
  },
  {
   "cell_type": "code",
   "execution_count": 12,
   "id": "46b7b0f6",
   "metadata": {},
   "outputs": [
    {
     "name": "stdout",
     "output_type": "stream",
     "text": [
      "Enter your ID: ilovepython\n",
      "Welcome.\n"
     ]
    }
   ],
   "source": [
    "id = \"ilovepython\"\n",
    "s = input(\"Enter your ID: \")\n",
    "if s == id :\n",
    "    print(\"Welcome.\")\n",
    "else :\n",
    "    print(\"No ID found.\")"
   ]
  },
  {
   "cell_type": "code",
   "execution_count": 26,
   "id": "6281faab",
   "metadata": {},
   "outputs": [
    {
     "name": "stdout",
     "output_type": "stream",
     "text": [
      "Let's start the coin toss game.\n",
      "Front\n",
      "Game over\n"
     ]
    }
   ],
   "source": [
    "import random\n",
    "\n",
    "print(\"Let's start the coin toss game.\")\n",
    "coin = random.randrange(2)\n",
    "if coin == 0 :\n",
    "    print(\"Front\")\n",
    "else :\n",
    "    print(\"Back\")\n",
    "print(\"Game over\")"
   ]
  },
  {
   "cell_type": "code",
   "execution_count": 29,
   "id": "02a08b03",
   "metadata": {},
   "outputs": [
    {
     "name": "stdout",
     "output_type": "stream",
     "text": [
      "Enter an integer: 0\n",
      "It's 0.\n"
     ]
    }
   ],
   "source": [
    "num = int(input(\"Enter an integer: \"))\n",
    "if num >= 0 :\n",
    "    if num == 0 :\n",
    "        print(\"It's 0.\")\n",
    "    else :\n",
    "        print(\"It's a positive number.\")\n",
    "else :\n",
    "    print(\"It's a negative number.\")"
   ]
  },
  {
   "cell_type": "code",
   "execution_count": 31,
   "id": "a4a82614",
   "metadata": {},
   "outputs": [
    {
     "name": "stdout",
     "output_type": "stream",
     "text": [
      "100 is not a negative number.\n",
      "100 is an even number.\n"
     ]
    }
   ],
   "source": [
    "num = 100\n",
    "if num < 0 :\n",
    "    print(num, 'is a negative number.')\n",
    "else :\n",
    "    print(num, 'is not a negative number.')\n",
    "    if num % 2 == 0 :\n",
    "        print(num, 'is an even number.')\n",
    "    else :\n",
    "        print(num, 'is an odd number.')"
   ]
  },
  {
   "cell_type": "code",
   "execution_count": 35,
   "id": "b9b25862",
   "metadata": {},
   "outputs": [
    {
     "name": "stdout",
     "output_type": "stream",
     "text": [
      "Enter an integer: -1\n",
      "It's a negative number.\n"
     ]
    }
   ],
   "source": [
    "num = int(input(\"Enter an integer: \"))\n",
    "\n",
    "if num > 0 :\n",
    "    print(\"It's a positive number.\")\n",
    "elif num == 0 :\n",
    "    print(\"It's zero(0).\")\n",
    "else :\n",
    "    print(\"It's a negative number.\")"
   ]
  },
  {
   "cell_type": "code",
   "execution_count": 41,
   "id": "1a64de5f",
   "metadata": {},
   "outputs": [
    {
     "name": "stdout",
     "output_type": "stream",
     "text": [
      "##################################################\n",
      "It's David's fruit shop.\n",
      "1: Apple( Price : 5,000 won )\n",
      "2: Grape( Price : 6,000 won )\n",
      "3: Melon( Price : 8,000 won )\n",
      "4: Orange( Price : 2,000 won )\n",
      "##################################################\n",
      "Enter the number of the item (between 1 and 4) >> 4\n",
      "Enter the number of items (between 1 and 10) >> 5\n",
      "The fuit you chose is : Orange\n",
      "The price of the selected fruit is :  2000\n",
      "The number you selected is :  5\n",
      "The total amount is 10000 won.\n",
      "##################################################\n",
      "Please put the money in(ex: 15000) >>> 12003\n",
      "Got 12003 won. The change is 2003 won.\n"
     ]
    }
   ],
   "source": [
    "print('#' * 50)\n",
    "print(\"It's David's fruit shop.\")\n",
    "print('1: Apple( Price : 5,000 won )')\n",
    "print('2: Grape( Price : 6,000 won )')\n",
    "print('3: Melon( Price : 8,000 won )')\n",
    "print('4: Orange( Price : 2,000 won )')\n",
    "print('#' * 50)\n",
    "\n",
    "total_price = 0\n",
    "order = int(input(\"Enter the number of the item (between 1 and 4) >> \"))\n",
    "count = int(input(\"Enter the number of items (between 1 and 10) >> \"))\n",
    "\n",
    "if order == 1 :\n",
    "    fruit = 'Apple'\n",
    "    price = 5000\n",
    "elif order == 2 :\n",
    "    fruit = 'Grape'\n",
    "    price = 6000\n",
    "elif order == 3 :\n",
    "    fruit = 'Melon'\n",
    "    price = 8000\n",
    "else :\n",
    "    fruit = 'Orange'\n",
    "    price = 2000\n",
    "    \n",
    "print('The fuit you chose is :', fruit)\n",
    "print('The price of the selected fruit is : ', price)\n",
    "print('The number you selected is : ', count)\n",
    "print('The total amount is', price * count, 'won.')\n",
    "print('#' * 50)\n",
    "\n",
    "money = int(input('Please put the money in(ex: 15000) >>> '))\n",
    "if money < price * count :\n",
    "    print('Not enough money')\n",
    "else :\n",
    "    change = money - price * count\n",
    "    print(f\"Got {money} won. The change is {change} won.\")"
   ]
  },
  {
   "cell_type": "code",
   "execution_count": 1,
   "id": "510d1177",
   "metadata": {},
   "outputs": [
    {
     "name": "stdout",
     "output_type": "stream",
     "text": [
      "Enter your ID: ilovepython\n",
      "Enter your password: mypass1234\n",
      "Welcome.\n"
     ]
    }
   ],
   "source": [
    "my_id = 'ilovepython'\n",
    "password = 'mypass1234'\n",
    "str1 = input(\"Enter your ID: \")\n",
    "str2 = input(\"Enter your password: \")\n",
    "if str1 == my_id and str2 == password :\n",
    "    print(\"Welcome.\")\n",
    "elif str1 != my_id :\n",
    "    print(\"No ID found.\")\n",
    "else :\n",
    "    print(\"The password is wrong.\")"
   ]
  },
  {
   "cell_type": "code",
   "execution_count": 2,
   "id": "c418abb4",
   "metadata": {},
   "outputs": [
    {
     "name": "stdout",
     "output_type": "stream",
     "text": [
      "Enter your grade : 90\n",
      "Your grade : A\n"
     ]
    }
   ],
   "source": [
    "score = int(input(\"Enter your grade : \"))\n",
    "if score >= 90 :\n",
    "    grade = 'A'\n",
    "elif score >= 80 :\n",
    "    grade = 'B'\n",
    "elif score >= 70 :\n",
    "    grade = 'C'\n",
    "elif score >= 60 :\n",
    "    grade = 'D'\n",
    "else :\n",
    "    grade = 'F'\n",
    "print('Your grade :',grade)"
   ]
  },
  {
   "cell_type": "code",
   "execution_count": 4,
   "id": "6aced6c9",
   "metadata": {},
   "outputs": [
    {
     "name": "stdout",
     "output_type": "stream",
     "text": [
      "Enter one alphabet : a\n",
      "a is a vowel\n"
     ]
    }
   ],
   "source": [
    "x = input(\"Enter one alphabet : \")\n",
    "\n",
    "if (x == 'a' or x == 'e' or x == 'i' or x =='o' or x == 'u') :\n",
    "    print(x, 'is a vowel')\n",
    "else :\n",
    "    print(x, 'is a consonent')"
   ]
  },
  {
   "cell_type": "code",
   "execution_count": 6,
   "id": "ee9eef92",
   "metadata": {},
   "outputs": [
    {
     "name": "stdout",
     "output_type": "stream",
     "text": [
      "Enter two integers seperated by space : 20 3\n",
      "20 is not a multiple of 3\n"
     ]
    }
   ],
   "source": [
    "a, b = input('Enter two integers seperated by space : ').split()\n",
    "a = int(a)\n",
    "b = int(b)\n",
    "\n",
    "if(a % b == 0):\n",
    "    print(f\"{a} is a multiple of {b}\")\n",
    "else :\n",
    "    print(f\"{a} is not a multiple of {b}\")"
   ]
  },
  {
   "cell_type": "code",
   "execution_count": 41,
   "id": "d815bea6",
   "metadata": {},
   "outputs": [
    {
     "name": "stdout",
     "output_type": "stream",
     "text": [
      "Where do you want to shot? (left, center, right) : left\n",
      "Goalkeeper defends at: left\n",
      "##################################################\n",
      "No Goal\n"
     ]
    }
   ],
   "source": [
    "from random import randint\n",
    "bot = randint(0,2)\n",
    "\n",
    "if bot == 0 :\n",
    "    gk = 'left'\n",
    "elif bot == 1 :\n",
    "    gk = 'center'\n",
    "else :\n",
    "    gk = 'right'\n",
    "    \n",
    "player = input(\"Where do you want to shot? (left, center, right) : \")\n",
    "print(\"Goalkeeper defends at:\", gk)\n",
    "print(\"#\" * 50)\n",
    "\n",
    "if player == gk :\n",
    "    print(\"No Goal\")\n",
    "else :\n",
    "    print(\"Goal\")\n"
   ]
  },
  {
   "cell_type": "code",
   "execution_count": 49,
   "id": "166afeb1",
   "metadata": {},
   "outputs": [
    {
     "name": "stdout",
     "output_type": "stream",
     "text": [
      "Please enter axis x : 0 \n",
      "Please enter ordinate y : 0\n",
      "Center\n"
     ]
    }
   ],
   "source": [
    "x = int(input('Please enter axis x : '))\n",
    "y = int(input('Please enter ordinate y : '))\n",
    "\n",
    "if x > 0 and y > 0 :\n",
    "    print('In the first quadrant')\n",
    "elif x < 0 and y > 0 :\n",
    "    print('In the second quadrant')\n",
    "elif x < 0 and y < 0 :\n",
    "    print('In the third quadrant')\n",
    "elif x > 0 and y < 0 :\n",
    "    print('In the fourth quadrant')\n",
    "else :\n",
    "    print('At origin')"
   ]
  },
  {
   "cell_type": "code",
   "execution_count": null,
   "id": "c322930d",
   "metadata": {},
   "outputs": [],
   "source": [
    "print('Welcome to Yummy restaurant. Here is the menu.')\n",
    "print(\"- Burger(enter 'b')\\n- Chicken(enter 'c')\\n- Pizza(enter 'p')\")\n",
    "\n",
    "user = input('Choose a menu (enter b,c,p) : ')\n",
    "\n",
    "if user == 'b' :\n",
    "    \n"
   ]
  }
 ],
 "metadata": {
  "kernelspec": {
   "display_name": "Python 3 (ipykernel)",
   "language": "python",
   "name": "python3"
  },
  "language_info": {
   "codemirror_mode": {
    "name": "ipython",
    "version": 3
   },
   "file_extension": ".py",
   "mimetype": "text/x-python",
   "name": "python",
   "nbconvert_exporter": "python",
   "pygments_lexer": "ipython3",
   "version": "3.10.9"
  }
 },
 "nbformat": 4,
 "nbformat_minor": 5
}
