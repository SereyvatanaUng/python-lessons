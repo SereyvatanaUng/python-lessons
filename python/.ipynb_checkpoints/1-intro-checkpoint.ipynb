{
 "cells": [
  {
   "cell_type": "code",
   "execution_count": 1,
   "id": "b4145f26",
   "metadata": {},
   "outputs": [
    {
     "name": "stdout",
     "output_type": "stream",
     "text": [
      "The radius of a circle 4.0\n"
     ]
    }
   ],
   "source": [
    "print(\"The radius of a circle\", 4.0)"
   ]
  },
  {
   "cell_type": "code",
   "execution_count": 14,
   "id": "51a01019",
   "metadata": {},
   "outputs": [
    {
     "data": {
      "text/plain": [
       "8"
      ]
     },
     "execution_count": 14,
     "metadata": {},
     "output_type": "execute_result"
    }
   ],
   "source": [
    "2 ** 3"
   ]
  },
  {
   "cell_type": "code",
   "execution_count": 9,
   "id": "630d1fb4",
   "metadata": {},
   "outputs": [
    {
     "data": {
      "text/plain": [
       "'hello world!'"
      ]
     },
     "execution_count": 9,
     "metadata": {},
     "output_type": "execute_result"
    }
   ],
   "source": [
    "'hello ' + 'world!'"
   ]
  },
  {
   "cell_type": "code",
   "execution_count": 10,
   "id": "f4a4b3db",
   "metadata": {},
   "outputs": [
    {
     "data": {
      "text/plain": [
       "'1002'"
      ]
     },
     "execution_count": 10,
     "metadata": {},
     "output_type": "execute_result"
    }
   ],
   "source": [
    "'100' + '2'"
   ]
  },
  {
   "cell_type": "code",
   "execution_count": 16,
   "id": "9cb0722a",
   "metadata": {},
   "outputs": [
    {
     "data": {
      "text/plain": [
       "int"
      ]
     },
     "execution_count": 16,
     "metadata": {},
     "output_type": "execute_result"
    }
   ],
   "source": [
    "type(10)"
   ]
  },
  {
   "cell_type": "code",
   "execution_count": 17,
   "id": "512f405e",
   "metadata": {},
   "outputs": [
    {
     "name": "stdout",
     "output_type": "stream",
     "text": [
      "<class 'int'>\n"
     ]
    }
   ],
   "source": [
    "print(type(10))"
   ]
  },
  {
   "cell_type": "code",
   "execution_count": 19,
   "id": "433a4104",
   "metadata": {
    "scrolled": true
   },
   "outputs": [
    {
     "name": "stdout",
     "output_type": "stream",
     "text": [
      "The radius of a circle 4.0\n",
      "The area of a circle 50.24\n",
      "The circumference of a circle 25.12\n"
     ]
    }
   ],
   "source": [
    "print('The radius of a circle', 4.0)\n",
    "print('The area of a circle', 3.14 * 4.0 * 4.0)\n",
    "print('The circumference of a circle', 2.0 * 3.14 * 4.0)"
   ]
  },
  {
   "cell_type": "code",
   "execution_count": 21,
   "id": "effb47ba",
   "metadata": {},
   "outputs": [
    {
     "name": "stdout",
     "output_type": "stream",
     "text": [
      "The radius of a circle 4.0\n",
      "The area of a circle 50.24\n",
      "The circumference of a circle 25.12\n"
     ]
    }
   ],
   "source": [
    "radius = 4.0\n",
    "\n",
    "print('The radius of a circle', radius)\n",
    "print('The area of a circle', 3.14 * radius * radius)\n",
    "print('The circumference of a circle', 2.0 * 3.14 * radius)"
   ]
  },
  {
   "cell_type": "code",
   "execution_count": 23,
   "id": "d57a7774",
   "metadata": {},
   "outputs": [
    {
     "name": "stdout",
     "output_type": "stream",
     "text": [
      "<class 'int'>\n",
      "<class 'float'>\n",
      "<class 'str'>\n"
     ]
    }
   ],
   "source": [
    "num = 85\n",
    "print(type(num))\n",
    "\n",
    "pi = 3.14159\n",
    "print(type(pi))\n",
    "\n",
    "message = 'Good Morning'\n",
    "print(type(message))"
   ]
  },
  {
   "cell_type": "code",
   "execution_count": 24,
   "id": "49d807df",
   "metadata": {},
   "outputs": [
    {
     "name": "stdout",
     "output_type": "stream",
     "text": [
      "Python keyword list...\n",
      "['False', 'None', 'True', 'and', 'as', 'assert', 'async', 'await', 'break', 'class', 'continue', 'def', 'del', 'elif', 'else', 'except', 'finally', 'for', 'from', 'global', 'if', 'import', 'in', 'is', 'lambda', 'nonlocal', 'not', 'or', 'pass', 'raise', 'return', 'try', 'while', 'with', 'yield']\n"
     ]
    }
   ],
   "source": [
    "import keyword\n",
    "\n",
    "print('Python keyword list...')\n",
    "print(keyword.kwlist)"
   ]
  },
  {
   "cell_type": "code",
   "execution_count": 25,
   "id": "e1b7312b",
   "metadata": {},
   "outputs": [
    {
     "name": "stdout",
     "output_type": "stream",
     "text": [
      "200 200 200\n"
     ]
    }
   ],
   "source": [
    "num1 = num2 = num3 = 200\n",
    "print(num1, num2, num3)"
   ]
  },
  {
   "cell_type": "code",
   "execution_count": 26,
   "id": "873fd7db",
   "metadata": {},
   "outputs": [
    {
     "name": "stdout",
     "output_type": "stream",
     "text": [
      "300\n"
     ]
    }
   ],
   "source": [
    "x, y = 100, 200\n",
    "result = x + y\n",
    "print(result)"
   ]
  },
  {
   "cell_type": "code",
   "execution_count": 27,
   "id": "af157d4a",
   "metadata": {},
   "outputs": [
    {
     "data": {
      "text/plain": [
       "NoneType"
      ]
     },
     "execution_count": 27,
     "metadata": {},
     "output_type": "execute_result"
    }
   ],
   "source": [
    "a = None\n",
    "type(a)"
   ]
  },
  {
   "cell_type": "code",
   "execution_count": 31,
   "id": "d37f3dcd",
   "metadata": {},
   "outputs": [
    {
     "name": "stdout",
     "output_type": "stream",
     "text": [
      "300\n"
     ]
    }
   ],
   "source": [
    "result = 100\n",
    "result += 200\n",
    "print(result)"
   ]
  },
  {
   "cell_type": "code",
   "execution_count": 35,
   "id": "586479d1",
   "metadata": {},
   "outputs": [
    {
     "name": "stdout",
     "output_type": "stream",
     "text": [
      "78\n"
     ]
    }
   ],
   "source": [
    "i = 20\n",
    "i ^= 90\n",
    "print(i)"
   ]
  },
  {
   "cell_type": "code",
   "execution_count": 38,
   "id": "c80eb863",
   "metadata": {},
   "outputs": [
    {
     "name": "stdout",
     "output_type": "stream",
     "text": [
      "Before swap: a = 100 b = 200\n",
      "After swap: a = 200 b = 100\n"
     ]
    }
   ],
   "source": [
    "a = 100\n",
    "b = 200\n",
    "print('Before swap: a =',a ,'b =',b)\n",
    "temp = a\n",
    "a = b\n",
    "b = temp\n",
    "print('After swap: a =',a ,'b =',b)"
   ]
  },
  {
   "cell_type": "code",
   "execution_count": 39,
   "id": "e27a7914",
   "metadata": {},
   "outputs": [
    {
     "name": "stdout",
     "output_type": "stream",
     "text": [
      "Before swap: a = 100 b = 200\n",
      "Swap result using typle: a = 200 b = 100\n"
     ]
    }
   ],
   "source": [
    "a = 100\n",
    "b = 200\n",
    "print('Before swap: a =', a, 'b =',b)\n",
    "a, b = b, a\n",
    "print('Swap result using typle: a =', a, 'b =', b)"
   ]
  },
  {
   "cell_type": "code",
   "execution_count": 40,
   "id": "e863cdbe",
   "metadata": {},
   "outputs": [],
   "source": [
    "a = 10\n",
    "b = [1, 2, 3]"
   ]
  },
  {
   "cell_type": "code",
   "execution_count": 42,
   "id": "8bd845fc",
   "metadata": {},
   "outputs": [
    {
     "name": "stdout",
     "output_type": "stream",
     "text": [
      "1002\n"
     ]
    }
   ],
   "source": [
    "print(int('1'+'0'+'0'+'0')+2)"
   ]
  },
  {
   "cell_type": "code",
   "execution_count": 46,
   "id": "a9afe077",
   "metadata": {},
   "outputs": [
    {
     "name": "stdout",
     "output_type": "stream",
     "text": [
      "Please enter radius:6\n",
      "The radius of a circle 6\n",
      "The area of a circle 37.68\n",
      "The circumference of a circle 113.04\n"
     ]
    }
   ],
   "source": [
    "radius = int(input('Please enter radius:'))\n",
    "PI = 3.14\n",
    "area = 2.0 * PI * radius\n",
    "circum = PI * (radius ** 2)\n",
    "\n",
    "print('The radius of a circle', radius)\n",
    "print('The area of a circle', area)\n",
    "print('The circumference of a circle', circum)"
   ]
  },
  {
   "cell_type": "code",
   "execution_count": 1,
   "id": "3599e1eb",
   "metadata": {},
   "outputs": [
    {
     "name": "stdout",
     "output_type": "stream",
     "text": [
      "Enter a number to find its factorial: 2\n",
      "2! = 2\n"
     ]
    }
   ],
   "source": [
    "n = int(input(\"Enter a number to find its factorial: \"))\n",
    "fac = 1\n",
    "i = 1\n",
    "for i in range (1, n+1):\n",
    "    fac *= i\n",
    "print(f\"{n}! = {fac}\")"
   ]
  },
  {
   "cell_type": "code",
   "execution_count": 3,
   "id": "47f6d9f4",
   "metadata": {},
   "outputs": [
    {
     "name": "stdout",
     "output_type": "stream",
     "text": [
      "51\n"
     ]
    }
   ],
   "source": [
    "s1 = '1'\n",
    "s2 = '0'\n",
    "print(int(s1)+50)"
   ]
  }
 ],
 "metadata": {
  "kernelspec": {
   "display_name": "Python 3 (ipykernel)",
   "language": "python",
   "name": "python3"
  },
  "language_info": {
   "codemirror_mode": {
    "name": "ipython",
    "version": 3
   },
   "file_extension": ".py",
   "mimetype": "text/x-python",
   "name": "python",
   "nbconvert_exporter": "python",
   "pygments_lexer": "ipython3",
   "version": "3.10.9"
  }
 },
 "nbformat": 4,
 "nbformat_minor": 5
}
