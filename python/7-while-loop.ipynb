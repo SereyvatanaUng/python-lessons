{
 "cells": [
  {
   "cell_type": "code",
   "execution_count": 2,
   "id": "fd3d0512",
   "metadata": {},
   "outputs": [
    {
     "name": "stdout",
     "output_type": "stream",
     "text": [
      "Welcome to everyone!!\n",
      "Welcome to everyone!!\n",
      "Welcome to everyone!!\n"
     ]
    }
   ],
   "source": [
    "i = 0\n",
    "while i in range(3) :\n",
    "    i += 1\n",
    "    print('Welcome to everyone!!')"
   ]
  },
  {
   "cell_type": "code",
   "execution_count": 4,
   "id": "2fac38b6",
   "metadata": {},
   "outputs": [
    {
     "name": "stdout",
     "output_type": "stream",
     "text": [
      "Welcome\n",
      "Welcome\n",
      "Welcome\n"
     ]
    }
   ],
   "source": [
    "i = 0\n",
    "while i < 3 :\n",
    "    i += 1\n",
    "    print('Welcome')"
   ]
  },
  {
   "cell_type": "code",
   "execution_count": 6,
   "id": "1e91bb57",
   "metadata": {},
   "outputs": [
    {
     "name": "stdout",
     "output_type": "stream",
     "text": [
      "Welcome to everyone!!\n",
      "We're glad to see you\n"
     ]
    },
    {
     "data": {
      "text/plain": [
       "1"
      ]
     },
     "execution_count": 6,
     "metadata": {},
     "output_type": "execute_result"
    }
   ],
   "source": [
    "for i in range(3) :\n",
    "    if i == 1 :\n",
    "        break\n",
    "    print('Welcome to everyone!!')\n",
    "print(\"We're glad to see you\")\n",
    "\n",
    "i"
   ]
  },
  {
   "cell_type": "code",
   "execution_count": 7,
   "id": "4af72425",
   "metadata": {},
   "outputs": [
    {
     "name": "stdout",
     "output_type": "stream",
     "text": [
      "Welcome to everyone!!\n",
      "We're glad to see you\n"
     ]
    },
    {
     "data": {
      "text/plain": [
       "2"
      ]
     },
     "execution_count": 7,
     "metadata": {},
     "output_type": "execute_result"
    }
   ],
   "source": [
    "for i in range(3) :\n",
    "    if i >= 1 :\n",
    "        continue\n",
    "    print('Welcome to everyone!!')\n",
    "print(\"We're glad to see you\")\n",
    "\n",
    "i"
   ]
  },
  {
   "cell_type": "code",
   "execution_count": 8,
   "id": "e01a3ac0",
   "metadata": {},
   "outputs": [
    {
     "name": "stdout",
     "output_type": "stream",
     "text": [
      "Welcome to everyone!!\n",
      "We're glad to see you\n"
     ]
    },
    {
     "data": {
      "text/plain": [
       "1"
      ]
     },
     "execution_count": 8,
     "metadata": {},
     "output_type": "execute_result"
    }
   ],
   "source": [
    "i = 0\n",
    "while i < 3 :\n",
    "    i += 1\n",
    "    print('Welcome to everyone!!')\n",
    "    if i == 1 :\n",
    "        break\n",
    "print(\"We're glad to see you\")\n",
    "i"
   ]
  },
  {
   "cell_type": "code",
   "execution_count": 11,
   "id": "465afa0f",
   "metadata": {},
   "outputs": [
    {
     "name": "stdout",
     "output_type": "stream",
     "text": [
      "Welcome to everyone!!\n",
      "We're glad to see you\n"
     ]
    },
    {
     "data": {
      "text/plain": [
       "3"
      ]
     },
     "execution_count": 11,
     "metadata": {},
     "output_type": "execute_result"
    }
   ],
   "source": [
    "i = 0\n",
    "while i < 3 :\n",
    "    i += 1\n",
    "    if i > 1 :\n",
    "        continue\n",
    "    print('Welcome to everyone!!')\n",
    "print(\"We're glad to see you\")\n",
    "i"
   ]
  },
  {
   "cell_type": "code",
   "execution_count": 13,
   "id": "a3a9f27b",
   "metadata": {},
   "outputs": [
    {
     "name": "stdout",
     "output_type": "stream",
     "text": [
      "Welcome to everyone\n",
      "Welcome to everyone\n",
      "Welcome to everyone\n",
      "Welcome to everyone\n",
      "Welcome to everyone\n"
     ]
    }
   ],
   "source": [
    "i = 0\n",
    "while i < 5 :\n",
    "    print(\"Welcome to everyone\")\n",
    "    i += 1"
   ]
  },
  {
   "cell_type": "code",
   "execution_count": 16,
   "id": "588a4416",
   "metadata": {},
   "outputs": [
    {
     "name": "stdout",
     "output_type": "stream",
     "text": [
      "Enter a positive integer to sum : -2\n",
      "Enter a positive integer to sum : -4\n",
      "Enter a positive integer to sum : 2\n",
      "The sum from 1 to 2 is 3\n"
     ]
    }
   ],
   "source": [
    "n = -1\n",
    "while n <= 0 :\n",
    "    n = int(input('Enter a positive integer to sum : '))\n",
    "    \n",
    "s = 0\n",
    "for i in range(1, n + 1) :\n",
    "    s += i\n",
    "    \n",
    "print('The sum from 1 to {} is {}'.format(n, s))"
   ]
  },
  {
   "cell_type": "code",
   "execution_count": 18,
   "id": "2f552299",
   "metadata": {},
   "outputs": [
    {
     "name": "stdout",
     "output_type": "stream",
     "text": [
      "Choose between Rock, Paper, Scissors >> \n",
      "Choose between Rock, Paper, Scissors >> Scissors\n",
      "The selected value is : Scissors\n"
     ]
    }
   ],
   "source": [
    "selected = None\n",
    "while selected not in ['Rock', 'Paper', 'Scissors'] :\n",
    "    selected = input('Choose between Rock, Paper, Scissors >> ')\n",
    "print('The selected value is :', selected)"
   ]
  },
  {
   "cell_type": "code",
   "execution_count": 20,
   "id": "ba20d86e",
   "metadata": {},
   "outputs": [
    {
     "name": "stdout",
     "output_type": "stream",
     "text": [
      "Has the construction been completed? yes\n",
      "You have escaped the loop.\n"
     ]
    }
   ],
   "source": [
    "under_construction = True\n",
    "while under_construction :\n",
    "    response = input(\"Has the construction been completed? \")\n",
    "    if response == 'yes' :\n",
    "        under_construction = False\n",
    "    \n",
    "print('You have escaped the loop.')"
   ]
  },
  {
   "cell_type": "code",
   "execution_count": 22,
   "id": "f7caf5a5",
   "metadata": {},
   "outputs": [
    {
     "name": "stdout",
     "output_type": "stream",
     "text": [
      "Enter password : \n",
      "Enter password : \n",
      "Enter password : \n",
      "Enter password : \n",
      "Enter password : pythonisfun\n",
      "** Login Successful **\n"
     ]
    }
   ],
   "source": [
    "password = \"\"\n",
    "while password != \"pythonisfun\" :\n",
    "    password = input(\"Enter password : \")\n",
    "print(\"** Login Successful **\")"
   ]
  },
  {
   "cell_type": "code",
   "execution_count": 23,
   "id": "abce5c58",
   "metadata": {},
   "outputs": [
    {
     "name": "stdout",
     "output_type": "stream",
     "text": [
      "Please enter numbers : 2\n",
      "continue?(yes/no) : yes\n",
      "Please enter numbers : 6\n",
      "continue?(yes/no) : yes\n",
      "Please enter numbers : 8\n",
      "continue?(yes/no) : no\n",
      "The sum is : 16\n"
     ]
    }
   ],
   "source": [
    "total = 0\n",
    "answer = 'yes'\n",
    "while answer == 'yes' :\n",
    "    number = int(input(\"Please enter numbers : \"))\n",
    "    total = total + number\n",
    "    answer = input('continue?(yes/no) : ')\n",
    "print('The sum is :', total)"
   ]
  },
  {
   "cell_type": "code",
   "execution_count": 2,
   "id": "ffcca500",
   "metadata": {},
   "outputs": [
    {
     "name": "stdout",
     "output_type": "stream",
     "text": [
      "P\n",
      "r\n",
      "The end\n"
     ]
    }
   ],
   "source": [
    "st = 'Programming'\n",
    "for ch in st :\n",
    "    if ch in ['a', 'e', 'i', 'o', 'u'] :\n",
    "        break\n",
    "    print(ch)\n",
    "print('The end')"
   ]
  },
  {
   "cell_type": "code",
   "execution_count": 3,
   "id": "2d3eba3e",
   "metadata": {},
   "outputs": [
    {
     "name": "stdout",
     "output_type": "stream",
     "text": [
      "P\n",
      "r\n",
      "g\n",
      "r\n",
      "m\n",
      "m\n",
      "n\n",
      "g\n",
      "The end\n"
     ]
    }
   ],
   "source": [
    "st = 'Programming'\n",
    "for ch in st :\n",
    "    if ch in ['a', 'e', 'i', 'o', 'u'] :\n",
    "        continue\n",
    "    print(ch)\n",
    "print('The end')"
   ]
  },
  {
   "cell_type": "code",
   "execution_count": 9,
   "id": "b7d35f9a",
   "metadata": {},
   "outputs": [
    {
     "name": "stdout",
     "output_type": "stream",
     "text": [
      "2x1 =  2,  2x2 =  4,  2x3 =  6,  2x4 =  8,  2x5 = 10,  2x6 = 12,  2x7 = 14,  2x8 = 16,  2x9 = 18,  \n",
      "3x1 =  3,  3x2 =  6,  3x3 =  9,  3x4 = 12,  3x5 = 15,  3x6 = 18,  3x7 = 21,  3x8 = 24,  3x9 = 27,  \n",
      "4x1 =  4,  4x2 =  8,  4x3 = 12,  4x4 = 16,  4x5 = 20,  4x6 = 24,  4x7 = 28,  4x8 = 32,  4x9 = 36,  \n",
      "5x1 =  5,  5x2 = 10,  5x3 = 15,  5x4 = 20,  5x5 = 25,  5x6 = 30,  5x7 = 35,  5x8 = 40,  5x9 = 45,  \n",
      "6x1 =  6,  6x2 = 12,  6x3 = 18,  6x4 = 24,  6x5 = 30,  6x6 = 36,  6x7 = 42,  6x8 = 48,  6x9 = 54,  \n",
      "7x1 =  7,  7x2 = 14,  7x3 = 21,  7x4 = 28,  7x5 = 35,  7x6 = 42,  7x7 = 49,  7x8 = 56,  7x9 = 63,  \n",
      "8x1 =  8,  8x2 = 16,  8x3 = 24,  8x4 = 32,  8x5 = 40,  8x6 = 48,  8x7 = 56,  8x8 = 64,  8x9 = 72,  \n",
      "9x1 =  9,  9x2 = 18,  9x3 = 27,  9x4 = 36,  9x5 = 45,  9x6 = 54,  9x7 = 63,  9x8 = 72,  9x9 = 81,  \n"
     ]
    }
   ],
   "source": [
    "for i in range(2, 10) :\n",
    "    for j in range(1, 10) :\n",
    "        print('{}x{} = {:2d}, '.format(i, j, i * j), end = ' ')\n",
    "    print()"
   ]
  },
  {
   "cell_type": "code",
   "execution_count": 3,
   "id": "fd97c6f2",
   "metadata": {},
   "outputs": [
    {
     "name": "stdout",
     "output_type": "stream",
     "text": [
      "2 * 1 = 2\n",
      "2 * 2 = 4\n",
      "2 * 3 = 6\n",
      "2 * 4 = 8\n",
      "2 * 5 = 10\n",
      "2 * 6 = 12\n",
      "2 * 7 = 14\n",
      "2 * 8 = 16\n",
      "2 * 9 = 18\n"
     ]
    }
   ],
   "source": [
    "n = 2\n",
    "i = 1\n",
    "while i < 10 :\n",
    "    print(f'{n} * {i} = {n*i}')\n",
    "    i += 1"
   ]
  },
  {
   "cell_type": "code",
   "execution_count": 7,
   "id": "4661dd10",
   "metadata": {},
   "outputs": [
    {
     "name": "stdout",
     "output_type": "stream",
     "text": [
      "1 * 1 = 1\n",
      "1 * 2 = 2\n",
      "1 * 3 = 3\n",
      "1 * 4 = 4\n",
      "1 * 5 = 5\n",
      "1 * 6 = 6\n",
      "1 * 7 = 7\n",
      "1 * 8 = 8\n",
      "1 * 9 = 9\n",
      "\n",
      "2 * 1 = 2\n",
      "2 * 2 = 4\n",
      "2 * 3 = 6\n",
      "2 * 4 = 8\n",
      "2 * 5 = 10\n",
      "2 * 6 = 12\n",
      "2 * 7 = 14\n",
      "2 * 8 = 16\n",
      "2 * 9 = 18\n",
      "\n",
      "3 * 1 = 3\n",
      "3 * 2 = 6\n",
      "3 * 3 = 9\n",
      "3 * 4 = 12\n",
      "3 * 5 = 15\n",
      "3 * 6 = 18\n",
      "3 * 7 = 21\n",
      "3 * 8 = 24\n",
      "3 * 9 = 27\n",
      "\n",
      "4 * 1 = 4\n",
      "4 * 2 = 8\n",
      "4 * 3 = 12\n",
      "4 * 4 = 16\n",
      "4 * 5 = 20\n",
      "4 * 6 = 24\n",
      "4 * 7 = 28\n",
      "4 * 8 = 32\n",
      "4 * 9 = 36\n",
      "\n",
      "5 * 1 = 5\n",
      "5 * 2 = 10\n",
      "5 * 3 = 15\n",
      "5 * 4 = 20\n",
      "5 * 5 = 25\n",
      "5 * 6 = 30\n",
      "5 * 7 = 35\n",
      "5 * 8 = 40\n",
      "5 * 9 = 45\n",
      "\n",
      "6 * 1 = 6\n",
      "6 * 2 = 12\n",
      "6 * 3 = 18\n",
      "6 * 4 = 24\n",
      "6 * 5 = 30\n",
      "6 * 6 = 36\n",
      "6 * 7 = 42\n",
      "6 * 8 = 48\n",
      "6 * 9 = 54\n",
      "\n",
      "7 * 1 = 7\n",
      "7 * 2 = 14\n",
      "7 * 3 = 21\n",
      "7 * 4 = 28\n",
      "7 * 5 = 35\n",
      "7 * 6 = 42\n",
      "7 * 7 = 49\n",
      "7 * 8 = 56\n",
      "7 * 9 = 63\n",
      "\n",
      "8 * 1 = 8\n",
      "8 * 2 = 16\n",
      "8 * 3 = 24\n",
      "8 * 4 = 32\n",
      "8 * 5 = 40\n",
      "8 * 6 = 48\n",
      "8 * 7 = 56\n",
      "8 * 8 = 64\n",
      "8 * 9 = 72\n",
      "\n",
      "9 * 1 = 9\n",
      "9 * 2 = 18\n",
      "9 * 3 = 27\n",
      "9 * 4 = 36\n",
      "9 * 5 = 45\n",
      "9 * 6 = 54\n",
      "9 * 7 = 63\n",
      "9 * 8 = 72\n",
      "9 * 9 = 81\n",
      "\n"
     ]
    }
   ],
   "source": [
    "n = 1\n",
    "i = 1\n",
    "while n < 10 :\n",
    "    for i in range(1, 10) :\n",
    "        print(f'{n} * {i} = {n*i}') \n",
    "    n += 1\n",
    "    i = 1\n",
    "    print()"
   ]
  },
  {
   "cell_type": "code",
   "execution_count": 7,
   "id": "ed415155",
   "metadata": {},
   "outputs": [
    {
     "name": "stdout",
     "output_type": "stream",
     "text": [
      "Days :  1 \tMr.Snail had climbed  3m.\n",
      "Days :  2 \tMr.Snail had climbed  4m.\n",
      "Days :  3 \tMr.Snail had climbed  5m.\n",
      "Days :  4 \tMr.Snail had climbed  6m.\n",
      "Days :  5 \tMr.Snail had climbed  7m.\n",
      "Days :  6 \tMr.Snail had climbed  8m.\n",
      "Days :  7 \tMr.Snail had climbed  9m.\n",
      "Days :  8 \tMr.Snail had climbed 10m.\n",
      "Days :  9 \tMr.Snail had climbed 11m.\n",
      "Days : 10 \tMr.Snail had climbed 12m.\n",
      "Days : 11 \tMr.Snail had climbed 13m.\n",
      "Days : 12 \tMr.Snail had climbed 14m.\n",
      "Days : 13 \tMr.Snail had climbed 15m.\n",
      "Days : 14 \tMr.Snail had climbed 16m.\n",
      "Days : 15 \tMr.Snail had climbed 17m.\n",
      "Days : 16 \tMr.Snail had climbed 18m.\n",
      "Days : 17 \tMr.Snail had climbed 19m.\n",
      "Days : 18 \tMr.Snail had climbed 20m.\n",
      "Days : 19 \tMr.Snail had climbed 21m.\n",
      "Days : 20 \tMr.Snail had climbed 22m.\n",
      "Days : 21 \tMr.Snail had climbed 23m.\n",
      "Days : 22 \tMr.Snail had climbed 24m.\n",
      "Days : 23 \tMr.Snail had climbed 25m.\n",
      "Days : 24 \tMr.Snail had climbed 26m.\n",
      "Days : 25 \tMr.Snail had climbed 27m.\n",
      "Days : 26 \tMr.Snail had climbed 28m.\n",
      "Days : 27 \tMr.Snail had climbed 29m.\n",
      "Days : 28 \tMr.Snail had climbed 30m.\n",
      "\n",
      "\n",
      "Mr.Snail used 28 to escape the well.\n"
     ]
    }
   ],
   "source": [
    "current_pos = 0\n",
    "days = 1\n",
    "move_up = 3\n",
    "move_down = 2\n",
    "destination = 30\n",
    "\n",
    "while True :\n",
    "    current_pos += move_up\n",
    "    print(f'Days : {days:2d} \\tMr.Snail had climbed {current_pos:2d}m.')\n",
    "    if current_pos >= destination :\n",
    "        break\n",
    "    current_pos -= move_down\n",
    "    days += 1\n",
    "        \n",
    "print(f\"\\n\\nMr.Snails used {days} to escape the well.\")"
   ]
  },
  {
   "cell_type": "code",
   "execution_count": 10,
   "id": "e9408d3c",
   "metadata": {},
   "outputs": [
    {
     "name": "stdout",
     "output_type": "stream",
     "text": [
      "[1, 2, 3, 4, 5, 11]\n"
     ]
    }
   ],
   "source": [
    "prime = [1,2,3,4,5]\n",
    "prime.append(11)\n",
    "print(prime)"
   ]
  },
  {
   "cell_type": "code",
   "execution_count": 36,
   "id": "286a14fa",
   "metadata": {},
   "outputs": [
    {
     "name": "stdout",
     "output_type": "stream",
     "text": [
      "Input number > 1234\n",
      "['1', '2', '3', '4']\n",
      "1234 is not a palindrome number.\n"
     ]
    }
   ],
   "source": [
    "number = input('Input number > ')\n",
    "reverse_number = [*number]\n",
    "# print(reverse_number)\n",
    "reverse_number.reverse()\n",
    "\n",
    "if reverse_number == [*number] :\n",
    "    print(number, 'is a palindrome number.')\n",
    "else :\n",
    "    print(number, 'is not a palindrome number.')"
   ]
  },
  {
   "cell_type": "code",
   "execution_count": 35,
   "id": "6dd2a279",
   "metadata": {},
   "outputs": [
    {
     "name": "stdout",
     "output_type": "stream",
     "text": [
      "Guess a number between 1 to 100.\n",
      "\n",
      "Enter an integer : 12\n",
      "Higher\n",
      "\n",
      "Enter an integer : 30\n",
      "Lower\n",
      "\n",
      "Enter an integer : 15\n",
      "Higher\n",
      "\n",
      "Enter an integer : 20\n",
      "Higher\n",
      "\n",
      "Enter an integer : 23\n",
      "Higher\n",
      "\n",
      "Enter an integer : 25\n",
      "Lower\n",
      "\n",
      "Enter an integer : 24\n",
      "Congratulation! Total number of attempts =  7\n"
     ]
    }
   ],
   "source": [
    "from random import randint\n",
    "secret = randint(1, 101)\n",
    "print('Guess a number between 1 to 100.\\n')\n",
    "attempts = 1\n",
    "\n",
    "while True :\n",
    "    answer = int(input('Enter an integer : '))\n",
    "    \n",
    "    if answer == secret :   \n",
    "        print('Congratulation! Total number of attempts = ', attempts)\n",
    "        break\n",
    "    elif answer < secret :\n",
    "        attempts += 1\n",
    "        print('Higher\\n')\n",
    "    else :\n",
    "        attempts += 1\n",
    "        print('Lower\\n')"
   ]
  },
  {
   "cell_type": "code",
   "execution_count": null,
   "id": "f3f91887",
   "metadata": {},
   "outputs": [],
   "source": []
  },
  {
   "cell_type": "code",
   "execution_count": null,
   "id": "8abafab6",
   "metadata": {},
   "outputs": [],
   "source": []
  },
  {
   "cell_type": "code",
   "execution_count": null,
   "id": "8df6f432",
   "metadata": {},
   "outputs": [],
   "source": []
  },
  {
   "cell_type": "code",
   "execution_count": null,
   "id": "2cb91ba9",
   "metadata": {},
   "outputs": [],
   "source": []
  },
  {
   "cell_type": "code",
   "execution_count": null,
   "id": "281de7f7",
   "metadata": {},
   "outputs": [],
   "source": []
  }
 ],
 "metadata": {
  "kernelspec": {
   "display_name": "Python 3 (ipykernel)",
   "language": "python",
   "name": "python3"
  },
  "language_info": {
   "codemirror_mode": {
    "name": "ipython",
    "version": 3
   },
   "file_extension": ".py",
   "mimetype": "text/x-python",
   "name": "python",
   "nbconvert_exporter": "python",
   "pygments_lexer": "ipython3",
   "version": "3.10.9"
  }
 },
 "nbformat": 4,
 "nbformat_minor": 5
}
