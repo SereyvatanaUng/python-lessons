{
 "cells": [
  {
   "cell_type": "markdown",
   "id": "19efddd5",
   "metadata": {},
   "source": [
    "1. Write a program that prompts the user to enter two positive integers a and b with a < b and then prints the list of all the perfect squares that are between a and b, inclusive.\n",
    "\n",
    "Here is an example of the output your program should produce."
   ]
  },
  {
   "cell_type": "code",
   "execution_count": 4,
   "id": "2d66042f",
   "metadata": {},
   "outputs": [
    {
     "name": "stdout",
     "output_type": "stream",
     "text": [
      "Enter a: 12\n",
      "Enter b: 89\n",
      "16\n",
      "25\n",
      "36\n",
      "49\n",
      "64\n",
      "81\n"
     ]
    }
   ],
   "source": []
  },
  {
   "cell_type": "markdown",
   "id": "7e744985",
   "metadata": {},
   "source": [
    "2. Write a program that prompts the user to enter two positive integers a and b and then computes and prints the least common multiple of those integers. The least common multiple is the smallest integer that is a multiple of both a and b. For example, if a is 120 and b is 100 your program should print 600."
   ]
  },
  {
   "cell_type": "code",
   "execution_count": 5,
   "id": "697cb055",
   "metadata": {},
   "outputs": [
    {
     "name": "stdout",
     "output_type": "stream",
     "text": [
      "Enter a: 120\n",
      "Enter b: 100\n",
      "600\n"
     ]
    }
   ],
   "source": []
  },
  {
   "cell_type": "code",
   "execution_count": null,
   "id": "66c6b300",
   "metadata": {},
   "outputs": [],
   "source": []
  }
 ],
 "metadata": {
  "kernelspec": {
   "display_name": "Python 3 (ipykernel)",
   "language": "python",
   "name": "python3"
  },
  "language_info": {
   "codemirror_mode": {
    "name": "ipython",
    "version": 3
   },
   "file_extension": ".py",
   "mimetype": "text/x-python",
   "name": "python",
   "nbconvert_exporter": "python",
   "pygments_lexer": "ipython3",
   "version": "3.10.9"
  }
 },
 "nbformat": 4,
 "nbformat_minor": 5
}
