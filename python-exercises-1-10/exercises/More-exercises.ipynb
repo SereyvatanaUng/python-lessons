{
 "cells": [
  {
   "cell_type": "code",
   "execution_count": 3,
   "id": "1d8d6f73",
   "metadata": {},
   "outputs": [
    {
     "name": "stdout",
     "output_type": "stream",
     "text": [
      "600\n"
     ]
    }
   ],
   "source": [
    "a = 120\n",
    "b = 100\n",
    "n = 1\n",
    "while True :\n",
    "    \n",
    "    if n % a == 0 and n % b == 0 :\n",
    "        print(n)\n",
    "        break\n",
    "    \n",
    "    n += 1"
   ]
  },
  {
   "cell_type": "code",
   "execution_count": 18,
   "id": "b7cb8e23",
   "metadata": {},
   "outputs": [
    {
     "name": "stdout",
     "output_type": "stream",
     "text": [
      "1 x 2 = 2\n",
      "1 x 3 = 3\n",
      "1 x 4 = 4\n",
      "1 x 5 = 5\n",
      "1 x 6 = 6\n",
      "1 x 7 = 7\n",
      "1 x 8 = 8\n",
      "1 x 9 = 9\n",
      "1 x 10 = 10\n",
      "\n",
      "2 x 2 = 4\n",
      "2 x 3 = 6\n",
      "2 x 4 = 8\n",
      "2 x 5 = 10\n",
      "2 x 6 = 12\n",
      "2 x 7 = 14\n",
      "2 x 8 = 16\n",
      "2 x 9 = 18\n",
      "2 x 10 = 20\n",
      "\n",
      "3 x 2 = 6\n",
      "3 x 3 = 9\n",
      "3 x 4 = 12\n",
      "3 x 5 = 15\n",
      "3 x 6 = 18\n",
      "3 x 7 = 21\n",
      "3 x 8 = 24\n",
      "3 x 9 = 27\n",
      "3 x 10 = 30\n",
      "\n",
      "4 x 2 = 8\n",
      "4 x 3 = 12\n",
      "4 x 4 = 16\n",
      "4 x 5 = 20\n",
      "4 x 6 = 24\n",
      "4 x 7 = 28\n",
      "4 x 8 = 32\n",
      "4 x 9 = 36\n",
      "4 x 10 = 40\n",
      "\n",
      "5 x 2 = 10\n",
      "5 x 3 = 15\n",
      "5 x 4 = 20\n",
      "5 x 5 = 25\n",
      "5 x 6 = 30\n",
      "5 x 7 = 35\n",
      "5 x 8 = 40\n",
      "5 x 9 = 45\n",
      "5 x 10 = 50\n",
      "\n",
      "6 x 2 = 12\n",
      "6 x 3 = 18\n",
      "6 x 4 = 24\n",
      "6 x 5 = 30\n",
      "6 x 6 = 36\n",
      "6 x 7 = 42\n",
      "6 x 8 = 48\n",
      "6 x 9 = 54\n",
      "6 x 10 = 60\n",
      "\n",
      "7 x 2 = 14\n",
      "7 x 3 = 21\n",
      "7 x 4 = 28\n",
      "7 x 5 = 35\n",
      "7 x 6 = 42\n",
      "7 x 7 = 49\n",
      "7 x 8 = 56\n",
      "7 x 9 = 63\n",
      "7 x 10 = 70\n",
      "\n",
      "8 x 2 = 16\n",
      "8 x 3 = 24\n",
      "8 x 4 = 32\n",
      "8 x 5 = 40\n",
      "8 x 6 = 48\n",
      "8 x 7 = 56\n",
      "8 x 8 = 64\n",
      "8 x 9 = 72\n",
      "8 x 10 = 80\n",
      "\n",
      "9 x 2 = 18\n",
      "9 x 3 = 27\n",
      "9 x 4 = 36\n",
      "9 x 5 = 45\n",
      "9 x 6 = 54\n",
      "9 x 7 = 63\n",
      "9 x 8 = 72\n",
      "9 x 9 = 81\n",
      "9 x 10 = 90\n",
      "\n",
      "10 x 2 = 20\n",
      "10 x 3 = 30\n",
      "10 x 4 = 40\n",
      "10 x 5 = 50\n",
      "10 x 6 = 60\n",
      "10 x 7 = 70\n",
      "10 x 8 = 80\n",
      "10 x 9 = 90\n",
      "10 x 10 = 100\n",
      "\n"
     ]
    }
   ],
   "source": [
    "i = 0\n",
    "j = 0\n",
    "while i < 10 :\n",
    "    i += 1\n",
    "    j = 1\n",
    "    while j < 10 :\n",
    "        j += 1\n",
    "        print('{} x {} = {}'.format(i, j, i * j))\n",
    "    print()"
   ]
  },
  {
   "cell_type": "markdown",
   "id": "1007c72e",
   "metadata": {},
   "source": [
    "# Input-Output"
   ]
  },
  {
   "cell_type": "code",
   "execution_count": 9,
   "id": "87956dd8",
   "metadata": {},
   "outputs": [
    {
     "name": "stdout",
     "output_type": "stream",
     "text": [
      "Enter your name : vatana\n",
      "Enter your age : 20\n",
      "Hello, vatana.\n",
      "You are 20 years old.\n",
      "I am glad to see you.\n"
     ]
    }
   ],
   "source": [
    "name = input('Enter your name : ')\n",
    "age = int(input('Enter your age : '))\n",
    "\n",
    "print(\n",
    "    'Hello, {}.\\nYou are {} years old.\\n' \n",
    "    'I am glad to see you.' \n",
    "    .format(name, age))"
   ]
  },
  {
   "cell_type": "code",
   "execution_count": 19,
   "id": "13081b6b",
   "metadata": {},
   "outputs": [
    {
     "name": "stdout",
     "output_type": "stream",
     "text": [
      "Enter a nuber: 5\n",
      "The square of that number is : 25\n"
     ]
    }
   ],
   "source": [
    "n  = int(input('Enter a nuber: '))\n",
    "print('The square of that number is :', n ** 2)"
   ]
  },
  {
   "cell_type": "markdown",
   "id": "77d83fe6",
   "metadata": {},
   "source": [
    "# Boolean"
   ]
  },
  {
   "cell_type": "code",
   "execution_count": 21,
   "id": "32cd8dd4",
   "metadata": {},
   "outputs": [
    {
     "name": "stdout",
     "output_type": "stream",
     "text": [
      "Enter a number : 69\n",
      "False\n"
     ]
    }
   ],
   "source": [
    "is_even = True\n",
    "n = int(input('Enter a number : '))\n",
    "if n % 2 == 1 :\n",
    "    is_even = False\n",
    "print(is_even)"
   ]
  },
  {
   "cell_type": "code",
   "execution_count": 30,
   "id": "45915f42",
   "metadata": {},
   "outputs": [
    {
     "name": "stdout",
     "output_type": "stream",
     "text": [
      "Enter a number to see if it is prime or not : 101\n",
      "101 is a prime number : True\n"
     ]
    }
   ],
   "source": [
    "n = int(input('Enter a number to see if it is prime or not : '))\n",
    "\n",
    "is_prime = True\n",
    "count = 0\n",
    "i = 1\n",
    "while i <= n :\n",
    "    if n % i == 0 :\n",
    "        count += 1\n",
    "    i += 1\n",
    "if count != 2 :\n",
    "    is_prime = False\n",
    "\n",
    "print(n, 'is a prime number :', is_prime)"
   ]
  },
  {
   "cell_type": "markdown",
   "id": "79f47c04",
   "metadata": {},
   "source": [
    "#  if-elif-else"
   ]
  },
  {
   "cell_type": "code",
   "execution_count": 37,
   "id": "3fbadc97",
   "metadata": {},
   "outputs": [
    {
     "name": "stdout",
     "output_type": "stream",
     "text": [
      "Enter your score : 90\n",
      "Your grade is : A\n"
     ]
    }
   ],
   "source": [
    "score = int(input('Enter your score : '))\n",
    "\n",
    "\n",
    "if score >= 90 :\n",
    "    grade = 'A'\n",
    "elif score >= 80 :\n",
    "    grade = 'B'\n",
    "elif score >= 70 :\n",
    "    grade = 'c'\n",
    "elif score >= 60 :\n",
    "    grade = 'D'\n",
    "else :\n",
    "    grade = 'F'\n",
    "    \n",
    "print('Your grade is :', grade)"
   ]
  },
  {
   "cell_type": "code",
   "execution_count": 42,
   "id": "32c28ced",
   "metadata": {},
   "outputs": [
    {
     "name": "stdout",
     "output_type": "stream",
     "text": [
      "Enter a number : 20\n",
      "20 is positive\n"
     ]
    }
   ],
   "source": [
    "n = int(input('Enter a number : '))\n",
    "\n",
    "if n > 0 :\n",
    "    num = 'positive'\n",
    "elif n < 0 :\n",
    "    num = 'negative'\n",
    "else :\n",
    "    num = 'zero'\n",
    "    \n",
    "print(n, 'is', num)"
   ]
  },
  {
   "cell_type": "markdown",
   "id": "92602853",
   "metadata": {},
   "source": [
    "# List"
   ]
  },
  {
   "cell_type": "code",
   "execution_count": 43,
   "id": "06858889",
   "metadata": {},
   "outputs": [
    {
     "name": "stdout",
     "output_type": "stream",
     "text": [
      "15\n"
     ]
    }
   ],
   "source": [
    "lst = [1, 2, 3, 4, 5]\n",
    "\n",
    "sum = 0\n",
    "for i in lst :\n",
    "    sum += i\n",
    "print(sum)"
   ]
  },
  {
   "cell_type": "code",
   "execution_count": 46,
   "id": "7fe4921c",
   "metadata": {},
   "outputs": [
    {
     "name": "stdout",
     "output_type": "stream",
     "text": [
      "ghijkl\n"
     ]
    }
   ],
   "source": [
    "lst = ['abc', 'def', 'ghijkl', 'mnop', 'qrs', 'tuvw']\n",
    "\n",
    "lst.sort(key = len)\n",
    "\n",
    "print(lst[-1])"
   ]
  },
  {
   "cell_type": "markdown",
   "id": "72919751",
   "metadata": {},
   "source": [
    "# For loop"
   ]
  },
  {
   "cell_type": "code",
   "execution_count": 47,
   "id": "d7850b4f",
   "metadata": {},
   "outputs": [
    {
     "name": "stdout",
     "output_type": "stream",
     "text": [
      "1\n",
      "2\n",
      "3\n",
      "4\n",
      "5\n",
      "6\n",
      "7\n",
      "8\n",
      "9\n",
      "10\n"
     ]
    }
   ],
   "source": [
    "for i in range(1, 11) :\n",
    "    print(i)"
   ]
  },
  {
   "cell_type": "code",
   "execution_count": 48,
   "id": "77c9723e",
   "metadata": {},
   "outputs": [
    {
     "name": "stdout",
     "output_type": "stream",
     "text": [
      "2\n",
      "4\n",
      "6\n",
      "8\n",
      "10\n",
      "12\n",
      "14\n",
      "16\n",
      "18\n",
      "20\n"
     ]
    }
   ],
   "source": [
    "for i in range(2, 21, 2) :\n",
    "    print(i)"
   ]
  },
  {
   "cell_type": "markdown",
   "id": "bee11917",
   "metadata": {},
   "source": [
    "# While loop"
   ]
  },
  {
   "cell_type": "code",
   "execution_count": 2,
   "id": "bdabcbf0",
   "metadata": {},
   "outputs": [
    {
     "name": "stdout",
     "output_type": "stream",
     "text": [
      "Enter a number > 0 : 0\n",
      "Input value must greater than 0.\n",
      "Enter a number > 0 : -3\n",
      "Input value must greater than 0.\n",
      "Enter a number > 0 : -4\n",
      "Input value must greater than 0.\n",
      "Enter a number > 0 : -3\n",
      "Input value must greater than 0.\n",
      "Enter a number > 0 : 7\n",
      "1\n",
      "2\n",
      "3\n",
      "4\n",
      "5\n",
      "6\n",
      "7\n"
     ]
    }
   ],
   "source": [
    "n = int(input('Enter a number > 0 : '))\n",
    "i = 1\n",
    "while True :\n",
    "    if n <= 0 :\n",
    "        print('Input value must greater than 0.')\n",
    "        n = int(input('Enter a number > 0 : '))\n",
    "    else :\n",
    "        break\n",
    "\n",
    "while i <= n :\n",
    "    print(i)\n",
    "    i += 1\n",
    "        "
   ]
  },
  {
   "cell_type": "code",
   "execution_count": 5,
   "id": "10b567e6",
   "metadata": {},
   "outputs": [
    {
     "name": "stdout",
     "output_type": "stream",
     "text": [
      "Enter a number > 0 : 5\n",
      "5! = 120\n"
     ]
    }
   ],
   "source": [
    "n = int(input('Enter a number > 0 : '))\n",
    "i = 1\n",
    "fact = 1\n",
    "\n",
    "while True :\n",
    "    if n <= 0 :\n",
    "        print('Input value must greater than 0.')\n",
    "        n = int(input('Enter a number > 0 : '))\n",
    "    else :\n",
    "        break\n",
    "\n",
    "while i <= n :\n",
    "    fact *= i\n",
    "    i += 1\n",
    "    \n",
    "print('{}! = {}'.format(n, fact))"
   ]
  },
  {
   "cell_type": "markdown",
   "id": "b55eb708",
   "metadata": {},
   "source": [
    "# Tuple"
   ]
  },
  {
   "cell_type": "code",
   "execution_count": 6,
   "id": "eadd10e8",
   "metadata": {},
   "outputs": [
    {
     "name": "stdout",
     "output_type": "stream",
     "text": [
      "15\n"
     ]
    }
   ],
   "source": [
    "tup = (1, 2, 3, 4, 5)\n",
    "summ = sum(tup)\n",
    "print(summ)"
   ]
  },
  {
   "cell_type": "code",
   "execution_count": null,
   "id": "90cb7556",
   "metadata": {},
   "outputs": [],
   "source": [
    "tup = ('abc', 'cde')"
   ]
  },
  {
   "cell_type": "code",
   "execution_count": 18,
   "id": "e0a389a2",
   "metadata": {},
   "outputs": [
    {
     "name": "stdout",
     "output_type": "stream",
     "text": [
      "Enter an integer to defines a fibonacci series : 7\n",
      "Fibonacci sequence : \n",
      "0\n",
      "1\n",
      "1\n",
      "2\n",
      "3\n",
      "5\n",
      "8\n"
     ]
    }
   ],
   "source": [
    "nterms = int(input('Enter an integer to defines a fibonacci series : '))\n",
    "\n",
    "# first two terms\n",
    "n1, n2 = 0, 1\n",
    "count = 0\n",
    "\n",
    "# check if the number of terms is valid\n",
    "if nterms <= 0 :\n",
    "    print(\"Please enter a positive integer\")\n",
    "    \n",
    "# if there is only one term, return n1\n",
    "elif nterms == 1 :\n",
    "    print(\"Fibonacci sequence upto\", nterms, \": \")\n",
    "    print(n1)\n",
    "    \n",
    "# generate fibonacci sequence\n",
    "else :\n",
    "    print(\"Fibonacci sequence : \")\n",
    "    while count < nterms :\n",
    "        print(n1)\n",
    "        nth = n1 + n2\n",
    "        # update values\n",
    "        n1 = n2\n",
    "        n2 = nth\n",
    "        count += 1"
   ]
  },
  {
   "cell_type": "markdown",
   "id": "1d87814b",
   "metadata": {},
   "source": [
    "# Mix up"
   ]
  },
  {
   "cell_type": "code",
   "execution_count": 3,
   "id": "1800b514",
   "metadata": {},
   "outputs": [
    {
     "name": "stdout",
     "output_type": "stream",
     "text": [
      "Enter your name : Ung Sereyvatana\n",
      "Enter your age : 20\n",
      "Enter your favorite number : 69\n",
      "Good evening, Mr. or Ms. Ung Sereyvatana.\n",
      "You are 20 years old.\n",
      "Your favourite number is 69 and it is an odd number.\n"
     ]
    }
   ],
   "source": [
    "name = input('Enter your name : ')\n",
    "age = int(input('Enter your age : '))\n",
    "fav = int(input('Enter your favorite number : '))\n",
    "\n",
    "if fav % 2 == 0 :\n",
    "    fav_num = 'even'\n",
    "else :\n",
    "    fav_num = 'odd'\n",
    "\n",
    "print('Good evening, Mr. or Ms. {}.\\nYou are {} years old.\\nYour favourite number is {} and it is an {} number.'.format(name, age, fav, fav_num))"
   ]
  },
  {
   "cell_type": "markdown",
   "id": "e46f9591",
   "metadata": {},
   "source": [
    "# Print Pattern"
   ]
  },
  {
   "cell_type": "code",
   "execution_count": 6,
   "id": "ccca8d97",
   "metadata": {},
   "outputs": [
    {
     "name": "stdout",
     "output_type": "stream",
     "text": [
      "* \n",
      "* * \n",
      "* * * \n",
      "* * * * \n",
      "* * * * * \n"
     ]
    }
   ],
   "source": [
    "n = 5\n",
    "\n",
    "for i in range(0, n) :\n",
    "    for j in range(0, i+1) :\n",
    "        print('*', end = ' ')\n",
    "    print()"
   ]
  },
  {
   "cell_type": "code",
   "execution_count": 11,
   "id": "721f3971",
   "metadata": {},
   "outputs": [
    {
     "name": "stdout",
     "output_type": "stream",
     "text": [
      "* * * * * \n",
      "* * * * \n",
      "* * * \n",
      "* * \n",
      "* \n",
      "\n"
     ]
    }
   ],
   "source": [
    "n = 5\n",
    "\n",
    "for i in range(n, -1, -1) :\n",
    "    for j in range(0, i) :\n",
    "        print('*', end = ' ')\n",
    "    print()"
   ]
  },
  {
   "cell_type": "code",
   "execution_count": 41,
   "id": "ba1449c1",
   "metadata": {},
   "outputs": [
    {
     "name": "stdout",
     "output_type": "stream",
     "text": [
      "* * * * * \n",
      "  * * * * \n",
      "    * * * \n",
      "      * * \n",
      "        * \n"
     ]
    }
   ],
   "source": [
    "n = 5\n",
    "\n",
    "for i in range(n, 0, -1) :  \n",
    "    \n",
    "    for j in range(n, i, -1) :\n",
    "        print(' ', end = ' ')\n",
    "        \n",
    "    for j in range(0, i) :\n",
    "        print('*', end = ' ')\n",
    "\n",
    "    print()"
   ]
  },
  {
   "cell_type": "code",
   "execution_count": 55,
   "id": "1551ecf4",
   "metadata": {},
   "outputs": [
    {
     "name": "stdout",
     "output_type": "stream",
     "text": [
      "        * \n",
      "      * * \n",
      "    * * * \n",
      "  * * * * \n",
      "* * * * * \n"
     ]
    }
   ],
   "source": [
    "n = 5 \n",
    "\n",
    "for i in range(n) : \n",
    "    for j in range(n - 1, i, -1) :\n",
    "        print(' ', end = ' ')\n",
    "        \n",
    "    for j in range(0, i + 1) :\n",
    "        print('*', end = ' ')\n",
    "        \n",
    "    print()"
   ]
  },
  {
   "cell_type": "code",
   "execution_count": 60,
   "id": "c5874f7e",
   "metadata": {},
   "outputs": [
    {
     "name": "stdout",
     "output_type": "stream",
     "text": [
      "        * \n",
      "      * * \n",
      "    * * * \n",
      "  * * * * \n",
      "* * * * * \n"
     ]
    }
   ],
   "source": [
    "n = 5\n",
    "\n",
    "k = 2 * n - 2\n",
    "for i in range(0, n) :\n",
    "    for j in range(0, k) :\n",
    "        print(end = ' ')\n",
    "    k = k - 2\n",
    "    for j in range(0, i + 1) :\n",
    "        print('*', end = ' ')\n",
    "    print()"
   ]
  },
  {
   "cell_type": "code",
   "execution_count": 85,
   "id": "abe87826",
   "metadata": {},
   "outputs": [
    {
     "name": "stdout",
     "output_type": "stream",
     "text": [
      "        * \n",
      "       * * \n",
      "      * * * \n",
      "     * * * * \n",
      "    * * * * * \n"
     ]
    }
   ],
   "source": [
    "n = 5\n",
    "\n",
    "k = 2 * n - 2\n",
    "\n",
    "for i in range(0, n) :\n",
    "    \n",
    "    for j in range(0, k) :\n",
    "        print(end = ' ')\n",
    "        \n",
    "    k = k - 1\n",
    "    \n",
    "    for j in range(0, i + 1) :\n",
    "        print('*', end = ' ')\n",
    "    \n",
    "    print()"
   ]
  },
  {
   "cell_type": "code",
   "execution_count": 76,
   "id": "ece8fa73",
   "metadata": {},
   "outputs": [
    {
     "name": "stdout",
     "output_type": "stream",
     "text": [
      "        * * * * * \n",
      "         * * * * \n",
      "          * * * \n",
      "           * * \n",
      "            * \n",
      "             \n"
     ]
    }
   ],
   "source": [
    "n = 5\n",
    "k = 2 * n - 2\n",
    "\n",
    "for i in range(n, -1, -1) :\n",
    "    \n",
    "    for j in range(k, 0, -1) :\n",
    "        print(end = ' ')\n",
    "        \n",
    "    k = k + 1\n",
    "    \n",
    "    for j in range(0, i) :\n",
    "        print('*', end = ' ')\n",
    "    \n",
    "    print()"
   ]
  },
  {
   "cell_type": "code",
   "execution_count": 87,
   "id": "08e8a819",
   "metadata": {},
   "outputs": [
    {
     "name": "stdout",
     "output_type": "stream",
     "text": [
      "   * * * * * * \n",
      "    * * * * * \n",
      "     * * * * \n",
      "      * * * \n",
      "       * * \n",
      "        * \n",
      "        * \n",
      "       * * \n",
      "      * * * \n",
      "     * * * * \n",
      "    * * * * * \n",
      "   * * * * * * \n"
     ]
    }
   ],
   "source": [
    "n = 5\n",
    "k = n -2\n",
    "\n",
    "for i in range(n, -1, -1) :\n",
    "    \n",
    "    for j in range(k, 0, -1) :\n",
    "        print(end = \" \")\n",
    "    \n",
    "    k = k + 1\n",
    "    \n",
    "    for j in range(0, i + 1) :\n",
    "        print('*', end = ' ')\n",
    "        \n",
    "    print()\n",
    "        \n",
    "k = 2 * n - 2\n",
    "\n",
    "for i in range(0, n + 1) :\n",
    "    \n",
    "    for j in range(0, k) :\n",
    "        print(end=' ')\n",
    "    \n",
    "    k = k - 1\n",
    "    \n",
    "    for j in range(0, i + 1) :\n",
    "        print('*', end = ' ')\n",
    "        \n",
    "    print()"
   ]
  },
  {
   "cell_type": "code",
   "execution_count": 91,
   "id": "338baf19",
   "metadata": {},
   "outputs": [
    {
     "name": "stdout",
     "output_type": "stream",
     "text": [
      "        * \n",
      "       * * \n",
      "      * * * \n",
      "     * * * * \n",
      "    * * * * * \n",
      "   * * * * * * \n",
      "    * * * * * \n",
      "     * * * * \n",
      "      * * * \n",
      "       * * \n",
      "        * \n"
     ]
    }
   ],
   "source": [
    "n = 5\n",
    "k = 2 * n - 2\n",
    "\n",
    "for i in range(0, n) :\n",
    "    \n",
    "    for j in range(0, k) :\n",
    "        print(end = ' ')\n",
    "        \n",
    "    k = k - 1\n",
    "    \n",
    "    for j in range(0, i + 1) :\n",
    "        print('*', end = ' ')\n",
    "    \n",
    "    print()\n",
    "\n",
    "k = n - 2\n",
    "\n",
    "for i in range(n, -1, -1) :\n",
    "    \n",
    "    for j in range(k, 0, -1) :\n",
    "        print(end = ' ')\n",
    "    \n",
    "    k = k + 1\n",
    "    \n",
    "    for j in range(0, i + 1) :\n",
    "        print('*', end = ' ')\n",
    "    \n",
    "    print()"
   ]
  },
  {
   "cell_type": "code",
   "execution_count": 92,
   "id": "c7aa9991",
   "metadata": {},
   "outputs": [
    {
     "name": "stdout",
     "output_type": "stream",
     "text": [
      "        * \n",
      "      * * \n",
      "    * * * \n",
      "  * * * * \n",
      "* * * * * \n",
      "  * * * * \n",
      "    * * * \n",
      "      * * \n",
      "        * \n"
     ]
    }
   ],
   "source": [
    "n = 5\n",
    "k = 2 * n - 2\n",
    "\n",
    "for i in range(0, n - 1) :\n",
    "    \n",
    "    for j in range(0, k) :\n",
    "        print(end = ' ')\n",
    "        \n",
    "    k = k - 2\n",
    "    \n",
    "    for j in range(0, i + 1) :\n",
    "        print('*', end = ' ')\n",
    "    \n",
    "    print()\n",
    "    \n",
    "k = -1 \n",
    "\n",
    "for i in range(n - 1, -1, -1) :\n",
    "    \n",
    "    for j in range(k, -1, -1) :\n",
    "        print(end = ' ')\n",
    "        \n",
    "    k = k + 2\n",
    "    \n",
    "    for j in range(0, i + 1) :\n",
    "        print('*', end = ' ')\n",
    "        \n",
    "    print()"
   ]
  },
  {
   "cell_type": "code",
   "execution_count": 99,
   "id": "735f27fc",
   "metadata": {},
   "outputs": [
    {
     "name": "stdout",
     "output_type": "stream",
     "text": [
      "* \n",
      "* * \n",
      "* * * \n",
      "* * * * \n",
      "* * * * * \n",
      "* * * * * * \n",
      "* * * * * \n",
      "* * * * \n",
      "* * * \n",
      "* * \n",
      "* \n"
     ]
    }
   ],
   "source": [
    "n = 5\n",
    "\n",
    "for i in range(0, n) :\n",
    "    for j in range(0, i + 1) :\n",
    "        print('*', end = ' ')\n",
    "    print()\n",
    "    \n",
    "for i in range(n, -1, -1) :\n",
    "    for j in range(0, i + 1) :\n",
    "        print('*', end = ' ')\n",
    "    print()"
   ]
  },
  {
   "cell_type": "code",
   "execution_count": 2,
   "id": "1f8e33b8",
   "metadata": {},
   "outputs": [
    {
     "name": "stdout",
     "output_type": "stream",
     "text": [
      "Enter the length of the list: 5\n",
      "Input the integer 1 : 1\n",
      "Input the integer 2 : 2\n",
      "Input the integer 3 : 3\n",
      "Input the integer 4 : 4\n",
      "Input the integer 5 : 5\n",
      "[1, 2, 3, 4, 5]\n"
     ]
    }
   ],
   "source": [
    "n = int(input('Enter the length of the list: '))\n",
    "lst = []\n",
    "\n",
    "for i in range(n) :\n",
    "    print('Input the integer {} :'.format(i+1), end = ' ')\n",
    "    lst.append(int(input()))\n",
    "    \n",
    "print(lst)"
   ]
  },
  {
   "cell_type": "code",
   "execution_count": 3,
   "id": "d111633a",
   "metadata": {},
   "outputs": [
    {
     "name": "stdout",
     "output_type": "stream",
     "text": [
      "Enter a word to see if it is in the list or nah : me\n",
      "3\n"
     ]
    }
   ],
   "source": [
    "lst = ['i', 'my', 'me', 'mine', 'me', 'my', 'me']\n",
    "\n",
    "x = input('Enter a word to see if it is in the list or nah : ')\n",
    "\n",
    "print(lst.count(x))"
   ]
  },
  {
   "cell_type": "code",
   "execution_count": 29,
   "id": "7dd96475",
   "metadata": {},
   "outputs": [
    {
     "name": "stdout",
     "output_type": "stream",
     "text": [
      "Enter an integer : 20\n",
      "20  = 2 * 2 * 5\n",
      "Done\n"
     ]
    }
   ],
   "source": [
    "n = int(input('Enter an integer : '))\n",
    "\n",
    "x = 2\n",
    "lst = []\n",
    "\n",
    "print(n, ' = ', end = '')\n",
    "while True :\n",
    "    if n % x == 0 :\n",
    "        n = n // x\n",
    "        lst.append(x)\n",
    "    else :\n",
    "        x += 1\n",
    "       \n",
    "    if n <= 1 :\n",
    "        break\n",
    "\n",
    "print(*lst, sep = ' * ')\n",
    "print('Done')"
   ]
  },
  {
   "cell_type": "code",
   "execution_count": 35,
   "id": "f362ef33",
   "metadata": {},
   "outputs": [
    {
     "name": "stdout",
     "output_type": "stream",
     "text": [
      "enter an integer : 20\n",
      "20 is an integer.\n"
     ]
    }
   ],
   "source": [
    "while True :\n",
    "    n = input('enter an integer : ')\n",
    "    if n.isdigit() == True:\n",
    "        n = int(n) \n",
    "        break\n",
    "    else :\n",
    "        print('again')\n",
    "        \n",
    "print(n, 'is an integer.')"
   ]
  },
  {
   "cell_type": "code",
   "execution_count": 39,
   "id": "30f51632",
   "metadata": {},
   "outputs": [
    {
     "name": "stdout",
     "output_type": "stream",
     "text": [
      "Enter a number : -903\n",
      "-903\n"
     ]
    }
   ],
   "source": [
    "while True :\n",
    "    n = input('Enter a number : ')\n",
    "    try :\n",
    "        n = int(n)\n",
    "        break\n",
    "    except ValueError:\n",
    "        print('again')\n",
    "print(n)"
   ]
  },
  {
   "cell_type": "code",
   "execution_count": 42,
   "id": "38f0fe73",
   "metadata": {},
   "outputs": [
    {
     "name": "stdout",
     "output_type": "stream",
     "text": [
      "Enter a number : -90\n"
     ]
    },
    {
     "ename": "TypeError",
     "evalue": "'<' not supported between instances of 'str' and 'int'",
     "output_type": "error",
     "traceback": [
      "\u001b[1;31m---------------------------------------------------------------------------\u001b[0m",
      "\u001b[1;31mTypeError\u001b[0m                                 Traceback (most recent call last)",
      "Cell \u001b[1;32mIn[42], line 3\u001b[0m\n\u001b[0;32m      1\u001b[0m \u001b[38;5;28;01mwhile\u001b[39;00m \u001b[38;5;28;01mTrue\u001b[39;00m :\n\u001b[0;32m      2\u001b[0m     n \u001b[38;5;241m=\u001b[39m \u001b[38;5;28minput\u001b[39m(\u001b[38;5;124m'\u001b[39m\u001b[38;5;124mEnter a number : \u001b[39m\u001b[38;5;124m'\u001b[39m)\n\u001b[1;32m----> 3\u001b[0m     \u001b[38;5;28;01mif\u001b[39;00m n \u001b[38;5;241m<\u001b[39m \u001b[38;5;241m0\u001b[39m :\n\u001b[0;32m      4\u001b[0m         \u001b[38;5;28mprint\u001b[39m(\u001b[38;5;124m'\u001b[39m\u001b[38;5;124magain\u001b[39m\u001b[38;5;124m'\u001b[39m)\n\u001b[0;32m      5\u001b[0m     \u001b[38;5;28;01melif\u001b[39;00m n\u001b[38;5;241m.\u001b[39misdigit() \u001b[38;5;241m==\u001b[39m \u001b[38;5;28;01mFalse\u001b[39;00m :\n",
      "\u001b[1;31mTypeError\u001b[0m: '<' not supported between instances of 'str' and 'int'"
     ]
    }
   ],
   "source": [
    "while True :\n",
    "    n = input('Enter a number : ')\n",
    "    if n.isdigit() == False :\n",
    "        break\n",
    "    elif n < 0 :\n",
    "        print('again')\n",
    "    else :\n",
    "        print('again')\n",
    "        \n",
    "print(n)"
   ]
  },
  {
   "cell_type": "code",
   "execution_count": null,
   "id": "66eeaebb",
   "metadata": {},
   "outputs": [],
   "source": []
  }
 ],
 "metadata": {
  "kernelspec": {
   "display_name": "Python 3 (ipykernel)",
   "language": "python",
   "name": "python3"
  },
  "language_info": {
   "codemirror_mode": {
    "name": "ipython",
    "version": 3
   },
   "file_extension": ".py",
   "mimetype": "text/x-python",
   "name": "python",
   "nbconvert_exporter": "python",
   "pygments_lexer": "ipython3",
   "version": "3.11.3"
  }
 },
 "nbformat": 4,
 "nbformat_minor": 5
}
