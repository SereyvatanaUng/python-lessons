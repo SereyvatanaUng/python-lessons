{
 "cells": [
  {
   "cell_type": "markdown",
   "id": "3fd25a23",
   "metadata": {},
   "source": [
    "# 3  =1min"
   ]
  },
  {
   "cell_type": "code",
   "execution_count": 85,
   "id": "47173711",
   "metadata": {},
   "outputs": [
    {
     "name": "stdout",
     "output_type": "stream",
     "text": [
      "Enter two integers: 12 2\n",
      "2 12\n"
     ]
    }
   ],
   "source": [
    "a, b = input('Enter two integers: ').split()\n",
    "a, b = int(a), int(b)\n",
    "\n",
    "if a > b:\n",
    "    print(b, a)\n",
    "else:\n",
    "    print(a, b)"
   ]
  },
  {
   "cell_type": "markdown",
   "id": "163584c6",
   "metadata": {},
   "source": [
    "# 39 = 1min"
   ]
  },
  {
   "cell_type": "code",
   "execution_count": 7,
   "id": "220e2f01",
   "metadata": {},
   "outputs": [
    {
     "name": "stdout",
     "output_type": "stream",
     "text": [
      "#\n",
      "##\n",
      "###\n",
      "####\n",
      "#####\n"
     ]
    }
   ],
   "source": [
    "print('#')\n",
    "print('#' * 2)\n",
    "print('#' * 3)\n",
    "print('#' * 4)\n",
    "print('#' * 5)"
   ]
  },
  {
   "cell_type": "markdown",
   "id": "989f324b",
   "metadata": {},
   "source": [
    "---"
   ]
  },
  {
   "cell_type": "markdown",
   "id": "66316569",
   "metadata": {},
   "source": [
    "# 128 = 2hours"
   ]
  },
  {
   "cell_type": "code",
   "execution_count": 122,
   "id": "fdacef59",
   "metadata": {},
   "outputs": [
    {
     "name": "stdout",
     "output_type": "stream",
     "text": [
      "Distance N: 100\n",
      "Number of lamps M: 4\n",
      "Distance of lamp K: 1\n",
      "Position of lamp: 10\n",
      "Position of lamp: 40\n",
      "Position of lamp: 50\n",
      "Position of lamp: 75\n",
      "answer 47\n",
      "brightness coverage (points) [9, 10, 11, 39, 40, 41, 49, 50, 51, 74, 75, 76]\n",
      "the dark parts (distance) [9, 28, 8, 23, 24]\n"
     ]
    }
   ],
   "source": [
    "## ===================== The right answer 99% haha =========================#\n",
    "'''\n",
    "Why 99%?\n",
    "Try input: 18, 2, 3, 5, 12\n",
    "Right answer is 3 not 2.\n",
    "'''\n",
    "\n",
    "import math\n",
    "\n",
    "# N distance\n",
    "N = int(input('Distance N: '))\n",
    "\n",
    "# M street lamps\n",
    "M = int(input('Number of lamps M: '))\n",
    "\n",
    "# K\n",
    "K = int(input('Distance of lamp K: '))\n",
    "\n",
    "# M positions\n",
    "lamp_pos = []\n",
    "for _ in range(M):\n",
    "    m = int(input('Position of lamp: '))\n",
    "    lamp_pos.append(m)\n",
    "\n",
    "N_interval = list(range(N + 1))\n",
    "cov = []\n",
    "\n",
    "# calculate coverage\n",
    "for each_m_pos in lamp_pos:\n",
    "    if each_m_pos - K < 0:\n",
    "        cov.extend(N_interval[0:each_m_pos+1])\n",
    "    else:\n",
    "        cov.extend(N_interval[each_m_pos - K :each_m_pos+1])\n",
    "\n",
    "    cov.extend(N_interval[each_m_pos : each_m_pos+K+1])\n",
    "\n",
    "\n",
    "# remove duplicate\n",
    "cov = list(set(cov))\n",
    "cov.sort()\n",
    "\n",
    "\n",
    "# find the dark parts\n",
    "res = 0\n",
    "if len(cov) == N_interval:\n",
    "    print('answer', res)\n",
    "    \n",
    "else:\n",
    "    dark_dist_list = []\n",
    "    \n",
    "    i = 0\n",
    "    while i < len(cov):\n",
    "        # first element of cov is the remaining distance that is DARK\n",
    "        if i == 0:\n",
    "            dark_dist_list.append(cov[i])\n",
    "        # handle the last cov element\n",
    "        if i == len(cov) - 1:\n",
    "            if cov[i] < N_interval[-1]:\n",
    "                dark_dist_list.append(N_interval[-1] - cov[i])\n",
    "            break\n",
    "        # append the dark distance\n",
    "        if cov[i] - cov[i+1] != -1:\n",
    "            dark_dist_list.append(cov[i+1] - cov[i])\n",
    "        i += 1\n",
    "        \n",
    "    for each in dark_dist_list:\n",
    "        res = res + math.ceil(each / (2*K))\n",
    "    \n",
    "\n",
    "print('answer', res)\n",
    "print('brightness coverage (points)', cov)\n",
    "print('the dark parts (distance)', dark_dist_list)"
   ]
  },
  {
   "cell_type": "code",
   "execution_count": null,
   "id": "ee975774",
   "metadata": {},
   "outputs": [],
   "source": []
  },
  {
   "cell_type": "code",
   "execution_count": 128,
   "id": "7373d850",
   "metadata": {},
   "outputs": [
    {
     "name": "stdout",
     "output_type": "stream",
     "text": [
      "Distance N: 18\n",
      "Number of lamps M: 2\n",
      "Distance of lamp K: 3\n",
      "Position of lamp: 4\n",
      "Position of lamp: 12\n",
      "==========\n",
      "answer 3\n",
      "==========\n",
      "brightness coverage (points) [1, 2, 3, 4, 5, 6, 7, 9, 10, 11, 12, 13, 14, 15]\n",
      "the dark parts (distance) [1, 2, 3]\n",
      "the 1-meter dark part: 0\n"
     ]
    }
   ],
   "source": [
    "## ===================== right answer 100% =========================#\n",
    "\n",
    "import math\n",
    "\n",
    "# N distance\n",
    "N = int(input('Distance N: '))\n",
    "\n",
    "# M street lamps\n",
    "M = int(input('Number of lamps M: '))\n",
    "\n",
    "# K\n",
    "K = int(input('Distance of lamp K: '))\n",
    "\n",
    "# M positions\n",
    "lamp_pos = []\n",
    "for _ in range(M):\n",
    "    m = int(input('Position of lamp: '))\n",
    "    lamp_pos.append(m)\n",
    "\n",
    "N_interval = list(range(N + 1))\n",
    "cov = []\n",
    "\n",
    "# calculate coverage\n",
    "for each_m_pos in lamp_pos:\n",
    "    if each_m_pos - K < 0:\n",
    "        cov.append(N_interval[0 : each_m_pos+1])\n",
    "    else:\n",
    "        cov.append(N_interval[each_m_pos - K : each_m_pos+1])\n",
    "\n",
    "    cov.append(N_interval[each_m_pos : (each_m_pos+K) + 1])\n",
    "\n",
    "\n",
    "# in case there is 1 meter dark.\n",
    "i = 1\n",
    "one_metre_dark = 0\n",
    "while i < len(cov):\n",
    "    # handle last index \n",
    "    if i >= len(cov) - 1:\n",
    "        break\n",
    "    if cov[i+1][0] - cov[i][-1] == 1:\n",
    "        one_metre_dark += 1\n",
    "    i += 2\n",
    "    \n",
    "# Unpack the list\n",
    "cov = [each_num for l in cov for each_num in l]\n",
    "\n",
    "# remove duplicate and sort\n",
    "cov = list(set(cov))\n",
    "cov.sort()\n",
    "\n",
    "\n",
    "# find the dark parts\n",
    "res = one_metre_dark\n",
    "if len(cov) == N_interval:\n",
    "    print('answer', res)\n",
    "    \n",
    "else:\n",
    "    dark_dist_list = []\n",
    "    \n",
    "    i = 0\n",
    "    while i < len(cov):\n",
    "        # first element of cov is the remaining distance that is DARK\n",
    "        if i == 0:\n",
    "            dark_dist_list.append(cov[i])\n",
    "\n",
    "        # handle the last cov element\n",
    "        if i == len(cov) - 1:\n",
    "            if cov[i] < N_interval[-1]:\n",
    "                dark_dist_list.append(N_interval[-1] - cov[i])\n",
    "            break\n",
    "\n",
    "        # append the dark distance\n",
    "        if cov[i] - cov[i+1] != -1:\n",
    "            dark_dist_list.append(cov[i+1] - cov[i])\n",
    "        i += 1\n",
    "        \n",
    "    for each in dark_dist_list:\n",
    "        res = res + math.ceil(each / (2*K))\n",
    "    \n",
    "print('==========')\n",
    "print('answer', res)\n",
    "print('==========')\n",
    "\n",
    "print('brightness coverage (points)', cov)\n",
    "print('the dark parts (distance)', dark_dist_list)\n",
    "print('the 1-meter dark part:', one_metre_dark)"
   ]
  },
  {
   "cell_type": "markdown",
   "id": "5bd25546",
   "metadata": {},
   "source": []
  }
 ],
 "metadata": {
  "kernelspec": {
   "display_name": "Python 3 (ipykernel)",
   "language": "python",
   "name": "python3"
  },
  "language_info": {
   "codemirror_mode": {
    "name": "ipython",
    "version": 3
   },
   "file_extension": ".py",
   "mimetype": "text/x-python",
   "name": "python",
   "nbconvert_exporter": "python",
   "pygments_lexer": "ipython3",
   "version": "3.10.9"
  }
 },
 "nbformat": 4,
 "nbformat_minor": 5
}
