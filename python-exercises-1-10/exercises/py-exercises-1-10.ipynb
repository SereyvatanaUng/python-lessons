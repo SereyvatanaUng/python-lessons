{
 "cells": [
  {
   "cell_type": "markdown",
   "id": "623198d9",
   "metadata": {},
   "source": [
    "# 1. Sequential Programming Plan\n",
    "## 1.1. Output a self-introduction letter"
   ]
  },
  {
   "cell_type": "code",
   "execution_count": 1,
   "id": "0531d62c",
   "metadata": {},
   "outputs": [
    {
     "name": "stdout",
     "output_type": "stream",
     "text": [
      "Hello, My name is Ung Sereyvatana\n"
     ]
    }
   ],
   "source": [
    "print(\"Hello, My name is Ung Sereyvatana\")"
   ]
  },
  {
   "cell_type": "markdown",
   "id": "860e40af",
   "metadata": {},
   "source": [
    "## 1.2. Flowchart of Finding Accomodation"
   ]
  },
  {
   "cell_type": "code",
   "execution_count": null,
   "id": "72dffa7e",
   "metadata": {},
   "outputs": [],
   "source": []
  },
  {
   "cell_type": "markdown",
   "id": "60469afc",
   "metadata": {},
   "source": [
    "## 1.3. Code 7 `print` statement to product the following output:\n",
    "```\n",
    "    *\n",
    "   ***\n",
    "  *****\n",
    "*********\n",
    "  *****\n",
    "   ***\n",
    "    *\n",
    "```"
   ]
  },
  {
   "cell_type": "code",
   "execution_count": null,
   "id": "52342d52",
   "metadata": {},
   "outputs": [],
   "source": []
  },
  {
   "cell_type": "markdown",
   "id": "7f7b4a64",
   "metadata": {},
   "source": [
    "## 1.4.🔥 Create a flowchart to factorize 18, 39, 63, 126, 792"
   ]
  },
  {
   "cell_type": "code",
   "execution_count": 7,
   "id": "d5786505",
   "metadata": {},
   "outputs": [
    {
     "name": "stdout",
     "output_type": "stream",
     "text": [
      "120\n"
     ]
    }
   ],
   "source": [
    "n = 5\n",
    "fact = n * (n-1) * (n-2) * (n-3) * (n-4)\n",
    "print(fact)"
   ]
  },
  {
   "cell_type": "markdown",
   "id": "50e408c2",
   "metadata": {},
   "source": [
    "# 2. Variables, Data Types, Operators\n",
    "## 2.1. Use `int` to add string '50' with number 50 to output 100.\n",
    "Then use `str` to output '5050'"
   ]
  },
  {
   "cell_type": "code",
   "execution_count": 10,
   "id": "12af6c77",
   "metadata": {},
   "outputs": [
    {
     "name": "stdout",
     "output_type": "stream",
     "text": [
      "100\n",
      "5050\n"
     ]
    }
   ],
   "source": [
    "print(int('50') + 50)\n",
    "print(str(50) + '50')"
   ]
  },
  {
   "cell_type": "markdown",
   "id": "fe904edf",
   "metadata": {},
   "source": [
    "## 2.2. You have one instance of '1' and three instances of '0'. Output number 1000.\n",
    "Use `int` only once"
   ]
  },
  {
   "cell_type": "code",
   "execution_count": 12,
   "id": "2c4dfedc",
   "metadata": {},
   "outputs": [
    {
     "name": "stdout",
     "output_type": "stream",
     "text": [
      "1000\n",
      "<class 'int'>\n"
     ]
    }
   ],
   "source": [
    "print(int('1' + '0' + '0' + '0'))\n",
    "print(type(int('1' + '0' + '0' + '0')))"
   ]
  },
  {
   "cell_type": "markdown",
   "id": "7d88d676",
   "metadata": {},
   "source": [
    "## 2.3. Print the circumference and area of circle"
   ]
  },
  {
   "cell_type": "code",
   "execution_count": 15,
   "id": "f57d2ee8",
   "metadata": {},
   "outputs": [
    {
     "name": "stdout",
     "output_type": "stream",
     "text": [
      "circumference of circle is 31.4159\n",
      "area of circle is 78.53975\n"
     ]
    }
   ],
   "source": [
    "PI = 3.14159\n",
    "r = 5\n",
    "circum = PI * r * 2\n",
    "area = PI * r * r\n",
    "print('circumference of circle is', circum)\n",
    "print('area of circle is', area)"
   ]
  },
  {
   "cell_type": "markdown",
   "id": "8089bebd",
   "metadata": {},
   "source": [
    "## 2.4. Using integer and * operator to output factorial of 5 and 10 like below\n",
    "Output:   \n",
    "Calculate the factorial.   \n",
    "5! = 120\n",
    "\n",
    "Calculate the factorial.   \n",
    "10! = 3628800"
   ]
  },
  {
   "cell_type": "code",
   "execution_count": 18,
   "id": "588d501a",
   "metadata": {},
   "outputs": [
    {
     "name": "stdout",
     "output_type": "stream",
     "text": [
      "Calculate the factorial.\n",
      "5! = 120\n",
      "\n",
      "Calculate the factorial.\n",
      "10! = 3628800\n"
     ]
    }
   ],
   "source": [
    "fact5 = 5 * 4 * 3 * 2 * 1\n",
    "fact10 = 10 * 9 * 8 * 7 * 6 * 5 * 4 * 3 * 2 * 1\n",
    "print('Calculate the factorial.\\n5! =', fact5)\n",
    "print('\\nCalculate the factorial.\\n10! =', fact10)"
   ]
  },
  {
   "cell_type": "markdown",
   "id": "038fba76",
   "metadata": {},
   "source": [
    "# 3. String input output, Built-in Functions, Module"
   ]
  },
  {
   "cell_type": "markdown",
   "id": "8f011278",
   "metadata": {},
   "source": [
    "## 3.1. Assign 30 and 60 to variable `width` and `height` respectively. Calculate area of rectangle then output\n",
    "Area of the rectangle: 1800"
   ]
  },
  {
   "cell_type": "code",
   "execution_count": 19,
   "id": "11581f96",
   "metadata": {},
   "outputs": [
    {
     "name": "stdout",
     "output_type": "stream",
     "text": [
      "Area of the rectangle: 1800\n"
     ]
    }
   ],
   "source": [
    "width = 30\n",
    "height = 60\n",
    "area = width * height\n",
    "print('Area of the rectangle:', area)"
   ]
  },
  {
   "cell_type": "markdown",
   "id": "a6d4002c",
   "metadata": {},
   "source": [
    "## 3.2. Calculate the length of hypotenuse\n",
    "- First line should prompt for the base.  \n",
    "- Second line should prompt for the height.   \n",
    "- 3rd line is the output\n"
   ]
  },
  {
   "cell_type": "code",
   "execution_count": 20,
   "id": "95bf7a2c",
   "metadata": {},
   "outputs": [
    {
     "name": "stdout",
     "output_type": "stream",
     "text": [
      "base : 3\n",
      "height : 4\n",
      "hypotenuse : 5.0\n"
     ]
    }
   ],
   "source": [
    "base = int(input(\"base : \"))\n",
    "height = int(input(\"height : \"))\n",
    "hypo = pow((pow(base, 2) + pow(height, 2)), 1/2)\n",
    "print(\"hypotenuse :\", hypo)"
   ]
  },
  {
   "cell_type": "markdown",
   "id": "fb54d291",
   "metadata": {},
   "source": [
    "## 3.3. BMI Calculator\n",
    "- Obtain user's name, height and weight\n",
    "- Unit of BMI is Kg/m^2"
   ]
  },
  {
   "cell_type": "code",
   "execution_count": 23,
   "id": "44a292ac",
   "metadata": {},
   "outputs": [
    {
     "name": "stdout",
     "output_type": "stream",
     "text": [
      "name : vatana\n",
      "height(kg) : 45\n",
      "weight(cm) : 168\n",
      "vatana's BMI : 0.0015943877551020409\n"
     ]
    }
   ],
   "source": [
    "name = input(\"name : \")\n",
    "height = int(input(\"height(kg) : \"))\n",
    "weight = int(input(\"weight(cm) : \"))\n",
    "BMI = height / (weight * weight)\n",
    "print('{}\\'s BMI : {}'.format(name, BMI))"
   ]
  },
  {
   "cell_type": "markdown",
   "id": "e08b8e8c",
   "metadata": {},
   "source": [
    "## 3.4.🔥 Change calculator\n",
    "- The coins for change are only 500 and 100\n",
    "- Input the money\n",
    "- Input the price of goods\n",
    "- Calculate the changes"
   ]
  },
  {
   "cell_type": "code",
   "execution_count": 27,
   "id": "45954a7e",
   "metadata": {},
   "outputs": [
    {
     "name": "stdout",
     "output_type": "stream",
     "text": [
      "money : 1500\n",
      "goods : 400\n",
      "The left with 2 big coin and 1 small coin.\n"
     ]
    }
   ],
   "source": [
    "money = int(input('money : '))\n",
    "goods = int(input('goods : '))\n",
    "\n",
    "change = money - goods\n",
    "big_coin = change // 500\n",
    "small_coin = (change % 500) // 100\n",
    "\n",
    "print('The left with {} big coin and {} small coin.'.format(big_coin, small_coin))"
   ]
  },
  {
   "cell_type": "markdown",
   "id": "49133f40",
   "metadata": {},
   "source": [
    "## 3.5. Get radius from user and calculate the circumference and area of a circle\n",
    "- use PI = 3.141592\n",
    "- Output Sample:\n",
    "    - Enter the radius of a circle: 11\n",
    "    - Circumference of the circle:....., Area:...."
   ]
  },
  {
   "cell_type": "code",
   "execution_count": 30,
   "id": "c5bd4673",
   "metadata": {},
   "outputs": [
    {
     "name": "stdout",
     "output_type": "stream",
     "text": [
      "Enter the radius of a circle: 11\n",
      "Circumference of the circle: 69.12, Area: 380.13\n"
     ]
    }
   ],
   "source": [
    "PI = 3.141592\n",
    "r = int(input('Enter the radius of a circle: '))\n",
    "circum = 2 * PI * r\n",
    "area = PI * r * r\n",
    "print('Circumference of the circle: {:.2f}, Area: {:.2f}'.format(circum, area))"
   ]
  },
  {
   "cell_type": "markdown",
   "id": "cb3e8e40",
   "metadata": {},
   "source": [
    "## 3.6. Display squared result in table of the value from 2 to 6\n",
    "Output:   \n",
    "```\n",
    "a    n    a**n\n",
    "2    2    4\n",
    "3    2    9\n",
    "4    2    16\n",
    "5    2    25\n",
    "6    2    36\n",
    "```"
   ]
  },
  {
   "cell_type": "code",
   "execution_count": 33,
   "id": "62e70076",
   "metadata": {},
   "outputs": [
    {
     "name": "stdout",
     "output_type": "stream",
     "text": [
      "a\tn\ta**n\n",
      "2\t2\t4\n",
      "3\t2\t9\n",
      "4\t2\t16\n",
      "5\t2\t25\n",
      "6\t2\t36\n"
     ]
    }
   ],
   "source": [
    "a = 2\n",
    "n = 2\n",
    "print('a\\tn\\ta**n')\n",
    "print('{}\\t{}\\t{}'.format(a, n, a ** n))\n",
    "a += 1\n",
    "print('{}\\t{}\\t{}'.format(a, n, a ** n))\n",
    "a += 1\n",
    "print('{}\\t{}\\t{}'.format(a, n, a ** n))\n",
    "a += 1\n",
    "print('{}\\t{}\\t{}'.format(a, n, a ** n))\n",
    "a += 1\n",
    "print('{}\\t{}\\t{}'.format(a, n, a ** n))"
   ]
  },
  {
   "cell_type": "markdown",
   "id": "41642919",
   "metadata": {},
   "source": [
    "# 4. Boolean Expression\n",
    "## 4.1. Leap Year\n",
    "Output Sample:\n",
    "```\n",
    "Enter the year: 2023\n",
    "False\n",
    "```"
   ]
  },
  {
   "cell_type": "code",
   "execution_count": 37,
   "id": "07d291bb",
   "metadata": {},
   "outputs": [
    {
     "name": "stdout",
     "output_type": "stream",
     "text": [
      "Enter the year: 2023\n",
      "False\n"
     ]
    }
   ],
   "source": [
    "year = int(input('Enter the year: '))\n",
    "\n",
    "print((year % 4 == 0 and year % 100 != 0) or (year % 400 == 0))"
   ]
  },
  {
   "cell_type": "markdown",
   "id": "29fe9aba",
   "metadata": {},
   "source": [
    "## 4.2. Input from users, print True if input is odd and False otherwise\n",
    "Output:\n",
    "```\n",
    "Enter an integer: 20\n",
    "Is this number odd? False\n",
    "```"
   ]
  },
  {
   "cell_type": "code",
   "execution_count": 40,
   "id": "b7e3b49c",
   "metadata": {},
   "outputs": [
    {
     "name": "stdout",
     "output_type": "stream",
     "text": [
      "Enter an integer: 20\n",
      "Is this number odd? False\n"
     ]
    }
   ],
   "source": [
    "n = int(input('Enter an integer: '))\n",
    "print('Is this number odd?', n % 2 != 0)"
   ]
  },
  {
   "cell_type": "markdown",
   "id": "14aa93b5",
   "metadata": {},
   "source": [
    "## 4.3. Input from users, print True is input is even number within range 0 to 10\n",
    "Output:\n",
    "```\n",
    "Enter an integer: 12\n",
    "Is the entered integer an even number within the range 0 to 10? False\n",
    "```"
   ]
  },
  {
   "cell_type": "code",
   "execution_count": 44,
   "id": "45d104b4",
   "metadata": {},
   "outputs": [
    {
     "name": "stdout",
     "output_type": "stream",
     "text": [
      "Enter an integer: 12\n",
      "Is the entered integer an even number within the range 0 to 10? False\n"
     ]
    }
   ],
   "source": [
    "n = int(input('Enter an integer: '))\n",
    "print('Is the entered integer an even number within the range 0 to 10?', (n >= 0 and n <= 10) and n % 2 == 0)"
   ]
  },
  {
   "cell_type": "markdown",
   "id": "a07ee4d7",
   "metadata": {},
   "source": [
    "## 4.4. Get input of 3digit integer from user. If the hundreds digit is 3, print True\n",
    "Output:\n",
    "```\n",
    "Please enter a three-digit integer: 321\n",
    "True\n",
    "```"
   ]
  },
  {
   "cell_type": "code",
   "execution_count": 45,
   "id": "4a06b4e6",
   "metadata": {},
   "outputs": [
    {
     "name": "stdout",
     "output_type": "stream",
     "text": [
      "Please enter a three-digit integer: 321\n",
      "True\n"
     ]
    }
   ],
   "source": [
    "n = int(input('Please enter a three-digit integer: '))\n",
    "print(n >= 300 and n < 400)"
   ]
  },
  {
   "cell_type": "markdown",
   "id": "0e71cd54",
   "metadata": {},
   "source": [
    "## 4.5. Input an integer, print True if it is a multiple of 5\n",
    "Output:\n",
    "```\n",
    "Enter an integer: 125\n",
    "True\n",
    "```"
   ]
  },
  {
   "cell_type": "code",
   "execution_count": 46,
   "id": "2af29f66",
   "metadata": {},
   "outputs": [
    {
     "name": "stdout",
     "output_type": "stream",
     "text": [
      "Enter an integer: 125\n",
      "True\n"
     ]
    }
   ],
   "source": [
    "n = int(input('Enter an integer: '))\n",
    "print(n % 5 == 0)"
   ]
  },
  {
   "cell_type": "markdown",
   "id": "02ed51c1",
   "metadata": {},
   "source": [
    "# 5. Conditional-1"
   ]
  },
  {
   "cell_type": "markdown",
   "id": "cc96dc58",
   "metadata": {},
   "source": [
    "## 5.1. Lottery simulation with 3 integers\n",
    "- Winning numbers are 2, 3, 9\n",
    "- User's input is 3 digit separated by spaces\n",
    "- Print 'You won the lottery' if user correctly guesses the 3 numbers in any order\n",
    "\n",
    "Output:\n",
    "```\n",
    "Please enter 3 lottery numbers : 2 9 3\n",
    "You won the lottery\n",
    "```"
   ]
  },
  {
   "cell_type": "code",
   "execution_count": 62,
   "id": "1da62e0f",
   "metadata": {},
   "outputs": [
    {
     "name": "stdout",
     "output_type": "stream",
     "text": [
      "Please enter 3 lottery numbers: 2 3 9\n",
      "2 3 9\n",
      "You win\n"
     ]
    }
   ],
   "source": [
    "win_num1 = 2\n",
    "win_num2 = 9\n",
    "win_num3 = 3\n",
    "count = 0\n",
    "\n",
    "n1, n2, n3 = input('Please enter 3 lottery numbers: ').split()\n",
    "print(n1,n2,n3)\n",
    "\n",
    "n1, n2, n3 = int(n1), int(n2), int(n3)\n",
    "\n",
    "if (n1 == win_num1 or n1 == win_num2 or n1 == win_num3) and (n2 == win_num1 or n2 == win_num2 or n2 == win_num3) and (n3 == win_num1 or n3 == win_num2 or n3 == win_num3) :\n",
    "    print('You win')"
   ]
  },
  {
   "cell_type": "markdown",
   "id": "4288ce2b",
   "metadata": {},
   "source": [
    "## 5.2. Get input from user and check if it is a multiple of both 3 and 5\n",
    "Output:\n",
    "```\n",
    "Enter integer: 30\n",
    "True\n",
    "```"
   ]
  },
  {
   "cell_type": "code",
   "execution_count": 63,
   "id": "bfcd29b4",
   "metadata": {},
   "outputs": [
    {
     "name": "stdout",
     "output_type": "stream",
     "text": [
      "Enter integer: 30\n",
      "True\n"
     ]
    }
   ],
   "source": [
    "n = int(input('Enter integer: '))\n",
    "print(n % 3 == 0 and n % 5 == 0)"
   ]
  },
  {
   "cell_type": "markdown",
   "id": "40998318",
   "metadata": {},
   "source": [
    "## 5.3. print 'You are a pro.' if game_score input is 1000 or more\n",
    "Output:\n",
    "```\n",
    "Enter game score: 1500\n",
    "You are a pro.\n",
    "```"
   ]
  },
  {
   "cell_type": "code",
   "execution_count": 64,
   "id": "2c0e5ea2",
   "metadata": {},
   "outputs": [
    {
     "name": "stdout",
     "output_type": "stream",
     "text": [
      "Enter game score: 1500\n",
      "You are a pro.\n"
     ]
    }
   ],
   "source": [
    "n = int(input('Enter game score: '))\n",
    "if n >= 1000 :\n",
    "    print('You are a pro.')"
   ]
  },
  {
   "cell_type": "markdown",
   "id": "76cf47fa",
   "metadata": {},
   "source": [
    "## 5.4. Get an integer input x between -100 and 100 and then:\n",
    "1. Print x on screen\n",
    "2. If x is a positive integer, print '... is a natural number' Otherwise, only print x as it is.\n",
    "\n",
    "Output:\n",
    "```\n",
    "Enter integer: 50\n",
    "\n",
    "x = 50\n",
    "50 is a natural number.\n",
    "```"
   ]
  },
  {
   "cell_type": "code",
   "execution_count": 1,
   "id": "43ffc563",
   "metadata": {},
   "outputs": [
    {
     "name": "stdout",
     "output_type": "stream",
     "text": [
      "Enter integer: 50\n",
      "x = 50\n",
      "50 is a natural number.\n"
     ]
    }
   ],
   "source": [
    "x = int(input('Enter integer: '))\n",
    "\n",
    "print('x =', x)\n",
    "if x > 0 :\n",
    "    print(x, 'is a natural number.')"
   ]
  },
  {
   "cell_type": "markdown",
   "id": "4fa339b5",
   "metadata": {},
   "source": [
    "## 5.5. Get age input from user and:\n",
    "- print 'Adult' if the age is 20 or above\n",
    "- print 'Youth' if the age is 10 or above but less than 20\n",
    "- print 'Kid' if the age is below 10\n",
    "**Note**: Use `if` only."
   ]
  },
  {
   "cell_type": "code",
   "execution_count": 2,
   "id": "a7ad035b",
   "metadata": {},
   "outputs": [
    {
     "name": "stdout",
     "output_type": "stream",
     "text": [
      "Enter your age: 25\n",
      "Adult\n"
     ]
    }
   ],
   "source": [
    "age = int(input('Enter your age: '))\n",
    "\n",
    "if age >= 20 :\n",
    "    print('Adult')\n",
    "if age >= 10 and age < 20 :\n",
    "    print('Youth')\n",
    "if age < 10 :\n",
    "    print('Kid')"
   ]
  },
  {
   "cell_type": "markdown",
   "id": "8d5e88d9",
   "metadata": {},
   "source": [
    "## 5.6. Get age and height inputs from user\n",
    "Print 'You can enter.' if the age is 65 years old or younger and height is 110 cm or above.\n",
    "\n",
    "Output:\n",
    "```\n",
    "Enter your age: 20\n",
    "Enter your height (in cm): 180\n",
    "\n",
    "You can enter.\n",
    "```"
   ]
  },
  {
   "cell_type": "code",
   "execution_count": 66,
   "id": "dcb17920",
   "metadata": {},
   "outputs": [
    {
     "name": "stdout",
     "output_type": "stream",
     "text": [
      "Enter your age: 20\n",
      "Enter your height (in cm): 180\n",
      "You can enter\n"
     ]
    }
   ],
   "source": [
    "age = int(input('Enter your age: '))\n",
    "height = int(input('Enter your height (in cm): '))\n",
    "\n",
    "if age <= 65 and height >= 110 :\n",
    "    print('You can enter')"
   ]
  },
  {
   "cell_type": "markdown",
   "id": "c06435ee",
   "metadata": {},
   "source": [
    "# 6. Conditional-2\n",
    "## 6.1. Odd or even number\n",
    "- Get user input as integer\n",
    "- If the number is negative. print '...is a negative number'\n",
    "- If the number is not negative. print '...is not a negative number'. Then decide if it is 'odd' or 'even'\n",
    "\n",
    "Output:\n",
    "```\n",
    "Enter an int: 100\n",
    "100 is not a negative number.\n",
    "Even\n",
    "```"
   ]
  },
  {
   "cell_type": "code",
   "execution_count": 68,
   "id": "ab601e8f",
   "metadata": {},
   "outputs": [
    {
     "name": "stdout",
     "output_type": "stream",
     "text": [
      "Enter an int: 100\n",
      "100 is not a negative number.\n",
      "Even\n"
     ]
    }
   ],
   "source": [
    "n = int(input('Enter an int: '))\n",
    "\n",
    "if n > 0 :\n",
    "    print(n,'is not a negative number.')\n",
    "    if n % 2 == 0 :\n",
    "        print('Even')\n",
    "    else :\n",
    "        print('Odd')"
   ]
  },
  {
   "cell_type": "markdown",
   "id": "73db7b66",
   "metadata": {},
   "source": [
    "## 6.2. Get input and determine of it is positive, negative or zero\n",
    "Output:\n",
    "```\n",
    "Enter a number: 0\n",
    "It is zero\n",
    "```"
   ]
  },
  {
   "cell_type": "code",
   "execution_count": 71,
   "id": "9aeecb0e",
   "metadata": {},
   "outputs": [
    {
     "name": "stdout",
     "output_type": "stream",
     "text": [
      "Enter a number: 0\n",
      "It is zero.\n"
     ]
    }
   ],
   "source": [
    "n = int(input('Enter a number: '))\n",
    "\n",
    "if n > 0 :\n",
    "    print('It is positive.')\n",
    "elif n < 0 :\n",
    "    print('It is negative.')\n",
    "else :\n",
    "    print('It is zero.')"
   ]
  },
  {
   "cell_type": "markdown",
   "id": "17b57fb6",
   "metadata": {},
   "source": [
    "## 6.3.🔥 Automatic menu ordering system\n",
    "- Print the menu\n",
    "- Let user choose an item\n",
    "- Let user input number of the chosen item\n",
    "- Print total amount\n",
    "- Let user input money\n",
    "- If money is not enough, print 'Not enough money'\n",
    "- Otherwise, print the input money and the change\n",
    "\n",
    "Output:\n",
    "```\n",
    "##############################\n",
    "It's David's fruit shop.\n",
    "1: Apple( Price: 5,000 won)\n",
    "2: Grape( Price: 6,000 won)\n",
    "3: Melon( Price: 8,000 won)\n",
    "4: Orange( Price: 2,000 won)\n",
    "##############################\n",
    "Enter number of the items (1 to 4): 1\n",
    "Enter the number of items: 2\n",
    "\n",
    "The fruit you chose is: Apple\n",
    "The price of: 5000\n",
    "Total price: 10000\n",
    "\n",
    "Please input the money: 12000\n",
    "Got 12000 won. The change is 2000 won.\n",
    "```"
   ]
  },
  {
   "cell_type": "code",
   "execution_count": 77,
   "id": "684003d6",
   "metadata": {},
   "outputs": [
    {
     "name": "stdout",
     "output_type": "stream",
     "text": [
      "##################################################\n",
      "It's Daivd's fruit shop.\n",
      "1: Apple( Price: 5,000 won)\n",
      "2: Grape( Price: 6,000 won)\n",
      "3: Melon( Price: 8,000 won)\n",
      "4: Orange( Price: 2,000 won)\n",
      "##################################################\n",
      "Enter number of the items (1 to 4): 1\n",
      "Enter amount of the item: 2\n",
      "\n",
      "The fruit you chose is: Apple\n",
      "The price of one fruit: 5000\n",
      "Total price: 10000\n",
      "\n",
      "Please input the money: 12000\n",
      "Got 12000 won. The change is 2000 won.\n"
     ]
    }
   ],
   "source": [
    "print('#' * 50)\n",
    "print(\"It's Daivd's fruit shop.\")\n",
    "print('1: Apple( Price: 5,000 won)')\n",
    "print('2: Grape( Price: 6,000 won)')\n",
    "print('3: Melon( Price: 8,000 won)')\n",
    "print('4: Orange( Price: 2,000 won)')\n",
    "print('#' * 50)\n",
    "\n",
    "item = int(input('Enter number of the items (1 to 4): '))\n",
    "if item == 1 :\n",
    "    fruit = 'Apple'\n",
    "    price = 5000\n",
    "elif item == 2 :\n",
    "    fruit = 'Grape'\n",
    "    price = 6000\n",
    "elif item == 3 :\n",
    "    fruit = 'Melon'\n",
    "    price = 8000\n",
    "elif item == 4 :\n",
    "    fruit = 'Orange'\n",
    "    price = 2000\n",
    "else :\n",
    "    print('Invalid item input')\n",
    "\n",
    "amount = int(input('Enter amount of the item: '))\n",
    "if amount < 1 and amount > 10 :\n",
    "    print('Invalid amount')\n",
    "\n",
    "print()\n",
    "print('The fruit you chose is:', fruit)\n",
    "print('The price of one fruit:', price)\n",
    "total = price * amount\n",
    "print('Total price:', total)\n",
    "\n",
    "print()\n",
    "money = int(input('Please input the money: '))\n",
    "change = money - total\n",
    "if change >= 0 :\n",
    "    print('Got {} won. The change is {} won.'.format(money, change))\n",
    "else :\n",
    "    print('Not enough money. You own me {} won.'.format(abs(change)))"
   ]
  },
  {
   "cell_type": "markdown",
   "id": "6c62ecf9",
   "metadata": {},
   "source": [
    "## 6.4.🔥 GPA calculator\n",
    "- Get user input score and print their grade accordingly\n",
    "- if 90 and above, print 'A'\n",
    "- if below 90 and above 80, print 'B'\n",
    "- if below 80 and above 70, print 'C'\n",
    "- if below 70 and above 60, print 'D'\n",
    "- if below 60, print 'F'\n",
    "\n",
    "Output:\n",
    "```\n",
    "Enter your grade: 88\n",
    "Grade: B\n",
    "```"
   ]
  },
  {
   "cell_type": "code",
   "execution_count": 80,
   "id": "31016e6e",
   "metadata": {},
   "outputs": [
    {
     "name": "stdout",
     "output_type": "stream",
     "text": [
      "Enter your score: 88\n",
      "B\n"
     ]
    }
   ],
   "source": [
    "score = int(input('Enter your score: '))\n",
    "grade = ''\n",
    "\n",
    "if score >= 90 :\n",
    "    grade = 'A'\n",
    "elif score >= 80 :\n",
    "    grade = 'B'\n",
    "elif score >= 70 :\n",
    "    grade = 'C'\n",
    "elif score >= 60 :\n",
    "    grade = 'D'\n",
    "else :\n",
    "    grade = 'F'\n",
    "\n",
    "print(grade)"
   ]
  },
  {
   "cell_type": "markdown",
   "id": "d6e7db95",
   "metadata": {},
   "source": [
    "## 6.5. Get user input as single alphabet character\n",
    "- if input is 'a, e, i, o or u' print 'It is a vowel'\n",
    "- Otherwise, print 'It is a consonant.'\n",
    "\n",
    "Output:\n",
    "```\n",
    "Enter the alphabet: k\n",
    "k is a consonant\n",
    "```"
   ]
  },
  {
   "cell_type": "code",
   "execution_count": 82,
   "id": "3ae1ce47",
   "metadata": {},
   "outputs": [
    {
     "name": "stdout",
     "output_type": "stream",
     "text": [
      "Enter an alphabet: k\n",
      "k is a consonent\n"
     ]
    }
   ],
   "source": [
    "x = input('Enter an alphabet: ')\n",
    "\n",
    "if x == 'a' or x == 'e' or x == 'i' or x == 'o' or x == 'u' :\n",
    "    print(x, 'is a vowel')\n",
    "else :\n",
    "    print(x, 'is a consonent')"
   ]
  },
  {
   "cell_type": "markdown",
   "id": "4f08cabb",
   "metadata": {},
   "source": [
    "## 6.6. check if a is a multiple of b\n",
    "Get user inputs as `a` and `b` (separated by space)\n",
    "\n",
    "Output:\n",
    "```\n",
    "Write 2 integers: 30 3\n",
    "\n",
    "30 is a multiple of 3\n",
    "```"
   ]
  },
  {
   "cell_type": "code",
   "execution_count": 84,
   "id": "79964886",
   "metadata": {},
   "outputs": [
    {
     "name": "stdout",
     "output_type": "stream",
     "text": [
      "Write 2 integers: 30 3\n",
      "30 is a multiple of 3\n"
     ]
    }
   ],
   "source": [
    "a, b = input('Write 2 integers: ').split()\n",
    "a, b = int(a), int(b)\n",
    "\n",
    "if a % b == 0 :\n",
    "    print(a, 'is a multiple of', b)\n",
    "else :\n",
    "    print(a, 'is not a multiple of', b)"
   ]
  },
  {
   "cell_type": "markdown",
   "id": "d4510163",
   "metadata": {},
   "source": [
    "## 6.7. Penalty shootout:\n",
    "- Draw the flowchart FIRST 🔥\n",
    "- Cannot use `list` data type\n",
    "- Computer will be the goal keeper\n",
    "- Print 'GOAL!' if user score the goal\n",
    "- Else, print 'No goal'\n",
    "\n",
    "Output:\n",
    "```\n",
    "Where do you want to shoot? (left, center, right): right\n",
    "\n",
    "No goal\n",
    "Defense position of computer: right\n",
    "```"
   ]
  },
  {
   "cell_type": "code",
   "execution_count": 2,
   "id": "74b8070c",
   "metadata": {},
   "outputs": [
    {
     "name": "stdout",
     "output_type": "stream",
     "text": [
      "Where do you want to shoot? (left, center, right): center\n",
      "Goal\n",
      "Defense position of computer: left\n"
     ]
    }
   ],
   "source": [
    "from random import randint\n",
    "\n",
    "r = randint(0, 2)\n",
    "if r == 0 :\n",
    "    computer = 'left'\n",
    "elif r == 1 :\n",
    "    computer = 'center'\n",
    "else :\n",
    "    computer = 'right'\n",
    "    \n",
    "user = input('Where do you want to shoot? (left, center, right): ')\n",
    "\n",
    "if user == computer :\n",
    "    print('No Goal')\n",
    "else :\n",
    "    print('Goal')\n",
    "\n",
    "print('Defense position of computer:', computer)"
   ]
  },
  {
   "cell_type": "markdown",
   "id": "851a6378",
   "metadata": {},
   "source": [
    "## 6.8. Perform addition, subtraction, multiplication and division\n",
    "Output1:\n",
    "```\n",
    "1) addition, 2) subtraction, 3) multiplicatio, 4) division\n",
    "Please enter the number corresponding to the operation: 1\n",
    "please enter two numbers for the operation:\n",
    "10\n",
    "20\n",
    "\n",
    "10 + 20 = 30\n",
    "```\n",
    "\n",
    "Output2:\n",
    "```\n",
    "1) addition, 2) subtraction, 3) multiplicatio, 4) division\n",
    "Please enter the number corresponding to the operation: 5\n",
    "\n",
    "Invalid input.\n",
    "```"
   ]
  },
  {
   "cell_type": "code",
   "execution_count": 9,
   "id": "9756f733",
   "metadata": {},
   "outputs": [
    {
     "name": "stdout",
     "output_type": "stream",
     "text": [
      "1) addition, 2) subtraction, 3) multiplication 4) division: \n",
      "Please enter the number corresponding to the operation: 3\n",
      "Please enter two numbers for the operation: \n",
      "10\n",
      "20\n",
      "10 * 20 = 200\n"
     ]
    }
   ],
   "source": [
    "print('1) addition, 2) subtraction, 3) multiplication 4) division: ')\n",
    "o = int(input('Please enter the number corresponding to the operation: '))\n",
    "if o > 0 and o <= 4 :\n",
    "    print('Please enter two numbers for the operation: ')\n",
    "    a = int(input())\n",
    "    b = int(input())\n",
    "    \n",
    "    if o == 1 :\n",
    "        op = '+'\n",
    "        c = a + b\n",
    "    elif o == 2 :\n",
    "        op = '-'\n",
    "        c = a - b\n",
    "    elif o == 3 :\n",
    "        op = '*'\n",
    "        c = a * b\n",
    "    else :\n",
    "        op = '/'\n",
    "        c = a / b\n",
    "    \n",
    "    print('{} {} {} = {}'.format(a, op, b, c))\n",
    "    \n",
    "else :\n",
    "    print('Invalid input.')"
   ]
  },
  {
   "cell_type": "markdown",
   "id": "2fc04f74",
   "metadata": {},
   "source": [
    "## 6.9. Determine which quadrant the point belongs to\n",
    "The quadrants are defined as below:\n",
    "```\n",
    "            y\n",
    "2 quadrant  | 1 quadrant\n",
    "____________|____________x\n",
    "            |\n",
    "3 quadrant  | 4 quadrant\n",
    "```\n",
    "\n",
    "Output:\n",
    "```\n",
    "Enter x,y coordinates: -5 6\n",
    "\n",
    "In the 2nd quadrant\n",
    "```"
   ]
  },
  {
   "cell_type": "code",
   "execution_count": 10,
   "id": "ea897b56",
   "metadata": {},
   "outputs": [
    {
     "name": "stdout",
     "output_type": "stream",
     "text": [
      "Enter x, y, coordinates: 5 6\n",
      "In the 1st quadrant\n"
     ]
    }
   ],
   "source": [
    "x, y = input('Enter x, y, coordinates: ').split()\n",
    "x, y = int(x), int(y)\n",
    "\n",
    "if x > 0 and y > 0 :\n",
    "    pos = '1st'\n",
    "elif x < 0 and y > 0 :\n",
    "    pos = '2nd'\n",
    "elif x < 0 and y < 0 :\n",
    "    pos = '3rd'\n",
    "elif x > 0 and y < 0 :\n",
    "    pos = '4th'\n",
    "else :\n",
    "    pos = 'origin'\n",
    "    \n",
    "print('In the {} quadrant'.format(pos))"
   ]
  },
  {
   "cell_type": "markdown",
   "id": "1d1e1a89",
   "metadata": {},
   "source": [
    "## 6.10. Menu ordering program\n",
    "- Present the user with menu options and let them choose one\n",
    "- If an alphabet that's not in the menu is entered, output 'Please enter the menu again.' and prompt for input again.\n",
    "\n",
    "Output:\n",
    "```\n",
    "Welcome to Yummy restaurant. Here is the menu.\n",
    "- Burger(enter 'b')\n",
    "- Chicken(enter 'c')\n",
    "- Pizza(enter 'p')\n",
    "\n",
    "Choose a menu : p\n",
    "\n",
    "You chose pizza.\n",
    "```"
   ]
  },
  {
   "cell_type": "code",
   "execution_count": 25,
   "id": "b5e64b18",
   "metadata": {},
   "outputs": [
    {
     "name": "stdout",
     "output_type": "stream",
     "text": [
      "Welcome to Yummy restaurant. Here is the menu.\n",
      "- Burger(enter 'b')\n",
      "- Chicken(enter 'c')\n",
      "- Pizza(enter 'p')\n",
      "\n",
      "Choose a menu : p\n",
      "\n",
      "You chose pizza.\n"
     ]
    }
   ],
   "source": [
    "print('Welcome to Yummy restaurant. Here is the menu.')\n",
    "print(\"- Burger(enter 'b')\\n- Chicken(enter 'c')\\n- Pizza(enter 'p')\\n\")\n",
    "choice = input('Choose a menu : ')\n",
    "\n",
    "print()\n",
    "if choice != 'b' and choice != 'c' and choice != 'p' :\n",
    "    print('Please enter the menu again.')\n",
    "else :\n",
    "    if choice == 'b' :\n",
    "        food = 'burger'\n",
    "    elif choice == 'c' :\n",
    "        food = 'chicken'\n",
    "    elif choice == 'p' :\n",
    "        food = 'pizza'  \n",
    "    print('You chose {}.'.format(food))"
   ]
  },
  {
   "cell_type": "markdown",
   "id": "c53a68ea",
   "metadata": {},
   "source": [
    "# 7. List data type"
   ]
  },
  {
   "cell_type": "code",
   "execution_count": null,
   "id": "1c86591b",
   "metadata": {},
   "outputs": [],
   "source": []
  },
  {
   "cell_type": "markdown",
   "id": "3635e220",
   "metadata": {},
   "source": [
    "## 7.1. Create a list called prime_list that contains prime numbers from 2 to 10.\n",
    "Print the first element of this list using list indexing.   \n",
    "Output:\n",
    "```\n",
    "1st element of prime_list: 2\n",
    "```"
   ]
  },
  {
   "cell_type": "code",
   "execution_count": 26,
   "id": "9e5bd1c4",
   "metadata": {},
   "outputs": [
    {
     "name": "stdout",
     "output_type": "stream",
     "text": [
      "2\n"
     ]
    }
   ],
   "source": [
    "prime_list = [2, 3, 5, 7]\n",
    "print(prime_list[0])"
   ]
  },
  {
   "cell_type": "markdown",
   "id": "44dd31e0",
   "metadata": {},
   "source": [
    "## 7.2. Create prime_list again.\n",
    "Use `append` method to add 11. Print the list before and after adding.   \n",
    "Output:\n",
    "```\n",
    "Prime numbers: [2,3,5,7]\n",
    "prime numbers after addition: [2,3,5,7,11]\n",
    "```"
   ]
  },
  {
   "cell_type": "code",
   "execution_count": 27,
   "id": "91ed18e8",
   "metadata": {},
   "outputs": [
    {
     "name": "stdout",
     "output_type": "stream",
     "text": [
      "[2, 3, 5, 7, 11]\n"
     ]
    }
   ],
   "source": [
    "prime_list = [2, 3, 5, 7]\n",
    "prime_list.append(11)\n",
    "print(prime_list)"
   ]
  },
  {
   "cell_type": "markdown",
   "id": "ea35f42f",
   "metadata": {},
   "source": [
    "## 7.3. Use nested for loop to multiply each element of list1 with each of list2\n",
    "Output:\n",
    "```\n",
    "list1 = [3,5,7]\n",
    "list2 = [2,3,4,5,6]\n",
    "\n",
    "3 * 2 = 6\n",
    "3 * 3 = 9\n",
    "3 * 4 = 12\n",
    "3 * 5 = 15\n",
    "3 * 6 = 18\n",
    "\n",
    "5 * 2 = 10\n",
    "5 * 3 = 15\n",
    "5 * 4 = 20\n",
    "5 * 5 = 25\n",
    "5 * 6 = 30\n",
    "\n",
    "7 * 2 = 14\n",
    "7 * 3 = 21\n",
    "7 * 4 = 28\n",
    "7 * 5 = 35\n",
    "7 * 6 = 42\n",
    "```"
   ]
  },
  {
   "cell_type": "code",
   "execution_count": 32,
   "id": "de0d065a",
   "metadata": {},
   "outputs": [
    {
     "name": "stdout",
     "output_type": "stream",
     "text": [
      "list1 = [3, 5, 7]\n",
      "list2 = [2, 3, 4, 5, 6]\n",
      "\n",
      "3 * 2 = 6\n",
      "3 * 3 = 9\n",
      "3 * 4 = 12\n",
      "3 * 5 = 15\n",
      "3 * 6 = 18\n",
      "\n",
      "5 * 2 = 10\n",
      "5 * 3 = 15\n",
      "5 * 4 = 20\n",
      "5 * 5 = 25\n",
      "5 * 6 = 30\n",
      "\n",
      "7 * 2 = 14\n",
      "7 * 3 = 21\n",
      "7 * 4 = 28\n",
      "7 * 5 = 35\n",
      "7 * 6 = 42\n",
      "\n"
     ]
    }
   ],
   "source": [
    "list1 = [3, 5, 7]\n",
    "list2 = [2, 3, 4, 5, 6]\n",
    "print('list1 =', list1)\n",
    "print('list2 =', list2)\n",
    "print()\n",
    "for i in list1 :\n",
    "    for j in list2 :\n",
    "        print('{} * {} = {}'.format(i, j, i * j))\n",
    "    print()"
   ]
  },
  {
   "attachments": {},
   "cell_type": "markdown",
   "id": "eebeda34",
   "metadata": {},
   "source": [
    "## 7.4. Average age of 4 people\n",
    "- Draw flow chart first 🔥\n",
    "- Create a list containing info of a person in the order of name, age, gender, height and weight:\n",
    "![Screenshot%202023-07-27%20at%205.26.23%20PM.png](attachment:Screenshot%202023-07-27%20at%205.26.23%20PM.png)\n",
    "\n",
    "Output:\n",
    "```\n",
    "Average age is 26.75.\n",
    "```\n"
   ]
  },
  {
   "cell_type": "code",
   "execution_count": 39,
   "id": "fd40540c",
   "metadata": {},
   "outputs": [
    {
     "name": "stdout",
     "output_type": "stream",
     "text": [
      "26.75\n"
     ]
    }
   ],
   "source": [
    "p1 = ['David Doe', 20, 1, 100.0, 100.0]\n",
    "p2 = ['John Smith', 25, 1, 170.0, 70.0]\n",
    "p3 = ['Jane Carter', 22, 0, 169.0, 60.0]\n",
    "p4 = ['Peter Kelly', 40, 1, 150.0, 50.0]\n",
    "\n",
    "p_all = p1 + p2 + p3 + p4\n",
    "count = len(p_all) / len(p1)\n",
    "print(sum(p_all[1::5]) / count)"
   ]
  },
  {
   "cell_type": "markdown",
   "id": "7f24a301",
   "metadata": {},
   "source": [
    "## 7.5. Find the shortest string\n",
    "- Define s_list = ['abc', 'bcd', 'bcdefg', 'abba', 'cddc', 'opq']\n",
    "- Without using `min` or `sort` method, output the shortest string.\n",
    "- Use loop.\n",
    "\n",
    "Output:\n",
    "```\n",
    "The shortest string: abc\n",
    "```"
   ]
  },
  {
   "cell_type": "code",
   "execution_count": 60,
   "id": "dd39e240",
   "metadata": {},
   "outputs": [
    {
     "name": "stdout",
     "output_type": "stream",
     "text": [
      "abc\n"
     ]
    }
   ],
   "source": [
    "s_list = ['abc', 'bcd', 'bcdefg', 'abba', 'cddc', 'opq']\n",
    "shortest = s_list[0]\n",
    "for i in s_list:\n",
    "    if len(i) < len(shortest) :\n",
    "        shortest = i\n",
    "print(shortest)"
   ]
  },
  {
   "cell_type": "markdown",
   "id": "5b5f6147",
   "metadata": {},
   "source": [
    "## 7.6. Now output the longest string\n",
    "Output:\n",
    "```\n",
    "The longest string: bcdefg\n",
    "```"
   ]
  },
  {
   "cell_type": "code",
   "execution_count": 61,
   "id": "adcc32c0",
   "metadata": {},
   "outputs": [
    {
     "name": "stdout",
     "output_type": "stream",
     "text": [
      "bcdefg\n"
     ]
    }
   ],
   "source": [
    "s_list = ['abc', 'bcd', 'bcdefg', 'abba', 'cddc', 'opq']\n",
    "shortest = s_list[0]\n",
    "for i in s_list:\n",
    "    if len(i) > len(shortest) :\n",
    "        shortest = i\n",
    "print(shortest)"
   ]
  },
  {
   "cell_type": "markdown",
   "id": "6cfb40b9",
   "metadata": {},
   "source": [
    "## 7.7. Now output 3 shortest strings\n",
    "- Hint: use `sort(key=len)` method\n",
    "\n",
    "Output:\n",
    "```\n",
    "The shortest strings: 'abc', 'bcd', 'opq'\n",
    "```"
   ]
  },
  {
   "cell_type": "code",
   "execution_count": 31,
   "id": "a0348726",
   "metadata": {},
   "outputs": [
    {
     "name": "stdout",
     "output_type": "stream",
     "text": [
      "['abc', 'bcd', 'opq']\n"
     ]
    }
   ],
   "source": [
    "s_list = ['abc', 'bcd', 'bcdefg', 'abba', 'cddc', 'opq']\n",
    "s_list.sort(key = len)\n",
    "shortest_strings = []\n",
    "shortest_strings.append(s_list[0])\n",
    "for i in range(1, len(s_list)) :\n",
    "    if len(shortest_strings[0]) == len(s_list[i]) :\n",
    "        shortest_strings.append(s_list[i])\n",
    "\n",
    "print(shortest_strings)\n",
    "    "
   ]
  },
  {
   "cell_type": "markdown",
   "id": "ce4ea1bf",
   "metadata": {},
   "source": [
    "# 8. loop-1: `for` loop\n",
    "## 8.1. Calculate the factorial based on user input\n",
    "Output:\n",
    "```\n",
    "Enter a number: 5\n",
    "5! = 120\n",
    "```"
   ]
  },
  {
   "cell_type": "code",
   "execution_count": 34,
   "id": "68f6b5fb",
   "metadata": {},
   "outputs": [
    {
     "name": "stdout",
     "output_type": "stream",
     "text": [
      "Enter a number: 5\n",
      "5! = 120\n"
     ]
    }
   ],
   "source": [
    "n = int(input('Enter a number: '))\n",
    "fact = 1\n",
    "for i in range(1, n + 1) :\n",
    "    fact *= i\n",
    "print('{}! = {}'.format(n, fact))"
   ]
  },
  {
   "cell_type": "markdown",
   "id": "59d72f06",
   "metadata": {},
   "source": [
    "## 8.2. Print all bts members using `for` loop\n",
    "- Create a list bts = ['V', 'J-Hope', 'RM', 'Jungkook', 'Jin', 'Jimin', 'Suga']\n",
    "- Use for loop and print all of them\n",
    "\n"
   ]
  },
  {
   "cell_type": "code",
   "execution_count": 35,
   "id": "8e971976",
   "metadata": {},
   "outputs": [
    {
     "name": "stdout",
     "output_type": "stream",
     "text": [
      "V\n",
      "J-Hope\n",
      "RM\n",
      "Jungkook\n",
      "Jin\n",
      "Jimin\n",
      "Suga\n"
     ]
    }
   ],
   "source": [
    "bts = ['V', 'J-Hope', 'RM', 'Jungkook', 'Jin', 'Jimin', 'Suga']\n",
    "for i in bts :\n",
    "    print(i)"
   ]
  },
  {
   "cell_type": "markdown",
   "id": "3c3888f8",
   "metadata": {},
   "source": [
    "## 8.3. Sum of number from 1 to 100\n",
    "- DO NOT use `sum` function\n",
    "- Use `for` loop\n",
    "\n",
    "Output:\n",
    "```\n",
    "Sum of integers from 1 to 100: 5050\n",
    "```"
   ]
  },
  {
   "cell_type": "code",
   "execution_count": 36,
   "id": "aebcc95a",
   "metadata": {},
   "outputs": [
    {
     "name": "stdout",
     "output_type": "stream",
     "text": [
      "Sum of integers from 1 to 100: 5050\n"
     ]
    }
   ],
   "source": [
    "summ = 0\n",
    "for i in range(1, 101) :\n",
    "    summ += i\n",
    "print('Sum of integers from 1 to 100:', summ)"
   ]
  },
  {
   "cell_type": "markdown",
   "id": "1755fb31",
   "metadata": {},
   "source": [
    "## 8.4. Print sum of even numbers from 1 to 100\n",
    "- Use `range` function\n",
    "\n",
    "Output:\n",
    "```\n",
    "Sum of even numbers from 1 to 100: 2550\n",
    "```"
   ]
  },
  {
   "cell_type": "code",
   "execution_count": 39,
   "id": "10606e17",
   "metadata": {},
   "outputs": [
    {
     "name": "stdout",
     "output_type": "stream",
     "text": [
      "Sum of even numbers from 1 to 100: 2550\n"
     ]
    }
   ],
   "source": [
    "summ = 0\n",
    "for i in range(2, 101, 2) :\n",
    "    summ += i\n",
    "print('Sum of even numbers from 1 to 100:', summ)"
   ]
  },
  {
   "cell_type": "markdown",
   "id": "182ec4c0",
   "metadata": {},
   "source": [
    "## 8.5. Print sum of odd numbers from 1 to 100\n",
    "Output:\n",
    "```\n",
    "Sum of odd numbers from 1 to 100: 2500\n",
    "```"
   ]
  },
  {
   "cell_type": "code",
   "execution_count": 40,
   "id": "c2406a7d",
   "metadata": {},
   "outputs": [
    {
     "name": "stdout",
     "output_type": "stream",
     "text": [
      "Sum of even numbers from 1 to 100: 2500\n"
     ]
    }
   ],
   "source": [
    "summ = 0\n",
    "for i in range(1, 100, 2) :\n",
    "    summ += i\n",
    "print('Sum of even numbers from 1 to 100:', summ)"
   ]
  },
  {
   "attachments": {},
   "cell_type": "markdown",
   "id": "dd0dee34",
   "metadata": {},
   "source": [
    "## 8.6. Sandwich combination\n",
    "- Draw the flow chart 🔥\n",
    "- The available data are as follow:\n",
    "![Screenshot%202023-07-27%20at%205.28.03%20PM.png](attachment:Screenshot%202023-07-27%20at%205.28.03%20PM.png)\n",
    "\n",
    "Output:\n",
    "```\n",
    "Possible combinations of David's sandwich shop:\n",
    "Rye bread + Meatball + Lettuce + Mayonnaise\n",
    "Rye bread + Meatball + Lettuce + Honey mustard\n",
    ".....\n",
    "```"
   ]
  },
  {
   "cell_type": "code",
   "execution_count": 41,
   "id": "e3e1e161",
   "metadata": {},
   "outputs": [
    {
     "name": "stdout",
     "output_type": "stream",
     "text": [
      "Rye bread + Meatball + Lettuce + Mayonnaise\n",
      "Rye bread + Meatball + Lettuce + Honey mustard\n",
      "Rye bread + Meatball + Lettuce + Chili sauce\n",
      "Rye bread + Meatball + Tomato + Mayonnaise\n",
      "Rye bread + Meatball + Tomato + Honey mustard\n",
      "Rye bread + Meatball + Tomato + Chili sauce\n",
      "Rye bread + Meatball + Cucumber + Mayonnaise\n",
      "Rye bread + Meatball + Cucumber + Honey mustard\n",
      "Rye bread + Meatball + Cucumber + Chili sauce\n",
      "Rye bread + Sausages + Lettuce + Mayonnaise\n",
      "Rye bread + Sausages + Lettuce + Honey mustard\n",
      "Rye bread + Sausages + Lettuce + Chili sauce\n",
      "Rye bread + Sausages + Tomato + Mayonnaise\n",
      "Rye bread + Sausages + Tomato + Honey mustard\n",
      "Rye bread + Sausages + Tomato + Chili sauce\n",
      "Rye bread + Sausages + Cucumber + Mayonnaise\n",
      "Rye bread + Sausages + Cucumber + Honey mustard\n",
      "Rye bread + Sausages + Cucumber + Chili sauce\n",
      "Rye bread + Chicken breast + Lettuce + Mayonnaise\n",
      "Rye bread + Chicken breast + Lettuce + Honey mustard\n",
      "Rye bread + Chicken breast + Lettuce + Chili sauce\n",
      "Rye bread + Chicken breast + Tomato + Mayonnaise\n",
      "Rye bread + Chicken breast + Tomato + Honey mustard\n",
      "Rye bread + Chicken breast + Tomato + Chili sauce\n",
      "Rye bread + Chicken breast + Cucumber + Mayonnaise\n",
      "Rye bread + Chicken breast + Cucumber + Honey mustard\n",
      "Rye bread + Chicken breast + Cucumber + Chili sauce\n",
      "\n",
      "Wheat + Meatball + Lettuce + Mayonnaise\n",
      "Wheat + Meatball + Lettuce + Honey mustard\n",
      "Wheat + Meatball + Lettuce + Chili sauce\n",
      "Wheat + Meatball + Tomato + Mayonnaise\n",
      "Wheat + Meatball + Tomato + Honey mustard\n",
      "Wheat + Meatball + Tomato + Chili sauce\n",
      "Wheat + Meatball + Cucumber + Mayonnaise\n",
      "Wheat + Meatball + Cucumber + Honey mustard\n",
      "Wheat + Meatball + Cucumber + Chili sauce\n",
      "Wheat + Sausages + Lettuce + Mayonnaise\n",
      "Wheat + Sausages + Lettuce + Honey mustard\n",
      "Wheat + Sausages + Lettuce + Chili sauce\n",
      "Wheat + Sausages + Tomato + Mayonnaise\n",
      "Wheat + Sausages + Tomato + Honey mustard\n",
      "Wheat + Sausages + Tomato + Chili sauce\n",
      "Wheat + Sausages + Cucumber + Mayonnaise\n",
      "Wheat + Sausages + Cucumber + Honey mustard\n",
      "Wheat + Sausages + Cucumber + Chili sauce\n",
      "Wheat + Chicken breast + Lettuce + Mayonnaise\n",
      "Wheat + Chicken breast + Lettuce + Honey mustard\n",
      "Wheat + Chicken breast + Lettuce + Chili sauce\n",
      "Wheat + Chicken breast + Tomato + Mayonnaise\n",
      "Wheat + Chicken breast + Tomato + Honey mustard\n",
      "Wheat + Chicken breast + Tomato + Chili sauce\n",
      "Wheat + Chicken breast + Cucumber + Mayonnaise\n",
      "Wheat + Chicken breast + Cucumber + Honey mustard\n",
      "Wheat + Chicken breast + Cucumber + Chili sauce\n",
      "\n",
      "White + Meatball + Lettuce + Mayonnaise\n",
      "White + Meatball + Lettuce + Honey mustard\n",
      "White + Meatball + Lettuce + Chili sauce\n",
      "White + Meatball + Tomato + Mayonnaise\n",
      "White + Meatball + Tomato + Honey mustard\n",
      "White + Meatball + Tomato + Chili sauce\n",
      "White + Meatball + Cucumber + Mayonnaise\n",
      "White + Meatball + Cucumber + Honey mustard\n",
      "White + Meatball + Cucumber + Chili sauce\n",
      "White + Sausages + Lettuce + Mayonnaise\n",
      "White + Sausages + Lettuce + Honey mustard\n",
      "White + Sausages + Lettuce + Chili sauce\n",
      "White + Sausages + Tomato + Mayonnaise\n",
      "White + Sausages + Tomato + Honey mustard\n",
      "White + Sausages + Tomato + Chili sauce\n",
      "White + Sausages + Cucumber + Mayonnaise\n",
      "White + Sausages + Cucumber + Honey mustard\n",
      "White + Sausages + Cucumber + Chili sauce\n",
      "White + Chicken breast + Lettuce + Mayonnaise\n",
      "White + Chicken breast + Lettuce + Honey mustard\n",
      "White + Chicken breast + Lettuce + Chili sauce\n",
      "White + Chicken breast + Tomato + Mayonnaise\n",
      "White + Chicken breast + Tomato + Honey mustard\n",
      "White + Chicken breast + Tomato + Chili sauce\n",
      "White + Chicken breast + Cucumber + Mayonnaise\n",
      "White + Chicken breast + Cucumber + Honey mustard\n",
      "White + Chicken breast + Cucumber + Chili sauce\n",
      "\n"
     ]
    }
   ],
   "source": [
    "bread = ['Rye bread', 'Wheat', 'White']\n",
    "meat = ['Meatball', 'Sausages', 'Chicken breast']\n",
    "vegetable = ['Lettuce', 'Tomato', 'Cucumber']\n",
    "sauce = ['Mayonnaise', 'Honey mustard', 'Chili sauce']\n",
    "\n",
    "for b in bread :\n",
    "    for m in meat :\n",
    "        for v in vegetable :\n",
    "            for s in sauce :\n",
    "                print('{} + {} + {} + {}'.format(b, m, v, s))\n",
    "    print()"
   ]
  },
  {
   "cell_type": "markdown",
   "id": "74bf0557",
   "metadata": {},
   "source": [
    "## 8.7.🔥 Snake matrix hehe\n",
    "Output:\n",
    "```\n",
    "Enter n: 4\n",
    "\n",
    "1  2  3  4\n",
    "8  7  6  5\n",
    "9  10 11 12\n",
    "16 15 14 13\n",
    "```"
   ]
  },
  {
   "cell_type": "code",
   "execution_count": 101,
   "id": "de5ba385",
   "metadata": {},
   "outputs": [
    {
     "name": "stdout",
     "output_type": "stream",
     "text": [
      "Enter n: 4\n",
      "1\t2\t3\t4\t\n",
      "8\t7\t6\t5\t\n",
      "9\t10\t11\t12\t\n",
      "16\t15\t14\t13\t\n"
     ]
    }
   ],
   "source": [
    "n = int(input('Enter n: '))\n",
    "count = 1\n",
    "for i in range(1, n + 1) :\n",
    "    \n",
    "    if i % 2 == 1 :\n",
    "        for j in range(1, n + 1) :\n",
    "            print(count, end = '\\t')\n",
    "            count += 1\n",
    "    \n",
    "    else :\n",
    "        for j in range(n, 0, -1) :\n",
    "            print(count + j - 1, end = '\\t')\n",
    "        \n",
    "        count += n\n",
    "    \n",
    "    print()"
   ]
  },
  {
   "cell_type": "markdown",
   "id": "91a75909",
   "metadata": {},
   "source": [
    "# 9. Loop-2: `while` loop\n",
    "## 9.1. Prompt user input again and again until the condition is satisfied:\n",
    "- Given a list of ['rock', 'paper', 'scissors']\n",
    "- If the user input something different from these elements in the list, ask them to prompt again\n",
    "- If the user input correctly, exit the program\n",
    "\n",
    "Output:\n",
    "```\n",
    "Choose between rock, paper, scissors: ggwp\n",
    "Choose between rock, paper, scissors: blah\n",
    "Choose between rock, paper, scissors: rock\n",
    "Ok good. Bye!\n",
    "```"
   ]
  },
  {
   "cell_type": "code",
   "execution_count": 105,
   "id": "5dbc222d",
   "metadata": {},
   "outputs": [
    {
     "name": "stdout",
     "output_type": "stream",
     "text": [
      "Choose between rock, paper, scissors:ggwp\n",
      "Choose between rock, paper, scissors:blah\n",
      "Choose between rock, paper, scissors:rock\n",
      "Ok good. Bye!\n"
     ]
    }
   ],
   "source": [
    "choice = ['rock', 'paper', 'scissors']\n",
    "\n",
    "while True :\n",
    "    user = input('Choose between rock, paper, scissors:')\n",
    "    if user in choice :\n",
    "        print('Ok good. Bye!')\n",
    "        break"
   ]
  },
  {
   "cell_type": "markdown",
   "id": "e04804ea",
   "metadata": {},
   "source": [
    "## 9.2. Use `while` to create a multiplication table of 2\n",
    "Output:\n",
    "```\n",
    "2 * 1 = 2\n",
    "2 * 2 = 4\n",
    "2 * 3 = 6\n",
    "2 * 4 = 8\n",
    "2 * 5 = 10\n",
    "2 * 6 = 12\n",
    "2 * 7 = 14\n",
    "2 * 8 = 16\n",
    "2 * 9 = 18\n",
    "```"
   ]
  },
  {
   "cell_type": "code",
   "execution_count": 2,
   "id": "96f31b0a",
   "metadata": {},
   "outputs": [
    {
     "name": "stdout",
     "output_type": "stream",
     "text": [
      "2 * 1 = 2\n",
      "2 * 2 = 4\n",
      "2 * 3 = 6\n",
      "2 * 4 = 8\n",
      "2 * 5 = 10\n",
      "2 * 6 = 12\n",
      "2 * 7 = 14\n",
      "2 * 8 = 16\n",
      "2 * 9 = 18\n"
     ]
    }
   ],
   "source": [
    "i = 1 \n",
    "n = 2\n",
    "while i < 10 :\n",
    "    print('{} * {} = {}'.format(n, i, n * i))\n",
    "    i += 1"
   ]
  },
  {
   "cell_type": "markdown",
   "id": "63bd3fb6",
   "metadata": {},
   "source": [
    "## 9.3. Create multiplication table of 1 to 9\n",
    "\n",
    "Output:\n",
    "```\n",
    "1 * 1 = 1\n",
    "1 * 2 = 2\n",
    "1 * 3 = 3\n",
    "1 * 4 = 4\n",
    "1 * 5 = 5\n",
    "1 * 6 = 6\n",
    "1 * 7 = 7\n",
    "1 * 8 = 8\n",
    "1 * 9 = 9\n",
    "\n",
    "2 * 1 = 2\n",
    "2 * 2 = 4\n",
    "2 * 3 = 6\n",
    "2 * 4 = 8\n",
    "2 * 5 = 10\n",
    "...\n",
    "```"
   ]
  },
  {
   "cell_type": "code",
   "execution_count": 12,
   "id": "2d915e8e",
   "metadata": {},
   "outputs": [
    {
     "name": "stdout",
     "output_type": "stream",
     "text": [
      "1 * 1 = 1\n",
      "1 * 2 = 2\n",
      "1 * 3 = 3\n",
      "1 * 4 = 4\n",
      "1 * 5 = 5\n",
      "1 * 6 = 6\n",
      "1 * 7 = 7\n",
      "1 * 8 = 8\n",
      "1 * 9 = 9\n",
      "\n",
      "2 * 1 = 2\n",
      "2 * 2 = 4\n",
      "2 * 3 = 6\n",
      "2 * 4 = 8\n",
      "2 * 5 = 10\n",
      "2 * 6 = 12\n",
      "2 * 7 = 14\n",
      "2 * 8 = 16\n",
      "2 * 9 = 18\n",
      "\n",
      "3 * 1 = 3\n",
      "3 * 2 = 6\n",
      "3 * 3 = 9\n",
      "3 * 4 = 12\n",
      "3 * 5 = 15\n",
      "3 * 6 = 18\n",
      "3 * 7 = 21\n",
      "3 * 8 = 24\n",
      "3 * 9 = 27\n",
      "\n",
      "4 * 1 = 4\n",
      "4 * 2 = 8\n",
      "4 * 3 = 12\n",
      "4 * 4 = 16\n",
      "4 * 5 = 20\n",
      "4 * 6 = 24\n",
      "4 * 7 = 28\n",
      "4 * 8 = 32\n",
      "4 * 9 = 36\n",
      "\n",
      "5 * 1 = 5\n",
      "5 * 2 = 10\n",
      "5 * 3 = 15\n",
      "5 * 4 = 20\n",
      "5 * 5 = 25\n",
      "5 * 6 = 30\n",
      "5 * 7 = 35\n",
      "5 * 8 = 40\n",
      "5 * 9 = 45\n",
      "\n",
      "6 * 1 = 6\n",
      "6 * 2 = 12\n",
      "6 * 3 = 18\n",
      "6 * 4 = 24\n",
      "6 * 5 = 30\n",
      "6 * 6 = 36\n",
      "6 * 7 = 42\n",
      "6 * 8 = 48\n",
      "6 * 9 = 54\n",
      "\n",
      "7 * 1 = 7\n",
      "7 * 2 = 14\n",
      "7 * 3 = 21\n",
      "7 * 4 = 28\n",
      "7 * 5 = 35\n",
      "7 * 6 = 42\n",
      "7 * 7 = 49\n",
      "7 * 8 = 56\n",
      "7 * 9 = 63\n",
      "\n",
      "8 * 1 = 8\n",
      "8 * 2 = 16\n",
      "8 * 3 = 24\n",
      "8 * 4 = 32\n",
      "8 * 5 = 40\n",
      "8 * 6 = 48\n",
      "8 * 7 = 56\n",
      "8 * 8 = 64\n",
      "8 * 9 = 72\n",
      "\n",
      "9 * 1 = 9\n",
      "9 * 2 = 18\n",
      "9 * 3 = 27\n",
      "9 * 4 = 36\n",
      "9 * 5 = 45\n",
      "9 * 6 = 54\n",
      "9 * 7 = 63\n",
      "9 * 8 = 72\n",
      "9 * 9 = 81\n",
      "\n"
     ]
    }
   ],
   "source": [
    "i = 1\n",
    "j = 0\n",
    "while i < 10 :\n",
    "    j = 1\n",
    "    while j < 10 :\n",
    "        print('{} * {} = {}'.format(i, j, i * j))\n",
    "        j += 1\n",
    "    i += 1\n",
    "    print()"
   ]
  },
  {
   "cell_type": "markdown",
   "id": "409afa03",
   "metadata": {},
   "source": [
    "## 9.4. Snail in the well\n",
    "- Draw flow chart first 🔥\n",
    "- How many days can the snail get out of the well?\n",
    "- The well is 30 deep\n",
    "- In one day, snail can climb up 3 in the morning and slide down 2 in the afternoon\n",
    "\n",
    "Output:\n",
    "```\n",
    "day : 1 position of snail: 3m\n",
    "day : 2 position of snail: 4m\n",
    "....\n",
    "day : 28 position of snail: 30m\n",
    "\n",
    "It took 28 days to escape the well\n",
    "```"
   ]
  },
  {
   "cell_type": "code",
   "execution_count": 21,
   "id": "43fe3d3f",
   "metadata": {},
   "outputs": [
    {
     "name": "stdout",
     "output_type": "stream",
     "text": [
      "day : 1 position of snail: 3m\n",
      "day : 2 position of snail: 4m\n",
      "day : 3 position of snail: 5m\n",
      "day : 4 position of snail: 6m\n",
      "day : 5 position of snail: 7m\n",
      "day : 6 position of snail: 8m\n",
      "day : 7 position of snail: 9m\n",
      "day : 8 position of snail: 10m\n",
      "day : 9 position of snail: 11m\n",
      "day : 10 position of snail: 12m\n",
      "day : 11 position of snail: 13m\n",
      "day : 12 position of snail: 14m\n",
      "day : 13 position of snail: 15m\n",
      "day : 14 position of snail: 16m\n",
      "day : 15 position of snail: 17m\n",
      "day : 16 position of snail: 18m\n",
      "day : 17 position of snail: 19m\n",
      "day : 18 position of snail: 20m\n",
      "day : 19 position of snail: 21m\n",
      "day : 20 position of snail: 22m\n",
      "day : 21 position of snail: 23m\n",
      "day : 22 position of snail: 24m\n",
      "day : 23 position of snail: 25m\n",
      "day : 24 position of snail: 26m\n",
      "day : 25 position of snail: 27m\n",
      "day : 26 position of snail: 28m\n",
      "day : 27 position of snail: 29m\n",
      "day : 28 position of snail: 30m\n",
      "\n",
      "It took 28 days to escape the well\n"
     ]
    }
   ],
   "source": [
    "current_pos = 0\n",
    "days = 1\n",
    "move_up = 3\n",
    "move_down = 2\n",
    "destination = 30\n",
    "\n",
    "while True :\n",
    "    current_pos += move_up\n",
    "    print('day : {} position of snail: {}m'.format(days, current_pos))\n",
    "    if current_pos >= destination :\n",
    "        break\n",
    "    current_pos -= move_down\n",
    "    days += 1\n",
    "    \n",
    "print('\\nIt took {} days to escape the well'.format(day))"
   ]
  },
  {
   "cell_type": "markdown",
   "id": "bbbb6ff2",
   "metadata": {},
   "source": [
    "## 9.5.🔥 Check if a number is palindrome\n",
    "Use only `while` loop\n",
    "\n",
    "Output:\n",
    "```\n",
    "Enter an integer: 135\n",
    "\n",
    "135 is not a palindrome number.\n",
    "```"
   ]
  },
  {
   "cell_type": "code",
   "execution_count": 9,
   "id": "f7439107",
   "metadata": {},
   "outputs": [
    {
     "name": "stdout",
     "output_type": "stream",
     "text": [
      "Enter an integer: 135\n",
      "5\n",
      "3\n",
      "1\n",
      "135 is not a palindrome number.\n"
     ]
    }
   ],
   "source": [
    "num = int(input(\"Enter an integer: \"))\n",
    "temp = num\n",
    "rev = 0\n",
    "while (num > 0) :\n",
    "    dig = num % 10\n",
    "    rev = rev * 10 + dig\n",
    "    num = num // 10\n",
    "    print(dig)\n",
    "\n",
    "if(temp == rev) :\n",
    "    print(temp,\"is a palindrome number.\")\n",
    "else:\n",
    "    print(temp,\"is not a palindrome number.\")"
   ]
  },
  {
   "cell_type": "markdown",
   "id": "ea82ec93",
   "metadata": {},
   "source": [
    "## 9.6. Guess a number between 1 to 100\n",
    "- Create a random number\n",
    "- Get user input until they guess the right number.\n",
    "- Print the number of attempts\n",
    "\n",
    "Output:\n",
    "```\n",
    "Guess a number between 1 to 100.\n",
    "Enter a num: 20\n",
    "Higher\n",
    "\n",
    "Enter a num: 30\n",
    "Lower\n",
    "\n",
    "Enter a num: 22\n",
    "Congrats!\n",
    "Number of attemps = 3\n",
    "```"
   ]
  },
  {
   "cell_type": "code",
   "execution_count": 34,
   "id": "3ee1f461",
   "metadata": {},
   "outputs": [
    {
     "name": "stdout",
     "output_type": "stream",
     "text": [
      "Guess a number between 1 to 100\n",
      "Enter a num: 50\n",
      "Lower\n",
      "\n",
      "Guess a number between 1 to 100\n",
      "Enter a num: 40\n",
      "Lower\n",
      "\n",
      "Guess a number between 1 to 100\n",
      "Enter a num: 30\n",
      "Lower\n",
      "\n",
      "Guess a number between 1 to 100\n",
      "Enter a num: 20\n",
      "Lower\n",
      "\n",
      "Guess a number between 1 to 100\n",
      "Enter a num: 10\n",
      "Lower\n",
      "\n",
      "Guess a number between 1 to 100\n",
      "Enter a num: 5\n",
      "Lower\n",
      "\n",
      "Guess a number between 1 to 100\n",
      "Enter a num: 4\n",
      "Congrats!\n",
      "Number of attemps = 7\n"
     ]
    }
   ],
   "source": [
    "from random import randint\n",
    "r = randint(1, 100)\n",
    "count = 0\n",
    "\n",
    "while True :\n",
    "    print('Guess a number between 1 to 100')\n",
    "    n = int(input('Enter a num: '))\n",
    "    if n > r :\n",
    "        print('Lower\\n')\n",
    "        count += 1\n",
    "    elif n < r :\n",
    "        print('Higher\\n')\n",
    "        count += 1\n",
    "    else :\n",
    "        print('Congrats!')\n",
    "        count += 1\n",
    "        print('Number of attemps =', count)\n",
    "        break"
   ]
  },
  {
   "cell_type": "markdown",
   "id": "ee99b78c",
   "metadata": {},
   "source": [
    "# 10. Tuple and Sequence\n",
    "## 10.1. "
   ]
  },
  {
   "cell_type": "code",
   "execution_count": 4,
   "id": "e56e1ba0",
   "metadata": {},
   "outputs": [
    {
     "name": "stdout",
     "output_type": "stream",
     "text": [
      "True\n",
      "False\n",
      "True\n",
      "('a', 'b', 'c', 'd', 'e')\n",
      "[('a', 'b', 'c', 'd', 'e')]\n",
      "<class 'list'>\n",
      "('a', 'b', 'c')\n"
     ]
    }
   ],
   "source": [
    "t1 = 'a', 'b', 'c'\n",
    "t2 = ('a', 'b', 'c')\n",
    "t3 = ('d', 'e')\n",
    "\n",
    "print(t1 == t2)\n",
    "\n",
    "print(t1 > t3)\n",
    "\n",
    "print(t1 < t3)\n",
    "\n",
    "print(t2 + t3)\n",
    "\n",
    "print([t2 + t3])\n",
    "print(type([t2 + t3]))\n",
    "\n",
    "print(t1)"
   ]
  },
  {
   "cell_type": "code",
   "execution_count": 14,
   "id": "9ec49788",
   "metadata": {},
   "outputs": [
    {
     "name": "stdout",
     "output_type": "stream",
     "text": [
      "In the past 10 days, 3 days had reduced sales compared to the previous day.\n"
     ]
    }
   ],
   "source": [
    "records = (100, 121, 120, 130, 140, 120, 122, 123, 190, 125)\n",
    "count = 0\n",
    "for i in range(len(records) - 1) :\n",
    "    if records[i] > records[i + 1] :\n",
    "        count += 1\n",
    "        \n",
    "print('In the past {} days, {} days had reduced sales compared to the previous day.'.format(len(records), count))"
   ]
  },
  {
   "cell_type": "markdown",
   "id": "8147ba50",
   "metadata": {},
   "source": [
    "## 10... Aging ratio calculator\n",
    "Draw flowchart first 🔥\n",
    "\n",
    "Output:\n",
    "```\n",
    "Villages A aging degree is 0.165\n",
    "Villages B aging degree is 0.003\n",
    "```"
   ]
  },
  {
   "cell_type": "code",
   "execution_count": 19,
   "id": "7c45f289",
   "metadata": {},
   "outputs": [
    {
     "name": "stdout",
     "output_type": "stream",
     "text": [
      "The aging degrees of villages A and B are 0.165 and 0.003 each.\n"
     ]
    }
   ],
   "source": [
    "populationA = (100, 150, 230, 120, 180, 100, 140, 95, 81, 21, 4)\n",
    "populationB = (300, 420, 530, 420, 400, 300, 40, 5, 1, 1, 1)\n",
    "\n",
    "oldA = sum(populationA[7:])\n",
    "oldB = sum(populationB[7:])\n",
    "\n",
    "sumA, sumB = sum(populationA), sum(populationB)\n",
    "\n",
    "oldRateA, oldRateB = oldA/sumA, oldB/sumB\n",
    "\n",
    "print('The aging degrees of villages A and B are {:5.3f} and {:5.3f} each.'.format(oldRateA, oldRateB))"
   ]
  },
  {
   "cell_type": "markdown",
   "id": "1f2dda60",
   "metadata": {},
   "source": [
    "## 10.5\n",
    "### Q1"
   ]
  },
  {
   "cell_type": "code",
   "execution_count": 4,
   "id": "26879c5c",
   "metadata": {},
   "outputs": [
    {
     "name": "stdout",
     "output_type": "stream",
     "text": [
      "Most Frequently occurring element: 9\n"
     ]
    }
   ],
   "source": [
    "tup = (1, 2, 5, 4, 3, 2, 1, 4, 7, 8, 9, 9, 3, 7, 3, 9)\n",
    "\n",
    "most_frequently = tup[0]\n",
    "\n",
    "for i in tup :\n",
    "    if most_frequently < i and tup.count(most_frequently) <= tup.count(i) :\n",
    "        most_frequently = i\n",
    "        \n",
    "print('Most Frequently occurring element:', most_frequently)"
   ]
  },
  {
   "cell_type": "markdown",
   "id": "2ec11601",
   "metadata": {},
   "source": [
    "### Q2"
   ]
  },
  {
   "cell_type": "code",
   "execution_count": 44,
   "id": "09b08092",
   "metadata": {},
   "outputs": [
    {
     "name": "stdout",
     "output_type": "stream",
     "text": [
      "Result after remove empty elements:\n",
      "[(1,), 'abc', (1,), ('a',), ('a', 'b'), ((),)]\n"
     ]
    }
   ],
   "source": [
    "tup = [(), (1,), [], 'abc', (), (), (1,), ('a',), ('a', 'b'), ((),), '']\n",
    "temp = []\n",
    "\n",
    "for i in tup :\n",
    "    if len(i) != 0 :\n",
    "        temp.append(i)\n",
    "\n",
    "print('Result after remove empty elements:')\n",
    "print(temp)"
   ]
  },
  {
   "cell_type": "code",
   "execution_count": 6,
   "id": "43a77ece",
   "metadata": {},
   "outputs": [
    {
     "name": "stdout",
     "output_type": "stream",
     "text": [
      "['programming', 'python', 'hello', 'world', 'a']\n"
     ]
    }
   ],
   "source": [
    "tup = ('hello','a', 'world', 'python', 'programming')\n",
    "sort_tup = sorted(tup, key=len, reverse=True)\n",
    "print(sort_tup)"
   ]
  },
  {
   "cell_type": "code",
   "execution_count": 50,
   "id": "19b3b18b",
   "metadata": {},
   "outputs": [
    {
     "name": "stdout",
     "output_type": "stream",
     "text": [
      "[10, 5, 2, 7, 3]\n"
     ]
    }
   ],
   "source": [
    "tuple_of_numbers = (10, 5, 2, 7, 3)\n",
    "list_of_numbers = list(tuple_of_numbers)\n",
    "\n",
    "print(list_of_numbers)"
   ]
  },
  {
   "cell_type": "code",
   "execution_count": 52,
   "id": "c12f8c7b",
   "metadata": {},
   "outputs": [
    {
     "name": "stdout",
     "output_type": "stream",
     "text": [
      "(10, 5, 7, 3)\n"
     ]
    }
   ],
   "source": [
    "tuple_of_numbers = (10, 5, 2, 7, 3)\n",
    "\n",
    "# Remove the element 2 from the tuple\n",
    "tuple_of_numbers = tuple(element for element in tuple_of_numbers if element != 2)\n",
    "\n",
    "print(tuple_of_numbers)"
   ]
  },
  {
   "cell_type": "code",
   "execution_count": 13,
   "id": "09dd7313",
   "metadata": {},
   "outputs": [
    {
     "name": "stdout",
     "output_type": "stream",
     "text": [
      "5\n",
      "2\n",
      "2\n",
      "[0, 0, 0, 0, 0, 0]\n",
      "1\n",
      "4\n",
      "0\n",
      "[0, 1, 1, 1, 1, 1]\n"
     ]
    }
   ],
   "source": [
    "N = int(input())\n",
    "M = int(input())\n",
    "K = int(input())\n",
    "\n",
    "check = [0] * (N + 1)\n",
    "print(check)\n",
    "for _ in range(M) :\n",
    "    x = int(input())\n",
    "    for j in range(x - K, x + K + 1) :\n",
    "        if 1 <= j <= N :\n",
    "            check[j] = 1\n",
    "            \n",
    "cnt = 0\n",
    "for i in range(1, N + 1) :\n",
    "    if check[i] == 0 :\n",
    "        cnt += 1\n",
    "        for j in range(i, min(i + K * 2, N) + 1) :\n",
    "            check[j] = 1\n",
    "\n",
    "print(cnt)\n",
    "print(check)"
   ]
  },
  {
   "cell_type": "code",
   "execution_count": null,
   "id": "79eed462",
   "metadata": {},
   "outputs": [],
   "source": []
  }
 ],
 "metadata": {
  "kernelspec": {
   "display_name": "Python 3 (ipykernel)",
   "language": "python",
   "name": "python3"
  },
  "language_info": {
   "codemirror_mode": {
    "name": "ipython",
    "version": 3
   },
   "file_extension": ".py",
   "mimetype": "text/x-python",
   "name": "python",
   "nbconvert_exporter": "python",
   "pygments_lexer": "ipython3",
   "version": "3.10.9"
  }
 },
 "nbformat": 4,
 "nbformat_minor": 5
}
