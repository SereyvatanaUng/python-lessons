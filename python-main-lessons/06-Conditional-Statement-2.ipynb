{
 "cells": [
  {
   "cell_type": "markdown",
   "id": "abd20b17",
   "metadata": {},
   "source": [
    "### 1.2. if-else statement"
   ]
  },
  {
   "cell_type": "code",
   "execution_count": 2,
   "id": "92c212c2",
   "metadata": {},
   "outputs": [
    {
     "name": "stdout",
     "output_type": "stream",
     "text": [
      "It's morning.\n"
     ]
    }
   ],
   "source": [
    "hour = 10\n",
    "\n",
    "if hour < 12 :\n",
    "    print(\"It's morning.\")\n",
    "else :\n",
    "    print(\"It's afternoon.\")"
   ]
  },
  {
   "cell_type": "code",
   "execution_count": 3,
   "id": "97c3add5",
   "metadata": {},
   "outputs": [
    {
     "name": "stdout",
     "output_type": "stream",
     "text": [
      "You passed.\n",
      "Get a scholarship, too.\n"
     ]
    }
   ],
   "source": [
    "score = 99 \n",
    "if score > 90 :\n",
    "    print('You passed.')\n",
    "    print('Get a scholarship, too.')\n",
    "else :\n",
    "    print('You failed.')"
   ]
  },
  {
   "cell_type": "markdown",
   "id": "9fb550b6",
   "metadata": {},
   "source": [
    "# 2. if-else statements"
   ]
  },
  {
   "cell_type": "markdown",
   "id": "fbbbeb3e",
   "metadata": {},
   "source": [
    "### 2.2. Odd and even number determination"
   ]
  },
  {
   "cell_type": "code",
   "execution_count": 4,
   "id": "91bb977c",
   "metadata": {},
   "outputs": [
    {
     "name": "stdout",
     "output_type": "stream",
     "text": [
      "10 is an even number.\n"
     ]
    }
   ],
   "source": [
    "num = 10\n",
    "if num % 2 == 0 :\n",
    "    print(num, 'is an even number.')\n",
    "else :\n",
    "    print(num, 'is an odd number.')"
   ]
  },
  {
   "cell_type": "markdown",
   "id": "8603de29",
   "metadata": {},
   "source": [
    "### 2.3. Numeric type determination"
   ]
  },
  {
   "cell_type": "code",
   "execution_count": 7,
   "id": "be65251e",
   "metadata": {},
   "outputs": [
    {
     "name": "stdout",
     "output_type": "stream",
     "text": [
      "Enter the first integer: 2\n",
      "Input data type : <class 'int'>\n"
     ]
    }
   ],
   "source": [
    "x = input('Enter the first integer: ')\n",
    "if x.isdigit() == True :\n",
    "    x = int(x)\n",
    "    print('Input data type :', type(x))\n",
    "else :\n",
    "    print('x is not a numeric character.')"
   ]
  },
  {
   "cell_type": "code",
   "execution_count": 8,
   "id": "a93590bb",
   "metadata": {},
   "outputs": [
    {
     "name": "stdout",
     "output_type": "stream",
     "text": [
      "Enter your ID: iloveyou\n",
      "Welcome.\n"
     ]
    }
   ],
   "source": [
    "id = 'iloveyou'\n",
    "s = input(\"Enter your ID: \")\n",
    "if s == id :\n",
    "    print('Welcome.')\n",
    "else :\n",
    "    print(\"No ID found.\")"
   ]
  },
  {
   "cell_type": "code",
   "execution_count": 10,
   "id": "c150ba59",
   "metadata": {},
   "outputs": [
    {
     "name": "stdout",
     "output_type": "stream",
     "text": [
      "Let's start the coin toss game.\n",
      "Back\n",
      "Game over\n"
     ]
    }
   ],
   "source": [
    "import random\n",
    "\n",
    "print(\"Let's start the coin toss game.\")\n",
    "coin = random.randrange(2)\n",
    "if coin == 0 :\n",
    "    print(\"Front\")\n",
    "else :\n",
    "    print(\"Back\")\n",
    "print(\"Game over\")"
   ]
  },
  {
   "cell_type": "markdown",
   "id": "5949b337",
   "metadata": {},
   "source": [
    "# 3. Nested conditional statements"
   ]
  },
  {
   "cell_type": "markdown",
   "id": "8b83bd42",
   "metadata": {},
   "source": [
    "### 3.1. What is nested conditional statement\n",
    "\n",
    "- In situations where specific conditions result in True or False, there may be a need to check further detailed conditions. In such cases, nested conditional statements are used."
   ]
  },
  {
   "cell_type": "markdown",
   "id": "5ec6f9f7",
   "metadata": {},
   "source": [
    "### 3.2. Putting if-else statements inside if-else statement"
   ]
  },
  {
   "cell_type": "code",
   "execution_count": 11,
   "id": "ace21127",
   "metadata": {},
   "outputs": [
    {
     "name": "stdout",
     "output_type": "stream",
     "text": [
      "Enter an integer: -20\n",
      "It's a negative number.\n"
     ]
    }
   ],
   "source": [
    "num = int(input(\"Enter an integer: \"))\n",
    "if num >= 0 :\n",
    "    if num == 0 :\n",
    "        print(\"It's 0.\")\n",
    "    else :\n",
    "        print(\"It's a positive number.\")\n",
    "else :\n",
    "    print(\"It's a negative number.\")"
   ]
  },
  {
   "cell_type": "markdown",
   "id": "902f9d42",
   "metadata": {},
   "source": [
    "# 4. Nested Conditonal Statements"
   ]
  },
  {
   "cell_type": "markdown",
   "id": "2afbf26c",
   "metadata": {},
   "source": [
    "### 4.1. Using nesting to determine even or odd"
   ]
  },
  {
   "cell_type": "code",
   "execution_count": 12,
   "id": "929e6aa4",
   "metadata": {},
   "outputs": [
    {
     "name": "stdout",
     "output_type": "stream",
     "text": [
      "100 is not a negative number.\n",
      "100 is an even number.\n"
     ]
    }
   ],
   "source": [
    "num = 100\n",
    "if num < 0 :\n",
    "    print(num, 'is a negative number.')\n",
    "else :\n",
    "    print(num, 'is not a negative number.')\n",
    "    if num % 2 == 0 :\n",
    "        print(num, 'is an even number.')\n",
    "    else :\n",
    "        print(num, 'is an odd number.')"
   ]
  },
  {
   "cell_type": "markdown",
   "id": "4cfc879e",
   "metadata": {},
   "source": [
    "# 5. Making Multi-directional Decisions Using elif"
   ]
  },
  {
   "cell_type": "markdown",
   "id": "5eeb9890",
   "metadata": {},
   "source": [
    "### 5.1. Checking multiple conditions sequentially"
   ]
  },
  {
   "cell_type": "code",
   "execution_count": 13,
   "id": "fb7b72d8",
   "metadata": {},
   "outputs": [
    {
     "name": "stdout",
     "output_type": "stream",
     "text": [
      "Enter an integer: 0\n",
      "It's zero(0).\n"
     ]
    }
   ],
   "source": [
    "num = int(input(\"Enter an integer: \"))\n",
    "\n",
    "if num > 0 :\n",
    "    print(\"It's a positive number.\")\n",
    "elif num == 0 :\n",
    "    print(\"It's zero(0).\")\n",
    "else :\n",
    "    print(\"It's a negative number.\")"
   ]
  },
  {
   "cell_type": "markdown",
   "id": "a09f6db5",
   "metadata": {},
   "source": [
    "# 6. if-elif-else Statements"
   ]
  },
  {
   "cell_type": "markdown",
   "id": "4022a6b7",
   "metadata": {},
   "source": [
    "### 6.1. Automatic menu ordering system"
   ]
  },
  {
   "cell_type": "code",
   "execution_count": 20,
   "id": "1c8b6343",
   "metadata": {},
   "outputs": [
    {
     "name": "stdout",
     "output_type": "stream",
     "text": [
      "##################################################\n",
      "It's David's fruit shop.\n",
      "1: Apple (Price : 5,000 won)\n",
      "2: Grape (Price : 6,000 won)\n",
      "3: Melon (Price : 8,000 won)\n",
      "4: Orange (Price : 2,000 won)\n",
      "################################################## \n",
      "\n",
      "Enter the number of the item (between 1 and 4) >> 4\n",
      "Enter the number of items (between 1 and 10) >> 90\n",
      "##################################################\n",
      "Invalid amount.\n"
     ]
    }
   ],
   "source": [
    "print('#' * 50)\n",
    "print(\"It's David's fruit shop.\")\n",
    "print(\"1: Apple (Price : 5,000 won)\")\n",
    "print(\"2: Grape (Price : 6,000 won)\")\n",
    "print(\"3: Melon (Price : 8,000 won)\")\n",
    "print(\"4: Orange (Price : 2,000 won)\")\n",
    "print('#' * 50, '\\n')\n",
    "\n",
    "choice = int(input('Enter the number of the item (between 1 and 4) >> '))\n",
    "\n",
    "if choice >= 1 and choice <= 4 :\n",
    "    amount = int(input('Enter the number of items (between 1 and 10) >> '))\n",
    "    if amount >= 1 and amount <= 10 :\n",
    "        \n",
    "        if choice == 1 :\n",
    "            fruit = 'Apple'\n",
    "            price = 5000\n",
    "            \n",
    "        elif choice == 2 :\n",
    "            fruit == 'Grape'\n",
    "            price = 6000\n",
    "            \n",
    "        elif choice == 3 :\n",
    "            fruit = 'Melon'\n",
    "            price = 8000\n",
    "            \n",
    "        else :\n",
    "            fruit = 'Orange'\n",
    "            price = 2000\n",
    "            \n",
    "        total = price * amount\n",
    "        print('The fruit you chose is :', fruit)\n",
    "        print('The price of the selected fruit is :', price)\n",
    "        print('The number you selected is : ', amount)\n",
    "        print('The total amount is', total, 'won.\\n')\n",
    "        \n",
    "        print('#' * 50)\n",
    "        money = int(input('Please put the money in(ex: 15000) >>> '))\n",
    "        \n",
    "        if money < total :\n",
    "            print('Not enough money.')\n",
    "        else :\n",
    "            change = money - total\n",
    "            print('Got {} won. The change is {} won.'.format(money, change))\n",
    "        \n",
    "    else :\n",
    "        print('#' * 50)\n",
    "        print('Invalid amount.')\n",
    "        \n",
    "else :\n",
    "    print('#' * 50)\n",
    "    print('Invalid choice.')"
   ]
  },
  {
   "cell_type": "markdown",
   "id": "f82e2004",
   "metadata": {},
   "source": [
    "### 6.2. Program to check if the ID and password match"
   ]
  },
  {
   "cell_type": "code",
   "execution_count": 14,
   "id": "430f4e63",
   "metadata": {},
   "outputs": [
    {
     "name": "stdout",
     "output_type": "stream",
     "text": [
      "Enter your ID: ilovepython\n",
      "Enter your password: mypass1234\n",
      "Welcome.\n"
     ]
    }
   ],
   "source": [
    "my_id = 'ilovepython'\n",
    "password = 'mypass1234'\n",
    "str1 = input('Enter your ID: ')\n",
    "str2 = input('Enter your password: ')\n",
    "\n",
    "if str1 == my_id and str2 == password :\n",
    "    print(\"Welcome.\")\n",
    "elif str1 != my_id :\n",
    "    print('No ID found.')\n",
    "else :\n",
    "    print(\"The password is wrong.\")"
   ]
  },
  {
   "cell_type": "markdown",
   "id": "27a72165",
   "metadata": {},
   "source": [
    "# 7. Comparison in conditional statements"
   ]
  },
  {
   "cell_type": "markdown",
   "id": "ac152375",
   "metadata": {},
   "source": [
    "### 7.1. GPA calculator"
   ]
  },
  {
   "cell_type": "code",
   "execution_count": 18,
   "id": "adf6fec1",
   "metadata": {},
   "outputs": [
    {
     "name": "stdout",
     "output_type": "stream",
     "text": [
      "Enter your socre: 90\n",
      "Grade: A\n"
     ]
    }
   ],
   "source": [
    "score = int(input('Enter your socre: '))\n",
    "\n",
    "grade = 'F'\n",
    "\n",
    "if score >= 90 :\n",
    "    grade = 'A'\n",
    "elif score >= 80 :\n",
    "    grade = 'B'\n",
    "elif score >= 70 :\n",
    "    grade = 'C'\n",
    "elif score >= 60 :\n",
    "    grade = 'D'\n",
    "else :\n",
    "    grade = 'F'\n",
    "    \n",
    "print('Grade:', grade)"
   ]
  },
  {
   "cell_type": "code",
   "execution_count": null,
   "id": "9e7f7bf7",
   "metadata": {},
   "outputs": [],
   "source": []
  }
 ],
 "metadata": {
  "kernelspec": {
   "display_name": "Python 3 (ipykernel)",
   "language": "python",
   "name": "python3"
  },
  "language_info": {
   "codemirror_mode": {
    "name": "ipython",
    "version": 3
   },
   "file_extension": ".py",
   "mimetype": "text/x-python",
   "name": "python",
   "nbconvert_exporter": "python",
   "pygments_lexer": "ipython3",
   "version": "3.10.9"
  }
 },
 "nbformat": 4,
 "nbformat_minor": 5
}
