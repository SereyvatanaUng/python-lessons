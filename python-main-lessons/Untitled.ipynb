{
 "cells": [
  {
   "cell_type": "code",
   "execution_count": 3,
   "id": "9f6c4848",
   "metadata": {},
   "outputs": [
    {
     "name": "stdout",
     "output_type": "stream",
     "text": [
      "Enter number: d\n",
      "Input a number not a string\n"
     ]
    }
   ],
   "source": [
    "try :\n",
    "    a = int(input(\"Enter number: \"))\n",
    "    a += 1\n",
    "    print(a)\n",
    "except :\n",
    "    print(\"Input a number not a string\")"
   ]
  },
  {
   "cell_type": "code",
   "execution_count": 4,
   "id": "71def6f6",
   "metadata": {},
   "outputs": [
    {
     "name": "stdout",
     "output_type": "stream",
     "text": [
      "a = ythdf\n",
      "Please input a number\n",
      "a = hffg\n",
      "Please input a number\n",
      "a = jkdskjdfs\n",
      "Please input a number\n",
      "a = 4\n"
     ]
    }
   ],
   "source": [
    "while True :\n",
    "    try : \n",
    "        a = int(input('a = '))\n",
    "        break\n",
    "    except :\n",
    "        print(\"Please input a number\")"
   ]
  },
  {
   "cell_type": "code",
   "execution_count": 5,
   "id": "ca4072a5",
   "metadata": {},
   "outputs": [
    {
     "name": "stdout",
     "output_type": "stream",
     "text": [
      "Enter two numberes: 10 0\n",
      "Please check if the numbers are correct\n"
     ]
    }
   ],
   "source": [
    "try : \n",
    "    a, b = input('Enter two numberes: ').split()\n",
    "    result = int(a) / int(b)\n",
    "    print('{} / {} = {}'.format(a, b, result))\n",
    "except:\n",
    "    print('Please check if the numbers are correct')"
   ]
  },
  {
   "cell_type": "code",
   "execution_count": 7,
   "id": "1840971d",
   "metadata": {},
   "outputs": [
    {
     "name": "stdout",
     "output_type": "stream",
     "text": [
      "Error : unsupported operand type(s) for +: 'int' and 'str'\n"
     ]
    }
   ],
   "source": [
    "try : \n",
    "    b = 2 / 2\n",
    "    a = 1 + 'hundred'\n",
    "except Exception as e : \n",
    "    print('Error :',e) "
   ]
  },
  {
   "cell_type": "code",
   "execution_count": 10,
   "id": "a9f86691",
   "metadata": {},
   "outputs": [
    {
     "name": "stdout",
     "output_type": "stream",
     "text": [
      "Enter the radius: 3\n",
      "The area of a circle with radius 3.0 is 28.26.\n"
     ]
    }
   ],
   "source": [
    "while True :\n",
    "    try : \n",
    "        radius = float(input('Enter the radius: '))\n",
    "        area = 3.14 * (radius ** 2)\n",
    "        print(f\"The area of a circle with radius {radius} is {area}.\")\n",
    "        break\n",
    "    except ValueError :\n",
    "        print(\"Invalid input. Please enter a number for the radius.\")"
   ]
  },
  {
   "cell_type": "code",
   "execution_count": 12,
   "id": "b751d70c",
   "metadata": {},
   "outputs": [
    {
     "ename": "IndexError",
     "evalue": "list index out of range",
     "output_type": "error",
     "traceback": [
      "\u001b[0;31m---------------------------------------------------------------------------\u001b[0m",
      "\u001b[0;31mIndexError\u001b[0m                                Traceback (most recent call last)",
      "Cell \u001b[0;32mIn[12], line 2\u001b[0m\n\u001b[1;32m      1\u001b[0m a \u001b[38;5;241m=\u001b[39m [\u001b[38;5;241m1\u001b[39m, \u001b[38;5;241m2\u001b[39m, \u001b[38;5;241m3\u001b[39m]\n\u001b[0;32m----> 2\u001b[0m \u001b[38;5;28mprint\u001b[39m(\u001b[43ma\u001b[49m\u001b[43m[\u001b[49m\u001b[38;5;241;43m4\u001b[39;49m\u001b[43m]\u001b[49m)\n\u001b[1;32m      3\u001b[0m \u001b[38;5;28mprint\u001b[39m(\u001b[38;5;124m\"\u001b[39m\u001b[38;5;124mHello\u001b[39m\u001b[38;5;124m\"\u001b[39m)\n",
      "\u001b[0;31mIndexError\u001b[0m: list index out of range"
     ]
    }
   ],
   "source": [
    "a = [1, 2, 3]\n",
    "print(a[4])\n",
    "print(\"Hello\")"
   ]
  },
  {
   "cell_type": "code",
   "execution_count": 15,
   "id": "80a3e170",
   "metadata": {},
   "outputs": [
    {
     "ename": "ZeroDivisionError",
     "evalue": "division by zero",
     "output_type": "error",
     "traceback": [
      "\u001b[0;31m---------------------------------------------------------------------------\u001b[0m",
      "\u001b[0;31mZeroDivisionError\u001b[0m                         Traceback (most recent call last)",
      "Cell \u001b[0;32mIn[15], line 2\u001b[0m\n\u001b[1;32m      1\u001b[0m x, y \u001b[38;5;241m=\u001b[39m \u001b[38;5;241m100\u001b[39m, \u001b[38;5;241m0\u001b[39m\n\u001b[0;32m----> 2\u001b[0m \u001b[38;5;28mprint\u001b[39m(\u001b[43mx\u001b[49m\u001b[38;5;241;43m/\u001b[39;49m\u001b[43my\u001b[49m)\n",
      "\u001b[0;31mZeroDivisionError\u001b[0m: division by zero"
     ]
    }
   ],
   "source": [
    "x, y = 100, 0\n",
    "print(x/y)"
   ]
  },
  {
   "cell_type": "code",
   "execution_count": 24,
   "id": "69dff353",
   "metadata": {},
   "outputs": [
    {
     "name": "stdout",
     "output_type": "stream",
     "text": [
      "Error: Division by zero\n",
      "Execution complete\n"
     ]
    }
   ],
   "source": [
    "# x, y = 100, 2\n",
    "x, y = 100, 0\n",
    "# x, y = 100, 'jfjfjf'\n",
    "\n",
    "try :\n",
    "    result = x / y\n",
    "    \n",
    "except ZeroDivisionError :\n",
    "    print('Error: Division by zero')\n",
    "    \n",
    "except TypeError :\n",
    "    print(\"Error: Wrong type\")\n",
    "    \n",
    "else :\n",
    "    print('Result:', result)\n",
    "    \n",
    "finally: \n",
    "    print('Execution complete')"
   ]
  },
  {
   "cell_type": "code",
   "execution_count": 15,
   "id": "68dc2fa4",
   "metadata": {},
   "outputs": [
    {
     "name": "stdout",
     "output_type": "stream",
     "text": [
      "[['Harry', 37.21], ['Berry', 37.21], ['Tina', 37.2], ['Akriti', 41], ['Harsh', 39]]\n"
     ]
    }
   ],
   "source": [
    "# students = [['Harry', 37.21], ['Berry', 37.21], ['Tina', 37.2], ['Akriti', 41], ['Harsh', 39]]\n",
    "\n",
    "# print(students)"
   ]
  },
  {
   "cell_type": "code",
   "execution_count": 1,
   "id": "a6fdbd72",
   "metadata": {},
   "outputs": [
    {
     "name": "stdout",
     "output_type": "stream",
     "text": [
      "Berry\n",
      "Harry\n"
     ]
    }
   ],
   "source": [
    "students = [['Harry', 37.21], ['Berry', 37.21], ['Tina', 37.2], ['Akriti', 41], ['Harsh', 39]]\n",
    "for i in range(len(students)) :\n",
    "    for j in range(i+1, len(students)) :\n",
    "        if students[i][1] > students[j][1] :\n",
    "            students[i], students[j] = students[j], students[i]\n",
    "\n",
    "lowest = students[0][1]\n",
    "second_lowest = lowest\n",
    "for name, score in students :\n",
    "    if second_lowest < score :\n",
    "        second_lowest = score\n",
    "        break\n",
    "\n",
    "second_lowest_students = []  \n",
    "for name, score in students :\n",
    "    if score == second_lowest :\n",
    "        second_lowest_students.append(name)\n",
    "        \n",
    "second_lowest_students.sort()\n",
    "for i in second_lowest_students :\n",
    "    print(i)"
   ]
  },
  {
   "cell_type": "code",
   "execution_count": 6,
   "id": "1636079a",
   "metadata": {},
   "outputs": [
    {
     "name": "stdout",
     "output_type": "stream",
     "text": [
      "56.00\n"
     ]
    }
   ],
   "source": [
    "student_marks = {\n",
    "    'Krishna' : [67, 68, 69],\n",
    "    'Arjun' : [70, 98, 63],\n",
    "    'Malika' : [52, 56, 60]\n",
    "}\n",
    "query_name = 'Malika'\n",
    "\n",
    "if query_name in student_marks.keys() :\n",
    "    print('{:.2f}'.format(sum(student_marks[query_name])/len(student_marks[query_name])))"
   ]
  },
  {
   "cell_type": "code",
   "execution_count": 15,
   "id": "36a4e0e8",
   "metadata": {},
   "outputs": [
    {
     "name": "stdout",
     "output_type": "stream",
     "text": [
      "1\n",
      "reverse\n"
     ]
    }
   ],
   "source": [
    "if __name__ == '__main__':\n",
    "    N = int(input())\n",
    "    list1 = []\n",
    "    \n",
    "    for _ in range(N) :\n",
    "        \n",
    "        user = input()\n",
    "        if 'insert' in user :\n",
    "            _, index, value = user.split()\n",
    "            index, value = int(index), int(value)\n",
    "            list1.insert(index, value)\n",
    "            \n",
    "        if user.strip() == 'print' :\n",
    "            print(list1)\n",
    "            \n",
    "        if 'remove' in user :\n",
    "            _, value = user.split()\n",
    "            list1.remove(int(value))\n",
    "            \n",
    "        if 'append' in user :\n",
    "            _, value = user.split()\n",
    "            list1.append(int(value))\n",
    "            \n",
    "        if user.strip() == 'sort' :\n",
    "            list1.sort()\n",
    "            \n",
    "        if user.strip() == 'pop' :\n",
    "            list1.pop()\n",
    "            \n",
    "        if user.strip() == 'reverse' :\n",
    "            list1.sort(reverse = True)"
   ]
  },
  {
   "cell_type": "raw",
   "id": "adad0b89",
   "metadata": {},
   "source": [
    "[1, 48, 75, 30, 44, 6, 10, 44, 8, 9, 87, 75, 21, 2, 67, 12, 7, 66, 3, 5]\n",
    "[5, 3, 66, 7, 12, 67, 2, 21, 75, 87, 9, 8, 44, 10, 6, 44, 30, 75, 48, 1]\n",
    "[1, 2, 3, 5, 6, 7, 8, 9, 10, 12, 21, 30, 44, 44, 48, 66, 67, 75, 75, 87]\n",
    "[1, 3, 5, 6, 7, 8, 9, 10, 12, 21, 30, 44, 44, 48, 66, 67, 75, 75, 87, 2, 5]"
   ]
  },
  {
   "cell_type": "code",
   "execution_count": null,
   "id": "fbcc2230",
   "metadata": {},
   "outputs": [],
   "source": []
  }
 ],
 "metadata": {
  "kernelspec": {
   "display_name": "Python 3 (ipykernel)",
   "language": "python",
   "name": "python3"
  },
  "language_info": {
   "codemirror_mode": {
    "name": "ipython",
    "version": 3
   },
   "file_extension": ".py",
   "mimetype": "text/x-python",
   "name": "python",
   "nbconvert_exporter": "python",
   "pygments_lexer": "ipython3",
   "version": "3.10.9"
  }
 },
 "nbformat": 4,
 "nbformat_minor": 5
}
