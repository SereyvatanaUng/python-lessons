{
 "cells": [
  {
   "cell_type": "code",
   "execution_count": 3,
   "id": "9f6c4848",
   "metadata": {},
   "outputs": [
    {
     "name": "stdout",
     "output_type": "stream",
     "text": [
      "Enter number: d\n",
      "Input a number not a string\n"
     ]
    }
   ],
   "source": [
    "try :\n",
    "    a = int(input(\"Enter number: \"))\n",
    "    a += 1\n",
    "    print(a)\n",
    "except :\n",
    "    print(\"Input a number not a string\")"
   ]
  },
  {
   "cell_type": "code",
   "execution_count": 4,
   "id": "71def6f6",
   "metadata": {},
   "outputs": [
    {
     "name": "stdout",
     "output_type": "stream",
     "text": [
      "a = ythdf\n",
      "Please input a number\n",
      "a = hffg\n",
      "Please input a number\n",
      "a = jkdskjdfs\n",
      "Please input a number\n",
      "a = 4\n"
     ]
    }
   ],
   "source": [
    "while True :\n",
    "    try : \n",
    "        a = int(input('a = '))\n",
    "        break\n",
    "    except :\n",
    "        print(\"Please input a number\")"
   ]
  },
  {
   "cell_type": "code",
   "execution_count": 5,
   "id": "ca4072a5",
   "metadata": {},
   "outputs": [
    {
     "name": "stdout",
     "output_type": "stream",
     "text": [
      "Enter two numberes: 10 0\n",
      "Please check if the numbers are correct\n"
     ]
    }
   ],
   "source": [
    "try : \n",
    "    a, b = input('Enter two numberes: ').split()\n",
    "    result = int(a) / int(b)\n",
    "    print('{} / {} = {}'.format(a, b, result))\n",
    "except:\n",
    "    print('Please check if the numbers are correct')"
   ]
  },
  {
   "cell_type": "code",
   "execution_count": 7,
   "id": "1840971d",
   "metadata": {},
   "outputs": [
    {
     "name": "stdout",
     "output_type": "stream",
     "text": [
      "Error : unsupported operand type(s) for +: 'int' and 'str'\n"
     ]
    }
   ],
   "source": [
    "try : \n",
    "    b = 2 / 2\n",
    "    a = 1 + 'hundred'\n",
    "except Exception as e : \n",
    "    print('Error :',e) "
   ]
  },
  {
   "cell_type": "code",
   "execution_count": 10,
   "id": "a9f86691",
   "metadata": {},
   "outputs": [
    {
     "name": "stdout",
     "output_type": "stream",
     "text": [
      "Enter the radius: 3\n",
      "The area of a circle with radius 3.0 is 28.26.\n"
     ]
    }
   ],
   "source": [
    "while True :\n",
    "    try : \n",
    "        radius = float(input('Enter the radius: '))\n",
    "        area = 3.14 * (radius ** 2)\n",
    "        print(f\"The area of a circle with radius {radius} is {area}.\")\n",
    "        break\n",
    "    except ValueError :\n",
    "        print(\"Invalid input. Please enter a number for the radius.\")"
   ]
  },
  {
   "cell_type": "code",
   "execution_count": 12,
   "id": "b751d70c",
   "metadata": {},
   "outputs": [
    {
     "ename": "IndexError",
     "evalue": "list index out of range",
     "output_type": "error",
     "traceback": [
      "\u001b[0;31m---------------------------------------------------------------------------\u001b[0m",
      "\u001b[0;31mIndexError\u001b[0m                                Traceback (most recent call last)",
      "Cell \u001b[0;32mIn[12], line 2\u001b[0m\n\u001b[1;32m      1\u001b[0m a \u001b[38;5;241m=\u001b[39m [\u001b[38;5;241m1\u001b[39m, \u001b[38;5;241m2\u001b[39m, \u001b[38;5;241m3\u001b[39m]\n\u001b[0;32m----> 2\u001b[0m \u001b[38;5;28mprint\u001b[39m(\u001b[43ma\u001b[49m\u001b[43m[\u001b[49m\u001b[38;5;241;43m4\u001b[39;49m\u001b[43m]\u001b[49m)\n\u001b[1;32m      3\u001b[0m \u001b[38;5;28mprint\u001b[39m(\u001b[38;5;124m\"\u001b[39m\u001b[38;5;124mHello\u001b[39m\u001b[38;5;124m\"\u001b[39m)\n",
      "\u001b[0;31mIndexError\u001b[0m: list index out of range"
     ]
    }
   ],
   "source": [
    "a = [1, 2, 3]\n",
    "print(a[4])\n",
    "print(\"Hello\")"
   ]
  },
  {
   "cell_type": "code",
   "execution_count": 15,
   "id": "80a3e170",
   "metadata": {},
   "outputs": [
    {
     "ename": "ZeroDivisionError",
     "evalue": "division by zero",
     "output_type": "error",
     "traceback": [
      "\u001b[0;31m---------------------------------------------------------------------------\u001b[0m",
      "\u001b[0;31mZeroDivisionError\u001b[0m                         Traceback (most recent call last)",
      "Cell \u001b[0;32mIn[15], line 2\u001b[0m\n\u001b[1;32m      1\u001b[0m x, y \u001b[38;5;241m=\u001b[39m \u001b[38;5;241m100\u001b[39m, \u001b[38;5;241m0\u001b[39m\n\u001b[0;32m----> 2\u001b[0m \u001b[38;5;28mprint\u001b[39m(\u001b[43mx\u001b[49m\u001b[38;5;241;43m/\u001b[39;49m\u001b[43my\u001b[49m)\n",
      "\u001b[0;31mZeroDivisionError\u001b[0m: division by zero"
     ]
    }
   ],
   "source": [
    "x, y = 100, 0\n",
    "print(x/y)"
   ]
  },
  {
   "cell_type": "code",
   "execution_count": 24,
   "id": "69dff353",
   "metadata": {},
   "outputs": [
    {
     "name": "stdout",
     "output_type": "stream",
     "text": [
      "Error: Division by zero\n",
      "Execution complete\n"
     ]
    }
   ],
   "source": [
    "# x, y = 100, 2\n",
    "x, y = 100, 0\n",
    "# x, y = 100, 'jfjfjf'\n",
    "\n",
    "try :\n",
    "    result = x / y\n",
    "    \n",
    "except ZeroDivisionError :\n",
    "    print('Error: Division by zero')\n",
    "    \n",
    "except TypeError :\n",
    "    print(\"Error: Wrong type\")\n",
    "    \n",
    "else :\n",
    "    print('Result:', result)\n",
    "    \n",
    "finally: \n",
    "    print('Execution complete')"
   ]
  },
  {
   "cell_type": "code",
   "execution_count": null,
   "id": "42406669",
   "metadata": {},
   "outputs": [],
   "source": []
  },
  {
   "cell_type": "code",
   "execution_count": null,
   "id": "68dc2fa4",
   "metadata": {},
   "outputs": [],
   "source": []
  },
  {
   "cell_type": "code",
   "execution_count": null,
   "id": "161a8b48",
   "metadata": {},
   "outputs": [],
   "source": []
  },
  {
   "cell_type": "code",
   "execution_count": null,
   "id": "a6fdbd72",
   "metadata": {},
   "outputs": [],
   "source": []
  },
  {
   "cell_type": "code",
   "execution_count": null,
   "id": "1636079a",
   "metadata": {},
   "outputs": [],
   "source": []
  },
  {
   "cell_type": "code",
   "execution_count": null,
   "id": "36a4e0e8",
   "metadata": {},
   "outputs": [],
   "source": []
  },
  {
   "cell_type": "code",
   "execution_count": null,
   "id": "6e84167b",
   "metadata": {},
   "outputs": [],
   "source": []
  },
  {
   "cell_type": "code",
   "execution_count": null,
   "id": "fbcc2230",
   "metadata": {},
   "outputs": [],
   "source": []
  }
 ],
 "metadata": {
  "kernelspec": {
   "display_name": "Python 3 (ipykernel)",
   "language": "python",
   "name": "python3"
  },
  "language_info": {
   "codemirror_mode": {
    "name": "ipython",
    "version": 3
   },
   "file_extension": ".py",
   "mimetype": "text/x-python",
   "name": "python",
   "nbconvert_exporter": "python",
   "pygments_lexer": "ipython3",
   "version": "3.10.9"
  }
 },
 "nbformat": 4,
 "nbformat_minor": 5
}
