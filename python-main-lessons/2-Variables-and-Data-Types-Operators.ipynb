{
 "cells": [
  {
   "cell_type": "markdown",
   "id": "e04f831e",
   "metadata": {},
   "source": [
    "# 1.DataType"
   ]
  },
  {
   "cell_type": "markdown",
   "id": "95316c09",
   "metadata": {},
   "source": [
    "## 1.1. String and Number Data Type\n",
    "\n",
    "- Number data types consist of numbers, including integer (0, 1, 2, etc.). They are referred to as \"numeric types\" or \"Number data types\".\n",
    "\n",
    "- Numeric types can perform calculations such as addition, subtraction, multiplication, and division.\n",
    "\n",
    "- Words or sentences are in the form of a squence of characters.\n",
    "\n",
    "- They must be enclosed in single or double quotation marks to indicate to the computer where to start and end reading.\n",
    "\n",
    "- The data type enclosed in quotation marks is called a \"string data type\" and is commonly referred to as a \"string\".\n",
    "\n"
   ]
  },
  {
   "cell_type": "markdown",
   "id": "ce4cb7f8",
   "metadata": {},
   "source": [
    "## 1.2. Number Data Types and Operators\n",
    "\n",
    "- It is common in programming to perform operations using numerical information and then utilize this data.\n",
    "\n",
    "- In Python, numberical data is represented using numbers.\n",
    "\n",
    "- Various mathematical operations are available for numerical data."
   ]
  },
  {
   "cell_type": "markdown",
   "id": "fb63c6ac",
   "metadata": {},
   "source": [
    "## 1.3. Order of Operator Execution\n",
    "\n",
    "- When addition and multiplication operators appear in the same statement, multiplication takes precedence over addition.\n",
    "\n",
    "- If parentheses appear in a statement, the operators inside the parentheses are executed first.\n",
    "\n",
    "- The order of operator precedence affects the result of the calculations within the statement. "
   ]
  },
  {
   "cell_type": "markdown",
   "id": "618eb57a",
   "metadata": {},
   "source": [
    "## 1.4. Distinguishing Data Types\n",
    "\n",
    "- Distinguishing between data types is crucial in Python.\n",
    "\n",
    "- Although characters and numbers can have the same form, they can have very different characteristics.\n",
    "\n"
   ]
  },
  {
   "cell_type": "code",
   "execution_count": 1,
   "id": "c1284166",
   "metadata": {},
   "outputs": [
    {
     "data": {
      "text/plain": [
       "102"
      ]
     },
     "execution_count": 1,
     "metadata": {},
     "output_type": "execute_result"
    }
   ],
   "source": [
    "100 + 2"
   ]
  },
  {
   "cell_type": "code",
   "execution_count": 2,
   "id": "beebee0a",
   "metadata": {},
   "outputs": [
    {
     "data": {
      "text/plain": [
       "'1002'"
      ]
     },
     "execution_count": 2,
     "metadata": {},
     "output_type": "execute_result"
    }
   ],
   "source": [
    "'100' + '2'"
   ]
  },
  {
   "cell_type": "code",
   "execution_count": 3,
   "id": "d9fbcad6",
   "metadata": {},
   "outputs": [
    {
     "data": {
      "text/plain": [
       "'HelloWorld!'"
      ]
     },
     "execution_count": 3,
     "metadata": {},
     "output_type": "execute_result"
    }
   ],
   "source": [
    "'Hello' + ' World!'"
   ]
  },
  {
   "cell_type": "code",
   "execution_count": 4,
   "id": "71d90d20",
   "metadata": {},
   "outputs": [
    {
     "data": {
      "text/plain": [
       "int"
      ]
     },
     "execution_count": 4,
     "metadata": {},
     "output_type": "execute_result"
    }
   ],
   "source": [
    "type(100)"
   ]
  },
  {
   "cell_type": "code",
   "execution_count": 5,
   "id": "cdea97ff",
   "metadata": {},
   "outputs": [
    {
     "data": {
      "text/plain": [
       "float"
      ]
     },
     "execution_count": 5,
     "metadata": {},
     "output_type": "execute_result"
    }
   ],
   "source": [
    "type(100.0)"
   ]
  },
  {
   "cell_type": "code",
   "execution_count": 6,
   "id": "37214c42",
   "metadata": {},
   "outputs": [
    {
     "data": {
      "text/plain": [
       "str"
      ]
     },
     "execution_count": 6,
     "metadata": {},
     "output_type": "execute_result"
    }
   ],
   "source": [
    "type('100')"
   ]
  },
  {
   "cell_type": "code",
   "execution_count": 7,
   "id": "0e417bbb",
   "metadata": {},
   "outputs": [
    {
     "name": "stdout",
     "output_type": "stream",
     "text": [
      "<class 'int'>\n"
     ]
    }
   ],
   "source": [
    "print(type(100))"
   ]
  },
  {
   "cell_type": "code",
   "execution_count": 8,
   "id": "fbea2cba",
   "metadata": {},
   "outputs": [
    {
     "data": {
      "text/plain": [
       "'102'"
      ]
     },
     "execution_count": 8,
     "metadata": {},
     "output_type": "execute_result"
    }
   ],
   "source": [
    "'10' + str(2)"
   ]
  },
  {
   "cell_type": "code",
   "execution_count": 11,
   "id": "f672d56e",
   "metadata": {},
   "outputs": [
    {
     "data": {
      "text/plain": [
       "'I like number 10'"
      ]
     },
     "execution_count": 11,
     "metadata": {},
     "output_type": "execute_result"
    }
   ],
   "source": [
    "'I like number ' + str(10)"
   ]
  },
  {
   "cell_type": "code",
   "execution_count": 10,
   "id": "7c417bd3",
   "metadata": {},
   "outputs": [
    {
     "data": {
      "text/plain": [
       "5.0"
      ]
     },
     "execution_count": 10,
     "metadata": {},
     "output_type": "execute_result"
    }
   ],
   "source": [
    "int('10') / 2"
   ]
  },
  {
   "cell_type": "code",
   "execution_count": 12,
   "id": "162c51af",
   "metadata": {},
   "outputs": [
    {
     "name": "stdout",
     "output_type": "stream",
     "text": [
      "The radius of a circle 4.0\n",
      "The area of a circle 50.24\n",
      "The circumference of a circle 25.12\n"
     ]
    }
   ],
   "source": [
    "radius = 4.0\n",
    "\n",
    "print('The radius of a circle', radius)\n",
    "print('The area of a circle', 3.14 * radius * radius)\n",
    "print('The circumference of a circle', 2.0 * 3.14 * radius)"
   ]
  },
  {
   "cell_type": "markdown",
   "id": "8024265c",
   "metadata": {},
   "source": [
    "## 2.1. Variables\n",
    "\n",
    "- \"Variable\" is like a name given to an empty box that can hold any value. Once the name is provided, we can use the value inside the box.\n",
    "\n",
    "- As indicated by \"Variable\", the stored value can change over time.\n",
    "    - Variables are a fundamental concept in programming.\n",
    "    - Variables are spaces in the computer where values can be stored.\n",
    "    \n",
    "- Store values in variables and then use the variables instead of the values."
   ]
  },
  {
   "cell_type": "raw",
   "id": "a80f3f51",
   "metadata": {},
   "source": [
    "'=' operator is called assignment operator."
   ]
  },
  {
   "cell_type": "code",
   "execution_count": 22,
   "id": "26a3bd49",
   "metadata": {},
   "outputs": [
    {
     "name": "stdout",
     "output_type": "stream",
     "text": [
      "<class 'int'>\n",
      "<class 'float'>\n",
      "<class 'str'>\n"
     ]
    }
   ],
   "source": [
    "num = 85\n",
    "print(type(num))\n",
    "\n",
    "pi = 3.14159\n",
    "print(type(pi))\n",
    "\n",
    "message = 'Good morning'\n",
    "print(type(message))"
   ]
  },
  {
   "cell_type": "markdown",
   "id": "19ebf62c",
   "metadata": {},
   "source": [
    "# 2. Variables"
   ]
  },
  {
   "cell_type": "code",
   "execution_count": 14,
   "id": "bbd03cfc",
   "metadata": {},
   "outputs": [
    {
     "name": "stdout",
     "output_type": "stream",
     "text": [
      "Python keyword list...\n",
      "['False', 'None', 'True', 'and', 'as', 'assert', 'async', 'await', 'break', 'class', 'continue', 'def', 'del', 'elif', 'else', 'except', 'finally', 'for', 'from', 'global', 'if', 'import', 'in', 'is', 'lambda', 'nonlocal', 'not', 'or', 'pass', 'raise', 'return', 'try', 'while', 'with', 'yield']\n"
     ]
    }
   ],
   "source": [
    "import keyword\n",
    "\n",
    "print(\"Python keyword list...\")\n",
    "print(keyword.kwlist)"
   ]
  },
  {
   "cell_type": "code",
   "execution_count": 15,
   "id": "b68908ad",
   "metadata": {},
   "outputs": [
    {
     "ename": "SyntaxError",
     "evalue": "invalid syntax (2199986662.py, line 1)",
     "output_type": "error",
     "traceback": [
      "\u001b[1;36m  Cell \u001b[1;32mIn[15], line 1\u001b[1;36m\u001b[0m\n\u001b[1;33m    global = 400\u001b[0m\n\u001b[1;37m           ^\u001b[0m\n\u001b[1;31mSyntaxError\u001b[0m\u001b[1;31m:\u001b[0m invalid syntax\n"
     ]
    }
   ],
   "source": [
    "global = 400"
   ]
  },
  {
   "cell_type": "code",
   "execution_count": 16,
   "id": "9d5c631c",
   "metadata": {},
   "outputs": [
    {
     "name": "stdout",
     "output_type": "stream",
     "text": [
      "200 200 200\n"
     ]
    }
   ],
   "source": [
    "# 2.4. Multiple Assignment\n",
    "\n",
    "num1 = num2 = num3 = 200\n",
    "print(num1, num2, num3)"
   ]
  },
  {
   "cell_type": "code",
   "execution_count": 17,
   "id": "230a2bdb",
   "metadata": {},
   "outputs": [
    {
     "name": "stdout",
     "output_type": "stream",
     "text": [
      "300\n"
     ]
    }
   ],
   "source": [
    "# 2.5. Simultaneous Assignment\n",
    "\n",
    "x, y = 100, 200\n",
    "result = x + y\n",
    "print(result)"
   ]
  },
  {
   "cell_type": "code",
   "execution_count": 18,
   "id": "7e9eee60",
   "metadata": {},
   "outputs": [
    {
     "data": {
      "text/plain": [
       "NoneType"
      ]
     },
     "execution_count": 18,
     "metadata": {},
     "output_type": "execute_result"
    }
   ],
   "source": [
    "a = None\n",
    "type(a)"
   ]
  },
  {
   "cell_type": "markdown",
   "id": "f6e03608",
   "metadata": {},
   "source": [
    "# 3. Operators"
   ]
  },
  {
   "cell_type": "code",
   "execution_count": 23,
   "id": "b45b429b",
   "metadata": {},
   "outputs": [
    {
     "name": "stdout",
     "output_type": "stream",
     "text": [
      "300\n"
     ]
    }
   ],
   "source": [
    "# 3.1. Shorthand Operators\n",
    "\n",
    "result = 100\n",
    "result += 200\n",
    "print(result)"
   ]
  },
  {
   "cell_type": "code",
   "execution_count": 20,
   "id": "1cbe67f1",
   "metadata": {},
   "outputs": [
    {
     "name": "stdout",
     "output_type": "stream",
     "text": [
      "Before swap: a = 100 b = 200\n",
      "Swap result using tuple: a = 200 b = 100\n"
     ]
    }
   ],
   "source": [
    "# 3.2. Python's Swap\n",
    "\n",
    "a = 100 \n",
    "b = 200\n",
    "print('Before swap: a =', a, 'b =', b)\n",
    "a, b = b, a\n",
    "print('Swap result using tuple: a =', a, 'b =', b)"
   ]
  },
  {
   "cell_type": "markdown",
   "id": "842db2ee",
   "metadata": {},
   "source": [
    "# 4. Comment"
   ]
  },
  {
   "cell_type": "markdown",
   "id": "e009da6f",
   "metadata": {},
   "source": [
    "- Comments are sentences used in a program to explain the functionality of the code.\n",
    "- Comments are vrucial in programming. When someone else modifies your code, comment statement help them understand the meaning of the code.\n",
    "- Also, if you write explanations next to difficult code, it will be very helpful when you read the code again."
   ]
  },
  {
   "cell_type": "code",
   "execution_count": 24,
   "id": "f1616f55",
   "metadata": {},
   "outputs": [],
   "source": [
    "# This is a comment"
   ]
  },
  {
   "cell_type": "code",
   "execution_count": null,
   "id": "787df57e",
   "metadata": {},
   "outputs": [],
   "source": [
    "'''\n",
    "This is also a comment.\n",
    "This is also a comment.\n",
    "'''"
   ]
  },
  {
   "cell_type": "markdown",
   "id": "a4044a71",
   "metadata": {},
   "source": [
    "# 5. Pythonic way"
   ]
  },
  {
   "cell_type": "markdown",
   "id": "791a7085",
   "metadata": {},
   "source": [
    "### Why is it necessary to code in a Pythonic way?\n",
    "\n",
    "- It is important to develop good code style and habits, especially when you are learning Python for the first time.\n",
    "\n",
    "- The main purpose is to write code that is clear and concise using the unique features that Python has compared to other programming languages.\n",
    "\n",
    "- Following the rules used by other developers in the Python community is advantageous when collaborating with others.\n",
    "\n",
    "- There are various Python code style guides, but we will only learn the essential ones that beginners should follow."
   ]
  },
  {
   "cell_type": "markdown",
   "id": "6f2c95b2",
   "metadata": {},
   "source": [
    "### 5.2. Code layout\n",
    "\n",
    "- In Python, you should be able to have spaces when writing code to distinguish separators and symbols. A comma(,) is a separator.\n",
    "\n",
    "- In Python, square brackets([]), curly brackets({}), and parenthesses(()) are not separators but symbols."
   ]
  },
  {
   "cell_type": "code",
   "execution_count": 26,
   "id": "e9a8c65f",
   "metadata": {},
   "outputs": [
    {
     "name": "stdout",
     "output_type": "stream",
     "text": [
      "Define variable name for radius of circle. Output the radius, area, circumference of a circle. Apply the formula for calculating the area of a circle. Apply the formula for calculating the circumference of a circle.\n"
     ]
    }
   ],
   "source": [
    "print('Define variable name for radius of circle. \\\n",
    "Output the radius, area, circumference of a circle. \\\n",
    "Apply the formula for calculating the area of a circle. \\\n",
    "Apply the formula for calculating the circumference of a circle.')"
   ]
  },
  {
   "cell_type": "code",
   "execution_count": null,
   "id": "cced0b62",
   "metadata": {},
   "outputs": [],
   "source": []
  }
 ],
 "metadata": {
  "kernelspec": {
   "display_name": "Python 3 (ipykernel)",
   "language": "python",
   "name": "python3"
  },
  "language_info": {
   "codemirror_mode": {
    "name": "ipython",
    "version": 3
   },
   "file_extension": ".py",
   "mimetype": "text/x-python",
   "name": "python",
   "nbconvert_exporter": "python",
   "pygments_lexer": "ipython3",
   "version": "3.10.9"
  }
 },
 "nbformat": 4,
 "nbformat_minor": 5
}
