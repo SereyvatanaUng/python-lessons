{
 "cells": [
  {
   "cell_type": "markdown",
   "id": "5c1ebc4c",
   "metadata": {},
   "source": [
    "### 1.1. True and False\n",
    "\n",
    "- Data of a non-bool type can also be <span style=\"color:orange\">converted to bool type</span>."
   ]
  },
  {
   "cell_type": "code",
   "execution_count": 2,
   "id": "a6d51155",
   "metadata": {},
   "outputs": [
    {
     "name": "stdout",
     "output_type": "stream",
     "text": [
      "True\n",
      "False\n",
      "False\n",
      "False\n"
     ]
    }
   ],
   "source": [
    "print(bool(1))\n",
    "print(bool(0))\n",
    "print(bool(''))\n",
    "print(bool(None))"
   ]
  },
  {
   "cell_type": "markdown",
   "id": "44c19f56",
   "metadata": {},
   "source": [
    "- It is important to note that non-bool types can be interpreted as False if they represent 0 or an empty value, and as True if they represent a non-zero or something is present."
   ]
  },
  {
   "cell_type": "code",
   "execution_count": 3,
   "id": "39ce5022",
   "metadata": {},
   "outputs": [
    {
     "name": "stdout",
     "output_type": "stream",
     "text": [
      "True\n",
      "True\n"
     ]
    }
   ],
   "source": [
    "print(bool(-1))\n",
    "print(bool('Hello'))"
   ]
  },
  {
   "cell_type": "markdown",
   "id": "7944b225",
   "metadata": {},
   "source": [
    "### 1.2. Boolean Expression\n",
    "\n",
    "- A Boolean expression is an expression that evaluates to either True or False, representing true or false, respectively.\n",
    "    - Boolean expressions return Boolean values, either True or False."
   ]
  },
  {
   "cell_type": "markdown",
   "id": "d991d467",
   "metadata": {},
   "source": [
    "- Additionally, evaluating values to Boolean (true or false) <span style=\"color:orange\">using the bool function</span> is also considered a <span style=\"color:blue\">Boolean expression.</span>"
   ]
  },
  {
   "cell_type": "markdown",
   "id": "3663b033",
   "metadata": {},
   "source": [
    "# 2. Comparison Operators"
   ]
  },
  {
   "cell_type": "markdown",
   "id": "eb832f1b",
   "metadata": {},
   "source": [
    "### 2.1. What is Comparison Operator?\n",
    "\n",
    "- <span style=\"color:orange\">Comparison operator</span> compares two operands, which can be numeric or string data, and return True or False based on the comparison results."
   ]
  },
  {
   "cell_type": "markdown",
   "id": "335e4933",
   "metadata": {},
   "source": [
    "- <span style=\"color:orange\">Comparison operator</span> compares two operands, which can be numeric or string data, to determine their relative order, such as 'greater than' or 'less than'.\n",
    "- They return True or False as the result of comparison. This type of value, either True or False, is called a <span style=\"color:orange\">bool value</span>."
   ]
  },
  {
   "cell_type": "code",
   "execution_count": 4,
   "id": "edfc1649",
   "metadata": {},
   "outputs": [
    {
     "name": "stdout",
     "output_type": "stream",
     "text": [
      "Results of 10 > 5 : True\n",
      "Results of 5 < 1 : False\n",
      "Results of 5 == 5 : True\n",
      "Results of 5 != 5 : False\n",
      "Results of 'a' > 'b': False\n"
     ]
    }
   ],
   "source": [
    "print('Results of 10 > 5 :', 10 > 5)\n",
    "print('Results of 5 < 1 :', 5 < 1)\n",
    "print('Results of 5 == 5 :', 5 == 5)\n",
    "print('Results of 5 != 5 :', 5 != 5)\n",
    "print(\"Results of 'a' > 'b':\", 'a' > 'b')"
   ]
  },
  {
   "cell_type": "markdown",
   "id": "fd2cdcef",
   "metadata": {},
   "source": [
    "### 2.2. Numeric Type and Comparison Operator"
   ]
  },
  {
   "cell_type": "code",
   "execution_count": 5,
   "id": "149db9be",
   "metadata": {},
   "outputs": [
    {
     "name": "stdout",
     "output_type": "stream",
     "text": [
      "False\n",
      "True\n",
      "False\n",
      "True\n",
      "False\n",
      "True\n"
     ]
    }
   ],
   "source": [
    "a = 100\n",
    "b = 200\n",
    "print(a == b)\n",
    "print(a != b)\n",
    "print(a > b)\n",
    "print(a < b)\n",
    "print(a >= b)\n",
    "print(a <= b)"
   ]
  },
  {
   "cell_type": "markdown",
   "id": "1529c514",
   "metadata": {},
   "source": [
    "- When comparison operators are applied, they return bool values."
   ]
  },
  {
   "cell_type": "code",
   "execution_count": 7,
   "id": "a6c19af3",
   "metadata": {},
   "outputs": [
    {
     "name": "stdout",
     "output_type": "stream",
     "text": [
      "Enter an integer: 60\n",
      "Is this an even number? True\n"
     ]
    }
   ],
   "source": [
    "n = int(input('Enter an integer: '))\n",
    "print('Is this an even number?', n % 2 == 0)"
   ]
  },
  {
   "cell_type": "code",
   "execution_count": 8,
   "id": "0a551870",
   "metadata": {},
   "outputs": [
    {
     "name": "stdout",
     "output_type": "stream",
     "text": [
      "n = 100\n",
      "True\n"
     ]
    }
   ],
   "source": [
    "n = 100\n",
    "print('n =', n)\n",
    "print(0 < n < 200)"
   ]
  },
  {
   "cell_type": "markdown",
   "id": "3586a75e",
   "metadata": {},
   "source": [
    "### 2.3. String and Comparison Operators\n",
    "\n",
    "- The == operator for strings returns True only if the two strings are exactly the same."
   ]
  },
  {
   "cell_type": "code",
   "execution_count": 9,
   "id": "c11ae278",
   "metadata": {},
   "outputs": [
    {
     "name": "stdout",
     "output_type": "stream",
     "text": [
      "True\n",
      "False\n"
     ]
    }
   ],
   "source": [
    "print('aaa' == 'aaa')\n",
    "print('aaa' == 'bbb')"
   ]
  },
  {
   "cell_type": "markdown",
   "id": "03b11189",
   "metadata": {},
   "source": [
    "- The != operator for strings returns True if the two strings are not exactly the same."
   ]
  },
  {
   "cell_type": "code",
   "execution_count": 10,
   "id": "c23ba81d",
   "metadata": {},
   "outputs": [
    {
     "name": "stdout",
     "output_type": "stream",
     "text": [
      "False\n",
      "True\n"
     ]
    }
   ],
   "source": [
    "print('aaa' != 'aaa')\n",
    "print('aaa' != 'bbb')"
   ]
  },
  {
   "cell_type": "markdown",
   "id": "ed1bb241",
   "metadata": {},
   "source": [
    "### 2.4. Precautions when using Comparison Operator"
   ]
  },
  {
   "cell_type": "code",
   "execution_count": 11,
   "id": "7e9bfd58",
   "metadata": {},
   "outputs": [
    {
     "ename": "SyntaxError",
     "evalue": "invalid syntax (2202785691.py, line 3)",
     "output_type": "error",
     "traceback": [
      "\u001b[0;36m  Cell \u001b[0;32mIn[11], line 3\u001b[0;36m\u001b[0m\n\u001b[0;31m    num1 =< num2\u001b[0m\n\u001b[0m          ^\u001b[0m\n\u001b[0;31mSyntaxError\u001b[0m\u001b[0;31m:\u001b[0m invalid syntax\n"
     ]
    }
   ],
   "source": [
    "num1 = 100\n",
    "num2 = 200\n",
    "num1 =< num2"
   ]
  },
  {
   "cell_type": "code",
   "execution_count": 12,
   "id": "4326a3d5",
   "metadata": {},
   "outputs": [
    {
     "ename": "SyntaxError",
     "evalue": "cannot assign to literal here. Maybe you meant '==' instead of '='? (2047909864.py, line 1)",
     "output_type": "error",
     "traceback": [
      "\u001b[0;36m  Cell \u001b[0;32mIn[12], line 1\u001b[0;36m\u001b[0m\n\u001b[0;31m    300 = 300\u001b[0m\n\u001b[0m    ^\u001b[0m\n\u001b[0;31mSyntaxError\u001b[0m\u001b[0;31m:\u001b[0m cannot assign to literal here. Maybe you meant '==' instead of '='?\n"
     ]
    }
   ],
   "source": [
    "300 = 300"
   ]
  },
  {
   "cell_type": "markdown",
   "id": "0fc57c9c",
   "metadata": {},
   "source": [
    "# 3. Logical Operator"
   ]
  },
  {
   "cell_type": "markdown",
   "id": "32c97115",
   "metadata": {},
   "source": [
    "### 3.1. What is Logical Operator?\n",
    "\n",
    "- Logical operators evaluate logical expressions and return True or False.\n",
    "\n",
    "- The 'and' logical operator takes into account the state of False among the input values and returns True.\n",
    "\n",
    "- The 'or' logical operator takes into account the state of True among the input values and return True."
   ]
  },
  {
   "cell_type": "code",
   "execution_count": 13,
   "id": "49baef80",
   "metadata": {},
   "outputs": [
    {
     "name": "stdout",
     "output_type": "stream",
     "text": [
      "False\n",
      "True\n",
      "False\n",
      "True\n"
     ]
    }
   ],
   "source": [
    "x = True\n",
    "y = False\n",
    "print(x and y)\n",
    "print(x or y)\n",
    "print(not x)\n",
    "print(not y)"
   ]
  },
  {
   "cell_type": "markdown",
   "id": "3a5eac01",
   "metadata": {},
   "source": [
    "### 3.2. Logical Operation\n",
    "\n",
    "- Logical operations combine bool values to create new bool values."
   ]
  },
  {
   "cell_type": "code",
   "execution_count": 15,
   "id": "7a4f005a",
   "metadata": {},
   "outputs": [
    {
     "name": "stdout",
     "output_type": "stream",
     "text": [
      "Enter an integer : 99\n",
      "Is this integer an even number within the range of 0 to 100? False\n"
     ]
    }
   ],
   "source": [
    "num = int(input('Enter an integer : '))\n",
    "result = num >= 0 and num <= 100 and num % 2 == 0\n",
    "print('Is this integer an even number within the range of 0 to 100?', result)"
   ]
  },
  {
   "cell_type": "markdown",
   "id": "fe8aa953",
   "metadata": {},
   "source": [
    "- Parenthese can also be used in logical operations to group logical expressions."
   ]
  },
  {
   "cell_type": "code",
   "execution_count": 16,
   "id": "57520e6e",
   "metadata": {},
   "outputs": [
    {
     "data": {
      "text/plain": [
       "False"
      ]
     },
     "execution_count": 16,
     "metadata": {},
     "output_type": "execute_result"
    }
   ],
   "source": [
    "num = 2023\n",
    "(num % 4 == 0 and num % 100 != 0) or num % 400 == 0"
   ]
  },
  {
   "cell_type": "markdown",
   "id": "1829db79",
   "metadata": {},
   "source": [
    "# 4. Identity Operators"
   ]
  },
  {
   "cell_type": "markdown",
   "id": "b41281b0",
   "metadata": {},
   "source": [
    "### 4.1. Difference between the 'is' Operator and the == Operator\n",
    "\n",
    "- The 'is' operator compares the identity of the objects by comparing their identifiers and returns True of False indicating whether the two variables refer to the same object."
   ]
  },
  {
   "cell_type": "code",
   "execution_count": 17,
   "id": "520843e9",
   "metadata": {},
   "outputs": [
    {
     "name": "stdout",
     "output_type": "stream",
     "text": [
      "True\n",
      "False\n"
     ]
    }
   ],
   "source": [
    "a = 1\n",
    "b = 1.0\n",
    "print(a == b)\n",
    "print(a is b)"
   ]
  },
  {
   "cell_type": "markdown",
   "id": "80ed05ad",
   "metadata": {},
   "source": [
    "# 5. Membership Operators"
   ]
  },
  {
   "cell_type": "markdown",
   "id": "e9a685cd",
   "metadata": {},
   "source": [
    "### 5.1. The 'in' Operator\n",
    "\n",
    "- The 'in' operator determines whether the left value is present in the right data and returns True or False."
   ]
  },
  {
   "cell_type": "code",
   "execution_count": 18,
   "id": "cd71a134",
   "metadata": {},
   "outputs": [
    {
     "name": "stdout",
     "output_type": "stream",
     "text": [
      "True\n",
      "True\n",
      "False\n"
     ]
    }
   ],
   "source": [
    "print('aaa' in 'aaa-bbb-ccc')\n",
    "print('bbb' in 'aaa-bbb-ccc')\n",
    "print('ddd' in 'aaa-bbb-ccc')"
   ]
  },
  {
   "cell_type": "markdown",
   "id": "abba925d",
   "metadata": {},
   "source": [
    "#  6. Order of Operation"
   ]
  },
  {
   "cell_type": "markdown",
   "id": "44995e2d",
   "metadata": {},
   "source": [
    "### 6.1. Operators have precedence\n",
    "\n",
    "- Multiplication and division have higher precedence than addition and subtraction."
   ]
  },
  {
   "cell_type": "markdown",
   "id": "af9e6eca",
   "metadata": {},
   "source": [
    "### 6.2. Operator Precedence Table\n",
    "\n",
    "()<br>\n",
    "**<br>\n",
    "~, +, - (Unary operators)<br>\n",
    "*, /, %, //<br>\n",
    "+, -<br>\n",
    "\\>>, << (Bit shift operators)<br>\n",
    "&<br>\n",
    "^, | (Bitwise XOR, bitwise OR operators)<br>\n",
    "<=, <, >, >=<br>\n",
    "==, !=<br>\n",
    "=, %=, /=, //=, -=, +=, *=, **=<br>\n",
    "is, is not<br>\n",
    "in, not in<br>\n",
    "not, or, and (Logical operators)<br>"
   ]
  },
  {
   "cell_type": "code",
   "execution_count": null,
   "id": "8290a4f6",
   "metadata": {},
   "outputs": [],
   "source": []
  }
 ],
 "metadata": {
  "kernelspec": {
   "display_name": "Python 3 (ipykernel)",
   "language": "python",
   "name": "python3"
  },
  "language_info": {
   "codemirror_mode": {
    "name": "ipython",
    "version": 3
   },
   "file_extension": ".py",
   "mimetype": "text/x-python",
   "name": "python",
   "nbconvert_exporter": "python",
   "pygments_lexer": "ipython3",
   "version": "3.10.9"
  }
 },
 "nbformat": 4,
 "nbformat_minor": 5
}
