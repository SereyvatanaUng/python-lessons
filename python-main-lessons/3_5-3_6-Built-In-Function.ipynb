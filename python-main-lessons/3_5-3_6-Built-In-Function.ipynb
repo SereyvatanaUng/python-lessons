{
 "cells": [
  {
   "cell_type": "markdown",
   "id": "88637d28",
   "metadata": {},
   "source": [
    "### 5.1. Functions Represented as Black Boxes\n",
    "\n",
    "- The print and input statement we have used so far are called <span style=\"color:orange\">function.</span>\n",
    "\n",
    "- In programming, functions are often compared to black boxed. When calling a function, the user only needs to provide the correct input values and use the output(result) without worrying about how the function works."
   ]
  },
  {
   "cell_type": "markdown",
   "id": "05839a6d",
   "metadata": {},
   "source": [
    "- There is a term used to refer to the input values provided when calling a function. Let's take a closer look at some key terms related to functions.\n",
    "\n",
    "- <span style=\"color:orange\">Parameter</span>: Variabes defined inside the parentheses, which are <span style=\"color:orange\">variable</span> that receive actual values when the function is called.\n",
    "\n",
    "- <span style=\"color:orange\">Argument</span>: The actual value passed when the function is called, also referred to as <span style=\"color:orange\">argument</span>."
   ]
  },
  {
   "cell_type": "markdown",
   "id": "8064c89a",
   "metadata": {},
   "source": [
    "### 5.2. Python's Built-in Functions\n",
    "\n",
    "- Functions that are implemented by default in Python and provided are called Python's <span style=\"color:orange\">built-in function</span>.\n",
    "\n",
    "- The print function and input function are also part of these functions.\n",
    "\n",
    "- Python provides over 100 built-int functions."
   ]
  },
  {
   "cell_type": "markdown",
   "id": "972ca554",
   "metadata": {},
   "source": [
    "https://docs.python.org/3/library/functions.html"
   ]
  },
  {
   "cell_type": "code",
   "execution_count": 1,
   "id": "9d5bb866",
   "metadata": {},
   "outputs": [
    {
     "data": {
      "text/plain": [
       "3"
      ]
     },
     "execution_count": 1,
     "metadata": {},
     "output_type": "execute_result"
    }
   ],
   "source": [
    "str1 = 'FOO'\n",
    "len(str1)"
   ]
  },
  {
   "cell_type": "code",
   "execution_count": 2,
   "id": "ccd72508",
   "metadata": {},
   "outputs": [
    {
     "data": {
      "text/plain": [
       "str"
      ]
     },
     "execution_count": 2,
     "metadata": {},
     "output_type": "execute_result"
    }
   ],
   "source": [
    "type(str1)"
   ]
  },
  {
   "cell_type": "code",
   "execution_count": 3,
   "id": "b7bc9302",
   "metadata": {},
   "outputs": [
    {
     "data": {
      "text/plain": [
       "2271994627376"
      ]
     },
     "execution_count": 3,
     "metadata": {},
     "output_type": "execute_result"
    }
   ],
   "source": [
    "id(str1)"
   ]
  },
  {
   "cell_type": "code",
   "execution_count": 5,
   "id": "d4bad682",
   "metadata": {},
   "outputs": [
    {
     "data": {
      "text/plain": [
       "600"
      ]
     },
     "execution_count": 5,
     "metadata": {},
     "output_type": "execute_result"
    }
   ],
   "source": [
    "eval(\"100 + 200 + 300\")"
   ]
  },
  {
   "cell_type": "code",
   "execution_count": 6,
   "id": "cd9e94cd",
   "metadata": {},
   "outputs": [
    {
     "data": {
      "text/plain": [
       "100"
      ]
     },
     "execution_count": 6,
     "metadata": {},
     "output_type": "execute_result"
    }
   ],
   "source": [
    "abs(-100)"
   ]
  },
  {
   "cell_type": "code",
   "execution_count": 7,
   "id": "271de0c5",
   "metadata": {},
   "outputs": [
    {
     "data": {
      "text/plain": [
       "100"
      ]
     },
     "execution_count": 7,
     "metadata": {},
     "output_type": "execute_result"
    }
   ],
   "source": [
    "min(200, 100, 300, 400)"
   ]
  },
  {
   "cell_type": "code",
   "execution_count": 8,
   "id": "1e2cfae7",
   "metadata": {},
   "outputs": [
    {
     "data": {
      "text/plain": [
       "400"
      ]
     },
     "execution_count": 8,
     "metadata": {},
     "output_type": "execute_result"
    }
   ],
   "source": [
    "max(200, 100, 300, 400)"
   ]
  },
  {
   "cell_type": "markdown",
   "id": "d7bf039e",
   "metadata": {},
   "source": [
    "- The sorted function takes a string and returns the characters that make up the string sorted in alphabetical order."
   ]
  },
  {
   "cell_type": "code",
   "execution_count": 13,
   "id": "08e4168f",
   "metadata": {},
   "outputs": [
    {
     "data": {
      "text/plain": [
       "['5', 'A', 'B', 'D', 'E', 'F']"
      ]
     },
     "execution_count": 13,
     "metadata": {},
     "output_type": "execute_result"
    }
   ],
   "source": [
    "sorted('EAB5FD')"
   ]
  },
  {
   "cell_type": "code",
   "execution_count": 11,
   "id": "1468e80d",
   "metadata": {},
   "outputs": [
    {
     "data": {
      "text/plain": [
       "['F', 'E', 'D', 'B', 'A']"
      ]
     },
     "execution_count": 11,
     "metadata": {},
     "output_type": "execute_result"
    }
   ],
   "source": [
    "sorted('EABFD', reverse = True)"
   ]
  },
  {
   "cell_type": "markdown",
   "id": "4ef79372",
   "metadata": {},
   "source": [
    "### 5.3.Difference between Function and Method\n",
    "\n",
    "- The format statement and the split statement we learned for String called <span style=\"color:orange\">method</span>.\n",
    "\n",
    "- A method is like black boxes that take inputs, perform a specific action, and return results, just like a function. However, there are differences between the two.\n",
    "\n",
    "- Unlike functions, <span style=\"color:blue\">methods cannot be called independently</span> because they belong to specific objects. They need to be called using a dot(.) after the object's name.\n",
    "\n",
    "    - Therefore, we have been using the dot notation to call the format methos and the split methos for String.\n",
    "    - We learned that data types like String are independent designed to perform specific tasks."
   ]
  },
  {
   "cell_type": "markdown",
   "id": "5d67956a",
   "metadata": {},
   "source": [
    "# 6. Built-in Modules"
   ]
  },
  {
   "cell_type": "markdown",
   "id": "b01cc03a",
   "metadata": {},
   "source": [
    "### 6.1. Modules and the Import Statement"
   ]
  },
  {
   "cell_type": "markdown",
   "id": "117f821e",
   "metadata": {},
   "source": [
    "- Module\n",
    "    - A file that collects Python functions, variables, etc.\n",
    "    - Python has many modules developed by numerous developers."
   ]
  },
  {
   "cell_type": "markdown",
   "id": "b84f7d3c",
   "metadata": {},
   "source": [
    "- The keyword used to import modules is \"import\".\n",
    "   \n",
    "    - When importing a created module, we write the module name after \"import\"."
   ]
  },
  {
   "cell_type": "markdown",
   "id": "3139338b",
   "metadata": {},
   "source": [
    "### <span style=\"color:blue\">import module_name1 [, module_name2, ...]</span>"
   ]
  },
  {
   "cell_type": "markdown",
   "id": "aecc3f32",
   "metadata": {},
   "source": [
    "- Alternatively, when using it, we can write the module name followed by a dot(.) and then write the components of the module."
   ]
  },
  {
   "cell_type": "markdown",
   "id": "67bf1cc5",
   "metadata": {},
   "source": [
    "### <span style=\"color:blue\">import [module_name].[class_name].[method_name]</span>"
   ]
  },
  {
   "cell_type": "markdown",
   "id": "ca715c57",
   "metadata": {},
   "source": [
    "- By using the \"as\" syntax, we can use an alias for the module name."
   ]
  },
  {
   "cell_type": "markdown",
   "id": "3e42fe1b",
   "metadata": {},
   "source": [
    "### <span style=\"color:blue\">import [module_name] as [module_alias]</span>"
   ]
  },
  {
   "cell_type": "markdown",
   "id": "9e2e9e3a",
   "metadata": {},
   "source": [
    "- Using the \"as\" syntax, we can shorten the module name datetime to a simpler form, such as dt."
   ]
  },
  {
   "cell_type": "code",
   "execution_count": 14,
   "id": "ed3bc268",
   "metadata": {},
   "outputs": [
    {
     "data": {
      "text/plain": [
       "datetime.datetime(2023, 12, 25, 16, 25, 13, 3062)"
      ]
     },
     "execution_count": 14,
     "metadata": {},
     "output_type": "execute_result"
    }
   ],
   "source": [
    "import datetime as dt\n",
    "start_time = dt.datetime.now()\n",
    "start_time.replace(month = 12, day =25)"
   ]
  },
  {
   "cell_type": "markdown",
   "id": "870ca982",
   "metadata": {},
   "source": [
    "- The form-import statement is a way to import only what is needed from a module."
   ]
  },
  {
   "cell_type": "markdown",
   "id": "07b71c07",
   "metadata": {},
   "source": [
    "### <span style=\"color:blue\">from [module_name] import [class_name].[method_name]</span>"
   ]
  },
  {
   "cell_type": "markdown",
   "id": "2e19593e",
   "metadata": {},
   "source": [
    "- Using the from statement allows us to omit the \"module name\" that was required in the import statement. The square brackets([]) indicate that it is optional."
   ]
  },
  {
   "cell_type": "code",
   "execution_count": 15,
   "id": "fc22b4e9",
   "metadata": {},
   "outputs": [
    {
     "data": {
      "text/plain": [
       "datetime.datetime(2023, 12, 25, 16, 29, 59, 976602)"
      ]
     },
     "execution_count": 15,
     "metadata": {},
     "output_type": "execute_result"
    }
   ],
   "source": [
    "from datetime import datetime\n",
    "start_time = datetime.now()\n",
    "start_time.replace(month = 12, day = 25)"
   ]
  },
  {
   "cell_type": "markdown",
   "id": "6b18ca06",
   "metadata": {},
   "source": [
    "- <span style=\"color:orange\">from [module_name] import *</span> means to import all variables, functions, and classes from the module."
   ]
  },
  {
   "cell_type": "code",
   "execution_count": 16,
   "id": "68299aa2",
   "metadata": {},
   "outputs": [
    {
     "data": {
      "text/plain": [
       "datetime.date(2023, 7, 24)"
      ]
     },
     "execution_count": 16,
     "metadata": {},
     "output_type": "execute_result"
    }
   ],
   "source": [
    "from datetime import *\n",
    "today = date.today()\n",
    "today"
   ]
  },
  {
   "cell_type": "markdown",
   "id": "0a6333d2",
   "metadata": {},
   "source": [
    "- Modules procided with Python installation are called the Python Standard Library or <span style=\"color:orange\">built-in module.</span>\n",
    "\n",
    "- They provide over 100 built-in modules, including modules for string and text processing, binary data processing, date, time, array data types, numerical operations and math functions, file and directory access, accessing databases in Unix systems, data compression, and graphics modules."
   ]
  },
  {
   "cell_type": "markdown",
   "id": "9e82a74f",
   "metadata": {},
   "source": [
    "### 6.2. The Datetime Module for Receiving and Manipulating Dates and Times\n",
    "\n",
    "- datetime module: \n",
    "    - A module that provides functionality for working with and manipulating dates and times.\n",
    "\n",
    "- In datetime.datetime.now, the first datetime is the module name, and the second datetime is the class name. now is a method.\n",
    "    - We learned that a class is an independent objectt designed to perform a specific task. It will be discussed in more detail in future classes."
   ]
  },
  {
   "cell_type": "code",
   "execution_count": 17,
   "id": "4c245e6d",
   "metadata": {},
   "outputs": [
    {
     "data": {
      "text/plain": [
       "datetime.datetime(2023, 7, 24, 16, 37, 18, 327177)"
      ]
     },
     "execution_count": 17,
     "metadata": {},
     "output_type": "execute_result"
    }
   ],
   "source": [
    "import datetime\n",
    "datetime.datetime.now()"
   ]
  },
  {
   "cell_type": "markdown",
   "id": "5153fee4",
   "metadata": {},
   "source": [
    "- The replace method is used when we want to change the date or time value."
   ]
  },
  {
   "cell_type": "code",
   "execution_count": 18,
   "id": "ce0c0b84",
   "metadata": {},
   "outputs": [
    {
     "data": {
      "text/plain": [
       "datetime.datetime(2023, 12, 25, 16, 38, 40, 203844)"
      ]
     },
     "execution_count": 18,
     "metadata": {},
     "output_type": "execute_result"
    }
   ],
   "source": [
    "start_time = datetime.datetime.now()\n",
    "start_time.replace(month = 12, day = 25)"
   ]
  },
  {
   "cell_type": "markdown",
   "id": "1031a63f",
   "metadata": {},
   "source": [
    "- The today method of the date class prints the current year, month, and day."
   ]
  },
  {
   "cell_type": "code",
   "execution_count": 19,
   "id": "fef20432",
   "metadata": {},
   "outputs": [
    {
     "name": "stdout",
     "output_type": "stream",
     "text": [
      "2023-07-24\n"
     ]
    }
   ],
   "source": [
    "today = datetime.date.today()\n",
    "print(today)"
   ]
  },
  {
   "cell_type": "code",
   "execution_count": 20,
   "id": "3d932f2b",
   "metadata": {},
   "outputs": [
    {
     "data": {
      "text/plain": [
       "datetime.date(2023, 7, 24)"
      ]
     },
     "execution_count": 20,
     "metadata": {},
     "output_type": "execute_result"
    }
   ],
   "source": [
    "today"
   ]
  },
  {
   "cell_type": "code",
   "execution_count": 21,
   "id": "0c7ba2fb",
   "metadata": {},
   "outputs": [
    {
     "data": {
      "text/plain": [
       "2023"
      ]
     },
     "execution_count": 21,
     "metadata": {},
     "output_type": "execute_result"
    }
   ],
   "source": [
    "today.year"
   ]
  },
  {
   "cell_type": "code",
   "execution_count": 22,
   "id": "af310215",
   "metadata": {},
   "outputs": [
    {
     "data": {
      "text/plain": [
       "7"
      ]
     },
     "execution_count": 22,
     "metadata": {},
     "output_type": "execute_result"
    }
   ],
   "source": [
    "today.month"
   ]
  },
  {
   "cell_type": "code",
   "execution_count": 23,
   "id": "6b2083f7",
   "metadata": {},
   "outputs": [
    {
     "data": {
      "text/plain": [
       "24"
      ]
     },
     "execution_count": 23,
     "metadata": {},
     "output_type": "execute_result"
    }
   ],
   "source": [
    "today.day"
   ]
  },
  {
   "cell_type": "markdown",
   "id": "e53980d2",
   "metadata": {},
   "source": [
    "- Let's use the dir function to print the functions and variables that the module has.\n",
    "    - MAXYEAR has a value of 9999, which is the maximum representable year for a datetime object.\n",
    "    - MINYEAR has a value of 1.\n",
    "    - Classes such as date, datetime, datetime_CAPI, time, timedelta, timezone, tzinfo have convenient features for working with dates, times, time zones, and time zone information."
   ]
  },
  {
   "cell_type": "code",
   "execution_count": 24,
   "id": "88232b37",
   "metadata": {},
   "outputs": [
    {
     "name": "stdout",
     "output_type": "stream",
     "text": [
      "['MAXYEAR', 'MINYEAR', 'UTC', '__all__', '__builtins__', '__cached__', '__doc__', '__file__', '__loader__', '__name__', '__package__', '__spec__', 'date', 'datetime', 'datetime_CAPI', 'sys', 'time', 'timedelta', 'timezone', 'tzinfo']\n"
     ]
    }
   ],
   "source": [
    "print(dir(datetime))"
   ]
  },
  {
   "cell_type": "markdown",
   "id": "a05b56b7",
   "metadata": {},
   "source": [
    "### 6.3. The Time Module\n",
    "\n",
    "- The time module privides informatino related to time.\n",
    "    - It provides information related to time.\n",
    "    - The epoch is the starting time for Unix systems, which is January 1, 1970, 0:00:00 Coordinated Universal Time(UTC).\n",
    "    - The time system commonly used in Unix operating systems is referred to as epoch time or Unix time."
   ]
  },
  {
   "cell_type": "code",
   "execution_count": 27,
   "id": "18e869cf",
   "metadata": {},
   "outputs": [
    {
     "name": "stdout",
     "output_type": "stream",
     "text": [
      "Time after epoch = 1690192028.982982\n"
     ]
    }
   ],
   "source": [
    "# The following code indicates the elapsed time in seconds \n",
    "# since the epoch time (January 1, 1970, 0:00:00).\n",
    "\n",
    "import time\n",
    "seconds = time.time()\n",
    "print('Time after epoch =', seconds)"
   ]
  },
  {
   "cell_type": "code",
   "execution_count": 28,
   "id": "e7053884",
   "metadata": {},
   "outputs": [
    {
     "data": {
      "text/plain": [
       "time.struct_time(tm_year=2023, tm_mon=7, tm_mday=24, tm_hour=16, tm_min=49, tm_sec=16, tm_wday=0, tm_yday=205, tm_isdst=0)"
      ]
     },
     "execution_count": 28,
     "metadata": {},
     "output_type": "execute_result"
    }
   ],
   "source": [
    "'''\n",
    "Let's use the localtime method of the time module.\n",
    "    - The localtime method takes an epoch time value \n",
    "    and returns the local time as a date and time format.\n",
    "'''\n",
    "\n",
    "import time\n",
    "unix_timestamp = time.time()\n",
    "local_time = time.localtime(unix_timestamp)\n",
    "local_time"
   ]
  },
  {
   "cell_type": "markdown",
   "id": "9dd2edfd",
   "metadata": {},
   "source": [
    "- The strftime methos allows us to format the time obtained from localtime according to the desired date/time format."
   ]
  },
  {
   "cell_type": "code",
   "execution_count": 29,
   "id": "e11f55ba",
   "metadata": {},
   "outputs": [
    {
     "name": "stdout",
     "output_type": "stream",
     "text": [
      "2023-07-24 16-51-36\n"
     ]
    }
   ],
   "source": [
    "import time\n",
    "unix_timestamp = time.time()\n",
    "local_time = time.localtime(unix_timestamp)\n",
    "print(time.strftime('%Y-%m-%d %H-%M-%S', local_time))"
   ]
  },
  {
   "cell_type": "markdown",
   "id": "1a68241f",
   "metadata": {},
   "source": [
    "### 6.4. The Math Module\n",
    "\n",
    "- The Math module allows us to use mathematical functions.\n",
    "\n",
    "- math module\n",
    "    - A module that contains mathematical funcitons.\n",
    "    - It defines constants such as pi and the natural constant e.\n",
    "    - It includes mathematical functions like sin, cos, tan, log, pow, ceil, floor, trunc, fabs, and copysign(x, y)."
   ]
  },
  {
   "cell_type": "code",
   "execution_count": 30,
   "id": "33f44b47",
   "metadata": {},
   "outputs": [
    {
     "name": "stdout",
     "output_type": "stream",
     "text": [
      "['__doc__', '__loader__', '__name__', '__package__', '__spec__', 'acos', 'acosh', 'asin', 'asinh', 'atan', 'atan2', 'atanh', 'cbrt', 'ceil', 'comb', 'copysign', 'cos', 'cosh', 'degrees', 'dist', 'e', 'erf', 'erfc', 'exp', 'exp2', 'expm1', 'fabs', 'factorial', 'floor', 'fmod', 'frexp', 'fsum', 'gamma', 'gcd', 'hypot', 'inf', 'isclose', 'isfinite', 'isinf', 'isnan', 'isqrt', 'lcm', 'ldexp', 'lgamma', 'log', 'log10', 'log1p', 'log2', 'modf', 'nan', 'nextafter', 'perm', 'pi', 'pow', 'prod', 'radians', 'remainder', 'sin', 'sinh', 'sqrt', 'tan', 'tanh', 'tau', 'trunc', 'ulp']\n"
     ]
    }
   ],
   "source": [
    "import math\n",
    "print(dir(math))"
   ]
  },
  {
   "cell_type": "code",
   "execution_count": 31,
   "id": "cc88dd7d",
   "metadata": {},
   "outputs": [
    {
     "data": {
      "text/plain": [
       "27.0"
      ]
     },
     "execution_count": 31,
     "metadata": {},
     "output_type": "execute_result"
    }
   ],
   "source": [
    "import math as m\n",
    "m.pow(3, 3)"
   ]
  },
  {
   "cell_type": "code",
   "execution_count": 32,
   "id": "434000ef",
   "metadata": {},
   "outputs": [
    {
     "data": {
      "text/plain": [
       "99.0"
      ]
     },
     "execution_count": 32,
     "metadata": {},
     "output_type": "execute_result"
    }
   ],
   "source": [
    "m.fabs(-99)"
   ]
  },
  {
   "cell_type": "code",
   "execution_count": 33,
   "id": "19d0e885",
   "metadata": {},
   "outputs": [
    {
     "data": {
      "text/plain": [
       "3"
      ]
     },
     "execution_count": 33,
     "metadata": {},
     "output_type": "execute_result"
    }
   ],
   "source": [
    "m.ceil(2.1)"
   ]
  },
  {
   "cell_type": "code",
   "execution_count": 34,
   "id": "305e5e25",
   "metadata": {},
   "outputs": [
    {
     "data": {
      "text/plain": [
       "-2"
      ]
     },
     "execution_count": 34,
     "metadata": {},
     "output_type": "execute_result"
    }
   ],
   "source": [
    "m.ceil(-2.1)"
   ]
  },
  {
   "cell_type": "code",
   "execution_count": 35,
   "id": "dee5fa1c",
   "metadata": {},
   "outputs": [
    {
     "data": {
      "text/plain": [
       "2"
      ]
     },
     "execution_count": 35,
     "metadata": {},
     "output_type": "execute_result"
    }
   ],
   "source": [
    "m.floor(2.1)"
   ]
  },
  {
   "cell_type": "code",
   "execution_count": 36,
   "id": "d3124827",
   "metadata": {},
   "outputs": [
    {
     "data": {
      "text/plain": [
       "0.999999327347282"
      ]
     },
     "execution_count": 36,
     "metadata": {},
     "output_type": "execute_result"
    }
   ],
   "source": [
    "m.log(2.71828)"
   ]
  },
  {
   "cell_type": "code",
   "execution_count": 37,
   "id": "d2180491",
   "metadata": {},
   "outputs": [
    {
     "data": {
      "text/plain": [
       "2.0"
      ]
     },
     "execution_count": 37,
     "metadata": {},
     "output_type": "execute_result"
    }
   ],
   "source": [
    "m.log(100, 10)"
   ]
  },
  {
   "cell_type": "code",
   "execution_count": 40,
   "id": "f0319aad",
   "metadata": {},
   "outputs": [
    {
     "data": {
      "text/plain": [
       "0.0"
      ]
     },
     "execution_count": 40,
     "metadata": {},
     "output_type": "execute_result"
    }
   ],
   "source": [
    "import math as m\n",
    "m.sin(0.0)"
   ]
  },
  {
   "cell_type": "code",
   "execution_count": 41,
   "id": "7b74acdb",
   "metadata": {},
   "outputs": [
    {
     "data": {
      "text/plain": [
       "0.8939966636005579"
      ]
     },
     "execution_count": 41,
     "metadata": {},
     "output_type": "execute_result"
    }
   ],
   "source": [
    "m.sin(90.0)"
   ]
  },
  {
   "cell_type": "code",
   "execution_count": 43,
   "id": "abe6fdd1",
   "metadata": {},
   "outputs": [
    {
     "data": {
      "text/plain": [
       "1.0"
      ]
     },
     "execution_count": 43,
     "metadata": {},
     "output_type": "execute_result"
    }
   ],
   "source": [
    "m.sin(m.pi /2)"
   ]
  },
  {
   "cell_type": "markdown",
   "id": "f5c36e09",
   "metadata": {},
   "source": [
    "### 6.5.The Random Module\n",
    "\n",
    "- The random module includes functions to generate random numbers, shuffle elements in a list, and select elements randomly.\n",
    "\n",
    "- For convenience, the random module is commonly used with the alias \"rd\" as follows."
   ]
  },
  {
   "cell_type": "code",
   "execution_count": null,
   "id": "ac5fa399",
   "metadata": {},
   "outputs": [],
   "source": []
  }
 ],
 "metadata": {
  "kernelspec": {
   "display_name": "Python 3 (ipykernel)",
   "language": "python",
   "name": "python3"
  },
  "language_info": {
   "codemirror_mode": {
    "name": "ipython",
    "version": 3
   },
   "file_extension": ".py",
   "mimetype": "text/x-python",
   "name": "python",
   "nbconvert_exporter": "python",
   "pygments_lexer": "ipython3",
   "version": "3.11.3"
  }
 },
 "nbformat": 4,
 "nbformat_minor": 5
}
