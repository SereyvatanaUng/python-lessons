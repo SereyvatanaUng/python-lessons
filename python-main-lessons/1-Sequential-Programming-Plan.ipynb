{
 "cells": [
  {
   "cell_type": "markdown",
   "id": "08580ffb",
   "metadata": {},
   "source": [
    "# Sequential Programming Plan"
   ]
  },
  {
   "cell_type": "markdown",
   "id": "b2547f1c",
   "metadata": {},
   "source": [
    "## Five competencies required for future talents\n",
    "+ Critical Thinking :\n",
    "    - Information & Discovery\n",
    "    - Interpretation & Analysis Reasoning\n",
    "    - Constructing Arguments\n",
    "    - Problem Solving\n",
    "    - System Thinking \n",
    "    - Common Sense\n",
    "    \n",
    "+ Collaboration :\n",
    "    - Leadership & Initiative\n",
    "    - Co-operation\n",
    "    - Flexible\n",
    "    - Responsibility & Productivity\n",
    "    - Collaboration (Digitally)\n",
    "    - Responsiveness\n",
    "  \n",
    "+ Creativity :\n",
    "    - Idea Generation & Refinement\n",
    "    - Openness, Courage to Explore\n",
    "    - Work Creatively with others\n",
    "    - Create Production & Innovation\n",
    "    - Innovation with Technology\n",
    "    \n",
    "+ Connected :\n",
    "    - Consideration (Digital well-being & identify)\n",
    "    - Contribution\n",
    "    - Commitment\n",
    "    - Curation (navigating / selecting / supporting)\n",
    "    - Community\n",
    "    - Community Builders (Active Leaders)\n",
    "    \n",
    "+ Communication\n",
    "    - Effective Lestening\n",
    "    - Delivering oral Presentations\n",
    "    - Communication (Digital)\n",
    "    - Engage in conversations\n",
    "    - Present engaging webinars"
   ]
  },
  {
   "cell_type": "markdown",
   "id": "afa2a2b5",
   "metadata": {},
   "source": [
    "## 1.1. Sequential Structure\n",
    "\n",
    "+ Sequential refers to the process of executing commands created  by coding in order.\n",
    "\n",
    "+ Although programs appear to perform tasks simultaneously due to their high speed, computers actually process commands in the order specified in the code.\n",
    "\n",
    "+ Naturally, even if the commands are the same, completely different resultrs will occur if the order is changed."
   ]
  },
  {
   "cell_type": "markdown",
   "id": "f15b3b10",
   "metadata": {},
   "source": [
    "## 1.2. Pseudocode\n",
    "\n",
    "\n",
    "+ Pseudocode is the process of writing commands for the computer to execute in order.\n",
    "\n",
    "+ It is a good way to start coding with limited knowledge of programming because it users everyday language.\n",
    "\n",
    "+ It can also serve as a bridge when completing flowcharts and transitioning to actual coding.\n",
    "\n",
    "+ It can be used as a basic guide document among programmers during the implementation phase of the actual code.\n",
    "\n",
    "+ The main goal is to clearly describe and plan what needs to be done for each line of code."
   ]
  },
  {
   "cell_type": "markdown",
   "id": "bca922cb",
   "metadata": {},
   "source": [
    "## 1.3. Flowchart\n",
    "\n",
    "\n",
    "+ A flowchart is a representation of commands using standardized shapes and arrows to depict the flow of operations.\n",
    "\n",
    "+ The shapes and symbols used adhere to the standards set by the International Organization for Standardization (ISO).\n",
    "\n",
    "+ The flowchart should be written without overlappingm with the direction from top to bottom and left to right."
   ]
  },
  {
   "cell_type": "markdown",
   "id": "b35ac285",
   "metadata": {},
   "source": [
    "## 1.4. Three Structures Represented by Flowcharts for Program Execution\n",
    "\n",
    "\n",
    "+ Flowcharts represent sequential, conditional, and repetitive structrures.\n",
    "These three structures can be applied not only in coding but also in real life."
   ]
  },
  {
   "cell_type": "markdown",
   "id": "5a60ae54",
   "metadata": {},
   "source": [
    "## 1.5. Expression, Statements, Programs\n",
    "\n",
    "- Plans created with pseudocode and flowcharts need to be developed into programming by coding expressions.\n",
    "\n",
    "- An expression is a simple code that produces a value, such as numbers, formulas, and strings. A collection of expressions is called a statement. Multiple statements from a program."
   ]
  },
  {
   "cell_type": "raw",
   "id": "c8c1f208",
   "metadata": {},
   "source": [
    "- Expression : 352, 10+20, 'helloworld!', import, 17,2\n",
    "- statement : timesleep(5), print('hello world')\n",
    "- program : \n",
    "    import time\n",
    "    timesleep(5)\n",
    "    print('hello world!')"
   ]
  },
  {
   "cell_type": "code",
   "execution_count": null,
   "id": "88d348a1",
   "metadata": {},
   "outputs": [],
   "source": []
  }
 ],
 "metadata": {
  "kernelspec": {
   "display_name": "Python 3 (ipykernel)",
   "language": "python",
   "name": "python3"
  },
  "language_info": {
   "codemirror_mode": {
    "name": "ipython",
    "version": 3
   },
   "file_extension": ".py",
   "mimetype": "text/x-python",
   "name": "python",
   "nbconvert_exporter": "python",
   "pygments_lexer": "ipython3",
   "version": "3.10.9"
  }
 },
 "nbformat": 4,
 "nbformat_minor": 5
}
