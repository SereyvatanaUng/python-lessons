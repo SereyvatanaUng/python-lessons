{
 "cells": [
  {
   "cell_type": "markdown",
   "id": "2fba23cb",
   "metadata": {},
   "source": [
    "# 1. Tuple\n",
    "## 1.1. Immutable attribute, mutable attribute\n",
    "\n",
    "- Python data types"
   ]
  },
  {
   "cell_type": "markdown",
   "id": "e290d0d6",
   "metadata": {},
   "source": [
    "| Immutable attributes             | Mutable attributes |\n",
    "| :---------------------------------| :------------------ |\n",
    "| Numberic types <br><span style=\"color:orange\">int, float</span>| List <br><span style=\"color:green\">list</span> |\n",
    "| Strings <br><span style=\"color:orange\">str</span>| Set <br><span style=\"color:green\">set</span>|\n",
    "| Tuple <br><span style=\"color:orange\">tuple</span>|Dictionary <br><span style=\"color:green\">dic</span>|"
   ]
  },
  {
   "cell_type": "markdown",
   "id": "e6271a54",
   "metadata": {},
   "source": [
    "## 1.2. Immutable data type, which cannot be modified once created: Tuple"
   ]
  },
  {
   "cell_type": "code",
   "execution_count": 1,
   "id": "46ee8446",
   "metadata": {},
   "outputs": [
    {
     "data": {
      "text/plain": [
       "('red', 'green', 'blue')"
      ]
     },
     "execution_count": 1,
     "metadata": {},
     "output_type": "execute_result"
    }
   ],
   "source": [
    "colors = (\"red\", \"green\", \"blue\")\n",
    "colors"
   ]
  },
  {
   "cell_type": "code",
   "execution_count": 2,
   "id": "52d5f8d3",
   "metadata": {},
   "outputs": [
    {
     "data": {
      "text/plain": [
       "(1, 2, 3, 4, 5)"
      ]
     },
     "execution_count": 2,
     "metadata": {},
     "output_type": "execute_result"
    }
   ],
   "source": [
    "numbers = (1, 2, 3, 4, 5)\n",
    "numbers"
   ]
  },
  {
   "cell_type": "markdown",
   "id": "855f9723",
   "metadata": {},
   "source": [
    "### A tuple is an immutable data type. Therefore, be careful when trying to modify the elements of a tuple, as it will result in an error."
   ]
  },
  {
   "cell_type": "code",
   "execution_count": 4,
   "id": "337dbfe2",
   "metadata": {},
   "outputs": [
    {
     "ename": "TypeError",
     "evalue": "'tuple' object does not support item assignment",
     "output_type": "error",
     "traceback": [
      "\u001b[0;31m---------------------------------------------------------------------------\u001b[0m",
      "\u001b[0;31mTypeError\u001b[0m                                 Traceback (most recent call last)",
      "Cell \u001b[0;32mIn[4], line 2\u001b[0m\n\u001b[1;32m      1\u001b[0m t1 \u001b[38;5;241m=\u001b[39m (\u001b[38;5;241m1\u001b[39m, \u001b[38;5;241m2\u001b[39m, \u001b[38;5;241m3\u001b[39m, \u001b[38;5;241m4\u001b[39m, \u001b[38;5;241m5\u001b[39m)\n\u001b[0;32m----> 2\u001b[0m t1[\u001b[38;5;241m0\u001b[39m] \u001b[38;5;241m=\u001b[39m \u001b[38;5;241m100\u001b[39m\n",
      "\u001b[0;31mTypeError\u001b[0m: 'tuple' object does not support item assignment"
     ]
    }
   ],
   "source": [
    "t1 = (1, 2, 3, 4, 5)\n",
    "t1[0] = 100"
   ]
  },
  {
   "cell_type": "markdown",
   "id": "64d01647",
   "metadata": {},
   "source": [
    "## 1.3. Defining a tuple"
   ]
  },
  {
   "cell_type": "markdown",
   "id": "330e775f",
   "metadata": {},
   "source": [
    "| Description | Syntax      |  |\n",
    "| :--------------------------------------------------- | :------------------------------: | :-----------: |\n",
    "| Creating an empty tuple | tuple0 = tuple() | Must use empty parenthesis|\n",
    "| Creating a tuple with a single element | tuple1 = (1,) | Must use comma |\n",
    "| Creating a basic tuple using parentheses | tuple2 = (1, 2, 3,4) |  |\n",
    "| Creating a simple tuple using only commas<br>without parentheses   | tuple3 = 1, 2, 3, 4 |  |\n",
    "| Creating a tuple form a list   | n_list = [1, 2, 3, 4]<br>tuple4 = tuple(n_list) |  |"
   ]
  },
  {
   "cell_type": "markdown",
   "id": "06c8ce80",
   "metadata": {},
   "source": [
    "## 1.4. Precaution when defining a tuple: integer type and tuple type variables"
   ]
  },
  {
   "cell_type": "code",
   "execution_count": 5,
   "id": "9e86b15f",
   "metadata": {},
   "outputs": [
    {
     "name": "stdout",
     "output_type": "stream",
     "text": [
      "100\n",
      "<class 'int'>\n"
     ]
    }
   ],
   "source": [
    "tup = (100)\n",
    "print(tup)\n",
    "print(type(tup))"
   ]
  },
  {
   "cell_type": "code",
   "execution_count": 6,
   "id": "c7e5f1c0",
   "metadata": {},
   "outputs": [
    {
     "name": "stdout",
     "output_type": "stream",
     "text": [
      "(100,)\n",
      "<class 'tuple'>\n"
     ]
    }
   ],
   "source": [
    "tup = (100,)\n",
    "print(tup)\n",
    "print(type(tup))"
   ]
  },
  {
   "cell_type": "markdown",
   "id": "7b8b422f",
   "metadata": {},
   "source": [
    "## 1.5. Packing, unpacking\n",
    "\n",
    "- <span style=\"color:orange\">Packing</span>: Putting multiple values into a single variable.\n",
    "- <span style=\"color:orange\">Unpacking</span>: If there is a packed variable, it means extracting multiple values from it."
   ]
  },
  {
   "cell_type": "markdown",
   "id": "a581c279",
   "metadata": {},
   "source": [
    "<span style=\"color:orange\"></span>"
   ]
  },
  {
   "cell_type": "code",
   "execution_count": 8,
   "id": "d652acb7",
   "metadata": {},
   "outputs": [
    {
     "data": {
      "text/plain": [
       "1"
      ]
     },
     "execution_count": 8,
     "metadata": {},
     "output_type": "execute_result"
    }
   ],
   "source": [
    "a = (1, 2)\n",
    "a[0]"
   ]
  },
  {
   "cell_type": "code",
   "execution_count": 9,
   "id": "eefbda95",
   "metadata": {},
   "outputs": [
    {
     "data": {
      "text/plain": [
       "2"
      ]
     },
     "execution_count": 9,
     "metadata": {},
     "output_type": "execute_result"
    }
   ],
   "source": [
    "a[1]"
   ]
  },
  {
   "cell_type": "code",
   "execution_count": 10,
   "id": "05b642f9",
   "metadata": {},
   "outputs": [
    {
     "data": {
      "text/plain": [
       "3"
      ]
     },
     "execution_count": 10,
     "metadata": {},
     "output_type": "execute_result"
    }
   ],
   "source": [
    "c = (3 ,4)\n",
    "x, y = c\n",
    "x"
   ]
  },
  {
   "cell_type": "code",
   "execution_count": 11,
   "id": "023fb8c2",
   "metadata": {},
   "outputs": [
    {
     "data": {
      "text/plain": [
       "4"
      ]
     },
     "execution_count": 11,
     "metadata": {},
     "output_type": "execute_result"
    }
   ],
   "source": [
    "y"
   ]
  },
  {
   "cell_type": "markdown",
   "id": "6b150d23",
   "metadata": {},
   "source": [
    "## 1.6. Tuple sorting methods\n",
    "\n",
    "- Since tuples are immutable, the sort method cannot be used to change their elements.\n",
    "\n",
    "- Therefore, when soring the elements of a tuple, you can convert the tuple to a list and then use the sort methos to sort the numbers."
   ]
  },
  {
   "cell_type": "code",
   "execution_count": 12,
   "id": "21e57fcb",
   "metadata": {},
   "outputs": [
    {
     "name": "stdout",
     "output_type": "stream",
     "text": [
      "[1, 2, 2, 3, 3, 3, 4, 5, 7, 9, 9]\n"
     ]
    }
   ],
   "source": [
    "tup = (1, 2, 5, 4, 3, 2, 9, 3, 7, 3, 9)\n",
    "temp = list(tup)\n",
    "temp.sort()\n",
    "print(temp)"
   ]
  },
  {
   "cell_type": "markdown",
   "id": "3fbea29f",
   "metadata": {},
   "source": [
    "# 2. Sequence types\n",
    "## 2.1. range function and sequence types"
   ]
  },
  {
   "cell_type": "code",
   "execution_count": 13,
   "id": "3024a5ee",
   "metadata": {},
   "outputs": [
    {
     "name": "stdout",
     "output_type": "stream",
     "text": [
      "even_list = [2, 4, 6, 8, 10]\n"
     ]
    }
   ],
   "source": [
    "even_list = list(range(2, 11, 2))\n",
    "print('even_list =', even_list)"
   ]
  },
  {
   "cell_type": "code",
   "execution_count": 14,
   "id": "2e1fa363",
   "metadata": {},
   "outputs": [
    {
     "data": {
      "text/plain": [
       "[0, 1, 2, 3, 4, 5, 6, 7, 8, 9]"
      ]
     },
     "execution_count": 14,
     "metadata": {},
     "output_type": "execute_result"
    }
   ],
   "source": [
    "list(range(10))"
   ]
  },
  {
   "cell_type": "code",
   "execution_count": 15,
   "id": "23e6f8c7",
   "metadata": {},
   "outputs": [
    {
     "data": {
      "text/plain": [
       "[2, 3, 4, 5, 6, 7, 8, 9]"
      ]
     },
     "execution_count": 15,
     "metadata": {},
     "output_type": "execute_result"
    }
   ],
   "source": [
    "list(range(2, 10))"
   ]
  },
  {
   "cell_type": "code",
   "execution_count": 16,
   "id": "a8a0a7eb",
   "metadata": {},
   "outputs": [
    {
     "data": {
      "text/plain": [
       "[2, 5, 8]"
      ]
     },
     "execution_count": 16,
     "metadata": {},
     "output_type": "execute_result"
    }
   ],
   "source": [
    "list(range(2, 10, 3))"
   ]
  },
  {
   "cell_type": "markdown",
   "id": "8bbcf00d",
   "metadata": {},
   "source": [
    "## 2.3. Index and indexing\n",
    "\n",
    "- Index\n",
    "> - It refers to the number that points to the value of an element in a list or sequence.\n",
    "> - The index of a list with n elements increse from 0 to n-1."
   ]
  },
  {
   "cell_type": "code",
   "execution_count": 17,
   "id": "30586861",
   "metadata": {},
   "outputs": [
    {
     "name": "stdout",
     "output_type": "stream",
     "text": [
      "11\n",
      "11\n"
     ]
    }
   ],
   "source": [
    "list1 = [11, 11, 11, 22, 33, 44]\n",
    "print(list1[0])\n",
    "print(list1[2])"
   ]
  },
  {
   "cell_type": "code",
   "execution_count": 19,
   "id": "51cb8926",
   "metadata": {},
   "outputs": [
    {
     "name": "stdout",
     "output_type": "stream",
     "text": [
      "l\n",
      "o\n"
     ]
    }
   ],
   "source": [
    "str1 = 'hello world'\n",
    "print(str1[2])\n",
    "print(str1[7])"
   ]
  },
  {
   "cell_type": "code",
   "execution_count": 20,
   "id": "9294d480",
   "metadata": {},
   "outputs": [
    {
     "data": {
      "text/plain": [
       "2"
      ]
     },
     "execution_count": 20,
     "metadata": {},
     "output_type": "execute_result"
    }
   ],
   "source": [
    "tup1 = (1, 1, 1, 2, 3, 3, 4)\n",
    "tup1[3]"
   ]
  },
  {
   "cell_type": "code",
   "execution_count": 21,
   "id": "cea9fc48",
   "metadata": {},
   "outputs": [
    {
     "data": {
      "text/plain": [
       "4"
      ]
     },
     "execution_count": 21,
     "metadata": {},
     "output_type": "execute_result"
    }
   ],
   "source": [
    "ran = range(0, 5, 1)\n",
    "ran[4]"
   ]
  },
  {
   "cell_type": "markdown",
   "id": "8df373c9",
   "metadata": {},
   "source": [
    "## 2.4. Slicing"
   ]
  },
  {
   "cell_type": "code",
   "execution_count": 22,
   "id": "1d46cf7c",
   "metadata": {},
   "outputs": [
    {
     "name": "stdout",
     "output_type": "stream",
     "text": [
      "(20, 30, 40, 50)\n"
     ]
    }
   ],
   "source": [
    "tup0 = (10, 20, 30, 40, 50, 60, 70, 80)\n",
    "print(tup0[1 : 5])"
   ]
  },
  {
   "cell_type": "code",
   "execution_count": 23,
   "id": "810a9e71",
   "metadata": {},
   "outputs": [
    {
     "name": "stdout",
     "output_type": "stream",
     "text": [
      "(20, 30, 40, 50, 60, 70, 80)\n"
     ]
    }
   ],
   "source": [
    "print(tup0[1 : ])"
   ]
  },
  {
   "cell_type": "code",
   "execution_count": 24,
   "id": "b7df29a7",
   "metadata": {},
   "outputs": [
    {
     "name": "stdout",
     "output_type": "stream",
     "text": [
      "(10, 20, 30, 40, 50, 60, 70, 80)\n"
     ]
    }
   ],
   "source": [
    "print(tup0[ : ])"
   ]
  },
  {
   "cell_type": "markdown",
   "id": "07a718f8",
   "metadata": {},
   "source": [
    "## 2.5. Negative indexing\n",
    "\n",
    "- The <span style=\"color:orange\">string</span> data type follows the same rule for negative indexing."
   ]
  },
  {
   "cell_type": "code",
   "execution_count": 25,
   "id": "2408436f",
   "metadata": {},
   "outputs": [
    {
     "name": "stdout",
     "output_type": "stream",
     "text": [
      "f\n",
      "a\n"
     ]
    }
   ],
   "source": [
    "str1 = 'abcdef'\n",
    "print(str1[-1])\n",
    "print(str1[-6])"
   ]
  },
  {
   "cell_type": "markdown",
   "id": "b920ac41",
   "metadata": {},
   "source": [
    "- The <span style=\"color:orange\">range</span> data type follows the same rule for negative indexing."
   ]
  },
  {
   "cell_type": "code",
   "execution_count": 31,
   "id": "4b1f96cf",
   "metadata": {},
   "outputs": [
    {
     "name": "stdout",
     "output_type": "stream",
     "text": [
      "1\n",
      "6\n"
     ]
    }
   ],
   "source": [
    "ran = range(1, 7)\n",
    "print(ran[-6])\n",
    "print(ran[-1])"
   ]
  },
  {
   "cell_type": "markdown",
   "id": "0cde4050",
   "metadata": {},
   "source": [
    "## 2.6. Slicing using negative indexing"
   ]
  },
  {
   "cell_type": "code",
   "execution_count": 27,
   "id": "ce56c4e3",
   "metadata": {},
   "outputs": [
    {
     "name": "stdout",
     "output_type": "stream",
     "text": [
      "80\n"
     ]
    }
   ],
   "source": [
    "tup0 = (10, 20, 30, 40, 50, 60, 70, 80)\n",
    "print(tup0[-1])"
   ]
  },
  {
   "cell_type": "code",
   "execution_count": 28,
   "id": "b18d84c9",
   "metadata": {},
   "outputs": [
    {
     "name": "stdout",
     "output_type": "stream",
     "text": [
      "30\n"
     ]
    }
   ],
   "source": [
    "print(tup0[-6])"
   ]
  },
  {
   "cell_type": "code",
   "execution_count": 32,
   "id": "d60f0b67",
   "metadata": {},
   "outputs": [
    {
     "name": "stdout",
     "output_type": "stream",
     "text": [
      "(20, 30, 40, 50, 60)\n"
     ]
    }
   ],
   "source": [
    "print(tup0[-7 : -2])"
   ]
  },
  {
   "cell_type": "code",
   "execution_count": 33,
   "id": "4a22a532",
   "metadata": {},
   "outputs": [
    {
     "name": "stdout",
     "output_type": "stream",
     "text": [
      "(20, 30, 40, 50, 60, 70, 80)\n"
     ]
    }
   ],
   "source": [
    "print(tup0[-7 : ])"
   ]
  },
  {
   "cell_type": "code",
   "execution_count": 34,
   "id": "f9dba7bd",
   "metadata": {},
   "outputs": [
    {
     "name": "stdout",
     "output_type": "stream",
     "text": [
      "(10, 20, 30, 40, 50, 60)\n"
     ]
    }
   ],
   "source": [
    "print(tup0[: -2])"
   ]
  },
  {
   "cell_type": "markdown",
   "id": "5963ff92",
   "metadata": {},
   "source": [
    "## 2.7. Membership operator: in, not in\n",
    "\n",
    "- <span style=\"color:blue\">'in'</span> operator: Returns True if the member is present, and False if it is not.\n",
    "- <span style=\"color:blue\">'not in'</span> operator: Returns False if the member is present, and True if it is not."
   ]
  },
  {
   "cell_type": "code",
   "execution_count": 35,
   "id": "14f7cb16",
   "metadata": {},
   "outputs": [
    {
     "data": {
      "text/plain": [
       "True"
      ]
     },
     "execution_count": 35,
     "metadata": {},
     "output_type": "execute_result"
    }
   ],
   "source": [
    "list1 = [10, 20, 30, 40]\n",
    "10 in list1"
   ]
  },
  {
   "cell_type": "code",
   "execution_count": 36,
   "id": "0e8234fd",
   "metadata": {},
   "outputs": [
    {
     "data": {
      "text/plain": [
       "False"
      ]
     },
     "execution_count": 36,
     "metadata": {},
     "output_type": "execute_result"
    }
   ],
   "source": [
    "10 not in list1"
   ]
  },
  {
   "cell_type": "code",
   "execution_count": 37,
   "id": "407602fe",
   "metadata": {},
   "outputs": [
    {
     "data": {
      "text/plain": [
       "True"
      ]
     },
     "execution_count": 37,
     "metadata": {},
     "output_type": "execute_result"
    }
   ],
   "source": [
    "tup = (1, 2, 3, 4)\n",
    "3 in tup"
   ]
  },
  {
   "cell_type": "code",
   "execution_count": 38,
   "id": "eec7cf1e",
   "metadata": {},
   "outputs": [
    {
     "data": {
      "text/plain": [
       "False"
      ]
     },
     "execution_count": 38,
     "metadata": {},
     "output_type": "execute_result"
    }
   ],
   "source": [
    "11 in range(10)"
   ]
  },
  {
   "cell_type": "code",
   "execution_count": 39,
   "id": "decca61c",
   "metadata": {},
   "outputs": [
    {
     "data": {
      "text/plain": [
       "True"
      ]
     },
     "execution_count": 39,
     "metadata": {},
     "output_type": "execute_result"
    }
   ],
   "source": [
    "'a' in 'abcd'"
   ]
  },
  {
   "cell_type": "markdown",
   "id": "d15fccc5",
   "metadata": {},
   "source": [
    "## 2.8. len function"
   ]
  },
  {
   "cell_type": "code",
   "execution_count": 41,
   "id": "584b9d53",
   "metadata": {},
   "outputs": [
    {
     "ename": "IndexError",
     "evalue": "list index out of range",
     "output_type": "error",
     "traceback": [
      "\u001b[0;31m---------------------------------------------------------------------------\u001b[0m",
      "\u001b[0;31mIndexError\u001b[0m                                Traceback (most recent call last)",
      "Cell \u001b[0;32mIn[41], line 2\u001b[0m\n\u001b[1;32m      1\u001b[0m nations \u001b[38;5;241m=\u001b[39m [\u001b[38;5;124m'\u001b[39m\u001b[38;5;124mKorea\u001b[39m\u001b[38;5;124m'\u001b[39m, \u001b[38;5;124m'\u001b[39m\u001b[38;5;124mChina\u001b[39m\u001b[38;5;124m'\u001b[39m, \u001b[38;5;124m'\u001b[39m\u001b[38;5;124mRussia\u001b[39m\u001b[38;5;124m'\u001b[39m, \u001b[38;5;124m'\u001b[39m\u001b[38;5;124mMalaysia\u001b[39m\u001b[38;5;124m'\u001b[39m]\n\u001b[0;32m----> 2\u001b[0m \u001b[38;5;28mprint\u001b[39m(\u001b[38;5;124m'\u001b[39m\u001b[38;5;124mLast element of nations :\u001b[39m\u001b[38;5;124m'\u001b[39m, \u001b[43mnations\u001b[49m\u001b[43m[\u001b[49m\u001b[38;5;28;43mlen\u001b[39;49m\u001b[43m(\u001b[49m\u001b[43mnations\u001b[49m\u001b[43m)\u001b[49m\u001b[43m]\u001b[49m)\n",
      "\u001b[0;31mIndexError\u001b[0m: list index out of range"
     ]
    }
   ],
   "source": [
    "nations = ['Korea', 'China', 'Russia', 'Malaysia']\n",
    "print('Last element of nations :', nations[len(nations)])"
   ]
  },
  {
   "cell_type": "code",
   "execution_count": 43,
   "id": "d16007d5",
   "metadata": {},
   "outputs": [
    {
     "name": "stdout",
     "output_type": "stream",
     "text": [
      "Last element of nations : Malaysia\n"
     ]
    }
   ],
   "source": [
    "nations = ['Korea', 'China', 'Russia', 'Malaysia']\n",
    "print('Last element of nations :', nations[len(nations) - 1])"
   ]
  },
  {
   "cell_type": "markdown",
   "id": "3661e859",
   "metadata": {},
   "source": [
    "## 2.9. Count method for determining the number of specific elements in a sequence"
   ]
  },
  {
   "cell_type": "code",
   "execution_count": 44,
   "id": "c8cd6cce",
   "metadata": {},
   "outputs": [
    {
     "name": "stdout",
     "output_type": "stream",
     "text": [
      "5\n",
      "1\n"
     ]
    }
   ],
   "source": [
    "ran = range(0, 5, 1)\n",
    "print(len(ran))\n",
    "print(ran.count(2))"
   ]
  },
  {
   "cell_type": "code",
   "execution_count": 45,
   "id": "cab7da8e",
   "metadata": {},
   "outputs": [
    {
     "name": "stdout",
     "output_type": "stream",
     "text": [
      "3\n"
     ]
    }
   ],
   "source": [
    "list1 = [11, 11, 11, 22, 33, 44]\n",
    "print(list1.count(11))"
   ]
  },
  {
   "cell_type": "code",
   "execution_count": 46,
   "id": "77ca57aa",
   "metadata": {},
   "outputs": [
    {
     "name": "stdout",
     "output_type": "stream",
     "text": [
      "3\n"
     ]
    }
   ],
   "source": [
    "str1 = 'hello world'\n",
    "print(str1.count('l'))"
   ]
  },
  {
   "cell_type": "markdown",
   "id": "d1f6b459",
   "metadata": {},
   "source": [
    "# 3. Precaution when using sequence data types\n",
    "## 3.1. Concatenation operator for sequence data types\n",
    "\n",
    "- the range data type cannot be concatenated using the + operator."
   ]
  },
  {
   "cell_type": "code",
   "execution_count": 47,
   "id": "04ad9e0d",
   "metadata": {},
   "outputs": [
    {
     "name": "stdout",
     "output_type": "stream",
     "text": [
      "[11, 22, 33, 44]\n",
      "[11, 22, 33, 44, 55, 66]\n"
     ]
    }
   ],
   "source": [
    "list1 = [11, 22, 33, 44]\n",
    "list2 = [55, 66]\n",
    "print(list1)\n",
    "print(list1 + list2)"
   ]
  },
  {
   "cell_type": "code",
   "execution_count": 48,
   "id": "baed7ce0",
   "metadata": {},
   "outputs": [
    {
     "name": "stdout",
     "output_type": "stream",
     "text": [
      "(1, 2, 3, 4, 5, 6)\n"
     ]
    }
   ],
   "source": [
    "tup1 = (1, 2, 3)\n",
    "tup2 = (4, 5, 6)\n",
    "print(tup1 + tup2)"
   ]
  },
  {
   "cell_type": "code",
   "execution_count": 49,
   "id": "c6d38f80",
   "metadata": {},
   "outputs": [
    {
     "name": "stdout",
     "output_type": "stream",
     "text": [
      "hello world\n"
     ]
    }
   ],
   "source": [
    "str1 = 'hello '\n",
    "str2 = 'world'\n",
    "print(str1 + str2)"
   ]
  },
  {
   "cell_type": "code",
   "execution_count": 50,
   "id": "3df3fe5f",
   "metadata": {},
   "outputs": [
    {
     "ename": "TypeError",
     "evalue": "unsupported operand type(s) for +: 'range' and 'range'",
     "output_type": "error",
     "traceback": [
      "\u001b[0;31m---------------------------------------------------------------------------\u001b[0m",
      "\u001b[0;31mTypeError\u001b[0m                                 Traceback (most recent call last)",
      "Cell \u001b[0;32mIn[50], line 1\u001b[0m\n\u001b[0;32m----> 1\u001b[0m \u001b[38;5;28;43mrange\u001b[39;49m\u001b[43m(\u001b[49m\u001b[38;5;241;43m10\u001b[39;49m\u001b[43m)\u001b[49m\u001b[43m \u001b[49m\u001b[38;5;241;43m+\u001b[39;49m\u001b[43m \u001b[49m\u001b[38;5;28;43mrange\u001b[39;49m\u001b[43m(\u001b[49m\u001b[38;5;241;43m10\u001b[39;49m\u001b[43m,\u001b[49m\u001b[43m \u001b[49m\u001b[38;5;241;43m20\u001b[39;49m\u001b[43m)\u001b[49m\n",
      "\u001b[0;31mTypeError\u001b[0m: unsupported operand type(s) for +: 'range' and 'range'"
     ]
    }
   ],
   "source": [
    "range(10) + range(10, 20)"
   ]
  },
  {
   "cell_type": "code",
   "execution_count": 51,
   "id": "ccea94da",
   "metadata": {},
   "outputs": [
    {
     "data": {
      "text/plain": [
       "[0, 1, 2, 3, 4, 5, 6, 7, 8, 9, 10, 11, 12, 13, 14, 15, 16, 17, 18, 19]"
      ]
     },
     "execution_count": 51,
     "metadata": {},
     "output_type": "execute_result"
    }
   ],
   "source": [
    "list(range(10)) + list(range(10, 20))"
   ]
  },
  {
   "cell_type": "code",
   "execution_count": 54,
   "id": "601ff376",
   "metadata": {},
   "outputs": [
    {
     "data": {
      "text/plain": [
       "(0, 1, 2, 3, 4, 5, 6, 7, 8, 9, 10, 11, 12, 13, 14, 15, 16, 17, 18, 19)"
      ]
     },
     "execution_count": 54,
     "metadata": {},
     "output_type": "execute_result"
    }
   ],
   "source": [
    "tuple(range(10)) + tuple(range(10, 20))"
   ]
  },
  {
   "cell_type": "markdown",
   "id": "67e397c8",
   "metadata": {},
   "source": [
    "## 3.2. Operator that duplicate sequence types\n",
    "\n",
    "- Sequence data types can also use the repetition operator, which repeats the elements of the data type.\n",
    "    - The syntax is 'sequence type * integer'.\n",
    "    - However, range cannot use the * operator."
   ]
  },
  {
   "cell_type": "code",
   "execution_count": 56,
   "id": "43bcb086",
   "metadata": {},
   "outputs": [
    {
     "name": "stdout",
     "output_type": "stream",
     "text": [
      "[11, 22, 33, 44, 11, 22, 33, 44]\n"
     ]
    }
   ],
   "source": [
    "list1 = [11, 22, 33, 44] * 2\n",
    "print(list1)"
   ]
  },
  {
   "cell_type": "code",
   "execution_count": 57,
   "id": "b6dca1b0",
   "metadata": {},
   "outputs": [
    {
     "name": "stdout",
     "output_type": "stream",
     "text": [
      "(1, 2, 3, 1, 2, 3)\n"
     ]
    }
   ],
   "source": [
    "tup1 = (1, 2, 3)\n",
    "print(tup1 * 2)"
   ]
  },
  {
   "cell_type": "code",
   "execution_count": 58,
   "id": "762b3347",
   "metadata": {},
   "outputs": [
    {
     "name": "stdout",
     "output_type": "stream",
     "text": [
      "hellohellohello\n"
     ]
    }
   ],
   "source": [
    "str2 = 'hello'\n",
    "print(str2 * 3)"
   ]
  },
  {
   "cell_type": "code",
   "execution_count": 59,
   "id": "432a264f",
   "metadata": {},
   "outputs": [
    {
     "ename": "TypeError",
     "evalue": "unsupported operand type(s) for *: 'range' and 'int'",
     "output_type": "error",
     "traceback": [
      "\u001b[0;31m---------------------------------------------------------------------------\u001b[0m",
      "\u001b[0;31mTypeError\u001b[0m                                 Traceback (most recent call last)",
      "Cell \u001b[0;32mIn[59], line 1\u001b[0m\n\u001b[0;32m----> 1\u001b[0m \u001b[38;5;28;43mrange\u001b[39;49m\u001b[43m(\u001b[49m\u001b[38;5;241;43m10\u001b[39;49m\u001b[43m)\u001b[49m\u001b[43m \u001b[49m\u001b[38;5;241;43m*\u001b[39;49m\u001b[43m \u001b[49m\u001b[38;5;241;43m3\u001b[39;49m\n",
      "\u001b[0;31mTypeError\u001b[0m: unsupported operand type(s) for *: 'range' and 'int'"
     ]
    }
   ],
   "source": [
    "range(10) * 3"
   ]
  },
  {
   "cell_type": "code",
   "execution_count": 60,
   "id": "5e1a206c",
   "metadata": {},
   "outputs": [
    {
     "name": "stdout",
     "output_type": "stream",
     "text": [
      "[0, 1, 2, 3, 4, 0, 1, 2, 3, 4, 0, 1, 2, 3, 4]\n"
     ]
    }
   ],
   "source": [
    "ran = list(range(5)) * 3\n",
    "print(ran)"
   ]
  },
  {
   "cell_type": "code",
   "execution_count": 61,
   "id": "1448c56b",
   "metadata": {},
   "outputs": [
    {
     "name": "stdout",
     "output_type": "stream",
     "text": [
      "(0, 1, 2, 3, 4, 0, 1, 2, 3, 4, 0, 1, 2, 3, 4)\n"
     ]
    }
   ],
   "source": [
    "ran = tuple(range(5)) * 3\n",
    "print(ran)"
   ]
  },
  {
   "cell_type": "code",
   "execution_count": 62,
   "id": "78a7d21c",
   "metadata": {},
   "outputs": [
    {
     "ename": "TypeError",
     "evalue": "can't multiply sequence by non-int of type 'list'",
     "output_type": "error",
     "traceback": [
      "\u001b[0;31m---------------------------------------------------------------------------\u001b[0m",
      "\u001b[0;31mTypeError\u001b[0m                                 Traceback (most recent call last)",
      "Cell \u001b[0;32mIn[62], line 3\u001b[0m\n\u001b[1;32m      1\u001b[0m list1 \u001b[38;5;241m=\u001b[39m [\u001b[38;5;241m11\u001b[39m, \u001b[38;5;241m22\u001b[39m, \u001b[38;5;241m33\u001b[39m, \u001b[38;5;241m44\u001b[39m]\n\u001b[1;32m      2\u001b[0m list2 \u001b[38;5;241m=\u001b[39m [\u001b[38;5;241m55\u001b[39m, \u001b[38;5;241m66\u001b[39m]\n\u001b[0;32m----> 3\u001b[0m \u001b[38;5;28mprint\u001b[39m(\u001b[43mlist1\u001b[49m\u001b[43m \u001b[49m\u001b[38;5;241;43m*\u001b[39;49m\u001b[43m \u001b[49m\u001b[43mlist2\u001b[49m)\n",
      "\u001b[0;31mTypeError\u001b[0m: can't multiply sequence by non-int of type 'list'"
     ]
    }
   ],
   "source": [
    "list1 = [11, 22, 33, 44]\n",
    "list2 = [55, 66]\n",
    "print(list1 * list2)"
   ]
  },
  {
   "cell_type": "markdown",
   "id": "b74abd3e",
   "metadata": {},
   "source": [
    "## 3.3. Comparison operator"
   ]
  },
  {
   "cell_type": "code",
   "execution_count": 68,
   "id": "01184e82",
   "metadata": {},
   "outputs": [],
   "source": [
    "a = ('A', 'B', 'C')\n",
    "b = ('A', 'B', 'D')"
   ]
  },
  {
   "cell_type": "code",
   "execution_count": 69,
   "id": "665d792d",
   "metadata": {},
   "outputs": [
    {
     "data": {
      "text/plain": [
       "False"
      ]
     },
     "execution_count": 69,
     "metadata": {},
     "output_type": "execute_result"
    }
   ],
   "source": [
    "a > b"
   ]
  },
  {
   "cell_type": "code",
   "execution_count": 70,
   "id": "e039cb39",
   "metadata": {},
   "outputs": [
    {
     "data": {
      "text/plain": [
       "True"
      ]
     },
     "execution_count": 70,
     "metadata": {},
     "output_type": "execute_result"
    }
   ],
   "source": [
    "a < b"
   ]
  },
  {
   "cell_type": "code",
   "execution_count": 71,
   "id": "42784a76",
   "metadata": {},
   "outputs": [
    {
     "data": {
      "text/plain": [
       "67"
      ]
     },
     "execution_count": 71,
     "metadata": {},
     "output_type": "execute_result"
    }
   ],
   "source": [
    "ord('C')"
   ]
  },
  {
   "cell_type": "code",
   "execution_count": 72,
   "id": "435e6527",
   "metadata": {},
   "outputs": [
    {
     "data": {
      "text/plain": [
       "68"
      ]
     },
     "execution_count": 72,
     "metadata": {},
     "output_type": "execute_result"
    }
   ],
   "source": [
    "ord('D')"
   ]
  },
  {
   "cell_type": "code",
   "execution_count": 73,
   "id": "5149270f",
   "metadata": {},
   "outputs": [],
   "source": [
    "a = 'ABC'\n",
    "b = 'ABD'"
   ]
  },
  {
   "cell_type": "code",
   "execution_count": 74,
   "id": "7848c6a3",
   "metadata": {},
   "outputs": [
    {
     "data": {
      "text/plain": [
       "False"
      ]
     },
     "execution_count": 74,
     "metadata": {},
     "output_type": "execute_result"
    }
   ],
   "source": [
    "a > b"
   ]
  },
  {
   "cell_type": "code",
   "execution_count": 75,
   "id": "3e428cf2",
   "metadata": {},
   "outputs": [
    {
     "data": {
      "text/plain": [
       "True"
      ]
     },
     "execution_count": 75,
     "metadata": {},
     "output_type": "execute_result"
    }
   ],
   "source": [
    "a < b"
   ]
  },
  {
   "cell_type": "code",
   "execution_count": 3,
   "id": "76fc2b62",
   "metadata": {},
   "outputs": [
    {
     "ename": "TypeError",
     "evalue": "'>' not supported between instances of 'range' and 'range'",
     "output_type": "error",
     "traceback": [
      "\u001b[0;31m---------------------------------------------------------------------------\u001b[0m",
      "\u001b[0;31mTypeError\u001b[0m                                 Traceback (most recent call last)",
      "Cell \u001b[0;32mIn[3], line 3\u001b[0m\n\u001b[1;32m      1\u001b[0m a \u001b[38;5;241m=\u001b[39m \u001b[38;5;28mrange\u001b[39m(\u001b[38;5;241m0\u001b[39m, \u001b[38;5;241m5\u001b[39m)\n\u001b[1;32m      2\u001b[0m b \u001b[38;5;241m=\u001b[39m \u001b[38;5;28mrange\u001b[39m(\u001b[38;5;241m0\u001b[39m, \u001b[38;5;241m6\u001b[39m)\n\u001b[0;32m----> 3\u001b[0m \u001b[43ma\u001b[49m\u001b[43m \u001b[49m\u001b[38;5;241;43m>\u001b[39;49m\u001b[43m \u001b[49m\u001b[43mb\u001b[49m\n",
      "\u001b[0;31mTypeError\u001b[0m: '>' not supported between instances of 'range' and 'range'"
     ]
    }
   ],
   "source": [
    "a = range(0, 5)\n",
    "b = range(0, 6)\n",
    "a > b"
   ]
  },
  {
   "cell_type": "markdown",
   "id": "59d17d0b",
   "metadata": {},
   "source": [
    "# 4. Immutable data types\n",
    "## 4.1. What are immutable data types?\n",
    "\n",
    "- Immutable data types refer to data types that cannot be changed after they are created.\n",
    "\n",
    "- In other words, they connot be modified internally. They can <span style=\"color:orange\">only be reassigned.</span>\n",
    "\n",
    "- <span style=\"color:blue\">Tuples</span> are a representative example. Tuples cannot modify their internal elements. A new value must be assigned."
   ]
  },
  {
   "cell_type": "markdown",
   "id": "2c259449",
   "metadata": {},
   "source": [
    "## 4.2. Immutable data types and the is operator"
   ]
  },
  {
   "cell_type": "code",
   "execution_count": 9,
   "id": "c5fe08b1",
   "metadata": {},
   "outputs": [
    {
     "name": "stdout",
     "output_type": "stream",
     "text": [
      "It's same.\n",
      "It's different object.\n"
     ]
    }
   ],
   "source": [
    "list1 = [10, 20, 30]\n",
    "list2 = [10, 20, 30]\n",
    "if list1 == list2 :\n",
    "    print(\"It's same.\")\n",
    "    if list1 is list2 :\n",
    "        print(\"It's same object.\")\n",
    "    else :\n",
    "        print(\"It's different object.\")\n",
    "else :\n",
    "    print(\"It's different.\")"
   ]
  },
  {
   "cell_type": "code",
   "execution_count": 10,
   "id": "492f19f3",
   "metadata": {},
   "outputs": [
    {
     "name": "stdout",
     "output_type": "stream",
     "text": [
      "It's same.\n",
      "It's same object.\n"
     ]
    }
   ],
   "source": [
    "string1 = 'ABC'\n",
    "string2 = 'ABC'\n",
    "if string1 == string2 :\n",
    "    print(\"It's same.\")\n",
    "    if string1 is string2 :\n",
    "        print(\"It's same object.\")\n",
    "    else :\n",
    "        print(\"It's different object.\")\n",
    "else :\n",
    "    print(\"It's different.\")"
   ]
  },
  {
   "cell_type": "markdown",
   "id": "1746215a",
   "metadata": {},
   "source": [
    "## 4.3. Immutable data types and the id function"
   ]
  },
  {
   "cell_type": "code",
   "execution_count": 11,
   "id": "13d605a6",
   "metadata": {},
   "outputs": [
    {
     "name": "stdout",
     "output_type": "stream",
     "text": [
      "4398242816 vs. 4398237440\n",
      "4316721136 vs. 4316721136\n"
     ]
    }
   ],
   "source": [
    "print(id(list1), 'vs.', id(list2))\n",
    "print(id(string1), 'vs.', id(string2))"
   ]
  },
  {
   "cell_type": "markdown",
   "id": "ee1c6b6c",
   "metadata": {},
   "source": [
    "## 4.4. Immutable data types and the assignment operator"
   ]
  },
  {
   "cell_type": "code",
   "execution_count": 12,
   "id": "2ba6e48e",
   "metadata": {},
   "outputs": [
    {
     "data": {
      "text/plain": [
       "4315434320"
      ]
     },
     "execution_count": 12,
     "metadata": {},
     "output_type": "execute_result"
    }
   ],
   "source": [
    "n = 100\n",
    "id(100)"
   ]
  },
  {
   "cell_type": "code",
   "execution_count": 13,
   "id": "f688b71b",
   "metadata": {},
   "outputs": [
    {
     "data": {
      "text/plain": [
       "4315434320"
      ]
     },
     "execution_count": 13,
     "metadata": {},
     "output_type": "execute_result"
    }
   ],
   "source": [
    "id(n)"
   ]
  },
  {
   "cell_type": "code",
   "execution_count": 14,
   "id": "cf730a5c",
   "metadata": {},
   "outputs": [
    {
     "data": {
      "text/plain": [
       "4315434320"
      ]
     },
     "execution_count": 14,
     "metadata": {},
     "output_type": "execute_result"
    }
   ],
   "source": [
    "n = 100\n",
    "m = n\n",
    "id(n)"
   ]
  },
  {
   "cell_type": "code",
   "execution_count": 15,
   "id": "0548200a",
   "metadata": {},
   "outputs": [
    {
     "data": {
      "text/plain": [
       "4315434320"
      ]
     },
     "execution_count": 15,
     "metadata": {},
     "output_type": "execute_result"
    }
   ],
   "source": [
    "id(m)"
   ]
  },
  {
   "cell_type": "code",
   "execution_count": 16,
   "id": "38f1f076",
   "metadata": {},
   "outputs": [
    {
     "name": "stdout",
     "output_type": "stream",
     "text": [
      "4315434320\n",
      "4315434320\n"
     ]
    }
   ],
   "source": [
    "n = 100\n",
    "m = 100\n",
    "print(id(n))\n",
    "print(id(m))"
   ]
  },
  {
   "cell_type": "code",
   "execution_count": 17,
   "id": "a0bbbea4",
   "metadata": {},
   "outputs": [
    {
     "data": {
      "text/plain": [
       "4315434320"
      ]
     },
     "execution_count": 17,
     "metadata": {},
     "output_type": "execute_result"
    }
   ],
   "source": [
    "n = 100\n",
    "id(n)"
   ]
  },
  {
   "cell_type": "code",
   "execution_count": 18,
   "id": "9818af00",
   "metadata": {},
   "outputs": [
    {
     "data": {
      "text/plain": [
       "4315434352"
      ]
     },
     "execution_count": 18,
     "metadata": {},
     "output_type": "execute_result"
    }
   ],
   "source": [
    "n += 1\n",
    "id(n)"
   ]
  },
  {
   "cell_type": "markdown",
   "id": "6e491863",
   "metadata": {},
   "source": [
    "- Periodic garbage memory cleanup is necessary, and this memory management procedure is called <span style=\"color:orange\">garbage collection</span>."
   ]
  },
  {
   "cell_type": "code",
   "execution_count": 30,
   "id": "f45482c8",
   "metadata": {},
   "outputs": [
    {
     "name": "stdout",
     "output_type": "stream",
     "text": [
      "[1, 1, 2, 2, 3, 3, 3, 4, 4, 5, 7, 7, 8, 9, 9, 9]\n"
     ]
    }
   ],
   "source": [
    "tup = (1, 2, 5, 4, 3, 2, 1, 4, 7, 8, 9, 9, 3, 7, 3, 9)\n",
    "temp = list(tup)\n",
    "temp.sort()\n",
    "print(temp)"
   ]
  },
  {
   "cell_type": "code",
   "execution_count": 41,
   "id": "787da35e",
   "metadata": {},
   "outputs": [
    {
     "name": "stdout",
     "output_type": "stream",
     "text": [
      "[1, 2, 3, 4, 5, 7, 8]\n"
     ]
    }
   ],
   "source": [
    "value = []\n",
    "frequently = 0\n",
    "index = 0\n",
    "for i in range(len(temp)-1) :\n",
    "    \n",
    "    if temp[i] != temp[i + 1] :\n",
    "        value.append(temp[i])\n",
    "    \n",
    "print(value)"
   ]
  },
  {
   "cell_type": "code",
   "execution_count": 1,
   "id": "f2cddc8b",
   "metadata": {},
   "outputs": [
    {
     "name": "stdout",
     "output_type": "stream",
     "text": [
      "The aging degrees of villages A and B are 0.165 and 0.003 each.\n"
     ]
    }
   ],
   "source": [
    "population_a = (100, 150, 230, 120, 180, 100, 140, 95, 81, 21, 4)\n",
    "population_b = (300, 420, 530, 420, 400, 300, 40, 5, 1, 1, 1)\n",
    "\n",
    "oldA = sum(population_a[7:])\n",
    "oldB = sum(population_b[7:])\n",
    "sumA, sumB = sum(population_a), sum(population_b)\n",
    "\n",
    "oldRateA, oldRateB = oldA/sumA, oldB/sumB\n",
    "\n",
    "print('The aging degrees of villages A and B are {:5.3f} and {:5.3f} each.'.format(oldRateA, oldRateB))"
   ]
  },
  {
   "cell_type": "code",
   "execution_count": null,
   "id": "05339489",
   "metadata": {},
   "outputs": [],
   "source": []
  },
  {
   "cell_type": "code",
   "execution_count": null,
   "id": "ad48ea51",
   "metadata": {},
   "outputs": [],
   "source": []
  },
  {
   "cell_type": "code",
   "execution_count": null,
   "id": "30ef91ff",
   "metadata": {},
   "outputs": [],
   "source": []
  }
 ],
 "metadata": {
  "kernelspec": {
   "display_name": "Python 3 (ipykernel)",
   "language": "python",
   "name": "python3"
  },
  "language_info": {
   "codemirror_mode": {
    "name": "ipython",
    "version": 3
   },
   "file_extension": ".py",
   "mimetype": "text/x-python",
   "name": "python",
   "nbconvert_exporter": "python",
   "pygments_lexer": "ipython3",
   "version": "3.11.3"
  }
 },
 "nbformat": 4,
 "nbformat_minor": 5
}
