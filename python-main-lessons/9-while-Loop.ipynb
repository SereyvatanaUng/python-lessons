{
 "cells": [
  {
   "cell_type": "markdown",
   "id": "69e1600c",
   "metadata": {},
   "source": [
    "# 1. Flow Control in Loops\n",
    "## 1.1. for statement and while statement"
   ]
  },
  {
   "cell_type": "code",
   "execution_count": 1,
   "id": "f187faaf",
   "metadata": {},
   "outputs": [
    {
     "name": "stdout",
     "output_type": "stream",
     "text": [
      "Welcome to everyone!!\n",
      "Welcome to everyone!!\n",
      "Welcome to everyone!!\n",
      "We're glad to see you\n"
     ]
    },
    {
     "data": {
      "text/plain": [
       "2"
      ]
     },
     "execution_count": 1,
     "metadata": {},
     "output_type": "execute_result"
    }
   ],
   "source": [
    "for i in range(3) :\n",
    "    print('Welcome to everyone!!')\n",
    "print(\"We're glad to see you\")\n",
    "i"
   ]
  },
  {
   "cell_type": "code",
   "execution_count": 2,
   "id": "86ae125a",
   "metadata": {},
   "outputs": [
    {
     "name": "stdout",
     "output_type": "stream",
     "text": [
      "Welcome to everyone!!\n",
      "Welcome to everyone!!\n",
      "Welcome to everyone!!\n",
      "We're glad to see you\n"
     ]
    },
    {
     "data": {
      "text/plain": [
       "3"
      ]
     },
     "execution_count": 2,
     "metadata": {},
     "output_type": "execute_result"
    }
   ],
   "source": [
    "i = 0 \n",
    "while i < 3 :\n",
    "    i += 1\n",
    "    print('Welcome to everyone!!')\n",
    "print(\"We're glad to see you\")\n",
    "i"
   ]
  },
  {
   "cell_type": "markdown",
   "id": "1cc4d635",
   "metadata": {},
   "source": [
    "- In the while statement, you can use any boolean expression that includes the \"in\" operator before the colon (:)."
   ]
  },
  {
   "cell_type": "code",
   "execution_count": 3,
   "id": "c6b47417",
   "metadata": {},
   "outputs": [
    {
     "name": "stdout",
     "output_type": "stream",
     "text": [
      "Welcome to everyone!!\n",
      "Welcome to everyone!!\n",
      "Welcome to everyone!!\n"
     ]
    },
    {
     "data": {
      "text/plain": [
       "3"
      ]
     },
     "execution_count": 3,
     "metadata": {},
     "output_type": "execute_result"
    }
   ],
   "source": [
    "i = 0\n",
    "while i in range(3) :\n",
    "    i += 1\n",
    "    print('Welcome to everyone!!')\n",
    "i"
   ]
  },
  {
   "cell_type": "code",
   "execution_count": 4,
   "id": "313432a1",
   "metadata": {},
   "outputs": [
    {
     "ename": "SyntaxError",
     "evalue": "invalid syntax (2298128309.py, line 2)",
     "output_type": "error",
     "traceback": [
      "\u001b[1;36m  Cell \u001b[1;32mIn[4], line 2\u001b[1;36m\u001b[0m\n\u001b[1;33m    for i < 3 :\u001b[0m\n\u001b[1;37m          ^\u001b[0m\n\u001b[1;31mSyntaxError\u001b[0m\u001b[1;31m:\u001b[0m invalid syntax\n"
     ]
    }
   ],
   "source": [
    "i = 0\n",
    "for i < 3 :\n",
    "    i += 1\n",
    "    print('Welcome to everyone!!')\n",
    "i"
   ]
  },
  {
   "cell_type": "markdown",
   "id": "5384dd22",
   "metadata": {},
   "source": [
    "## 1.2. Keyword that change flow of the loop statement\n",
    "\n",
    "- These `\"break\"` and `\"continue\"` keywords <span style=\"color:orange\">must be used in the block of the loop,</span>\n",
    "\n",
    "- and they are commonly used in the <span style=\"color:blue\">block of conditional statement</span> within the block of the loop."
   ]
  },
  {
   "cell_type": "code",
   "execution_count": 8,
   "id": "d95e2d3b",
   "metadata": {},
   "outputs": [
    {
     "name": "stdout",
     "output_type": "stream",
     "text": [
      "Welcome to everyone!!\n",
      "We're glad to see you\n"
     ]
    },
    {
     "data": {
      "text/plain": [
       "1"
      ]
     },
     "execution_count": 8,
     "metadata": {},
     "output_type": "execute_result"
    }
   ],
   "source": [
    "for i in range(5) :\n",
    "    if i == 1 :\n",
    "        break\n",
    "    print('Welcome to everyone!!')\n",
    "print(\"We're glad to see you\")\n",
    "i"
   ]
  },
  {
   "cell_type": "code",
   "execution_count": 7,
   "id": "743c5a64",
   "metadata": {},
   "outputs": [
    {
     "name": "stdout",
     "output_type": "stream",
     "text": [
      "Welcome to everyone!!\n",
      "We're glad to see you\n"
     ]
    },
    {
     "data": {
      "text/plain": [
       "4"
      ]
     },
     "execution_count": 7,
     "metadata": {},
     "output_type": "execute_result"
    }
   ],
   "source": [
    "for i in range(5) :\n",
    "    if i >= 1 :\n",
    "        continue\n",
    "    print('Welcome to everyone!!')\n",
    "print(\"We're glad to see you\")\n",
    "i"
   ]
  },
  {
   "cell_type": "markdown",
   "id": "9566f396",
   "metadata": {},
   "source": [
    "- The difference is that <span style=\"color:orange\">`\"break\"` exits the loop</span>, <br> while <span style=\"color:blue\">`\"continue\"` goes back to the top part of the block and executes the next iteration of the loop</span>."
   ]
  },
  {
   "cell_type": "code",
   "execution_count": 9,
   "id": "0806ca2e",
   "metadata": {},
   "outputs": [
    {
     "name": "stdout",
     "output_type": "stream",
     "text": [
      "Welcome to eveyone!!\n",
      "We're glad to see you\n"
     ]
    },
    {
     "data": {
      "text/plain": [
       "1"
      ]
     },
     "execution_count": 9,
     "metadata": {},
     "output_type": "execute_result"
    }
   ],
   "source": [
    "i = 0\n",
    "while i < 5 :\n",
    "    i += 1\n",
    "    print('Welcome to eveyone!!')\n",
    "    if i == 1 : \n",
    "        break\n",
    "print(\"We're glad to see you\")\n",
    "i"
   ]
  },
  {
   "cell_type": "code",
   "execution_count": 11,
   "id": "bb461b6a",
   "metadata": {},
   "outputs": [
    {
     "name": "stdout",
     "output_type": "stream",
     "text": [
      "Welcome to everyone!!\n",
      "We're glad to see you\n"
     ]
    },
    {
     "data": {
      "text/plain": [
       "5"
      ]
     },
     "execution_count": 11,
     "metadata": {},
     "output_type": "execute_result"
    }
   ],
   "source": [
    "i = 0 \n",
    "while i < 5 :\n",
    "    i += 1\n",
    "    if i > 1 :\n",
    "        continue\n",
    "    print('Welcome to everyone!!')\n",
    "print(\"We're glad to see you\")\n",
    "i"
   ]
  },
  {
   "cell_type": "markdown",
   "id": "7d522c32",
   "metadata": {},
   "source": [
    "- Within a loop block, break and continue can <span style=\"color:blue\">be used without an if statement</span>.\n",
    "\n",
    "- However, they are commonly <span style=\"color:orange\">used with an if statement</span> to indicate <span style=\"color:blue\">when</span> to <span style=\"color:orange\">change the flow</span>.\n",
    "\n",
    "- `break` and `continue` are meaningless when used alone."
   ]
  },
  {
   "cell_type": "code",
   "execution_count": 13,
   "id": "53a78852",
   "metadata": {},
   "outputs": [
    {
     "name": "stdout",
     "output_type": "stream",
     "text": [
      "Welcome to everyone!!\n",
      "We're glad to see you\n"
     ]
    },
    {
     "data": {
      "text/plain": [
       "0"
      ]
     },
     "execution_count": 13,
     "metadata": {},
     "output_type": "execute_result"
    }
   ],
   "source": [
    "for i in range(3) :\n",
    "    print('Welcome to everyone!!')\n",
    "    break\n",
    "print(\"We're glad to see you\")\n",
    "i"
   ]
  },
  {
   "cell_type": "code",
   "execution_count": 14,
   "id": "4925e838",
   "metadata": {},
   "outputs": [
    {
     "name": "stdout",
     "output_type": "stream",
     "text": [
      "Welcome to everyone!!\n",
      "We're glad to see you\n"
     ]
    },
    {
     "data": {
      "text/plain": [
       "1"
      ]
     },
     "execution_count": 14,
     "metadata": {},
     "output_type": "execute_result"
    }
   ],
   "source": [
    "i = 0 \n",
    "while i < 3 :\n",
    "    i += 1\n",
    "    print('Welcome to everyone!!')\n",
    "    break\n",
    "print(\"We're glad to see you\")\n",
    "i"
   ]
  },
  {
   "cell_type": "code",
   "execution_count": 15,
   "id": "8b746535",
   "metadata": {},
   "outputs": [
    {
     "name": "stdout",
     "output_type": "stream",
     "text": [
      "We're glad to see you\n"
     ]
    },
    {
     "data": {
      "text/plain": [
       "2"
      ]
     },
     "execution_count": 15,
     "metadata": {},
     "output_type": "execute_result"
    }
   ],
   "source": [
    "for i in range(3) :\n",
    "    continue\n",
    "    print('Welcome to everyone!!')\n",
    "print(\"We're glad to see you\")\n",
    "i"
   ]
  },
  {
   "cell_type": "code",
   "execution_count": 17,
   "id": "88bbb9ba",
   "metadata": {},
   "outputs": [
    {
     "name": "stdout",
     "output_type": "stream",
     "text": [
      "We're glad to see you\n"
     ]
    },
    {
     "data": {
      "text/plain": [
       "3"
      ]
     },
     "execution_count": 17,
     "metadata": {},
     "output_type": "execute_result"
    }
   ],
   "source": [
    "i = 0\n",
    "while i < 3 :\n",
    "    i += 1\n",
    "    continue\n",
    "    print('Welcome to everyone!!')\n",
    "print(\"We're glad to see you\")\n",
    "i"
   ]
  },
  {
   "cell_type": "markdown",
   "id": "249a0870",
   "metadata": {},
   "source": [
    "- When using `break` and `continue` to change the flow without a loop like for or while, an error occurs, so be careful."
   ]
  },
  {
   "cell_type": "code",
   "execution_count": 18,
   "id": "672a67a7",
   "metadata": {},
   "outputs": [
    {
     "ename": "SyntaxError",
     "evalue": "'break' outside loop (668683560.py, line 1)",
     "output_type": "error",
     "traceback": [
      "\u001b[1;36m  Cell \u001b[1;32mIn[18], line 1\u001b[1;36m\u001b[0m\n\u001b[1;33m    break\u001b[0m\n\u001b[1;37m    ^\u001b[0m\n\u001b[1;31mSyntaxError\u001b[0m\u001b[1;31m:\u001b[0m 'break' outside loop\n"
     ]
    }
   ],
   "source": [
    "break"
   ]
  },
  {
   "cell_type": "code",
   "execution_count": 19,
   "id": "c08ffa5d",
   "metadata": {},
   "outputs": [
    {
     "ename": "SyntaxError",
     "evalue": "'break' outside loop (2086424132.py, line 3)",
     "output_type": "error",
     "traceback": [
      "\u001b[1;36m  Cell \u001b[1;32mIn[19], line 3\u001b[1;36m\u001b[0m\n\u001b[1;33m    break\u001b[0m\n\u001b[1;37m    ^\u001b[0m\n\u001b[1;31mSyntaxError\u001b[0m\u001b[1;31m:\u001b[0m 'break' outside loop\n"
     ]
    }
   ],
   "source": [
    "if 1 :\n",
    "    print(1)\n",
    "    break"
   ]
  },
  {
   "cell_type": "code",
   "execution_count": 20,
   "id": "3a8d5be6",
   "metadata": {},
   "outputs": [
    {
     "ename": "SyntaxError",
     "evalue": "'continue' not properly in loop (414696514.py, line 1)",
     "output_type": "error",
     "traceback": [
      "\u001b[1;36m  Cell \u001b[1;32mIn[20], line 1\u001b[1;36m\u001b[0m\n\u001b[1;33m    continue\u001b[0m\n\u001b[1;37m    ^\u001b[0m\n\u001b[1;31mSyntaxError\u001b[0m\u001b[1;31m:\u001b[0m 'continue' not properly in loop\n"
     ]
    }
   ],
   "source": [
    "continue"
   ]
  },
  {
   "cell_type": "code",
   "execution_count": 21,
   "id": "2cc412ea",
   "metadata": {},
   "outputs": [
    {
     "ename": "SyntaxError",
     "evalue": "'continue' not properly in loop (3550440940.py, line 3)",
     "output_type": "error",
     "traceback": [
      "\u001b[1;36m  Cell \u001b[1;32mIn[21], line 3\u001b[1;36m\u001b[0m\n\u001b[1;33m    continue\u001b[0m\n\u001b[1;37m    ^\u001b[0m\n\u001b[1;31mSyntaxError\u001b[0m\u001b[1;31m:\u001b[0m 'continue' not properly in loop\n"
     ]
    }
   ],
   "source": [
    "if 1 :\n",
    "    print(1)\n",
    "    continue"
   ]
  },
  {
   "cell_type": "markdown",
   "id": "67518b64",
   "metadata": {},
   "source": [
    "# 2. While statement"
   ]
  },
  {
   "cell_type": "markdown",
   "id": "574b1af3",
   "metadata": {},
   "source": [
    "## 2.1. while statement Syntax "
   ]
  },
  {
   "cell_type": "markdown",
   "id": "eef86759",
   "metadata": {},
   "source": [
    "- We need to <span style=\"color:orange\">be careful with the while statement because if the condition remains true, the block of code inside the loop may not terminate.</span>\n",
    "\n",
    "- If we <span style=\"color:blue\">directly use</span> the boolean value <span style=\"color:blue\">True</span> between the while keyword and the colon ( : ), it is called an <span style=\"color:orange\">infinite loop</span>."
   ]
  },
  {
   "cell_type": "markdown",
   "id": "7afd7270",
   "metadata": {},
   "source": [
    "- A \"condition-controlled loop\" refers to a loop that <span style=\"color:orange\">repeats as long as a certain condition is satisfied</span>."
   ]
  },
  {
   "cell_type": "code",
   "execution_count": null,
   "id": "90e73aeb",
   "metadata": {},
   "outputs": [],
   "source": []
  }
 ],
 "metadata": {
  "kernelspec": {
   "display_name": "Python 3 (ipykernel)",
   "language": "python",
   "name": "python3"
  },
  "language_info": {
   "codemirror_mode": {
    "name": "ipython",
    "version": 3
   },
   "file_extension": ".py",
   "mimetype": "text/x-python",
   "name": "python",
   "nbconvert_exporter": "python",
   "pygments_lexer": "ipython3",
   "version": "3.11.3"
  }
 },
 "nbformat": 4,
 "nbformat_minor": 5
}
