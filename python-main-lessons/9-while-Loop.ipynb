{
 "cells": [
  {
   "cell_type": "markdown",
   "id": "69e1600c",
   "metadata": {},
   "source": [
    "# 1. Flow Control in Loops\n",
    "## 1.1. for statement and while statement"
   ]
  },
  {
   "cell_type": "code",
   "execution_count": 1,
   "id": "f187faaf",
   "metadata": {},
   "outputs": [
    {
     "name": "stdout",
     "output_type": "stream",
     "text": [
      "Welcome to everyone!!\n",
      "Welcome to everyone!!\n",
      "Welcome to everyone!!\n",
      "We're glad to see you\n"
     ]
    },
    {
     "data": {
      "text/plain": [
       "2"
      ]
     },
     "execution_count": 1,
     "metadata": {},
     "output_type": "execute_result"
    }
   ],
   "source": [
    "for i in range(3) :\n",
    "    print('Welcome to everyone!!')\n",
    "print(\"We're glad to see you\")\n",
    "i"
   ]
  },
  {
   "cell_type": "code",
   "execution_count": 2,
   "id": "86ae125a",
   "metadata": {},
   "outputs": [
    {
     "name": "stdout",
     "output_type": "stream",
     "text": [
      "Welcome to everyone!!\n",
      "Welcome to everyone!!\n",
      "Welcome to everyone!!\n",
      "We're glad to see you\n"
     ]
    },
    {
     "data": {
      "text/plain": [
       "3"
      ]
     },
     "execution_count": 2,
     "metadata": {},
     "output_type": "execute_result"
    }
   ],
   "source": [
    "i = 0 \n",
    "while i < 3 :\n",
    "    i += 1\n",
    "    print('Welcome to everyone!!')\n",
    "print(\"We're glad to see you\")\n",
    "i"
   ]
  },
  {
   "cell_type": "markdown",
   "id": "1cc4d635",
   "metadata": {},
   "source": [
    "- In the while statement, you can use any boolean expression that includes the \"in\" operator before the colon (:)."
   ]
  },
  {
   "cell_type": "code",
   "execution_count": 3,
   "id": "c6b47417",
   "metadata": {},
   "outputs": [
    {
     "name": "stdout",
     "output_type": "stream",
     "text": [
      "Welcome to everyone!!\n",
      "Welcome to everyone!!\n",
      "Welcome to everyone!!\n"
     ]
    },
    {
     "data": {
      "text/plain": [
       "3"
      ]
     },
     "execution_count": 3,
     "metadata": {},
     "output_type": "execute_result"
    }
   ],
   "source": [
    "i = 0\n",
    "while i in range(3) :\n",
    "    i += 1\n",
    "    print('Welcome to everyone!!')\n",
    "i"
   ]
  },
  {
   "cell_type": "code",
   "execution_count": 4,
   "id": "313432a1",
   "metadata": {},
   "outputs": [
    {
     "ename": "SyntaxError",
     "evalue": "invalid syntax (2298128309.py, line 2)",
     "output_type": "error",
     "traceback": [
      "\u001b[1;36m  Cell \u001b[1;32mIn[4], line 2\u001b[1;36m\u001b[0m\n\u001b[1;33m    for i < 3 :\u001b[0m\n\u001b[1;37m          ^\u001b[0m\n\u001b[1;31mSyntaxError\u001b[0m\u001b[1;31m:\u001b[0m invalid syntax\n"
     ]
    }
   ],
   "source": [
    "i = 0\n",
    "for i < 3 :\n",
    "    i += 1\n",
    "    print('Welcome to everyone!!')\n",
    "i"
   ]
  },
  {
   "cell_type": "markdown",
   "id": "5384dd22",
   "metadata": {},
   "source": [
    "## 1.2. Keyword that change flow of the loop statement\n",
    "\n",
    "- These `\"break\"` and `\"continue\"` keywords <span style=\"color:orange\">must be used in the block of the loop,</span>\n",
    "\n",
    "- and they are commonly used in the <span style=\"color:blue\">block of conditional statement</span> within the block of the loop."
   ]
  },
  {
   "cell_type": "code",
   "execution_count": 8,
   "id": "d95e2d3b",
   "metadata": {},
   "outputs": [
    {
     "name": "stdout",
     "output_type": "stream",
     "text": [
      "Welcome to everyone!!\n",
      "We're glad to see you\n"
     ]
    },
    {
     "data": {
      "text/plain": [
       "1"
      ]
     },
     "execution_count": 8,
     "metadata": {},
     "output_type": "execute_result"
    }
   ],
   "source": [
    "for i in range(5) :\n",
    "    if i == 1 :\n",
    "        break\n",
    "    print('Welcome to everyone!!')\n",
    "print(\"We're glad to see you\")\n",
    "i"
   ]
  },
  {
   "cell_type": "code",
   "execution_count": 7,
   "id": "743c5a64",
   "metadata": {},
   "outputs": [
    {
     "name": "stdout",
     "output_type": "stream",
     "text": [
      "Welcome to everyone!!\n",
      "We're glad to see you\n"
     ]
    },
    {
     "data": {
      "text/plain": [
       "4"
      ]
     },
     "execution_count": 7,
     "metadata": {},
     "output_type": "execute_result"
    }
   ],
   "source": [
    "for i in range(5) :\n",
    "    if i >= 1 :\n",
    "        continue\n",
    "    print('Welcome to everyone!!')\n",
    "print(\"We're glad to see you\")\n",
    "i"
   ]
  },
  {
   "cell_type": "markdown",
   "id": "9566f396",
   "metadata": {},
   "source": [
    "- The difference is that <span style=\"color:orange\">`\"break\"` exits the loop</span>, <br> while <span style=\"color:blue\">`\"continue\"` goes back to the top part of the block and executes the next iteration of the loop</span>."
   ]
  },
  {
   "cell_type": "code",
   "execution_count": 9,
   "id": "0806ca2e",
   "metadata": {},
   "outputs": [
    {
     "name": "stdout",
     "output_type": "stream",
     "text": [
      "Welcome to eveyone!!\n",
      "We're glad to see you\n"
     ]
    },
    {
     "data": {
      "text/plain": [
       "1"
      ]
     },
     "execution_count": 9,
     "metadata": {},
     "output_type": "execute_result"
    }
   ],
   "source": [
    "i = 0\n",
    "while i < 5 :\n",
    "    i += 1\n",
    "    print('Welcome to eveyone!!')\n",
    "    if i == 1 : \n",
    "        break\n",
    "print(\"We're glad to see you\")\n",
    "i"
   ]
  },
  {
   "cell_type": "code",
   "execution_count": 11,
   "id": "bb461b6a",
   "metadata": {},
   "outputs": [
    {
     "name": "stdout",
     "output_type": "stream",
     "text": [
      "Welcome to everyone!!\n",
      "We're glad to see you\n"
     ]
    },
    {
     "data": {
      "text/plain": [
       "5"
      ]
     },
     "execution_count": 11,
     "metadata": {},
     "output_type": "execute_result"
    }
   ],
   "source": [
    "i = 0 \n",
    "while i < 5 :\n",
    "    i += 1\n",
    "    if i > 1 :\n",
    "        continue\n",
    "    print('Welcome to everyone!!')\n",
    "print(\"We're glad to see you\")\n",
    "i"
   ]
  },
  {
   "cell_type": "markdown",
   "id": "7d522c32",
   "metadata": {},
   "source": [
    "- Within a loop block, break and continue can <span style=\"color:blue\">be used without an if statement</span>.\n",
    "\n",
    "- However, they are commonly <span style=\"color:orange\">used with an if statement</span> to indicate <span style=\"color:blue\">when</span> to <span style=\"color:orange\">change the flow</span>.\n",
    "\n",
    "- `break` and `continue` are meaningless when used alone."
   ]
  },
  {
   "cell_type": "code",
   "execution_count": 13,
   "id": "53a78852",
   "metadata": {},
   "outputs": [
    {
     "name": "stdout",
     "output_type": "stream",
     "text": [
      "Welcome to everyone!!\n",
      "We're glad to see you\n"
     ]
    },
    {
     "data": {
      "text/plain": [
       "0"
      ]
     },
     "execution_count": 13,
     "metadata": {},
     "output_type": "execute_result"
    }
   ],
   "source": [
    "for i in range(3) :\n",
    "    print('Welcome to everyone!!')\n",
    "    break\n",
    "print(\"We're glad to see you\")\n",
    "i"
   ]
  },
  {
   "cell_type": "code",
   "execution_count": 14,
   "id": "4925e838",
   "metadata": {},
   "outputs": [
    {
     "name": "stdout",
     "output_type": "stream",
     "text": [
      "Welcome to everyone!!\n",
      "We're glad to see you\n"
     ]
    },
    {
     "data": {
      "text/plain": [
       "1"
      ]
     },
     "execution_count": 14,
     "metadata": {},
     "output_type": "execute_result"
    }
   ],
   "source": [
    "i = 0 \n",
    "while i < 3 :\n",
    "    i += 1\n",
    "    print('Welcome to everyone!!')\n",
    "    break\n",
    "print(\"We're glad to see you\")\n",
    "i"
   ]
  },
  {
   "cell_type": "code",
   "execution_count": 15,
   "id": "8b746535",
   "metadata": {},
   "outputs": [
    {
     "name": "stdout",
     "output_type": "stream",
     "text": [
      "We're glad to see you\n"
     ]
    },
    {
     "data": {
      "text/plain": [
       "2"
      ]
     },
     "execution_count": 15,
     "metadata": {},
     "output_type": "execute_result"
    }
   ],
   "source": [
    "for i in range(3) :\n",
    "    continue\n",
    "    print('Welcome to everyone!!')\n",
    "print(\"We're glad to see you\")\n",
    "i"
   ]
  },
  {
   "cell_type": "code",
   "execution_count": 17,
   "id": "88bbb9ba",
   "metadata": {},
   "outputs": [
    {
     "name": "stdout",
     "output_type": "stream",
     "text": [
      "We're glad to see you\n"
     ]
    },
    {
     "data": {
      "text/plain": [
       "3"
      ]
     },
     "execution_count": 17,
     "metadata": {},
     "output_type": "execute_result"
    }
   ],
   "source": [
    "i = 0\n",
    "while i < 3 :\n",
    "    i += 1\n",
    "    continue\n",
    "    print('Welcome to everyone!!')\n",
    "print(\"We're glad to see you\")\n",
    "i"
   ]
  },
  {
   "cell_type": "markdown",
   "id": "249a0870",
   "metadata": {},
   "source": [
    "- When using `break` and `continue` to change the flow without a loop like for or while, an error occurs, so be careful."
   ]
  },
  {
   "cell_type": "code",
   "execution_count": 18,
   "id": "672a67a7",
   "metadata": {},
   "outputs": [
    {
     "ename": "SyntaxError",
     "evalue": "'break' outside loop (668683560.py, line 1)",
     "output_type": "error",
     "traceback": [
      "\u001b[1;36m  Cell \u001b[1;32mIn[18], line 1\u001b[1;36m\u001b[0m\n\u001b[1;33m    break\u001b[0m\n\u001b[1;37m    ^\u001b[0m\n\u001b[1;31mSyntaxError\u001b[0m\u001b[1;31m:\u001b[0m 'break' outside loop\n"
     ]
    }
   ],
   "source": [
    "break"
   ]
  },
  {
   "cell_type": "code",
   "execution_count": 19,
   "id": "c08ffa5d",
   "metadata": {},
   "outputs": [
    {
     "ename": "SyntaxError",
     "evalue": "'break' outside loop (2086424132.py, line 3)",
     "output_type": "error",
     "traceback": [
      "\u001b[1;36m  Cell \u001b[1;32mIn[19], line 3\u001b[1;36m\u001b[0m\n\u001b[1;33m    break\u001b[0m\n\u001b[1;37m    ^\u001b[0m\n\u001b[1;31mSyntaxError\u001b[0m\u001b[1;31m:\u001b[0m 'break' outside loop\n"
     ]
    }
   ],
   "source": [
    "if 1 :\n",
    "    print(1)\n",
    "    break"
   ]
  },
  {
   "cell_type": "code",
   "execution_count": 20,
   "id": "3a8d5be6",
   "metadata": {},
   "outputs": [
    {
     "ename": "SyntaxError",
     "evalue": "'continue' not properly in loop (414696514.py, line 1)",
     "output_type": "error",
     "traceback": [
      "\u001b[1;36m  Cell \u001b[1;32mIn[20], line 1\u001b[1;36m\u001b[0m\n\u001b[1;33m    continue\u001b[0m\n\u001b[1;37m    ^\u001b[0m\n\u001b[1;31mSyntaxError\u001b[0m\u001b[1;31m:\u001b[0m 'continue' not properly in loop\n"
     ]
    }
   ],
   "source": [
    "continue"
   ]
  },
  {
   "cell_type": "code",
   "execution_count": 21,
   "id": "2cc412ea",
   "metadata": {},
   "outputs": [
    {
     "ename": "SyntaxError",
     "evalue": "'continue' not properly in loop (3550440940.py, line 3)",
     "output_type": "error",
     "traceback": [
      "\u001b[1;36m  Cell \u001b[1;32mIn[21], line 3\u001b[1;36m\u001b[0m\n\u001b[1;33m    continue\u001b[0m\n\u001b[1;37m    ^\u001b[0m\n\u001b[1;31mSyntaxError\u001b[0m\u001b[1;31m:\u001b[0m 'continue' not properly in loop\n"
     ]
    }
   ],
   "source": [
    "if 1 :\n",
    "    print(1)\n",
    "    continue"
   ]
  },
  {
   "cell_type": "markdown",
   "id": "67518b64",
   "metadata": {},
   "source": [
    "# 2. While statement"
   ]
  },
  {
   "cell_type": "markdown",
   "id": "574b1af3",
   "metadata": {},
   "source": [
    "## 2.1. while statement Syntax "
   ]
  },
  {
   "cell_type": "markdown",
   "id": "eef86759",
   "metadata": {},
   "source": [
    "- We need to <span style=\"color:orange\">be careful with the while statement because if the condition remains true, the block of code inside the loop may not terminate.</span>\n",
    "\n",
    "- If we <span style=\"color:blue\">directly use</span> the boolean value <span style=\"color:blue\">True</span> between the while keyword and the colon ( : ), it is called an <span style=\"color:orange\">infinite loop</span>."
   ]
  },
  {
   "cell_type": "markdown",
   "id": "7afd7270",
   "metadata": {},
   "source": [
    "- A \"condition-controlled loop\" refers to a loop that <span style=\"color:orange\">repeats as long as a certain condition is satisfied</span>."
   ]
  },
  {
   "cell_type": "markdown",
   "id": "20af4d8a",
   "metadata": {},
   "source": [
    "## 2.2. Comparison between while statement and for statement"
   ]
  },
  {
   "cell_type": "code",
   "execution_count": 4,
   "id": "7ca22cc9",
   "metadata": {},
   "outputs": [
    {
     "name": "stdout",
     "output_type": "stream",
     "text": [
      "Enter a positive integer to sum : 20\n",
      "The sum from 1 to 20 is 210\n"
     ]
    }
   ],
   "source": [
    "n = -1\n",
    "while n <= 0 :\n",
    "    n = int(input('Enter a positive integer to sum : '))\n",
    "    \n",
    "s = 0\n",
    "for i in range(1, n + 1) :\n",
    "    s += i\n",
    "\n",
    "print('The sum from 1 to {} is {}'.format(n, s))"
   ]
  },
  {
   "cell_type": "markdown",
   "id": "5b6e913c",
   "metadata": {},
   "source": [
    "## 2.3. while statement and input conditions"
   ]
  },
  {
   "cell_type": "code",
   "execution_count": 6,
   "id": "34d9f56f",
   "metadata": {},
   "outputs": [
    {
     "name": "stdout",
     "output_type": "stream",
     "text": [
      "Choose between Rock, Paper, Scissors >> rock\n",
      "Choose between Rock, Paper, Scissors >> Rock\n",
      "The selected value is : Rock\n"
     ]
    }
   ],
   "source": [
    "selected = None\n",
    "while selected not in ['Rock', 'Paper', 'Scissors'] :\n",
    "    selected = input('Choose between Rock, Paper, Scissors >> ')\n",
    "print('The selected value is :', selected)"
   ]
  },
  {
   "cell_type": "markdown",
   "id": "cc64a975",
   "metadata": {},
   "source": [
    "## 2.4. while statement and infinite loop control"
   ]
  },
  {
   "cell_type": "code",
   "execution_count": 8,
   "id": "f694489c",
   "metadata": {},
   "outputs": [
    {
     "name": "stdout",
     "output_type": "stream",
     "text": [
      "Has the construction been completed? >> no\n",
      "Has the construction been completed? >> not yet\n",
      "Has the construction been completed? >> blah blah blah\n",
      "Has the construction been completed? >> yes\n",
      "You have escaped the loop.\n"
     ]
    }
   ],
   "source": [
    "under_construction = True\n",
    "while under_construction :\n",
    "    response = input('Has the construction been completed? >> ')\n",
    "    if response == 'yes' :\n",
    "        under_construction = False\n",
    "        \n",
    "print(\"You have escaped the loop.\")"
   ]
  },
  {
   "cell_type": "markdown",
   "id": "60685b48",
   "metadata": {},
   "source": [
    "# 3. Various examples of while statement"
   ]
  },
  {
   "cell_type": "code",
   "execution_count": 9,
   "id": "fd88249d",
   "metadata": {},
   "outputs": [
    {
     "name": "stdout",
     "output_type": "stream",
     "text": [
      "Enter password : ffff\n",
      "Enter password : aaaa\n",
      "Enter password : bbbb\n",
      "Enter password : pythonisfun\n",
      "** Login Successful **\n"
     ]
    }
   ],
   "source": [
    "password = \"\"\n",
    "while password != \"pythonisfun\" :\n",
    "    password = input(\"Enter password : \")\n",
    "print(\"** Login Successful **\")"
   ]
  },
  {
   "cell_type": "code",
   "execution_count": 11,
   "id": "5f975362",
   "metadata": {},
   "outputs": [
    {
     "name": "stdout",
     "output_type": "stream",
     "text": [
      "Please enter numbers : 5\n",
      "continue?(yes/no) : yes\n",
      "Please enter numbers : 6\n",
      "continue?(yes/no) : yes\n",
      "Please enter numbers : 7\n",
      "continue?(yes/no) : no\n",
      "The sum is : 18\n"
     ]
    }
   ],
   "source": [
    "total = 0 \n",
    "answer = 'yes'\n",
    "while answer == 'yes' :\n",
    "    number = int(input(\"Please enter numbers : \"))\n",
    "    total += number\n",
    "    answer = input('continue?(yes/no) : ')\n",
    "print('The sum is :', total)"
   ]
  },
  {
   "cell_type": "markdown",
   "id": "ff5c7cfb",
   "metadata": {},
   "source": [
    "# 4. break, continue"
   ]
  },
  {
   "cell_type": "markdown",
   "id": "967c124c",
   "metadata": {},
   "source": [
    "## 4.2. break statement"
   ]
  },
  {
   "cell_type": "code",
   "execution_count": 12,
   "id": "fb346bac",
   "metadata": {},
   "outputs": [
    {
     "name": "stdout",
     "output_type": "stream",
     "text": [
      "P\n",
      "r\n",
      "The end\n"
     ]
    }
   ],
   "source": [
    "st = 'Programming'\n",
    "for ch in st :\n",
    "    if ch in ['a', 'e', 'i', 'o', 'u'] :\n",
    "        break\n",
    "    print(ch)\n",
    "print('The end')b"
   ]
  },
  {
   "cell_type": "markdown",
   "id": "71fb7e46",
   "metadata": {},
   "source": [
    "## 4.3. continue statement"
   ]
  },
  {
   "cell_type": "code",
   "execution_count": 13,
   "id": "40ee3b71",
   "metadata": {},
   "outputs": [
    {
     "name": "stdout",
     "output_type": "stream",
     "text": [
      "P\n",
      "r\n",
      "g\n",
      "r\n",
      "m\n",
      "m\n",
      "n\n",
      "g\n",
      "The end\n"
     ]
    }
   ],
   "source": [
    "st = 'Programming'\n",
    "for ch in st :\n",
    "    if ch in ['a', 'e', 'i', 'o', 'u'] :\n",
    "        continue\n",
    "    print(ch)\n",
    "print('The end')"
   ]
  },
  {
   "cell_type": "markdown",
   "id": "3c771414",
   "metadata": {},
   "source": [
    "## 4.5. Risks of Using 'break' and 'continue' for Flow Control\n",
    "\n",
    "- break and continue can be convenient for efficient control of program flow.\n",
    "\n",
    "- However, if break and continue statements are used excessively, it leads to inconsistent flow control, making it difficult to understand the program.\n",
    "\n",
    "- Therefore, it is recommended to use continue and break only when <span style=\"color:orange\">necessary</span>."
   ]
  },
  {
   "cell_type": "markdown",
   "id": "a6212a1e",
   "metadata": {},
   "source": [
    "# 5. Nested Loop"
   ]
  },
  {
   "cell_type": "markdown",
   "id": "decebf21",
   "metadata": {},
   "source": [
    "## 5.1. What is a Nested Loop?\n",
    "\n",
    "- <span style=\"color:orange\">The nested loop</span>, or <span style=\"color:orange\">double loop</span>, is a structure where a loop is contained within the block of another loop."
   ]
  },
  {
   "cell_type": "code",
   "execution_count": 15,
   "id": "fd16b812",
   "metadata": {},
   "outputs": [
    {
     "name": "stdout",
     "output_type": "stream",
     "text": [
      "2x1 =  2,  2x2 =  4,  2x3 =  6,  2x4 =  8,  2x5 = 10,  2x6 = 12,  2x7 = 14,  2x8 = 16,  2x9 = 18,  \n",
      "3x1 =  3,  3x2 =  6,  3x3 =  9,  3x4 = 12,  3x5 = 15,  3x6 = 18,  3x7 = 21,  3x8 = 24,  3x9 = 27,  \n",
      "4x1 =  4,  4x2 =  8,  4x3 = 12,  4x4 = 16,  4x5 = 20,  4x6 = 24,  4x7 = 28,  4x8 = 32,  4x9 = 36,  \n",
      "5x1 =  5,  5x2 = 10,  5x3 = 15,  5x4 = 20,  5x5 = 25,  5x6 = 30,  5x7 = 35,  5x8 = 40,  5x9 = 45,  \n",
      "6x1 =  6,  6x2 = 12,  6x3 = 18,  6x4 = 24,  6x5 = 30,  6x6 = 36,  6x7 = 42,  6x8 = 48,  6x9 = 54,  \n",
      "7x1 =  7,  7x2 = 14,  7x3 = 21,  7x4 = 28,  7x5 = 35,  7x6 = 42,  7x7 = 49,  7x8 = 56,  7x9 = 63,  \n",
      "8x1 =  8,  8x2 = 16,  8x3 = 24,  8x4 = 32,  8x5 = 40,  8x6 = 48,  8x7 = 56,  8x8 = 64,  8x9 = 72,  \n",
      "9x1 =  9,  9x2 = 18,  9x3 = 27,  9x4 = 36,  9x5 = 45,  9x6 = 54,  9x7 = 63,  9x8 = 72,  9x9 = 81,  \n"
     ]
    }
   ],
   "source": [
    "for i in range(2, 10) :\n",
    "    for j in range(1, 10) :\n",
    "        print('{}x{} = {:2d}, '.format(i, j, i * j), end = ' ')\n",
    "    print()"
   ]
  },
  {
   "cell_type": "markdown",
   "id": "89753383",
   "metadata": {},
   "source": [
    "- Nested loops are not commonly used for structures beyond triple loops."
   ]
  },
  {
   "cell_type": "markdown",
   "id": "b3f60e8a",
   "metadata": {},
   "source": [
    "## 5.2. Putting a Loop inside a Loop, Outer Loop and Inner Loop\n",
    "\n",
    "- When loops are nested, the terms <span style=\"color:orange\">\"outer loop\"</span> and <span style=\"color:blue\">\"inner loop\"</span> are used to distinguish between the two loops"
   ]
  },
  {
   "cell_type": "code",
   "execution_count": 16,
   "id": "3e362eee",
   "metadata": {},
   "outputs": [
    {
     "name": "stdout",
     "output_type": "stream",
     "text": [
      "2x1 =  2,  2x2 =  4,  2x3 =  6,  2x4 =  8,  2x5 = 10,  2x6 = 12,  2x7 = 14,  2x8 = 16,  2x9 = 18,  \n",
      "3x1 =  3,  3x2 =  6,  3x3 =  9,  3x4 = 12,  3x5 = 15,  3x6 = 18,  3x7 = 21,  3x8 = 24,  3x9 = 27,  \n",
      "4x1 =  4,  4x2 =  8,  4x3 = 12,  4x4 = 16,  4x5 = 20,  4x6 = 24,  4x7 = 28,  4x8 = 32,  4x9 = 36,  \n",
      "5x1 =  5,  5x2 = 10,  5x3 = 15,  5x4 = 20,  5x5 = 25,  5x6 = 30,  5x7 = 35,  5x8 = 40,  5x9 = 45,  \n",
      "6x1 =  6,  6x2 = 12,  6x3 = 18,  6x4 = 24,  6x5 = 30,  6x6 = 36,  6x7 = 42,  6x8 = 48,  6x9 = 54,  \n",
      "7x1 =  7,  7x2 = 14,  7x3 = 21,  7x4 = 28,  7x5 = 35,  7x6 = 42,  7x7 = 49,  7x8 = 56,  7x9 = 63,  \n",
      "8x1 =  8,  8x2 = 16,  8x3 = 24,  8x4 = 32,  8x5 = 40,  8x6 = 48,  8x7 = 56,  8x8 = 64,  8x9 = 72,  \n",
      "9x1 =  9,  9x2 = 18,  9x3 = 27,  9x4 = 36,  9x5 = 45,  9x6 = 54,  9x7 = 63,  9x8 = 72,  9x9 = 81,  \n"
     ]
    }
   ],
   "source": [
    "for i in range(2, 10) : # Outer Loop\n",
    "    for j in range(1, 10) : # Inner Loop\n",
    "        print('{}x{} = {:2d}, '.format(i, j, i * j), end = ' ')\n",
    "    print()"
   ]
  },
  {
   "cell_type": "code",
   "execution_count": null,
   "id": "37cc24db",
   "metadata": {},
   "outputs": [],
   "source": []
  }
 ],
 "metadata": {
  "kernelspec": {
   "display_name": "Python 3 (ipykernel)",
   "language": "python",
   "name": "python3"
  },
  "language_info": {
   "codemirror_mode": {
    "name": "ipython",
    "version": 3
   },
   "file_extension": ".py",
   "mimetype": "text/x-python",
   "name": "python",
   "nbconvert_exporter": "python",
   "pygments_lexer": "ipython3",
   "version": "3.10.9"
  }
 },
 "nbformat": 4,
 "nbformat_minor": 5
}
