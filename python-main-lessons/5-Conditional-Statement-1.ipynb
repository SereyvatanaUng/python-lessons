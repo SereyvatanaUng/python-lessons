{
 "cells": [
  {
   "cell_type": "markdown",
   "id": "e3a89450",
   "metadata": {},
   "source": [
    "# 1. Programming with different flows depending on conditions"
   ]
  },
  {
   "cell_type": "markdown",
   "id": "a42291d9",
   "metadata": {},
   "source": [
    "### 1.1. Three structures of a program represented by a flowchart\n",
    "\n",
    "- Sequential structure\n",
    "- Selection structure (conditional)\n",
    "- Loop structure (repetition)"
   ]
  },
  {
   "cell_type": "markdown",
   "id": "ffd3a7b8",
   "metadata": {},
   "source": [
    "- <span style=\"color:orange\">Sequential structure</span>, or sequential statement, is a structure where the code appearing first is executed first."
   ]
  },
  {
   "cell_type": "code",
   "execution_count": 1,
   "id": "e68811aa",
   "metadata": {},
   "outputs": [
    {
     "name": "stdout",
     "output_type": "stream",
     "text": [
      "num =  100\n",
      "num =  200\n",
      "num =  300\n"
     ]
    }
   ],
   "source": [
    "num = 100\n",
    "print('num = ', num)\n",
    "num = num + 100\n",
    "print('num = ', num)\n",
    "num += 100\n",
    "print('num = ', num)"
   ]
  },
  {
   "cell_type": "markdown",
   "id": "c2b12a37",
   "metadata": {},
   "source": [
    "- <span style=\"color:blue\">Conditional statement</span>: if statement, if-else statement, if-elif-else statement\n",
    "\n",
    "- <span style=\"color:blue\">Loop statement</span>: for loop, while loop\n",
    "\n",
    "- <span style=\"color:blue\">Flow-altering command</span>: break, continue"
   ]
  },
  {
   "cell_type": "markdown",
   "id": "5cf6dde7",
   "metadata": {},
   "source": [
    "### 1.2. The need for conditional selective flow\n",
    "\n",
    "- Why do we need conditional statements?\n",
    "    - At certain stages of a program, <span style=\"color:orange\">if there is more than one possible path to proceed</span>, we need to <span style=\"color:orange\">decide which path to</span> <span style=\"color:blue\">choose</span>.\n",
    "    \n",
    "    - Without <span style=\"color:orange\">selection structures</span>, we cannot determine which path to choose, resulting in the program always following a single path. <br> In that case, the program will perform the same actions and always reach a predetermined conclusion."
   ]
  },
  {
   "cell_type": "markdown",
   "id": "3ce4b1a0",
   "metadata": {},
   "source": [
    "### 1.3. Flow of conditional statement\n",
    "\n",
    "- Depending on a specific <span style=\"color:blue\">condition</span>, either 'Statement 1' or 'Statement 2' is executed.\n",
    "\n",
    "- The condition is determined by the '<span style=\"color:orange\">condition expression</span>'.\n",
    "\n",
    "- Therefore, the condition expression <span style=\"color:orange\">should return</span> a <span style=\"color:blue\">True or False</span> value. In this case, we use the '<span style=\"color:blue\">boolean expression</span>' as the condition expression."
   ]
  },
  {
   "cell_type": "markdown",
   "id": "03154da1",
   "metadata": {},
   "source": [
    "# 2. Conditional Statements"
   ]
  },
  {
   "cell_type": "markdown",
   "id": "78f8f892",
   "metadata": {},
   "source": [
    "### 2.2. If statement syntax"
   ]
  },
  {
   "cell_type": "code",
   "execution_count": 2,
   "id": "e9ec3276",
   "metadata": {},
   "outputs": [
    {
     "name": "stdout",
     "output_type": "stream",
     "text": [
      "Youth discount\n"
     ]
    }
   ],
   "source": [
    "age = 18\n",
    "\n",
    "if age < 20 :\n",
    "    print('Youth discount')"
   ]
  },
  {
   "cell_type": "code",
   "execution_count": 3,
   "id": "c4de69f3",
   "metadata": {},
   "outputs": [],
   "source": [
    "age = 24\n",
    "\n",
    "if age < 20 :\n",
    "    print('Youth discount')"
   ]
  },
  {
   "cell_type": "markdown",
   "id": "b9c1d738",
   "metadata": {},
   "source": [
    "### 2.3. Blocks and Python's indentation\n",
    "\n",
    "- In programming, a <span style=\"color:orange\">block</span> refers to a section where a series of code statement are grouped together to define a unit of execution.\n",
    "\n",
    "- Python <span style=\"color:orange\">uses indentation</span> to indicate blocks instead of using curly braces({})."
   ]
  },
  {
   "cell_type": "code",
   "execution_count": 4,
   "id": "2e912089",
   "metadata": {},
   "outputs": [
    {
     "ename": "IndentationError",
     "evalue": "expected an indented block after 'if' statement on line 3 (662021379.py, line 4)",
     "output_type": "error",
     "traceback": [
      "\u001b[0;36m  Cell \u001b[0;32mIn[4], line 4\u001b[0;36m\u001b[0m\n\u001b[0;31m    print('Youth')\u001b[0m\n\u001b[0m    ^\u001b[0m\n\u001b[0;31mIndentationError\u001b[0m\u001b[0;31m:\u001b[0m expected an indented block after 'if' statement on line 3\n"
     ]
    }
   ],
   "source": [
    "age = 18\n",
    "\n",
    "if age < 20 :\n",
    "print('Youth')"
   ]
  },
  {
   "cell_type": "code",
   "execution_count": 5,
   "id": "785c212a",
   "metadata": {},
   "outputs": [
    {
     "name": "stdout",
     "output_type": "stream",
     "text": [
      "Age 24\n",
      "Welcome\n"
     ]
    }
   ],
   "source": [
    "age = 24\n",
    "print('Age', age)\n",
    "if age < 20 :\n",
    "    print('Youth age')\n",
    "    print('Youth discount')\n",
    "print('Welcome')"
   ]
  },
  {
   "cell_type": "code",
   "execution_count": 7,
   "id": "a259ad00",
   "metadata": {},
   "outputs": [
    {
     "ename": "IndentationError",
     "evalue": "unindent does not match any outer indentation level (<tokenize>, line 5)",
     "output_type": "error",
     "traceback": [
      "\u001b[0;36m  File \u001b[0;32m<tokenize>:5\u001b[0;36m\u001b[0m\n\u001b[0;31m    print('Welcome')\u001b[0m\n\u001b[0m    ^\u001b[0m\n\u001b[0;31mIndentationError\u001b[0m\u001b[0;31m:\u001b[0m unindent does not match any outer indentation level\n"
     ]
    }
   ],
   "source": [
    "age = 18\n",
    "\n",
    "if age < 20 :\n",
    "    print('Youth age', age)\n",
    "  print('Welcome')"
   ]
  },
  {
   "cell_type": "markdown",
   "id": "04852d02",
   "metadata": {},
   "source": [
    "### 2.4. The 'pass' Keyword\n",
    "\n",
    "- The pass statement in Python is used to skip the code within a block.\n",
    "\n",
    "- It is primarily used when you want to write the code later because the precise processing details are not yet avaliable."
   ]
  },
  {
   "cell_type": "code",
   "execution_count": 8,
   "id": "18973fb3",
   "metadata": {},
   "outputs": [],
   "source": [
    "age = 18\n",
    "if age < 20 :\n",
    "    pass"
   ]
  },
  {
   "cell_type": "markdown",
   "id": "d6f92c0d",
   "metadata": {},
   "source": [
    "# 3. Various Conditional Statement Examples"
   ]
  },
  {
   "cell_type": "markdown",
   "id": "836f6561",
   "metadata": {},
   "source": [
    "### 3.1. Checking for value equality\n",
    "\n",
    "- = operator and == operator are different operators."
   ]
  },
  {
   "cell_type": "code",
   "execution_count": 9,
   "id": "2be01b63",
   "metadata": {},
   "outputs": [
    {
     "name": "stdout",
     "output_type": "stream",
     "text": [
      "Enter your id: david\n",
      "ID matches.\n"
     ]
    }
   ],
   "source": [
    "ids = 'david'\n",
    "\n",
    "s = input('Enter your id: ')\n",
    "if s == ids :\n",
    "    print('ID matches.')"
   ]
  },
  {
   "cell_type": "code",
   "execution_count": 13,
   "id": "b3fe3405",
   "metadata": {},
   "outputs": [
    {
     "name": "stdout",
     "output_type": "stream",
     "text": [
      "Enter an integer : 6\n",
      "6 is a multiple of 3.\n"
     ]
    }
   ],
   "source": [
    "num = int(input('Enter an integer : '))\n",
    "if (num % 3) == 0 :\n",
    "    print(num, 'is a multiple of 3.')"
   ]
  },
  {
   "cell_type": "code",
   "execution_count": 11,
   "id": "9812ef0c",
   "metadata": {},
   "outputs": [
    {
     "name": "stdout",
     "output_type": "stream",
     "text": [
      "Enter an integer : 15\n",
      "15 is a multiple of 3 and a multiple of 5.\n"
     ]
    }
   ],
   "source": [
    "num = int(input('Enter an integer : '))\n",
    "if (num % 3) == 0 and (num % 5) == 0 :\n",
    "    print(num, 'is a multiple of 3 and a multiple of 5.')"
   ]
  },
  {
   "cell_type": "code",
   "execution_count": 12,
   "id": "4fbfbc61",
   "metadata": {},
   "outputs": [
    {
     "name": "stdout",
     "output_type": "stream",
     "text": [
      "The two strings are not the same.\n"
     ]
    }
   ],
   "source": [
    "str1 = 'aaa'\n",
    "str2 = 'bbb'\n",
    "if str1 == str2 :\n",
    "    print('The two strings are the same.')\n",
    "if str1 != str2 :\n",
    "    print('The two strings are not the same.')"
   ]
  },
  {
   "cell_type": "markdown",
   "id": "95568528",
   "metadata": {},
   "source": [
    "### <span style=\"color:blue\">logical operation</span> = comparison operators + logical operators"
   ]
  },
  {
   "cell_type": "code",
   "execution_count": 15,
   "id": "ce13a427",
   "metadata": {},
   "outputs": [
    {
     "name": "stdout",
     "output_type": "stream",
     "text": [
      "One or more of the two numbers are even.\n"
     ]
    }
   ],
   "source": [
    "a = 10 \n",
    "b = 13\n",
    "if (a % 2 == 0) and (b % 2 == 0) :\n",
    "    print('Both numbers are even numbers.')\n",
    "if (a % 2 == 0) or (b % 2 == 0) :\n",
    "    print('One or more of the two numbers are even.')"
   ]
  },
  {
   "cell_type": "code",
   "execution_count": null,
   "id": "1add8fed",
   "metadata": {},
   "outputs": [],
   "source": []
  }
 ],
 "metadata": {
  "kernelspec": {
   "display_name": "Python 3 (ipykernel)",
   "language": "python",
   "name": "python3"
  },
  "language_info": {
   "codemirror_mode": {
    "name": "ipython",
    "version": 3
   },
   "file_extension": ".py",
   "mimetype": "text/x-python",
   "name": "python",
   "nbconvert_exporter": "python",
   "pygments_lexer": "ipython3",
   "version": "3.10.9"
  }
 },
 "nbformat": 4,
 "nbformat_minor": 5
}
