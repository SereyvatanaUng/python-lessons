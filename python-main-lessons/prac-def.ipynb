{
 "cells": [
  {
   "cell_type": "code",
   "execution_count": 2,
   "id": "cd830abb",
   "metadata": {},
   "outputs": [
    {
     "name": "stdout",
     "output_type": "stream",
     "text": [
      "**********\n",
      "##########\n",
      "&&&&&&&&&&\n",
      "**********\n",
      "##########\n",
      "&&&&&&&&&&\n"
     ]
    }
   ],
   "source": [
    "def print_star(n) :\n",
    "    for a in range(n):\n",
    "        print('*' * 10)\n",
    "        print('#' * 10)\n",
    "        print('&' * 10)\n",
    "\n",
    "print_star(2)\n"
   ]
  },
  {
   "cell_type": "markdown",
   "id": "6abdfedf",
   "metadata": {},
   "source": [
    "def root(a, b, c) :\n",
    "\n",
    "    return 2, 4\n",
    "    \n",
    "result1, result2 = get_root(1, 2, -8)\n",
    "result1, result2 = 2, 4\n",
    "result1 = 2\n",
    "restul2 = 4"
   ]
  }
 ],
 "metadata": {
  "kernelspec": {
   "display_name": "Python 3 (ipykernel)",
   "language": "python",
   "name": "python3"
  },
  "language_info": {
   "codemirror_mode": {
    "name": "ipython",
    "version": 3
   },
   "file_extension": ".py",
   "mimetype": "text/x-python",
   "name": "python",
   "nbconvert_exporter": "python",
   "pygments_lexer": "ipython3",
   "version": "3.10.9"
  }
 },
 "nbformat": 4,
 "nbformat_minor": 5
}
