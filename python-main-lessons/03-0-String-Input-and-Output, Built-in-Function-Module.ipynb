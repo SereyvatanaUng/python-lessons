{
 "cells": [
  {
   "cell_type": "markdown",
   "id": "bd8da8e2",
   "metadata": {},
   "source": [
    "# 1. String"
   ]
  },
  {
   "cell_type": "markdown",
   "id": "c5486676",
   "metadata": {},
   "source": [
    "### 1.1. Single Quotes and Double Quotes"
   ]
  },
  {
   "cell_type": "code",
   "execution_count": 1,
   "id": "87d58a10",
   "metadata": {},
   "outputs": [
    {
     "name": "stdout",
     "output_type": "stream",
     "text": [
      "Hello World!\n",
      "Hello World!\n"
     ]
    }
   ],
   "source": [
    "print('Hello World!')\n",
    "print(\"Hello World!\")"
   ]
  },
  {
   "cell_type": "markdown",
   "id": "cb142a7a",
   "metadata": {},
   "source": [
    "### 1.2. String and Variables"
   ]
  },
  {
   "cell_type": "code",
   "execution_count": 2,
   "id": "cfcad355",
   "metadata": {},
   "outputs": [
    {
     "name": "stdout",
     "output_type": "stream",
     "text": [
      "Hello World\n"
     ]
    }
   ],
   "source": [
    "s1 = 'Hello World'\n",
    "print(s1)"
   ]
  },
  {
   "cell_type": "markdown",
   "id": "0e94985b",
   "metadata": {},
   "source": [
    "### 1.3. Concatenation Operator and Repetition Operator"
   ]
  },
  {
   "cell_type": "markdown",
   "id": "41becb4e",
   "metadata": {},
   "source": [
    "- We can use the addtion(+) operator and multiplication(*) operator with string data, but the roles of these operators are different from numeric data.\n",
    "\n",
    "- In numeric data, the addition(+) operator is called the concatenation operator in String, and the multiplicaiton(*) operator is called the repetition operator."
   ]
  },
  {
   "cell_type": "code",
   "execution_count": 4,
   "id": "c1dc9ef2",
   "metadata": {},
   "outputs": [
    {
     "name": "stdout",
     "output_type": "stream",
     "text": [
      "HelloWorld!\n"
     ]
    }
   ],
   "source": [
    "s1 = \"Hello\"\n",
    "s2 = \"World!\"\n",
    "print(s1 + s2)"
   ]
  },
  {
   "cell_type": "code",
   "execution_count": 5,
   "id": "91c48f9d",
   "metadata": {},
   "outputs": [
    {
     "data": {
      "text/plain": [
       "'ILovePython!'"
      ]
     },
     "execution_count": 5,
     "metadata": {},
     "output_type": "execute_result"
    }
   ],
   "source": [
    "'I' + 'Love' + 'Python!'"
   ]
  },
  {
   "cell_type": "code",
   "execution_count": 6,
   "id": "5b874000",
   "metadata": {},
   "outputs": [
    {
     "data": {
      "text/plain": [
       "'PythonPythonPythonPythonPythonPythonPythonPythonPythonPython'"
      ]
     },
     "execution_count": 6,
     "metadata": {},
     "output_type": "execute_result"
    }
   ],
   "source": [
    "'Python' * 10"
   ]
  },
  {
   "cell_type": "code",
   "execution_count": 7,
   "id": "71f2b701",
   "metadata": {},
   "outputs": [
    {
     "data": {
      "text/plain": [
       "'**************************************************'"
      ]
     },
     "execution_count": 7,
     "metadata": {},
     "output_type": "execute_result"
    }
   ],
   "source": [
    "'*' * 50"
   ]
  },
  {
   "cell_type": "code",
   "execution_count": 8,
   "id": "c8da96d1",
   "metadata": {},
   "outputs": [
    {
     "data": {
      "text/plain": [
       "'100100100100100100100100100100'"
      ]
     },
     "execution_count": 8,
     "metadata": {},
     "output_type": "execute_result"
    }
   ],
   "source": [
    "str(100) * 10"
   ]
  },
  {
   "cell_type": "code",
   "execution_count": 9,
   "id": "1398bbe7",
   "metadata": {},
   "outputs": [
    {
     "ename": "TypeError",
     "evalue": "can't multiply sequence by non-int of type 'float'",
     "output_type": "error",
     "traceback": [
      "\u001b[1;31m---------------------------------------------------------------------------\u001b[0m",
      "\u001b[1;31mTypeError\u001b[0m                                 Traceback (most recent call last)",
      "Cell \u001b[1;32mIn[9], line 3\u001b[0m\n\u001b[0;32m      1\u001b[0m \u001b[38;5;66;03m# The * operation on string can only be used with integer. Otherwise, an error occurs.\u001b[39;00m\n\u001b[1;32m----> 3\u001b[0m \u001b[38;5;124m'\u001b[39m\u001b[38;5;124m*\u001b[39m\u001b[38;5;124m'\u001b[39m \u001b[38;5;241m*\u001b[39m \u001b[38;5;241m3.1\u001b[39m\n",
      "\u001b[1;31mTypeError\u001b[0m: can't multiply sequence by non-int of type 'float'"
     ]
    }
   ],
   "source": [
    "# The * operation on string can only be used with integer. Otherwise, an error occurs.\n",
    "\n",
    "'*' * 3.1"
   ]
  },
  {
   "cell_type": "code",
   "execution_count": 10,
   "id": "ac11ccdf",
   "metadata": {},
   "outputs": [
    {
     "ename": "TypeError",
     "evalue": "can only concatenate str (not \"int\") to str",
     "output_type": "error",
     "traceback": [
      "\u001b[1;31m---------------------------------------------------------------------------\u001b[0m",
      "\u001b[1;31mTypeError\u001b[0m                                 Traceback (most recent call last)",
      "Cell \u001b[1;32mIn[10], line 1\u001b[0m\n\u001b[1;32m----> 1\u001b[0m \u001b[38;5;124m'\u001b[39m\u001b[38;5;124mA\u001b[39m\u001b[38;5;124m'\u001b[39m \u001b[38;5;241m+\u001b[39m \u001b[38;5;241m1\u001b[39m\n",
      "\u001b[1;31mTypeError\u001b[0m: can only concatenate str (not \"int\") to str"
     ]
    }
   ],
   "source": [
    "'A' + 1"
   ]
  },
  {
   "cell_type": "code",
   "execution_count": 11,
   "id": "1c5aa50f",
   "metadata": {},
   "outputs": [
    {
     "ename": "TypeError",
     "evalue": "can only concatenate str (not \"int\") to str",
     "output_type": "error",
     "traceback": [
      "\u001b[1;31m---------------------------------------------------------------------------\u001b[0m",
      "\u001b[1;31mTypeError\u001b[0m                                 Traceback (most recent call last)",
      "Cell \u001b[1;32mIn[11], line 1\u001b[0m\n\u001b[1;32m----> 1\u001b[0m \u001b[38;5;124m\"\u001b[39m\u001b[38;5;124m10\u001b[39m\u001b[38;5;124m\"\u001b[39m \u001b[38;5;241m+\u001b[39m \u001b[38;5;241m10\u001b[39m\n",
      "\u001b[1;31mTypeError\u001b[0m: can only concatenate str (not \"int\") to str"
     ]
    }
   ],
   "source": [
    "\"10\" + 10"
   ]
  },
  {
   "cell_type": "markdown",
   "id": "190ce2d0",
   "metadata": {},
   "source": [
    "### 1.4. String Indexing\n",
    "\n",
    "- We learned that we can see the data type by using the type statement inside the print statement. In Python, string is of the str type."
   ]
  },
  {
   "cell_type": "code",
   "execution_count": 12,
   "id": "56f74a9f",
   "metadata": {},
   "outputs": [
    {
     "name": "stdout",
     "output_type": "stream",
     "text": [
      "<class 'str'>\n"
     ]
    }
   ],
   "source": [
    "print(type('This is a string!'))"
   ]
  },
  {
   "cell_type": "markdown",
   "id": "f55dd87d",
   "metadata": {},
   "source": [
    "- When we want to obtain a substring from a long string, we use square brackets[] and a number.\n",
    "- String indexing starts from the left of the string, with the first character being 0. The 'nth' position in this sequence is called an index."
   ]
  },
  {
   "cell_type": "code",
   "execution_count": 13,
   "id": "d7ba6061",
   "metadata": {},
   "outputs": [
    {
     "data": {
      "text/plain": [
       "'h'"
      ]
     },
     "execution_count": 13,
     "metadata": {},
     "output_type": "execute_result"
    }
   ],
   "source": [
    "\"hello\"[0]"
   ]
  },
  {
   "cell_type": "markdown",
   "id": "56267aa6",
   "metadata": {},
   "source": [
    "- Python uniquely supports negative indexing, which refers to characters from the right side of the string."
   ]
  },
  {
   "cell_type": "code",
   "execution_count": 14,
   "id": "5a1f8d87",
   "metadata": {},
   "outputs": [
    {
     "data": {
      "text/plain": [
       "'o'"
      ]
     },
     "execution_count": 14,
     "metadata": {},
     "output_type": "execute_result"
    }
   ],
   "source": [
    "\"hello\"[-1]"
   ]
  },
  {
   "cell_type": "code",
   "execution_count": 15,
   "id": "286a67e1",
   "metadata": {},
   "outputs": [
    {
     "data": {
      "text/plain": [
       "'h'"
      ]
     },
     "execution_count": 15,
     "metadata": {},
     "output_type": "execute_result"
    }
   ],
   "source": [
    "\"hello\"[-5]"
   ]
  },
  {
   "cell_type": "code",
   "execution_count": 16,
   "id": "1a261b53",
   "metadata": {},
   "outputs": [
    {
     "ename": "IndexError",
     "evalue": "string index out of range",
     "output_type": "error",
     "traceback": [
      "\u001b[1;31m---------------------------------------------------------------------------\u001b[0m",
      "\u001b[1;31mIndexError\u001b[0m                                Traceback (most recent call last)",
      "Cell \u001b[1;32mIn[16], line 1\u001b[0m\n\u001b[1;32m----> 1\u001b[0m \u001b[38;5;124m\"\u001b[39m\u001b[38;5;124mhello\u001b[39m\u001b[38;5;124m\"\u001b[39m[\u001b[38;5;241m5\u001b[39m]\n",
      "\u001b[1;31mIndexError\u001b[0m: string index out of range"
     ]
    }
   ],
   "source": [
    "\"hello\"[5]"
   ]
  },
  {
   "cell_type": "markdown",
   "id": "2f0a0d24",
   "metadata": {},
   "source": [
    "### 1.5. Multiline String\n",
    "\n",
    "- As we learned in multiline comments, by entering three consecutive single quotes(') or double quotes(\") at the beginning and end of a sentence, we can create multiline String."
   ]
  },
  {
   "cell_type": "code",
   "execution_count": 17,
   "id": "d3d7c197",
   "metadata": {},
   "outputs": [
    {
     "name": "stdout",
     "output_type": "stream",
     "text": [
      "the first line\n",
      "the second line\n"
     ]
    }
   ],
   "source": [
    "text = '''the first line\n",
    "the second line'''\n",
    "print(text)"
   ]
  },
  {
   "cell_type": "code",
   "execution_count": 19,
   "id": "02504f26",
   "metadata": {},
   "outputs": [
    {
     "name": "stdout",
     "output_type": "stream",
     "text": [
      "the first line\n",
      "the second line\n"
     ]
    }
   ],
   "source": [
    "text = 'the first line\\nthe second line'\n",
    "print(text)"
   ]
  },
  {
   "cell_type": "markdown",
   "id": "7e31b4cf",
   "metadata": {},
   "source": [
    "### 1.6. Writing Quotes within String"
   ]
  },
  {
   "cell_type": "code",
   "execution_count": 20,
   "id": "c9bc83e7",
   "metadata": {},
   "outputs": [
    {
     "name": "stdout",
     "output_type": "stream",
     "text": [
      "\"double quotation marks\"\n"
     ]
    }
   ],
   "source": [
    "text = '\"double quotation marks\"'\n",
    "print(text)"
   ]
  },
  {
   "cell_type": "code",
   "execution_count": 21,
   "id": "936b9b3b",
   "metadata": {},
   "outputs": [
    {
     "name": "stdout",
     "output_type": "stream",
     "text": [
      "'single quotation marks'\n"
     ]
    }
   ],
   "source": [
    "text = \"'single quotation marks'\"\n",
    "print(text)"
   ]
  },
  {
   "cell_type": "code",
   "execution_count": 23,
   "id": "99b96e19",
   "metadata": {},
   "outputs": [
    {
     "name": "stdout",
     "output_type": "stream",
     "text": [
      "\"double quotation marks\"\n"
     ]
    }
   ],
   "source": [
    "text = \"\\\"double quotation marks\\\"\"\n",
    "print(text)"
   ]
  },
  {
   "cell_type": "code",
   "execution_count": 24,
   "id": "94e68bb2",
   "metadata": {},
   "outputs": [
    {
     "name": "stdout",
     "output_type": "stream",
     "text": [
      "'single quotation marks'\n"
     ]
    }
   ],
   "source": [
    "text = \"\\'single quotation marks\\'\"\n",
    "print(text)"
   ]
  },
  {
   "cell_type": "markdown",
   "id": "41445c7a",
   "metadata": {},
   "source": [
    "### 1.7. Escape sequence"
   ]
  },
  {
   "cell_type": "code",
   "execution_count": 25,
   "id": "7fcc7ac3",
   "metadata": {},
   "outputs": [
    {
     "name": "stdout",
     "output_type": "stream",
     "text": [
      "Write a \ttab in the middle of a sentence\n"
     ]
    }
   ],
   "source": [
    "text = 'Write a \\ttab in the middle of a sentence'\n",
    "print(text)"
   ]
  },
  {
   "cell_type": "markdown",
   "id": "6e554d8e",
   "metadata": {},
   "source": [
    "### 1.8. String formatting"
   ]
  },
  {
   "cell_type": "markdown",
   "id": "3226067d",
   "metadata": {},
   "source": [
    "- String formatting is a way to insert variables, values, and expressions into a string.\n",
    "\n",
    "- By using string formatting, you can dynamically insert changing values into a string in the desired format. It uses the format statement provided by String."
   ]
  },
  {
   "cell_type": "code",
   "execution_count": 26,
   "id": "4bc99b95",
   "metadata": {},
   "outputs": [
    {
     "data": {
      "text/plain": [
       "'fist value 1 and second value 2'"
      ]
     },
     "execution_count": 26,
     "metadata": {},
     "output_type": "execute_result"
    }
   ],
   "source": [
    "value1 = 1\n",
    "value2 = '2'\n",
    "'fist value {} and second value {}'.format(value1, value2)"
   ]
  },
  {
   "cell_type": "code",
   "execution_count": 27,
   "id": "26808a6f",
   "metadata": {},
   "outputs": [
    {
     "data": {
      "text/plain": [
       "'Hello Python!'"
      ]
     },
     "execution_count": 27,
     "metadata": {},
     "output_type": "execute_result"
    }
   ],
   "source": [
    "'Hello {}!'.format('Python')"
   ]
  },
  {
   "cell_type": "code",
   "execution_count": 28,
   "id": "58c266cb",
   "metadata": {},
   "outputs": [
    {
     "data": {
      "text/plain": [
       "'first value 1 and second value 2'"
      ]
     },
     "execution_count": 28,
     "metadata": {},
     "output_type": "execute_result"
    }
   ],
   "source": [
    "'first value {} and second value {}'.format(1, 2)"
   ]
  },
  {
   "cell_type": "code",
   "execution_count": 29,
   "id": "4a89bbbb",
   "metadata": {},
   "outputs": [
    {
     "data": {
      "text/plain": [
       "'1 + 2 = 3'"
      ]
     },
     "execution_count": 29,
     "metadata": {},
     "output_type": "execute_result"
    }
   ],
   "source": [
    "'{} + {} = {}'.format(1, 2, 1 + 2)"
   ]
  },
  {
   "cell_type": "markdown",
   "id": "449f2d9d",
   "metadata": {},
   "source": [
    "- You can specify the orrder as an integer value inside the placeholder. If no order is specified, it defaults to 0, 1, etc. in order."
   ]
  },
  {
   "cell_type": "code",
   "execution_count": 30,
   "id": "7b7cbe63",
   "metadata": {},
   "outputs": [
    {
     "data": {
      "text/plain": [
       "'I like Python and Java'"
      ]
     },
     "execution_count": 30,
     "metadata": {},
     "output_type": "execute_result"
    }
   ],
   "source": [
    "'I like {} and {}'.format('Python', 'Java')"
   ]
  },
  {
   "cell_type": "code",
   "execution_count": 31,
   "id": "c075f820",
   "metadata": {},
   "outputs": [
    {
     "data": {
      "text/plain": [
       "'I like Python and Java'"
      ]
     },
     "execution_count": 31,
     "metadata": {},
     "output_type": "execute_result"
    }
   ],
   "source": [
    "'I like {0} and {1}'.format('Python', 'Java')"
   ]
  },
  {
   "cell_type": "code",
   "execution_count": 32,
   "id": "6bbc40a0",
   "metadata": {},
   "outputs": [
    {
     "data": {
      "text/plain": [
       "'I like Java and Python'"
      ]
     },
     "execution_count": 32,
     "metadata": {},
     "output_type": "execute_result"
    }
   ],
   "source": [
    "'I like {1} and {0}'.format('Python', 'Java')"
   ]
  },
  {
   "cell_type": "code",
   "execution_count": 36,
   "id": "dde73944",
   "metadata": {},
   "outputs": [
    {
     "ename": "ValueError",
     "evalue": "cannot switch from manual field specification to automatic field numbering",
     "output_type": "error",
     "traceback": [
      "\u001b[1;31m---------------------------------------------------------------------------\u001b[0m",
      "\u001b[1;31mValueError\u001b[0m                                Traceback (most recent call last)",
      "Cell \u001b[1;32mIn[36], line 1\u001b[0m\n\u001b[1;32m----> 1\u001b[0m \u001b[38;5;124m'\u001b[39m\u001b[38;5;132;01m{0}\u001b[39;00m\u001b[38;5;124m, \u001b[39m\u001b[38;5;132;01m{0}\u001b[39;00m\u001b[38;5;124m, \u001b[39m\u001b[38;5;132;01m{}\u001b[39;00m\u001b[38;5;124m! Python\u001b[39m\u001b[38;5;124m'\u001b[39m\u001b[38;5;241m.\u001b[39mformat(\u001b[38;5;124m'\u001b[39m\u001b[38;5;124mHello\u001b[39m\u001b[38;5;124m'\u001b[39m, \u001b[38;5;124m'\u001b[39m\u001b[38;5;124mHi\u001b[39m\u001b[38;5;124m'\u001b[39m)\n",
      "\u001b[1;31mValueError\u001b[0m: cannot switch from manual field specification to automatic field numbering"
     ]
    }
   ],
   "source": [
    "'{0}, {0}, {}! Python'.format('Hello', 'Hi')"
   ]
  },
  {
   "cell_type": "code",
   "execution_count": 37,
   "id": "e299d4c9",
   "metadata": {},
   "outputs": [
    {
     "data": {
      "text/plain": [
       "'Hello, Hello, Hi! Python'"
      ]
     },
     "execution_count": 37,
     "metadata": {},
     "output_type": "execute_result"
    }
   ],
   "source": [
    "'{0}, {0}, {1}! Python'.format('Hello', 'Hi')"
   ]
  },
  {
   "cell_type": "code",
   "execution_count": 38,
   "id": "a807b31f",
   "metadata": {},
   "outputs": [
    {
     "data": {
      "text/plain": [
       "'100 200, 100 200, 100 200!'"
      ]
     },
     "execution_count": 38,
     "metadata": {},
     "output_type": "execute_result"
    }
   ],
   "source": [
    "'{0} {1}, {0} {1}, {0} {1}!'.format(100, 200)"
   ]
  },
  {
   "cell_type": "markdown",
   "id": "88ce0687",
   "metadata": {},
   "source": [
    "- When specifying a field width using a colon (:) inside the placeholder, you can also specify the spacing between characters, i.e., the field width. You must include a number after the colon."
   ]
  },
  {
   "cell_type": "code",
   "execution_count": 2,
   "id": "4399f3f8",
   "metadata": {},
   "outputs": [
    {
     "data": {
      "text/plain": [
       "'       123'"
      ]
     },
     "execution_count": 2,
     "metadata": {},
     "output_type": "execute_result"
    }
   ],
   "source": [
    "'{:10}'.format(123)"
   ]
  },
  {
   "cell_type": "code",
   "execution_count": 40,
   "id": "928452d6",
   "metadata": {},
   "outputs": [
    {
     "data": {
      "text/plain": [
       "'Hello     '"
      ]
     },
     "execution_count": 40,
     "metadata": {},
     "output_type": "execute_result"
    }
   ],
   "source": [
    "'{:10}'.format('Hello')"
   ]
  },
  {
   "cell_type": "markdown",
   "id": "33c40008",
   "metadata": {},
   "source": [
    "- In the above code, a field width of :10 is specified inside the {}. You can see that even for numbers, spaces appear on the left, and for String, spaces appear on the right.\n",
    "\n",
    "- You can specify the alignment based on whether the value is a numeric type or a string type."
   ]
  },
  {
   "cell_type": "code",
   "execution_count": 41,
   "id": "53060f42",
   "metadata": {},
   "outputs": [
    {
     "name": "stdout",
     "output_type": "stream",
     "text": [
      "       123\n",
      "123       \n",
      "       123\n",
      "   123    \n"
     ]
    }
   ],
   "source": [
    "value = 123\n",
    "formatted_value = '{:10}'.format(value)\n",
    "print(formatted_value)\n",
    "\n",
    "formatted_value = '{:<10}'.format(value)\n",
    "print(formatted_value)\n",
    "\n",
    "formatted_value = '{:>10}'.format(value)\n",
    "print(formatted_value)\n",
    "\n",
    "formatted_value = '{:^10}'.format(value)\n",
    "print(formatted_value)"
   ]
  },
  {
   "cell_type": "code",
   "execution_count": 42,
   "id": "4c42599f",
   "metadata": {},
   "outputs": [
    {
     "name": "stdout",
     "output_type": "stream",
     "text": [
      "Hello     \n",
      "Hello     \n",
      "     Hello\n",
      "  Hello   \n"
     ]
    }
   ],
   "source": [
    "value = 'Hello'\n",
    "formatted_value = '{:10}'.format(value)\n",
    "print(formatted_value)\n",
    "\n",
    "formatted_value = '{:<10}'.format(value)\n",
    "print(formatted_value)\n",
    "\n",
    "formatted_value = '{:>10}'.format(value)\n",
    "print(formatted_value)\n",
    "\n",
    "formatted_value = '{:^10}'.format(value)\n",
    "print(formatted_value)"
   ]
  },
  {
   "cell_type": "markdown",
   "id": "7a2cfab1",
   "metadata": {},
   "source": [
    "- By using d inside the placeholder, you can receive integer values, and by using f, you can receive floating-point values, including numbers with decimal points.\n",
    "\n",
    "    - {:10d} takes up ten spaces and receives integer values.\n",
    "    - {:10f} takes up ten spaces and receives floating-point values."
   ]
  },
  {
   "cell_type": "code",
   "execution_count": 44,
   "id": "b228b6f6",
   "metadata": {},
   "outputs": [
    {
     "data": {
      "text/plain": [
       "'       123'"
      ]
     },
     "execution_count": 44,
     "metadata": {},
     "output_type": "execute_result"
    }
   ],
   "source": [
    "'{:10d}'.format(123)"
   ]
  },
  {
   "cell_type": "code",
   "execution_count": 45,
   "id": "4d30ebf0",
   "metadata": {},
   "outputs": [
    {
     "data": {
      "text/plain": [
       "'123.500000'"
      ]
     },
     "execution_count": 45,
     "metadata": {},
     "output_type": "execute_result"
    }
   ],
   "source": [
    "'{:10f}'.format(123.5)"
   ]
  },
  {
   "cell_type": "code",
   "execution_count": 47,
   "id": "e3e739c5",
   "metadata": {},
   "outputs": [
    {
     "data": {
      "text/plain": [
       "'123.000000'"
      ]
     },
     "execution_count": 47,
     "metadata": {},
     "output_type": "execute_result"
    }
   ],
   "source": [
    "'{:10f}'.format(123)"
   ]
  },
  {
   "cell_type": "code",
   "execution_count": 48,
   "id": "1a328cda",
   "metadata": {},
   "outputs": [
    {
     "data": {
      "text/plain": [
       "'    123.00'"
      ]
     },
     "execution_count": 48,
     "metadata": {},
     "output_type": "execute_result"
    }
   ],
   "source": [
    "'{:10.2f}'.format(123)"
   ]
  },
  {
   "cell_type": "code",
   "execution_count": 49,
   "id": "f4542d3f",
   "metadata": {},
   "outputs": [
    {
     "ename": "ValueError",
     "evalue": "Unknown format code 'd' for object of type 'float'",
     "output_type": "error",
     "traceback": [
      "\u001b[1;31m---------------------------------------------------------------------------\u001b[0m",
      "\u001b[1;31mValueError\u001b[0m                                Traceback (most recent call last)",
      "Cell \u001b[1;32mIn[49], line 1\u001b[0m\n\u001b[1;32m----> 1\u001b[0m \u001b[38;5;124m'\u001b[39m\u001b[38;5;132;01m{:10d}\u001b[39;00m\u001b[38;5;124m'\u001b[39m\u001b[38;5;241m.\u001b[39mformat(\u001b[38;5;241m123.5\u001b[39m)\n",
      "\u001b[1;31mValueError\u001b[0m: Unknown format code 'd' for object of type 'float'"
     ]
    }
   ],
   "source": [
    "'{:10d}'.format(123.5)"
   ]
  },
  {
   "cell_type": "markdown",
   "id": "2453b1fd",
   "metadata": {},
   "source": [
    "- Since {:10f} fills the empty space with 0, it is meaningless to use itt with alignment symbols."
   ]
  },
  {
   "cell_type": "code",
   "execution_count": 51,
   "id": "04d0bed7",
   "metadata": {},
   "outputs": [
    {
     "name": "stdout",
     "output_type": "stream",
     "text": [
      "123.000000\n",
      "123.000000\n",
      "123.000000\n",
      "123.000000\n"
     ]
    }
   ],
   "source": [
    "value = 123\n",
    "formatted_value = '{:10f}'.format(value)\n",
    "print(formatted_value)\n",
    "\n",
    "formatted_value = '{:<10f}'.format(value)\n",
    "print(formatted_value)\n",
    "\n",
    "formatted_value = '{:>10f}'.format(value)\n",
    "print(formatted_value)\n",
    "\n",
    "formatted_value = '{:^10f}'.format(value)\n",
    "print(formatted_value)"
   ]
  },
  {
   "cell_type": "markdown",
   "id": "11fa9f14",
   "metadata": {},
   "source": [
    "- Floating-point numbers with decimal places can be expressed in placeholder using f. {:10f} takes up ten spaces and receives a value as a floating-pointer number.\n",
    "\n",
    "- By adding a dot and a number in front of f, you can specify how many decimal places to display.\n",
    "    \n",
    "    - {:10.3f} takes up ten spaces and displays up to three decimal places."
   ]
  },
  {
   "cell_type": "code",
   "execution_count": 52,
   "id": "90a55fad",
   "metadata": {},
   "outputs": [
    {
     "data": {
      "text/plain": [
       "'     3.142'"
      ]
     },
     "execution_count": 52,
     "metadata": {},
     "output_type": "execute_result"
    }
   ],
   "source": [
    "'{:10.3f}'.format(3.1415926)"
   ]
  },
  {
   "cell_type": "code",
   "execution_count": 53,
   "id": "dd0774c6",
   "metadata": {},
   "outputs": [
    {
     "data": {
      "text/plain": [
       "'    3.1416'"
      ]
     },
     "execution_count": 53,
     "metadata": {},
     "output_type": "execute_result"
    }
   ],
   "source": [
    "'{:10.4f}'.format(3.1415926)"
   ]
  },
  {
   "cell_type": "markdown",
   "id": "2720539e",
   "metadata": {},
   "source": [
    "### 1.9. String Splitting\n",
    "\n",
    "- String splitting is the process of dividing a string into multiple strings based on a delimiter.\n",
    "\n",
    "- By using the split function procided by String, you can split a single string into one or more String. By default, whitespace is used as the delimiter for splitting the string."
   ]
  },
  {
   "cell_type": "code",
   "execution_count": 54,
   "id": "4d78f2cc",
   "metadata": {},
   "outputs": [
    {
     "data": {
      "text/plain": [
       "['Python', 'is', 'beautiful']"
      ]
     },
     "execution_count": 54,
     "metadata": {},
     "output_type": "execute_result"
    }
   ],
   "source": [
    "'Python is beautiful'.split()"
   ]
  },
  {
   "cell_type": "code",
   "execution_count": 55,
   "id": "8329b73e",
   "metadata": {},
   "outputs": [
    {
     "name": "stdout",
     "output_type": "stream",
     "text": [
      "Python is beautiful\n"
     ]
    }
   ],
   "source": [
    "word1, word2, word3 = 'Python is beautiful'.split()\n",
    "print(word1, word2, word3)"
   ]
  },
  {
   "cell_type": "markdown",
   "id": "69baf166",
   "metadata": {},
   "source": [
    "- The delimiter that separates a single string into one or more individual strings is called a <span style=\"color:red\">separator</span>."
   ]
  },
  {
   "cell_type": "code",
   "execution_count": 56,
   "id": "28f42c49",
   "metadata": {},
   "outputs": [
    {
     "name": "stdout",
     "output_type": "stream",
     "text": [
      "2023 5 15\n"
     ]
    }
   ],
   "source": [
    "year, month, day = '2023.5.15'.split('.')\n",
    "print(year, month, day)"
   ]
  },
  {
   "cell_type": "code",
   "execution_count": 57,
   "id": "ca204329",
   "metadata": {},
   "outputs": [
    {
     "name": "stdout",
     "output_type": "stream",
     "text": [
      "Hello  World\n"
     ]
    }
   ],
   "source": [
    "text1, text2 = 'Hello, World'.split(',')\n",
    "print(text1, text2)"
   ]
  },
  {
   "cell_type": "markdown",
   "id": "61a23af6",
   "metadata": {},
   "source": [
    "### 1.10. Checking if a String is a Numeric Character\n",
    "\n",
    "- We learned that enclosing numerical data with quotation marks turns it into a string.\n",
    "\n",
    "- Among them, the characters taht clearly represent numbers from 0 to 9 within a string are called '<span style=\"color:orange\">digit</span><span style=\"color:blue\">characters</span>.' There is a way to check if a string is composed of 'digitcharacters.'\n",
    "\n",
    "- The <span style=\"color:orange\">isdigit statement</span> checks each character of the given string and returns True or False, indicating whether it consists only of numeric characters."
   ]
  },
  {
   "cell_type": "code",
   "execution_count": 58,
   "id": "ccac1490",
   "metadata": {},
   "outputs": [
    {
     "name": "stdout",
     "output_type": "stream",
     "text": [
      "True\n",
      "False\n",
      "False\n",
      "False\n",
      "True\n"
     ]
    }
   ],
   "source": [
    "string1 = '12345'\n",
    "print(string1.isdigit())\n",
    "\n",
    "string2 = 'Hello'\n",
    "print(string2.isdigit())\n",
    "\n",
    "string3 = '3.14'\n",
    "print(string3.isdigit())\n",
    "\n",
    "string4 = '-42'\n",
    "print(string4.isdigit())\n",
    "\n",
    "string5 = '0'\n",
    "print(string5.isdigit())"
   ]
  },
  {
   "cell_type": "markdown",
   "id": "2331447e",
   "metadata": {},
   "source": [
    "- Sometimes it is convenient to use the isdigit function before converting a string to the int type. This is because if the data is not of that type and you try to convert it, an error will occur."
   ]
  },
  {
   "cell_type": "code",
   "execution_count": 59,
   "id": "07f0020f",
   "metadata": {},
   "outputs": [
    {
     "ename": "ValueError",
     "evalue": "invalid literal for int() with base 10: 'Hello'",
     "output_type": "error",
     "traceback": [
      "\u001b[1;31m---------------------------------------------------------------------------\u001b[0m",
      "\u001b[1;31mValueError\u001b[0m                                Traceback (most recent call last)",
      "Cell \u001b[1;32mIn[59], line 1\u001b[0m\n\u001b[1;32m----> 1\u001b[0m \u001b[38;5;28mint\u001b[39m(\u001b[38;5;124m\"\u001b[39m\u001b[38;5;124mHello\u001b[39m\u001b[38;5;124m\"\u001b[39m)\n",
      "\u001b[1;31mValueError\u001b[0m: invalid literal for int() with base 10: 'Hello'"
     ]
    }
   ],
   "source": [
    "int(\"Hello\")"
   ]
  },
  {
   "cell_type": "code",
   "execution_count": 60,
   "id": "aa3815ae",
   "metadata": {},
   "outputs": [
    {
     "ename": "ValueError",
     "evalue": "invalid literal for int() with base 10: '3.14'",
     "output_type": "error",
     "traceback": [
      "\u001b[1;31m---------------------------------------------------------------------------\u001b[0m",
      "\u001b[1;31mValueError\u001b[0m                                Traceback (most recent call last)",
      "Cell \u001b[1;32mIn[60], line 1\u001b[0m\n\u001b[1;32m----> 1\u001b[0m \u001b[38;5;28mint\u001b[39m(\u001b[38;5;124m\"\u001b[39m\u001b[38;5;124m3.14\u001b[39m\u001b[38;5;124m\"\u001b[39m)\n",
      "\u001b[1;31mValueError\u001b[0m: invalid literal for int() with base 10: '3.14'"
     ]
    }
   ],
   "source": [
    "int(\"3.14\")"
   ]
  },
  {
   "cell_type": "markdown",
   "id": "81f910c0",
   "metadata": {},
   "source": [
    "# 2.Writing Input Statement"
   ]
  },
  {
   "cell_type": "markdown",
   "id": "fc8bad0a",
   "metadata": {},
   "source": [
    "### 2.1. Basic Usage of the input Statement"
   ]
  },
  {
   "cell_type": "markdown",
   "id": "a58c9d1c",
   "metadata": {},
   "source": [
    "- Let's write a code that asks the user for their name.\n",
    "\n",
    "- The input() statement is a <span style=\"color:orange\">command that receive a value from the user.</span>"
   ]
  },
  {
   "cell_type": "code",
   "execution_count": 61,
   "id": "2d1c87c9",
   "metadata": {},
   "outputs": [
    {
     "name": "stdout",
     "output_type": "stream",
     "text": [
      "Please enter your name: Vatana\n",
      "Hello, Vatana\n"
     ]
    }
   ],
   "source": [
    "name = input('Please enter your name: ')\n",
    "print('Hello,', name)"
   ]
  },
  {
   "cell_type": "markdown",
   "id": "c9611b49",
   "metadata": {},
   "source": [
    "### 2.2. Getting a Number Input from the User\n",
    "\n",
    "- The input statement returns a string. Therefore, if you need to perform calculations with a number entered by the user, you need to convert that data type."
   ]
  },
  {
   "cell_type": "markdown",
   "id": "09f2c1c5",
   "metadata": {},
   "source": [
    "- By enclosing the input statement with the int function, you can receive an integer from the user."
   ]
  },
  {
   "cell_type": "code",
   "execution_count": 62,
   "id": "c468b69b",
   "metadata": {},
   "outputs": [
    {
     "name": "stdout",
     "output_type": "stream",
     "text": [
      "Enter the first integer: 2\n",
      "Enter the second integer: 3\n",
      "2 and 3 sum up to 5 .\n"
     ]
    }
   ],
   "source": [
    "x = int(input(\"Enter the first integer: \"))\n",
    "y = int(input(\"Enter the second integer: \"))\n",
    "s = x + y\n",
    "print(x, \"and\", y, \"sum up to\", s, \".\")"
   ]
  },
  {
   "cell_type": "code",
   "execution_count": 63,
   "id": "3602db3b",
   "metadata": {},
   "outputs": [
    {
     "name": "stdout",
     "output_type": "stream",
     "text": [
      "Enter the first integer: hundred\n"
     ]
    },
    {
     "ename": "ValueError",
     "evalue": "invalid literal for int() with base 10: 'hundred'",
     "output_type": "error",
     "traceback": [
      "\u001b[1;31m---------------------------------------------------------------------------\u001b[0m",
      "\u001b[1;31mValueError\u001b[0m                                Traceback (most recent call last)",
      "Cell \u001b[1;32mIn[63], line 1\u001b[0m\n\u001b[1;32m----> 1\u001b[0m x \u001b[38;5;241m=\u001b[39m \u001b[38;5;28mint\u001b[39m(\u001b[38;5;28minput\u001b[39m(\u001b[38;5;124m\"\u001b[39m\u001b[38;5;124mEnter the first integer: \u001b[39m\u001b[38;5;124m\"\u001b[39m))\n\u001b[0;32m      2\u001b[0m y \u001b[38;5;241m=\u001b[39m \u001b[38;5;28mint\u001b[39m(\u001b[38;5;28minput\u001b[39m(\u001b[38;5;124m\"\u001b[39m\u001b[38;5;124mEnter the second integer: \u001b[39m\u001b[38;5;124m\"\u001b[39m))\n\u001b[0;32m      3\u001b[0m s \u001b[38;5;241m=\u001b[39m x \u001b[38;5;241m+\u001b[39m y\n",
      "\u001b[1;31mValueError\u001b[0m: invalid literal for int() with base 10: 'hundred'"
     ]
    }
   ],
   "source": [
    "x = int(input(\"Enter the first integer: \"))\n",
    "y = int(input(\"Enter the second integer: \"))\n",
    "s = x + y\n",
    "print(x, \"and\", y, \"sum up to\", s, \".\")"
   ]
  },
  {
   "cell_type": "markdown",
   "id": "e3d9c7f8",
   "metadata": {},
   "source": [
    "- By enclosing the input statement with the float statement, you can receive a floating-point number with a decimal point from the user."
   ]
  },
  {
   "cell_type": "code",
   "execution_count": 2,
   "id": "cdcf3499",
   "metadata": {},
   "outputs": [
    {
     "name": "stdout",
     "output_type": "stream",
     "text": [
      "Please enter your weight in kilograms(kg): 70\n",
      "Please enter your height in meters(m): 1.75\n",
      "Your BMI = 22.857142857142858\n"
     ]
    }
   ],
   "source": [
    "weight = float(input(\"Please enter your weight in kilograms(kg): \"))\n",
    "height = float(input(\"Please enter your height in meters(m): \"))\n",
    "\n",
    "bmi = (weight / (height ** 2))\n",
    "print(\"Your BMI =\", bmi)"
   ]
  },
  {
   "cell_type": "markdown",
   "id": "2d9dfdda",
   "metadata": {},
   "source": [
    "### 2.3. Splitting an Input String from the User\n",
    "\n",
    "- By using the split statement on the string received from the input statement, you can receive multiple values from the user at once."
   ]
  },
  {
   "cell_type": "code",
   "execution_count": 3,
   "id": "995f6b65",
   "metadata": {},
   "outputs": [
    {
     "name": "stdout",
     "output_type": "stream",
     "text": [
      "Enter three integers separated by space: 1 2 3\n",
      "1 2 3\n"
     ]
    }
   ],
   "source": [
    "num1, num2, num3 = input('Enter three integers separated by space: ').split()\n",
    "print(num1, num2, num3)"
   ]
  },
  {
   "cell_type": "code",
   "execution_count": 6,
   "id": "90b1ffd9",
   "metadata": {},
   "outputs": [
    {
     "name": "stdout",
     "output_type": "stream",
     "text": [
      "Enter three integers separated by comma: 1,2,3\n",
      "1 2 3\n"
     ]
    }
   ],
   "source": [
    "num1, num2, num3 = input('Enter three integers separated by comma: ').split(',')\n",
    "print(num1, num2, num3)"
   ]
  },
  {
   "cell_type": "code",
   "execution_count": 7,
   "id": "32a338d6",
   "metadata": {},
   "outputs": [
    {
     "name": "stdout",
     "output_type": "stream",
     "text": [
      "Enter three integers separated by comma: 1,2,3\n",
      "1 + 2 + 3 = 6\n"
     ]
    }
   ],
   "source": [
    "num1, num2, num3 = input('Enter three integers separated by comma: ').split(',')\n",
    "num1, num2, num3 = int(num1), int(num2), int(num3)\n",
    "print('{} + {} + {} = {}'.format(num1, num2, num3, num1 + num2 + num3))"
   ]
  },
  {
   "cell_type": "markdown",
   "id": "b5ca7d8e",
   "metadata": {},
   "source": [
    "### 2.4. Writing Input Statement with String Formatting\n",
    "\n",
    "- You can apply string formatting to the input statement to output a string that corresponds  to the question."
   ]
  },
  {
   "cell_type": "code",
   "execution_count": 8,
   "id": "e2f680b1",
   "metadata": {},
   "outputs": [
    {
     "name": "stdout",
     "output_type": "stream",
     "text": [
      "Q1. Please enter your name: Vatana\n",
      "Vatana\n"
     ]
    }
   ],
   "source": [
    "num = 1\n",
    "text = 'name'\n",
    "name = input('Q{}. Please enter your {}: '.format(num, text))\n",
    "print(name)"
   ]
  },
  {
   "cell_type": "markdown",
   "id": "82c729d5",
   "metadata": {},
   "source": [
    "### 2.5. Change Calculator Program"
   ]
  },
  {
   "cell_type": "code",
   "execution_count": 9,
   "id": "9eeb0b22",
   "metadata": {},
   "outputs": [
    {
     "name": "stdout",
     "output_type": "stream",
     "text": [
      "Money you put in: 5000\n",
      "Price of goods: 300\n",
      "Change: 4700\n",
      "The number of 500 won coins: 9\n",
      "The number of 100 won coins: 2\n"
     ]
    }
   ],
   "source": [
    "money = int(input(\"Money you put in: \"))\n",
    "price = int(input(\"Price of goods: \"))\n",
    "\n",
    "change = money - price\n",
    "print(\"Change:\", change)\n",
    "coin500s = change // 500\n",
    "change = change % 500\n",
    "coin100s = change // 100\n",
    "\n",
    "print(\"The number of 500 won coins:\", coin500s)\n",
    "print(\"The number of 100 won coins:\", coin100s)"
   ]
  },
  {
   "cell_type": "code",
   "execution_count": 10,
   "id": "4e8e03b2",
   "metadata": {},
   "outputs": [
    {
     "ename": "ZeroDivisionError",
     "evalue": "division by zero",
     "output_type": "error",
     "traceback": [
      "\u001b[1;31m---------------------------------------------------------------------------\u001b[0m",
      "\u001b[1;31mZeroDivisionError\u001b[0m                         Traceback (most recent call last)",
      "Cell \u001b[1;32mIn[10], line 3\u001b[0m\n\u001b[0;32m      1\u001b[0m num1 \u001b[38;5;241m=\u001b[39m \u001b[38;5;241m3\u001b[39m\n\u001b[0;32m      2\u001b[0m num2 \u001b[38;5;241m=\u001b[39m \u001b[38;5;241m0\u001b[39m\n\u001b[1;32m----> 3\u001b[0m \u001b[38;5;28mprint\u001b[39m(num1 \u001b[38;5;241m/\u001b[39m num2)\n",
      "\u001b[1;31mZeroDivisionError\u001b[0m: division by zero"
     ]
    }
   ],
   "source": [
    "num1 = 3\n",
    "num2 = 0\n",
    "print(num1 / num2)"
   ]
  },
  {
   "cell_type": "markdown",
   "id": "e758a6e3",
   "metadata": {},
   "source": [
    "# 3. String and Output"
   ]
  },
  {
   "cell_type": "markdown",
   "id": "cb36ac5f",
   "metadata": {},
   "source": [
    "### 3.1. The Print Statement and Commas\n",
    "\n",
    "- When using a comma(,) in the print statement, you can output string and numerical values together. The comma(,) automatically inserts a space for output."
   ]
  },
  {
   "cell_type": "code",
   "execution_count": 11,
   "id": "f8bbbd23",
   "metadata": {},
   "outputs": [
    {
     "name": "stdout",
     "output_type": "stream",
     "text": [
      "I am 23 years old!\n",
      "I really really really  love Python!\n"
     ]
    }
   ],
   "source": [
    "print('I am', 23, 'years old!')\n",
    "print('I', 'really '*3, 'love', 'Python!')"
   ]
  },
  {
   "cell_type": "markdown",
   "id": "e5ed5551",
   "metadata": {},
   "source": [
    "###  3.2. The Print Statement and teh End Parameter"
   ]
  },
  {
   "cell_type": "markdown",
   "id": "b17f31af",
   "metadata": {},
   "source": [
    "- After executing the print statement, a line break occurs. However, if you specify a string using the 'end' keyword at the end of the print statement, the string is printed immediately after the output instead of a line break."
   ]
  },
  {
   "cell_type": "code",
   "execution_count": 12,
   "id": "eec472b7",
   "metadata": {},
   "outputs": [
    {
     "name": "stdout",
     "output_type": "stream",
     "text": [
      "HelloWorld!\n"
     ]
    }
   ],
   "source": [
    "print('Hello', end = '')\n",
    "print('World!')"
   ]
  },
  {
   "cell_type": "code",
   "execution_count": 13,
   "id": "66d36bca",
   "metadata": {},
   "outputs": [
    {
     "name": "stdout",
     "output_type": "stream",
     "text": [
      "12\n"
     ]
    }
   ],
   "source": [
    "print(1, end = '')\n",
    "print(2)"
   ]
  },
  {
   "cell_type": "code",
   "execution_count": 14,
   "id": "113252d4",
   "metadata": {},
   "outputs": [
    {
     "name": "stdout",
     "output_type": "stream",
     "text": [
      "Hello,World!\n"
     ]
    }
   ],
   "source": [
    "print('Hello', end = ',')\n",
    "print('World!')"
   ]
  },
  {
   "cell_type": "code",
   "execution_count": 15,
   "id": "859c1b52",
   "metadata": {},
   "outputs": [
    {
     "name": "stdout",
     "output_type": "stream",
     "text": [
      "My name is David\n"
     ]
    }
   ],
   "source": [
    "print(\"My name is\", end = \" \")\n",
    "print('David')"
   ]
  },
  {
   "cell_type": "code",
   "execution_count": 16,
   "id": "70c9f044",
   "metadata": {},
   "outputs": [
    {
     "name": "stdout",
     "output_type": "stream",
     "text": [
      "My name is : David\n"
     ]
    }
   ],
   "source": [
    "print(\"My name is\", end = \" : \")\n",
    "print(\"David\")"
   ]
  },
  {
   "cell_type": "markdown",
   "id": "7bb7ea04",
   "metadata": {},
   "source": [
    "### 3.3. Print Statement and Separator\n",
    "\n",
    "- By specifying a separator using the 'sep' keyword at the end of the print statement, a separator is printed between the values to be output."
   ]
  },
  {
   "cell_type": "code",
   "execution_count": 17,
   "id": "fa928285",
   "metadata": {},
   "outputs": [
    {
     "name": "stdout",
     "output_type": "stream",
     "text": [
      "Hello World!\n"
     ]
    }
   ],
   "source": [
    "print(\"Hello\", 'World!', sep = ' ')"
   ]
  },
  {
   "cell_type": "code",
   "execution_count": 18,
   "id": "8f033669",
   "metadata": {},
   "outputs": [
    {
     "name": "stdout",
     "output_type": "stream",
     "text": [
      "Hello,World!\n"
     ]
    }
   ],
   "source": [
    "print('Hello', 'World!', sep = ',')"
   ]
  },
  {
   "cell_type": "code",
   "execution_count": 19,
   "id": "a47b2aa5",
   "metadata": {},
   "outputs": [
    {
     "name": "stdout",
     "output_type": "stream",
     "text": [
      "s-e-p\n"
     ]
    }
   ],
   "source": [
    "print('s', 'e', 'p', sep = '-')"
   ]
  },
  {
   "cell_type": "markdown",
   "id": "fc01c2d8",
   "metadata": {},
   "source": [
    "### 3.4. Output Using String Formatting"
   ]
  },
  {
   "cell_type": "code",
   "execution_count": 20,
   "id": "e3ba4f7d",
   "metadata": {},
   "outputs": [
    {
     "name": "stdout",
     "output_type": "stream",
     "text": [
      "Enter your name : David\n",
      "Enter your age : 23\n",
      "Enter your job : Programmer\n",
      "Your name is David, and 23 years old, job is Programmer.\n"
     ]
    }
   ],
   "source": [
    "name = input('Enter your name : ')\n",
    "age = input('Enter your age : ')\n",
    "job = input('Enter your job : ')\n",
    "\n",
    "print('Your name is {}, and {} years old, job is {}.'.format(name, age, job))"
   ]
  },
  {
   "cell_type": "markdown",
   "id": "61c7b1f0",
   "metadata": {},
   "source": [
    "# 4. Error and Debugging"
   ]
  },
  {
   "cell_type": "markdown",
   "id": "4b87802d",
   "metadata": {},
   "source": [
    "### 4.1. Syntax Error\n",
    "\n",
    "- Programming languages are executed based on strict rules. Syntax errors occur when a command violates prescribed grammar when coding in Python.\n",
    "\n",
    "- To prevent syntax errors, you need to learn the correct Python syntax and code according to the prescribed rules."
   ]
  },
  {
   "cell_type": "code",
   "execution_count": 21,
   "id": "677a1336",
   "metadata": {},
   "outputs": [
    {
     "ename": "SyntaxError",
     "evalue": "unterminated string literal (detected at line 1) (3574047905.py, line 1)",
     "output_type": "error",
     "traceback": [
      "\u001b[1;36m  Cell \u001b[1;32mIn[21], line 1\u001b[1;36m\u001b[0m\n\u001b[1;33m    print('hello)\u001b[0m\n\u001b[1;37m          ^\u001b[0m\n\u001b[1;31mSyntaxError\u001b[0m\u001b[1;31m:\u001b[0m unterminated string literal (detected at line 1)\n"
     ]
    }
   ],
   "source": [
    "print('hello)"
   ]
  },
  {
   "cell_type": "markdown",
   "id": "850175d9",
   "metadata": {},
   "source": [
    "### 4.2. Runtime Error\n",
    "\n",
    "- Unlike syntax errors, even sentences written in accordance with Python syntax can cause errors during execution. These errors are called <span style=\"color:orange\">runtime errors.</span>\n",
    "\n",
    "- To prevent runtime errors, as a developer, you need to consider that users can enter incorrect data and <span style=\"color:orange\">send user-friendly</span> and <span style=\"color:orange\">helpful input request messages.</span>\n",
    "\n",
    "- Additionally, since exceptional cases can occur in all user inputs and code, it is necessary to perform <span style=\"color:orange\">many tests for various situations.</span>"
   ]
  },
  {
   "cell_type": "code",
   "execution_count": 22,
   "id": "18114b6b",
   "metadata": {},
   "outputs": [
    {
     "name": "stdout",
     "output_type": "stream",
     "text": [
      "Input an integer : two\n"
     ]
    },
    {
     "ename": "ValueError",
     "evalue": "invalid literal for int() with base 10: 'two'",
     "output_type": "error",
     "traceback": [
      "\u001b[1;31m---------------------------------------------------------------------------\u001b[0m",
      "\u001b[1;31mValueError\u001b[0m                                Traceback (most recent call last)",
      "Cell \u001b[1;32mIn[22], line 1\u001b[0m\n\u001b[1;32m----> 1\u001b[0m num \u001b[38;5;241m=\u001b[39m \u001b[38;5;28mint\u001b[39m(\u001b[38;5;28minput\u001b[39m(\u001b[38;5;124m'\u001b[39m\u001b[38;5;124mInput an integer : \u001b[39m\u001b[38;5;124m'\u001b[39m))\n",
      "\u001b[1;31mValueError\u001b[0m: invalid literal for int() with base 10: 'two'"
     ]
    }
   ],
   "source": [
    "num = int(input('Input an integer : '))"
   ]
  },
  {
   "cell_type": "code",
   "execution_count": null,
   "id": "dfe33e80",
   "metadata": {},
   "outputs": [],
   "source": []
  }
 ],
 "metadata": {
  "kernelspec": {
   "display_name": "Python 3 (ipykernel)",
   "language": "python",
   "name": "python3"
  },
  "language_info": {
   "codemirror_mode": {
    "name": "ipython",
    "version": 3
   },
   "file_extension": ".py",
   "mimetype": "text/x-python",
   "name": "python",
   "nbconvert_exporter": "python",
   "pygments_lexer": "ipython3",
   "version": "3.10.9"
  }
 },
 "nbformat": 4,
 "nbformat_minor": 5
}
