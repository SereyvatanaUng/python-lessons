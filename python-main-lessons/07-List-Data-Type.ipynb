{
 "cells": [
  {
   "cell_type": "markdown",
   "id": "85b86a60",
   "metadata": {},
   "source": [
    "# 1. List"
   ]
  },
  {
   "cell_type": "markdown",
   "id": "f825b14c",
   "metadata": {},
   "source": [
    "### 1.3. What is a list?\n",
    "\n",
    "- A list is a data structure that can hold individual values together.\n",
    "    - It is more convenient and efficient than writing and managing multiple variable names.\n",
    "    - It can be copied and manipulated all at once."
   ]
  },
  {
   "cell_type": "markdown",
   "id": "a0e12575",
   "metadata": {},
   "source": [
    "- Item or element\n",
    "    - The individual data that make up the list is called item or element.\n",
    "    - They are data values separated by commas when stored.\n",
    "    "
   ]
  },
  {
   "cell_type": "code",
   "execution_count": 1,
   "id": "8b5353b6",
   "metadata": {},
   "outputs": [
    {
     "data": {
      "text/plain": [
       "[87, 84, 95, 67, 88, 94, 63]"
      ]
     },
     "execution_count": 1,
     "metadata": {},
     "output_type": "execute_result"
    }
   ],
   "source": [
    "score_list = [87, 84, 95, 67, 88, 94, 63]\n",
    "score_list"
   ]
  },
  {
   "cell_type": "markdown",
   "id": "56ef0142",
   "metadata": {},
   "source": [
    "- Index\n",
    "    > The number that points to the item value in the list is called the index.\n",
    "\n",
    "- Indexing\n",
    "    > Referring to getting an item, it is called indexing."
   ]
  },
  {
   "cell_type": "code",
   "execution_count": 2,
   "id": "448c5ba5",
   "metadata": {},
   "outputs": [
    {
     "name": "stdout",
     "output_type": "stream",
     "text": [
      "87 67\n"
     ]
    }
   ],
   "source": [
    "score_list = [87, 84, 95, 67, 88, 94, 63]\n",
    "print(score_list[0], score_list[3])"
   ]
  },
  {
   "cell_type": "markdown",
   "id": "77694058",
   "metadata": {},
   "source": [
    "# 2. Defining a list"
   ]
  },
  {
   "cell_type": "markdown",
   "id": "dd572ac4",
   "metadata": {},
   "source": [
    "### 2.1. Empty list\n",
    "\n",
    "- In an empty list, items can be added through code.\n",
    "- In many cases, we cannot predict how many items will be in the list. In such cases, an empty list is useful."
   ]
  },
  {
   "cell_type": "code",
   "execution_count": 4,
   "id": "432e55fa",
   "metadata": {},
   "outputs": [
    {
     "data": {
      "text/plain": [
       "['V']"
      ]
     },
     "execution_count": 4,
     "metadata": {},
     "output_type": "execute_result"
    }
   ],
   "source": [
    "bts = []\n",
    "bts.append('V')\n",
    "bts"
   ]
  },
  {
   "cell_type": "code",
   "execution_count": 5,
   "id": "51e469ad",
   "metadata": {},
   "outputs": [
    {
     "data": {
      "text/plain": [
       "['V']"
      ]
     },
     "execution_count": 5,
     "metadata": {},
     "output_type": "execute_result"
    }
   ],
   "source": [
    "bts = []\n",
    "bts += [\"V\"]\n",
    "bts"
   ]
  },
  {
   "cell_type": "markdown",
   "id": "654e7ca2",
   "metadata": {},
   "source": [
    "### 2.2. Data types in a list\n",
    "\n",
    "- There are no limitations on the data types that can be included in a list."
   ]
  },
  {
   "cell_type": "code",
   "execution_count": 7,
   "id": "829dc14e",
   "metadata": {},
   "outputs": [
    {
     "name": "stdout",
     "output_type": "stream",
     "text": [
      "[100, 200, 'apple', 400]\n"
     ]
    }
   ],
   "source": [
    "mixed_list = [100, 200, \"apple\", 400]\n",
    "print(mixed_list)"
   ]
  },
  {
   "cell_type": "markdown",
   "id": "15b1717d",
   "metadata": {},
   "source": [
    "### 2.3. Creating a list using the range function to generate a sequence of numbers"
   ]
  },
  {
   "cell_type": "code",
   "execution_count": 9,
   "id": "a3d85baf",
   "metadata": {},
   "outputs": [
    {
     "data": {
      "text/plain": [
       "[1, 2, 3, 4, 5, 6, 7, 8, 9]"
      ]
     },
     "execution_count": 9,
     "metadata": {},
     "output_type": "execute_result"
    }
   ],
   "source": [
    "list4 = list(range(1, 10))\n",
    "list4"
   ]
  },
  {
   "cell_type": "markdown",
   "id": "76913fbf",
   "metadata": {},
   "source": [
    "# 3. List indexing"
   ]
  },
  {
   "cell_type": "markdown",
   "id": "f2fd1c0a",
   "metadata": {},
   "source": [
    "### 3.1. Indexing and length of a list"
   ]
  },
  {
   "cell_type": "code",
   "execution_count": 10,
   "id": "9e716738",
   "metadata": {},
   "outputs": [
    {
     "name": "stdout",
     "output_type": "stream",
     "text": [
      "[11, 22, 33, 44, 55, 66]\n",
      "6\n"
     ]
    }
   ],
   "source": [
    "n_list = [11, 22, 33, 44, 55, 66]\n",
    "print(n_list)\n",
    "print(len(n_list))"
   ]
  },
  {
   "cell_type": "code",
   "execution_count": 11,
   "id": "7c54395e",
   "metadata": {},
   "outputs": [
    {
     "data": {
      "text/plain": [
       "11"
      ]
     },
     "execution_count": 11,
     "metadata": {},
     "output_type": "execute_result"
    }
   ],
   "source": [
    "n_list[0]"
   ]
  },
  {
   "cell_type": "code",
   "execution_count": 12,
   "id": "cd6c40ff",
   "metadata": {},
   "outputs": [
    {
     "data": {
      "text/plain": [
       "22"
      ]
     },
     "execution_count": 12,
     "metadata": {},
     "output_type": "execute_result"
    }
   ],
   "source": [
    "n_list[1]"
   ]
  },
  {
   "cell_type": "markdown",
   "id": "357543a5",
   "metadata": {},
   "source": [
    "### 3.2. Caution in list indexing"
   ]
  },
  {
   "cell_type": "code",
   "execution_count": 13,
   "id": "a6ff4ac7",
   "metadata": {},
   "outputs": [
    {
     "ename": "IndexError",
     "evalue": "list index out of range",
     "output_type": "error",
     "traceback": [
      "\u001b[0;31m---------------------------------------------------------------------------\u001b[0m",
      "\u001b[0;31mIndexError\u001b[0m                                Traceback (most recent call last)",
      "Cell \u001b[0;32mIn[13], line 1\u001b[0m\n\u001b[0;32m----> 1\u001b[0m \u001b[43mn_list\u001b[49m\u001b[43m[\u001b[49m\u001b[38;5;241;43m6\u001b[39;49m\u001b[43m]\u001b[49m\n",
      "\u001b[0;31mIndexError\u001b[0m: list index out of range"
     ]
    }
   ],
   "source": [
    "n_list[6]"
   ]
  },
  {
   "cell_type": "markdown",
   "id": "133d065e",
   "metadata": {},
   "source": [
    "### 3.3. Negative index"
   ]
  },
  {
   "cell_type": "code",
   "execution_count": 17,
   "id": "02b8bdb1",
   "metadata": {},
   "outputs": [
    {
     "data": {
      "text/plain": [
       "66"
      ]
     },
     "execution_count": 17,
     "metadata": {},
     "output_type": "execute_result"
    }
   ],
   "source": [
    "n_list = [11, 22, 33, 44, 55, 66]\n",
    "n_list[-1]"
   ]
  },
  {
   "cell_type": "code",
   "execution_count": 15,
   "id": "d1f4f2b5",
   "metadata": {},
   "outputs": [
    {
     "data": {
      "text/plain": [
       "55"
      ]
     },
     "execution_count": 15,
     "metadata": {},
     "output_type": "execute_result"
    }
   ],
   "source": [
    "n_list[-2]"
   ]
  },
  {
   "cell_type": "code",
   "execution_count": 16,
   "id": "84ca39a2",
   "metadata": {},
   "outputs": [
    {
     "data": {
      "text/plain": [
       "44"
      ]
     },
     "execution_count": 16,
     "metadata": {},
     "output_type": "execute_result"
    }
   ],
   "source": [
    "n_list[-3]"
   ]
  },
  {
   "cell_type": "markdown",
   "id": "47986b2c",
   "metadata": {},
   "source": [
    "### 3.4. Glossary of Python terms: list, index. indexing"
   ]
  },
  {
   "cell_type": "markdown",
   "id": "50a5cc32",
   "metadata": {},
   "source": [
    "- List\n",
    "> - A Python data structure that can contain multiple items and allows for replacing internal items.\n",
    "> - It also supports extracting the desired values from the stored items.\n",
    "\n",
    "- Index\n",
    "> - A number that points to the item value in the list.\n",
    "> - The index of a list with n items increases from 0 to n-1.\n",
    "> - Negative index can also be used.\n",
    "\n",
    "- Indexing \n",
    "> - The act of accesssing data values by using the index of the item."
   ]
  },
  {
   "cell_type": "markdown",
   "id": "acc2300b",
   "metadata": {},
   "source": [
    "# 4. List slicing"
   ]
  },
  {
   "cell_type": "markdown",
   "id": "2975a057",
   "metadata": {},
   "source": [
    "### 4.1. Slicing\n",
    "\n",
    "- Slicing: Refers to selecting specific segments of items within a list.\n",
    "- To specify a range, we use the colon (:) and the syntax is <span style=\"color:orange\">list_name[start:end]</span>.\n",
    "- You can slice the items up to the index minus 1 from the end value of the range."
   ]
  },
  {
   "cell_type": "code",
   "execution_count": 18,
   "id": "1a742165",
   "metadata": {},
   "outputs": [
    {
     "data": {
      "text/plain": [
       "[20, 30, 40, 50]"
      ]
     },
     "execution_count": 18,
     "metadata": {},
     "output_type": "execute_result"
    }
   ],
   "source": [
    "a_list = [10, 20, 30, 40, 50, 60, 70, 80]\n",
    "a_list[1 : 5]"
   ]
  },
  {
   "cell_type": "markdown",
   "id": "43a2c27a",
   "metadata": {},
   "source": [
    "- a_list[:i]: Returns items from the beginning of the list, a_list[0], to a_list[i-1]"
   ]
  },
  {
   "cell_type": "code",
   "execution_count": 21,
   "id": "7d6d7890",
   "metadata": {},
   "outputs": [
    {
     "data": {
      "text/plain": [
       "[10, 20, 30, 40, 50]"
      ]
     },
     "execution_count": 21,
     "metadata": {},
     "output_type": "execute_result"
    }
   ],
   "source": [
    "a_list = [10, 20, 30, 40, 50, 60, 70, 80]\n",
    "a_list[ : 5]"
   ]
  },
  {
   "cell_type": "markdown",
   "id": "39f41038",
   "metadata": {},
   "source": [
    "- a_list[i:]: Returns all items from a_list[i] to the last item in the list."
   ]
  },
  {
   "cell_type": "code",
   "execution_count": 22,
   "id": "33a6740d",
   "metadata": {},
   "outputs": [
    {
     "data": {
      "text/plain": [
       "[20, 30, 40, 50, 60, 70, 80]"
      ]
     },
     "execution_count": 22,
     "metadata": {},
     "output_type": "execute_result"
    }
   ],
   "source": [
    "a_list[1 : ]"
   ]
  },
  {
   "cell_type": "markdown",
   "id": "83148041",
   "metadata": {},
   "source": [
    "- [:] slicing: Returns all items in the list."
   ]
  },
  {
   "cell_type": "code",
   "execution_count": 30,
   "id": "928683cc",
   "metadata": {},
   "outputs": [
    {
     "data": {
      "text/plain": [
       "[10, 20, 30, 40, 50, 60, 70, 80]"
      ]
     },
     "execution_count": 30,
     "metadata": {},
     "output_type": "execute_result"
    }
   ],
   "source": [
    "a_list[ : ]"
   ]
  },
  {
   "cell_type": "markdown",
   "id": "71460234",
   "metadata": {},
   "source": [
    "### 4.6. Slicing a list with negative index\n",
    "\n",
    "- The index of the last element becomes -1, and the preceding elements are assigned -2, -3, and so on"
   ]
  },
  {
   "cell_type": "code",
   "execution_count": 26,
   "id": "995c008d",
   "metadata": {},
   "outputs": [
    {
     "data": {
      "text/plain": [
       "[20, 30, 40, 50, 60]"
      ]
     },
     "execution_count": 26,
     "metadata": {},
     "output_type": "execute_result"
    }
   ],
   "source": [
    "a_list = [10, 20, 30, 40, 50, 60, 70, 80]\n",
    "a_list[-7 : -2]"
   ]
  },
  {
   "cell_type": "code",
   "execution_count": 27,
   "id": "d9131985",
   "metadata": {},
   "outputs": [
    {
     "data": {
      "text/plain": [
       "[20, 30, 40, 50, 60, 70, 80]"
      ]
     },
     "execution_count": 27,
     "metadata": {},
     "output_type": "execute_result"
    }
   ],
   "source": [
    "a_list[-7 : ]"
   ]
  },
  {
   "cell_type": "code",
   "execution_count": 28,
   "id": "cb71396b",
   "metadata": {},
   "outputs": [
    {
     "data": {
      "text/plain": [
       "[10, 20, 30, 40, 50, 60]"
      ]
     },
     "execution_count": 28,
     "metadata": {},
     "output_type": "execute_result"
    }
   ],
   "source": [
    "a_list[ : -2]"
   ]
  },
  {
   "cell_type": "markdown",
   "id": "a4eaf5f0",
   "metadata": {},
   "source": [
    "### 4.9. Slicing Syntax"
   ]
  },
  {
   "cell_type": "markdown",
   "id": "193f2307",
   "metadata": {},
   "source": [
    "### <span style=\"color:orange\">list_name[start : end : step]</span>"
   ]
  },
  {
   "cell_type": "markdown",
   "id": "2f7f6162",
   "metadata": {},
   "source": [
    "- reverse order"
   ]
  },
  {
   "cell_type": "code",
   "execution_count": 31,
   "id": "f0fb0fe4",
   "metadata": {},
   "outputs": [
    {
     "data": {
      "text/plain": [
       "[80, 70, 60, 50, 40, 30, 20, 10]"
      ]
     },
     "execution_count": 31,
     "metadata": {},
     "output_type": "execute_result"
    }
   ],
   "source": [
    "a_list[: : -1]"
   ]
  },
  {
   "cell_type": "markdown",
   "id": "661a826d",
   "metadata": {},
   "source": [
    "# 5. Lists and operators"
   ]
  },
  {
   "cell_type": "markdown",
   "id": "4d706414",
   "metadata": {},
   "source": [
    "### 5.1. Concatenating lists using the + operator\n",
    "\n",
    "- The + operator can be used to concatenate two lists."
   ]
  },
  {
   "cell_type": "code",
   "execution_count": 32,
   "id": "4917c460",
   "metadata": {},
   "outputs": [
    {
     "name": "stdout",
     "output_type": "stream",
     "text": [
      "['David Doe', 20, 1, 180.0, 100.0, 'John Smith', 25, 1, 170.0, 70.0]\n"
     ]
    }
   ],
   "source": [
    "person1 = ['David Doe', 20, 1, 180.0, 100.0]\n",
    "person2 = ['John Smith', 25, 1, 170.0, 70.0]\n",
    "\n",
    "person_list = person1 + person2\n",
    "print(person_list)"
   ]
  },
  {
   "cell_type": "markdown",
   "id": "07272d78",
   "metadata": {},
   "source": [
    "### 5.2. The 'in' Operator for Checking Values in a list"
   ]
  },
  {
   "cell_type": "code",
   "execution_count": 33,
   "id": "dc95631e",
   "metadata": {},
   "outputs": [
    {
     "data": {
      "text/plain": [
       "True"
      ]
     },
     "execution_count": 33,
     "metadata": {},
     "output_type": "execute_result"
    }
   ],
   "source": [
    "a_list = [10, 20 ,30 ,40]\n",
    "10 in a_list"
   ]
  },
  {
   "cell_type": "code",
   "execution_count": 34,
   "id": "014c1f5d",
   "metadata": {},
   "outputs": [
    {
     "data": {
      "text/plain": [
       "False"
      ]
     },
     "execution_count": 34,
     "metadata": {},
     "output_type": "execute_result"
    }
   ],
   "source": [
    "50 in a_list"
   ]
  },
  {
   "cell_type": "code",
   "execution_count": 35,
   "id": "40ad9e8e",
   "metadata": {},
   "outputs": [
    {
     "data": {
      "text/plain": [
       "False"
      ]
     },
     "execution_count": 35,
     "metadata": {},
     "output_type": "execute_result"
    }
   ],
   "source": [
    "10 not in a_list"
   ]
  },
  {
   "cell_type": "code",
   "execution_count": 36,
   "id": "2dc1bce6",
   "metadata": {},
   "outputs": [
    {
     "data": {
      "text/plain": [
       "True"
      ]
     },
     "execution_count": 36,
     "metadata": {},
     "output_type": "execute_result"
    }
   ],
   "source": [
    "50 not in a_list"
   ]
  },
  {
   "cell_type": "markdown",
   "id": "7efd7ef5",
   "metadata": {},
   "source": [
    "# 6. List methods"
   ]
  },
  {
   "cell_type": "markdown",
   "id": "fcdb30c0",
   "metadata": {},
   "source": [
    "### 6.1. The append Methos for Adding Items to a List\n",
    "\n",
    "- It allows adding desired items to an existing list.\n",
    "- A method is a function specific to the list itself and is called using a dot( . ) notation."
   ]
  },
  {
   "cell_type": "code",
   "execution_count": 37,
   "id": "80bd4d4d",
   "metadata": {},
   "outputs": [
    {
     "data": {
      "text/plain": [
       "['a', 'b', 'c', 'd', 'e', 'f']"
      ]
     },
     "execution_count": 37,
     "metadata": {},
     "output_type": "execute_result"
    }
   ],
   "source": [
    "a_list = ['a', 'b', 'c', 'd', 'e']\n",
    "a_list.append('f')\n",
    "a_list"
   ]
  },
  {
   "cell_type": "code",
   "execution_count": 38,
   "id": "047397fa",
   "metadata": {},
   "outputs": [
    {
     "data": {
      "text/plain": [
       "[10, 20, 30, 40, 50]"
      ]
     },
     "execution_count": 38,
     "metadata": {},
     "output_type": "execute_result"
    }
   ],
   "source": [
    "n_list = [10, 20, 30, 40]\n",
    "n_list.append(50)\n",
    "n_list"
   ]
  },
  {
   "cell_type": "markdown",
   "id": "91ad55fb",
   "metadata": {},
   "source": [
    "### 6.2. The extend Method for Adding Items to a List"
   ]
  },
  {
   "cell_type": "markdown",
   "id": "e693d7c2",
   "metadata": {},
   "source": [
    "- This method adds a list or items at the end of a list."
   ]
  },
  {
   "cell_type": "code",
   "execution_count": 39,
   "id": "c4d3639c",
   "metadata": {},
   "outputs": [
    {
     "data": {
      "text/plain": [
       "['a', 'b', 'c', 1, 2, 3]"
      ]
     },
     "execution_count": 39,
     "metadata": {},
     "output_type": "execute_result"
    }
   ],
   "source": [
    "list1 = ['a', 'b', 'c']\n",
    "list2 = [1, 2, 3]\n",
    "list1.extend(list2)\n",
    "list1"
   ]
  },
  {
   "cell_type": "code",
   "execution_count": 40,
   "id": "81b11c76",
   "metadata": {},
   "outputs": [
    {
     "data": {
      "text/plain": [
       "['a', 'b', 'c', 1, 2, 3, 'd']"
      ]
     },
     "execution_count": 40,
     "metadata": {},
     "output_type": "execute_result"
    }
   ],
   "source": [
    "list1.extend('d')\n",
    "list1"
   ]
  },
  {
   "cell_type": "markdown",
   "id": "8d0cea7d",
   "metadata": {},
   "source": [
    "### 6.3. Difference between append and extend Functions"
   ]
  },
  {
   "cell_type": "code",
   "execution_count": 41,
   "id": "8762044e",
   "metadata": {},
   "outputs": [
    {
     "data": {
      "text/plain": [
       "[11, 22, 33, 44, [55, 66]]"
      ]
     },
     "execution_count": 41,
     "metadata": {},
     "output_type": "execute_result"
    }
   ],
   "source": [
    "list1 = [11, 22, 33, 44]\n",
    "list1.append([55, 66])\n",
    "list1"
   ]
  },
  {
   "cell_type": "code",
   "execution_count": 42,
   "id": "542833be",
   "metadata": {},
   "outputs": [
    {
     "data": {
      "text/plain": [
       "[11, 22, 33, 44, 55, 66]"
      ]
     },
     "execution_count": 42,
     "metadata": {},
     "output_type": "execute_result"
    }
   ],
   "source": [
    "list1 = [11, 22, 33, 44]\n",
    "list1.extend([55, 66])\n",
    "list1"
   ]
  },
  {
   "cell_type": "markdown",
   "id": "0121f3af",
   "metadata": {},
   "source": [
    "### 6.4. The insert Method for Adding Items to a List\n",
    "\n",
    "- While append can only add items at the end of a list, <span style=\"color:orange\">insert(index, item)</span> method adds an item at the specified index."
   ]
  },
  {
   "cell_type": "code",
   "execution_count": 43,
   "id": "64b0d5c2",
   "metadata": {},
   "outputs": [
    {
     "name": "stdout",
     "output_type": "stream",
     "text": [
      "['David', 178.9, 'John', 173.5, 'Jane', 176.1]\n",
      "['David', 178.9, 'John', 173.5, 'Petter', 168.1, 'Jane', 176.1]\n"
     ]
    }
   ],
   "source": [
    "slist = ['David', 178.9, 'John', 173.5, 'Jane', 176.1]\n",
    "print(slist)\n",
    "slist.insert(4, 'Petter')\n",
    "slist.insert(5, 168.1)\n",
    "print(slist)"
   ]
  },
  {
   "cell_type": "markdown",
   "id": "a6dfb2eb",
   "metadata": {},
   "source": [
    "### 6.5. The remove Method for Deleting Items from a list\n",
    "\n",
    "- It is possible to delete desired items form an existing list using the methods provided by the list."
   ]
  },
  {
   "cell_type": "code",
   "execution_count": 44,
   "id": "289b79e2",
   "metadata": {},
   "outputs": [
    {
     "name": "stdout",
     "output_type": "stream",
     "text": [
      "[11, 22, 33, 44, 55, 66]\n",
      "[11, 22, 33, 55, 66]\n"
     ]
    }
   ],
   "source": [
    "n_list = [11, 22, 33, 44, 55, 66]\n",
    "print(n_list)\n",
    "\n",
    "n_list.remove(44)\n",
    "print(n_list)"
   ]
  },
  {
   "cell_type": "code",
   "execution_count": 46,
   "id": "6652d453",
   "metadata": {},
   "outputs": [
    {
     "ename": "ValueError",
     "evalue": "list.remove(x): x not in list",
     "output_type": "error",
     "traceback": [
      "\u001b[0;31m---------------------------------------------------------------------------\u001b[0m",
      "\u001b[0;31mValueError\u001b[0m                                Traceback (most recent call last)",
      "Cell \u001b[0;32mIn[46], line 1\u001b[0m\n\u001b[0;32m----> 1\u001b[0m \u001b[43mn_list\u001b[49m\u001b[38;5;241;43m.\u001b[39;49m\u001b[43mremove\u001b[49m\u001b[43m(\u001b[49m\u001b[38;5;241;43m88\u001b[39;49m\u001b[43m)\u001b[49m\n\u001b[1;32m      2\u001b[0m \u001b[38;5;28mprint\u001b[39m(n_list)\n",
      "\u001b[0;31mValueError\u001b[0m: list.remove(x): x not in list"
     ]
    }
   ],
   "source": [
    "n_list.remove(88)\n",
    "print(n_list)"
   ]
  },
  {
   "cell_type": "code",
   "execution_count": 47,
   "id": "bf27ac03",
   "metadata": {},
   "outputs": [
    {
     "name": "stdout",
     "output_type": "stream",
     "text": [
      "['V', 'J-Hope', 'Jungkook']\n"
     ]
    }
   ],
   "source": [
    "bts = [\"V\", \"J-Hope\", \"Jungkook\"]\n",
    "if 'Suga' in bts :\n",
    "    bts.remove('Suga')\n",
    "print(bts)"
   ]
  },
  {
   "cell_type": "markdown",
   "id": "2ff80f0d",
   "metadata": {},
   "source": [
    "### 6.7. The pop Method for Deleting List Items\n",
    "\n",
    "- The pop method returns and removes the <span style=\"color:orange\">last item</span> in the list."
   ]
  },
  {
   "cell_type": "code",
   "execution_count": 48,
   "id": "c43dd2f2",
   "metadata": {},
   "outputs": [
    {
     "name": "stdout",
     "output_type": "stream",
     "text": [
      "[10, 20, 30]\n"
     ]
    }
   ],
   "source": [
    "n_list = [10, 20, 30]\n",
    "print(n_list)"
   ]
  },
  {
   "cell_type": "code",
   "execution_count": 49,
   "id": "fb963039",
   "metadata": {},
   "outputs": [
    {
     "name": "stdout",
     "output_type": "stream",
     "text": [
      "n = 30\n",
      "n_list = [10, 20]\n"
     ]
    }
   ],
   "source": [
    "n = n_list.pop()\n",
    "print('n =', n)\n",
    "print('n_list =', n_list)"
   ]
  },
  {
   "cell_type": "markdown",
   "id": "0e3e9d07",
   "metadata": {},
   "source": [
    "### 6.8. Deleting List Items Using the del Keyword\n",
    "\n",
    "- The del keyword can be used before list indexing to delete the item at the specified index."
   ]
  },
  {
   "cell_type": "code",
   "execution_count": 50,
   "id": "8c779d4d",
   "metadata": {},
   "outputs": [
    {
     "name": "stdout",
     "output_type": "stream",
     "text": [
      "[11, 22, 33, 44, 55, 66]\n",
      "[11, 22, 33, 55, 66]\n"
     ]
    }
   ],
   "source": [
    "n_list = [11, 22, 33, 44, 55, 66]\n",
    "print(n_list)\n",
    "\n",
    "del n_list[3]\n",
    "print(n_list)"
   ]
  },
  {
   "cell_type": "code",
   "execution_count": 51,
   "id": "bda6965e",
   "metadata": {},
   "outputs": [
    {
     "data": {
      "text/plain": [
       "['J-Hope', 'Suga', 'Jungkook']"
      ]
     },
     "execution_count": 51,
     "metadata": {},
     "output_type": "execute_result"
    }
   ],
   "source": [
    "bts = [\"V\", \"J-Hope\", \"Suga\", \"Jungkook\"]\n",
    "del bts[0]\n",
    "bts"
   ]
  },
  {
   "cell_type": "code",
   "execution_count": 52,
   "id": "5c1e472f",
   "metadata": {},
   "outputs": [
    {
     "ename": "SyntaxError",
     "evalue": "invalid syntax (2599947177.py, line 1)",
     "output_type": "error",
     "traceback": [
      "\u001b[0;36m  Cell \u001b[0;32mIn[52], line 1\u001b[0;36m\u001b[0m\n\u001b[0;31m    bts[0].del\u001b[0m\n\u001b[0m           ^\u001b[0m\n\u001b[0;31mSyntaxError\u001b[0m\u001b[0;31m:\u001b[0m invalid syntax\n"
     ]
    }
   ],
   "source": [
    "bts[0].del"
   ]
  },
  {
   "cell_type": "markdown",
   "id": "b37c7130",
   "metadata": {},
   "source": [
    "### 6.9. The sort Method for Sorting List Items"
   ]
  },
  {
   "cell_type": "code",
   "execution_count": 53,
   "id": "e3685ece",
   "metadata": {},
   "outputs": [
    {
     "data": {
      "text/plain": [
       "[10, 20, 30, 40, 50]"
      ]
     },
     "execution_count": 53,
     "metadata": {},
     "output_type": "execute_result"
    }
   ],
   "source": [
    "list1 = [20, 10, 40, 50, 30]\n",
    "list1.sort()\n",
    "list1"
   ]
  },
  {
   "cell_type": "code",
   "execution_count": 63,
   "id": "b86f9e49",
   "metadata": {},
   "outputs": [
    {
     "name": "stdout",
     "output_type": "stream",
     "text": [
      "[50, 40, 30, 20, 10]\n",
      "[10, 20, 30, 40, 50]\n"
     ]
    }
   ],
   "source": [
    "list1.sort(reverse = True)\n",
    "print(list1)\n",
    "list1.reverse()\n",
    "print(list1)"
   ]
  },
  {
   "cell_type": "markdown",
   "id": "157092af",
   "metadata": {},
   "source": [
    "# 7. Built-in functions used with lists"
   ]
  },
  {
   "cell_type": "markdown",
   "id": "50b74235",
   "metadata": {},
   "source": [
    "### 7.1. Obtaining the Length, Maximum, and Sum of a List"
   ]
  },
  {
   "cell_type": "code",
   "execution_count": 55,
   "id": "b3f04bec",
   "metadata": {},
   "outputs": [
    {
     "data": {
      "text/plain": [
       "5"
      ]
     },
     "execution_count": 55,
     "metadata": {},
     "output_type": "execute_result"
    }
   ],
   "source": [
    "n_list = [200, 700, 500, 300, 400]\n",
    "len(n_list)"
   ]
  },
  {
   "cell_type": "code",
   "execution_count": 56,
   "id": "713ca407",
   "metadata": {},
   "outputs": [
    {
     "data": {
      "text/plain": [
       "700"
      ]
     },
     "execution_count": 56,
     "metadata": {},
     "output_type": "execute_result"
    }
   ],
   "source": [
    "max(n_list)"
   ]
  },
  {
   "cell_type": "code",
   "execution_count": 57,
   "id": "367d9dfc",
   "metadata": {},
   "outputs": [
    {
     "data": {
      "text/plain": [
       "200"
      ]
     },
     "execution_count": 57,
     "metadata": {},
     "output_type": "execute_result"
    }
   ],
   "source": [
    "min(n_list)"
   ]
  },
  {
   "cell_type": "code",
   "execution_count": 58,
   "id": "e2e535df",
   "metadata": {},
   "outputs": [
    {
     "data": {
      "text/plain": [
       "2100"
      ]
     },
     "execution_count": 58,
     "metadata": {},
     "output_type": "execute_result"
    }
   ],
   "source": [
    "sum(n_list)"
   ]
  },
  {
   "cell_type": "markdown",
   "id": "a6e8e82f",
   "metadata": {},
   "source": [
    "### 7.2. Lists and the any Function"
   ]
  },
  {
   "cell_type": "code",
   "execution_count": 64,
   "id": "2d8a5f3c",
   "metadata": {},
   "outputs": [],
   "source": [
    "n_list = [200, 700, 500, 300, 400]\n",
    "a_list = [0, '']"
   ]
  },
  {
   "cell_type": "code",
   "execution_count": 65,
   "id": "49666a6b",
   "metadata": {},
   "outputs": [
    {
     "data": {
      "text/plain": [
       "True"
      ]
     },
     "execution_count": 65,
     "metadata": {},
     "output_type": "execute_result"
    }
   ],
   "source": [
    "any(n_list)"
   ]
  },
  {
   "cell_type": "code",
   "execution_count": 66,
   "id": "a47c7921",
   "metadata": {},
   "outputs": [
    {
     "data": {
      "text/plain": [
       "False"
      ]
     },
     "execution_count": 66,
     "metadata": {},
     "output_type": "execute_result"
    }
   ],
   "source": [
    "any(a_list)"
   ]
  },
  {
   "cell_type": "code",
   "execution_count": null,
   "id": "c9b891e1",
   "metadata": {},
   "outputs": [],
   "source": []
  }
 ],
 "metadata": {
  "kernelspec": {
   "display_name": "Python 3 (ipykernel)",
   "language": "python",
   "name": "python3"
  },
  "language_info": {
   "codemirror_mode": {
    "name": "ipython",
    "version": 3
   },
   "file_extension": ".py",
   "mimetype": "text/x-python",
   "name": "python",
   "nbconvert_exporter": "python",
   "pygments_lexer": "ipython3",
   "version": "3.10.9"
  }
 },
 "nbformat": 4,
 "nbformat_minor": 5
}
