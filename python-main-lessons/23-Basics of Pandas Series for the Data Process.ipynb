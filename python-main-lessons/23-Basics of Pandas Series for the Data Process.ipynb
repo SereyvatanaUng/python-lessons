{
 "cells": [
  {
   "cell_type": "markdown",
   "id": "b4de142f",
   "metadata": {},
   "source": [
    "# Population Density"
   ]
  },
  {
   "cell_type": "code",
   "execution_count": 1,
   "id": "9bcf4979",
   "metadata": {},
   "outputs": [],
   "source": [
    "population_2020 = {'Tokyo' : 37339804,\n",
    "                  'Delhi' : 31181376,\n",
    "                  'Shanghai' : 27795702,\n",
    "                  'Sao Paulo' : 22237472,\n",
    "                  'Mexico City' : 21918936,\n",
    "                  'Dhaka' : 21741090,\n",
    "                  'Cairo' : 21322750,\n",
    "                  'Karachi' : 16459472,\n",
    "                  'Istanbul' : 15415197,\n",
    "                  'Buenos Aires' : 15257673,\n",
    "                  'Kinshasa' : 14970406,\n",
    "                  'Lagos' : 14862111,\n",
    "                  'Manila' : 14158573,\n",
    "                  'Rio de Janeiro' : 13544462,\n",
    "                  'Moscow' : 12593252,\n",
    "                  'Bogota' : 11167392,\n",
    "                  'Paris' : 11078546,\n",
    "                  'Jakarta' : 10915364,\n",
    "                  'Lima' : 10882797}"
   ]
  },
  {
   "cell_type": "code",
   "execution_count": 2,
   "id": "30352335",
   "metadata": {},
   "outputs": [],
   "source": [
    "population_2021 = {'Tokyo' : 37393128,\n",
    "                  'Delhi' : 30290936,\n",
    "                  'Shanghai' : 27058480,\n",
    "                  'Sao Paulo' : 22043028,\n",
    "                  'Mexico City' : 21782378,\n",
    "                  'Dhaka' : 21005860,\n",
    "                  'Cairo' : 20900604,\n",
    "                  'Karachi' : 16093786,\n",
    "                  'Istanbul' : 15190336,\n",
    "                  'Buenos Aires' : 15153729,\n",
    "                  'Kinshasa' : 14342439,\n",
    "                  'Lagos' : 14368332,\n",
    "                  'Manila' : 13923452,\n",
    "                  'Rio de Janeiro' : 13458075,\n",
    "                  'Moscow' : 12537954,\n",
    "                  'Bogota' : 10978360,\n",
    "                  'Paris' : 11017230,\n",
    "                  'Jakarta' : 10770487,\n",
    "                  'Lima' : 10719188}"
   ]
  },
  {
   "cell_type": "code",
   "execution_count": 3,
   "id": "047b06c6",
   "metadata": {},
   "outputs": [],
   "source": [
    "city_area = {'Tokyo' : 2194,\n",
    "          'Delhi' : 1484,\n",
    "          'Shanghai' : 6340,\n",
    "          'Sao Paulo' : 1521,\n",
    "          'Mexico City' : 1485,\n",
    "          'Dhaka' : 306.4,\n",
    "          'Cairo' : 3085,\n",
    "          'Karachi' : 3780,\n",
    "          'Istanbul' : 5343,\n",
    "          'Buenos Aires' : 203,\n",
    "          'Kinshasa' : 9965,\n",
    "          'Lagos' : 1171,\n",
    "          'Manila' : 42.88,\n",
    "          'Rio de Janeiro' : 1255,\n",
    "          'Moscow' : 2511,\n",
    "          'Bogota' : 1775,\n",
    "          'Paris' : 105.4,\n",
    "          'Jakarta' : 661.5,\n",
    "          'Lima' : 2672}"
   ]
  },
  {
   "cell_type": "markdown",
   "id": "40b3be0a",
   "metadata": {},
   "source": [
    "# 1. Introduction to Pandas"
   ]
  },
  {
   "cell_type": "markdown",
   "id": "6348b1bc",
   "metadata": {},
   "source": [
    "# 2. What is the appropriate use of Pandas?"
   ]
  },
  {
   "cell_type": "markdown",
   "id": "40d97330",
   "metadata": {},
   "source": [
    "# 3. Pandas has two types of data structure"
   ]
  },
  {
   "cell_type": "markdown",
   "id": "6a39ba2c",
   "metadata": {},
   "source": [
    "# 4. Installing the Pandas library"
   ]
  },
  {
   "cell_type": "code",
   "execution_count": 5,
   "id": "5635ad4e",
   "metadata": {},
   "outputs": [
    {
     "data": {
      "text/plain": [
       "'1.5.3'"
      ]
     },
     "execution_count": 5,
     "metadata": {},
     "output_type": "execute_result"
    }
   ],
   "source": [
    "import pandas as pd\n",
    "pd.__version__"
   ]
  },
  {
   "cell_type": "code",
   "execution_count": 6,
   "id": "8a20e3d5",
   "metadata": {},
   "outputs": [
    {
     "data": {
      "text/plain": [
       "['C:\\\\Users\\\\Lenovo\\\\Desktop\\\\python-lessons\\\\python-main-lessons',\n",
       " 'C:\\\\Users\\\\Lenovo\\\\anaconda3\\\\python311.zip',\n",
       " 'C:\\\\Users\\\\Lenovo\\\\anaconda3\\\\DLLs',\n",
       " 'C:\\\\Users\\\\Lenovo\\\\anaconda3\\\\Lib',\n",
       " 'C:\\\\Users\\\\Lenovo\\\\anaconda3',\n",
       " '',\n",
       " 'C:\\\\Users\\\\Lenovo\\\\anaconda3\\\\Lib\\\\site-packages',\n",
       " 'C:\\\\Users\\\\Lenovo\\\\anaconda3\\\\Lib\\\\site-packages\\\\win32',\n",
       " 'C:\\\\Users\\\\Lenovo\\\\anaconda3\\\\Lib\\\\site-packages\\\\win32\\\\lib',\n",
       " 'C:\\\\Users\\\\Lenovo\\\\anaconda3\\\\Lib\\\\site-packages\\\\Pythonwin']"
      ]
     },
     "execution_count": 6,
     "metadata": {},
     "output_type": "execute_result"
    }
   ],
   "source": [
    "import sys\n",
    "sys.path"
   ]
  },
  {
   "cell_type": "markdown",
   "id": "4472b53c",
   "metadata": {},
   "source": [
    "# 5. Optional dependencies"
   ]
  },
  {
   "cell_type": "markdown",
   "id": "943cb288",
   "metadata": {},
   "source": [
    "# 6.Series"
   ]
  },
  {
   "cell_type": "code",
   "execution_count": 7,
   "id": "436a3b60",
   "metadata": {},
   "outputs": [
    {
     "name": "stdout",
     "output_type": "stream",
     "text": [
      "0    1\n",
      "1    2\n",
      "2    3\n",
      "3    4\n",
      "4    5\n",
      "dtype: int64\n"
     ]
    }
   ],
   "source": [
    "import pandas as pd \n",
    "\n",
    "s = pd.Series([1, 2, 3, 4, 5])\n",
    "print(s)"
   ]
  },
  {
   "cell_type": "markdown",
   "id": "6adb8164",
   "metadata": {},
   "source": [
    "# 7. Creating a Series"
   ]
  },
  {
   "cell_type": "markdown",
   "id": "d4321569",
   "metadata": {},
   "source": [
    "## 7.1 Creating a Series from Python lists or dictionaries"
   ]
  },
  {
   "cell_type": "code",
   "execution_count": 3,
   "id": "a378ab2b",
   "metadata": {},
   "outputs": [
    {
     "name": "stdout",
     "output_type": "stream",
     "text": [
      "0           Iron man\n",
      "1    Captain America\n",
      "2               Thor\n",
      "3     Winter Soldier\n",
      "4             Ultron\n",
      "5            Ant-Man\n",
      "6         Spider-Man\n",
      "dtype: object\n"
     ]
    }
   ],
   "source": [
    "import pandas as pd\n",
    "\n",
    "marvel = ['Iron man', 'Captain America', 'Thor', 'Winter Soldier', 'Ultron', 'Ant-Man', 'Spider-Man']\n",
    "\n",
    "s = pd.Series(marvel)\n",
    "\n",
    "print(s)"
   ]
  },
  {
   "cell_type": "code",
   "execution_count": 4,
   "id": "7f48f6ad",
   "metadata": {},
   "outputs": [
    {
     "name": "stdout",
     "output_type": "stream",
     "text": [
      "Iron man           2010\n",
      "Captain America    2011\n",
      "Thor               2013\n",
      "Winter Soldier     2014\n",
      "Ultron             2015\n",
      "dtype: int64\n"
     ]
    },
    {
     "data": {
      "text/plain": [
       "Index(['Iron man', 'Captain America', 'Thor', 'Winter Soldier', 'Ultron'], dtype='object')"
      ]
     },
     "execution_count": 4,
     "metadata": {},
     "output_type": "execute_result"
    }
   ],
   "source": [
    "import pandas as pd\n",
    "\n",
    "marvel_year = {'Iron man' : 2010, \n",
    "               'Captain America' : 2011,\n",
    "               'Thor' : 2013,\n",
    "               'Winter Soldier' : 2014,\n",
    "               'Ultron' : 2015}\n",
    "\n",
    "s = pd.Series(marvel_year)\n",
    "\n",
    "print(s)\n",
    "s.index\n"
   ]
  },
  {
   "cell_type": "markdown",
   "id": "7ad7a14f",
   "metadata": {},
   "source": [
    "## 7.2 Creating a Series from arrays generated by NumPy"
   ]
  },
  {
   "cell_type": "code",
   "execution_count": 5,
   "id": "603fd14c",
   "metadata": {},
   "outputs": [
    {
     "name": "stdout",
     "output_type": "stream",
     "text": [
      "0    10\n",
      "1    11\n",
      "2    12\n",
      "3    13\n",
      "4    14\n",
      "5    15\n",
      "dtype: int32\n"
     ]
    }
   ],
   "source": [
    "import pandas as pd\n",
    "import numpy as np\n",
    "\n",
    "n = np.arange(10, 16)\n",
    "\n",
    "s = pd.Series(n)\n",
    "\n",
    "print(s)"
   ]
  },
  {
   "cell_type": "code",
   "execution_count": 6,
   "id": "9d7d3c5c",
   "metadata": {},
   "outputs": [
    {
     "name": "stdout",
     "output_type": "stream",
     "text": [
      "0    0.548814\n",
      "1    0.715189\n",
      "2    0.602763\n",
      "3    0.544883\n",
      "4    0.423655\n",
      "5    0.645894\n",
      "dtype: float64\n"
     ]
    }
   ],
   "source": [
    "import pandas as pd\n",
    "import numpy as np\n",
    "\n",
    "np.random.seed(0)\n",
    "\n",
    "r = np.random.random(size = 6)\n",
    "\n",
    "s = pd.Series(r)\n",
    "\n",
    "print(s)"
   ]
  },
  {
   "cell_type": "markdown",
   "id": "11100fdd",
   "metadata": {},
   "source": [
    "## 7.3 Creating using values"
   ]
  },
  {
   "cell_type": "code",
   "execution_count": 7,
   "id": "501c0311",
   "metadata": {},
   "outputs": [
    {
     "name": "stdout",
     "output_type": "stream",
     "text": [
      "0    4\n",
      "dtype: int64\n"
     ]
    }
   ],
   "source": [
    "import pandas as pd\n",
    "import numpy as np\n",
    "\n",
    "s = pd.Series(4)\n",
    "\n",
    "print(s)"
   ]
  },
  {
   "cell_type": "code",
   "execution_count": 8,
   "id": "b6440110",
   "metadata": {},
   "outputs": [
    {
     "name": "stdout",
     "output_type": "stream",
     "text": [
      "q      1\n",
      "1      2\n",
      "cat    3\n",
      "d      4\n",
      "dog    5\n",
      "dtype: int64\n"
     ]
    }
   ],
   "source": [
    "import pandas as pd\n",
    "\n",
    "s = pd.Series([1, 2, 3, 4, 5], index = ['q', 1, 'cat', 'd', 'dog'])\n",
    "\n",
    "print(s)"
   ]
  },
  {
   "cell_type": "code",
   "execution_count": 9,
   "id": "0b54dd19",
   "metadata": {},
   "outputs": [
    {
     "name": "stdout",
     "output_type": "stream",
     "text": [
      "DatetimeIndex(['2021-01-01', '2021-01-02', '2021-01-03', '2021-01-04',\n",
      "               '2021-01-05', '2021-01-06', '2021-01-07'],\n",
      "              dtype='datetime64[ns]', freq='D')\n"
     ]
    }
   ],
   "source": [
    "import pandas as pd\n",
    "dates = pd.date_range('2021-01-01', '2021-01-07')\n",
    "\n",
    "print(dates)"
   ]
  },
  {
   "cell_type": "code",
   "execution_count": 11,
   "id": "0a4223c0",
   "metadata": {},
   "outputs": [
    {
     "name": "stdout",
     "output_type": "stream",
     "text": [
      "2021-01-01           Iron man\n",
      "2021-01-02    Captain America\n",
      "2021-01-03               Thor\n",
      "2021-01-04     Winter Soldier\n",
      "2021-01-05             Ultron\n",
      "2021-01-06            Ant-Man\n",
      "2021-01-07         Spider-Man\n",
      "Freq: D, dtype: object\n"
     ]
    }
   ],
   "source": [
    "marvel = ['Iron man', 'Captain America', 'Thor', 'Winter Soldier', 'Ultron', 'Ant-Man', 'Spider-Man']\n",
    "new_s = pd.Series(marvel, index = dates)\n",
    "\n",
    "print(new_s)"
   ]
  },
  {
   "cell_type": "markdown",
   "id": "a5d73d4d",
   "metadata": {},
   "source": [
    "# 8. Selecting Specific Data (Elements) from a Series"
   ]
  },
  {
   "cell_type": "code",
   "execution_count": 12,
   "id": "30448803",
   "metadata": {},
   "outputs": [
    {
     "data": {
      "text/plain": [
       "a    element1\n",
       "b    element2\n",
       "c    element3\n",
       "d    element4\n",
       "e    element5\n",
       "f    element6\n",
       "g    element7\n",
       "h    element8\n",
       "dtype: object"
      ]
     },
     "execution_count": 12,
     "metadata": {},
     "output_type": "execute_result"
    }
   ],
   "source": [
    "import pandas as pd\n",
    "\n",
    "s = ['element1', 'element2', 'element3', 'element4', 'element5', 'element6', 'element7', 'element8']\n",
    "pd.Series(s, index = ('a', 'b', 'c', 'd', 'e', 'f', 'g', 'h'))"
   ]
  },
  {
   "cell_type": "code",
   "execution_count": 17,
   "id": "b377f4d5",
   "metadata": {},
   "outputs": [
    {
     "data": {
      "text/plain": [
       "0    element1\n",
       "1    element2\n",
       "2    element3\n",
       "3    element4\n",
       "4    element5\n",
       "5    element6\n",
       "6    element7\n",
       "7    element8\n",
       "dtype: object"
      ]
     },
     "execution_count": 17,
     "metadata": {},
     "output_type": "execute_result"
    }
   ],
   "source": [
    "import pandas as pd\n",
    "\n",
    "s = ['element1', 'element2', 'element3', 'element4', 'element5', 'element6', 'element7', 'element8']\n",
    "pd.Series(s)"
   ]
  },
  {
   "cell_type": "code",
   "execution_count": 14,
   "id": "4b7f942d",
   "metadata": {},
   "outputs": [],
   "source": [
    "import pandas as pd\n",
    "\n",
    "marvel = ['Iron man', 'Captain America', 'Thor', 'Winter Soldier', 'Ultron', 'Ant-Man', 'Spider-Man']\n",
    "s = pd.Series(marvel)"
   ]
  },
  {
   "cell_type": "code",
   "execution_count": 15,
   "id": "16908a81",
   "metadata": {},
   "outputs": [
    {
     "data": {
      "text/plain": [
       "RangeIndex(start=0, stop=7, step=1)"
      ]
     },
     "execution_count": 15,
     "metadata": {},
     "output_type": "execute_result"
    }
   ],
   "source": [
    "s.index"
   ]
  },
  {
   "cell_type": "code",
   "execution_count": 16,
   "id": "b10f2f52",
   "metadata": {},
   "outputs": [
    {
     "data": {
      "text/plain": [
       "array(['Iron man', 'Captain America', 'Thor', 'Winter Soldier', 'Ultron',\n",
       "       'Ant-Man', 'Spider-Man'], dtype=object)"
      ]
     },
     "execution_count": 16,
     "metadata": {},
     "output_type": "execute_result"
    }
   ],
   "source": [
    "s.values"
   ]
  },
  {
   "cell_type": "markdown",
   "id": "0a1e5967",
   "metadata": {},
   "source": [
    "## 8.1 Selecting Series Elements"
   ]
  },
  {
   "cell_type": "code",
   "execution_count": 18,
   "id": "c0b629d7",
   "metadata": {},
   "outputs": [
    {
     "data": {
      "text/plain": [
       "4    element5\n",
       "5    element6\n",
       "dtype: object"
      ]
     },
     "execution_count": 18,
     "metadata": {},
     "output_type": "execute_result"
    }
   ],
   "source": [
    "import pandas as pd\n",
    "\n",
    "s = ['element1', 'element2', 'element3', 'element4', 'element5', 'element6', 'element7', 'element8']\n",
    "\n",
    "sr = pd.Series(s)\n",
    "\n",
    "sr[2]\n",
    "sr[[4, 5]]"
   ]
  },
  {
   "cell_type": "code",
   "execution_count": 22,
   "id": "3f7c708c",
   "metadata": {},
   "outputs": [
    {
     "name": "stdout",
     "output_type": "stream",
     "text": [
      "element3\n",
      "e    element5\n",
      "f    element6\n",
      "dtype: object\n"
     ]
    }
   ],
   "source": [
    "import pandas as pd\n",
    "\n",
    "s = ['element1', 'element2', 'element3', 'element4', 'element5', 'element6', 'element7', 'element8']\n",
    "sr = pd.Series(s, index = ('a', 'b', 'c', 'd', 'e', 'f', 'g', 'h'))\n",
    "\n",
    "print(sr['c'])\n",
    "print(sr[['e', 'f']])"
   ]
  },
  {
   "cell_type": "markdown",
   "id": "4997492c",
   "metadata": {},
   "source": [
    "# 9. Basic Arithmetic Operations on Series Objects (+, -, /, *, ...)"
   ]
  },
  {
   "cell_type": "markdown",
   "id": "b5cf955a",
   "metadata": {},
   "source": [
    "## 9.1 Arithmetic operations on a single Series object"
   ]
  },
  {
   "cell_type": "code",
   "execution_count": 23,
   "id": "872ca4f5",
   "metadata": {},
   "outputs": [
    {
     "name": "stdout",
     "output_type": "stream",
     "text": [
      "0    10\n",
      "1    20\n",
      "2    30\n",
      "3    40\n",
      "4    50\n",
      "dtype: int64\n",
      "0     100\n",
      "1     400\n",
      "2     900\n",
      "3    1600\n",
      "4    2500\n",
      "dtype: int64\n"
     ]
    }
   ],
   "source": [
    "import pandas as pd\n",
    "\n",
    "s = [10, 20, 30, 40, 50]\n",
    "sr = pd.Series(s)\n",
    "\n",
    "print(sr)\n",
    "print(sr ** 2)"
   ]
  },
  {
   "cell_type": "markdown",
   "id": "658ce281",
   "metadata": {},
   "source": [
    "## 9.2 Arithmetic operations on two or more Series objects"
   ]
  },
  {
   "cell_type": "code",
   "execution_count": 24,
   "id": "b8bb8374",
   "metadata": {},
   "outputs": [
    {
     "name": "stdout",
     "output_type": "stream",
     "text": [
      "0     33.0\n",
      "1    365.0\n",
      "2    153.0\n",
      "3      NaN\n",
      "4      NaN\n",
      "dtype: float64\n"
     ]
    }
   ],
   "source": [
    "import pandas as pd\n",
    "\n",
    "s = [10, 20, 30, 40, 50]\n",
    "t = [23, 345, 123]\n",
    "sr1 = pd.Series(s)\n",
    "sr2 = pd.Series(t)\n",
    "\n",
    "sr3 = sr1 + sr2\n",
    "\n",
    "print(sr3)"
   ]
  },
  {
   "cell_type": "markdown",
   "id": "3b0b16c5",
   "metadata": {},
   "source": [
    "# 10. Many easy-to-use descriptive statistical functions"
   ]
  },
  {
   "cell_type": "markdown",
   "id": "bc386b0c",
   "metadata": {},
   "source": [
    "# 11. Pandas provides many easy-to-use descriptive statistical functions"
   ]
  },
  {
   "cell_type": "code",
   "execution_count": 25,
   "id": "3246c508",
   "metadata": {},
   "outputs": [
    {
     "name": "stdout",
     "output_type": "stream",
     "text": [
      "0     33.0\n",
      "1    365.0\n",
      "2    153.0\n",
      "3      NaN\n",
      "4      NaN\n",
      "dtype: float64\n",
      "3\n",
      "551.0\n"
     ]
    }
   ],
   "source": [
    "import pandas as pd\n",
    "\n",
    "s = [10, 20, 30, 40, 50]\n",
    "t = [23, 345, 123]\n",
    "sr1 = pd.Series(s)\n",
    "sr2 = pd.Series(t)\n",
    "\n",
    "sr3 = sr1 + sr2\n",
    "\n",
    "print(sr3)\n",
    "\n",
    "print(sr3.count())\n",
    "print(sr3.sum())"
   ]
  },
  {
   "cell_type": "markdown",
   "id": "cc1dc191",
   "metadata": {},
   "source": [
    "# 12. Introduction to Matplotlib, a data visualization tool"
   ]
  },
  {
   "cell_type": "markdown",
   "id": "dc9fb246",
   "metadata": {},
   "source": [
    "## 12.1 Drawing a line graph"
   ]
  },
  {
   "cell_type": "code",
   "execution_count": 28,
   "id": "dc3b28b5",
   "metadata": {},
   "outputs": [
    {
     "data": {
      "image/png": "[encoded data removed]",
      "text/plain": [
       "<Figure size 640x480 with 1 Axes>"
      ]
     },
     "metadata": {},
     "output_type": "display_data"
    }
   ],
   "source": [
    "import matplotlib.pyplot as plt\n",
    "plt.plot([1, 2, 3, 4])\n",
    "\n",
    "plt.show()"
   ]
  },
  {
   "cell_type": "code",
   "execution_count": 30,
   "id": "316856b5",
   "metadata": {},
   "outputs": [
    {
     "data": {
      "image/png": "[encoded data removed]",
      "text/plain": [
       "<Figure size 640x480 with 1 Axes>"
      ]
     },
     "metadata": {},
     "output_type": "display_data"
    }
   ],
   "source": [
    "import matplotlib.pyplot as plt\n",
    "plt.plot([1, 2, 3, 4], [1, 4, 9, 16])\n",
    "\n",
    "plt.show()"
   ]
  },
  {
   "cell_type": "code",
   "execution_count": 31,
   "id": "ab6c1476",
   "metadata": {},
   "outputs": [
    {
     "data": {
      "image/png": "[encoded data removed]",
      "text/plain": [
       "<Figure size 640x480 with 1 Axes>"
      ]
     },
     "metadata": {},
     "output_type": "display_data"
    }
   ],
   "source": [
    "import matplotlib.pyplot as plt\n",
    "\n",
    "x = range(100)\n",
    "y = [value ** 2 for value in x]\n",
    "\n",
    "plt.plot(x, y, linewidth = 5.0, color = 'red')\n",
    "\n",
    "plt.title('hello world of chart')\n",
    "plt.ylabel('y-some numbers')\n",
    "plt.xlabel('x-some numbers')\n",
    "\n",
    "plt.show()"
   ]
  },
  {
   "cell_type": "markdown",
   "id": "793c12be",
   "metadata": {},
   "source": [
    "## 12.2 Drawing a Bar Graph"
   ]
  },
  {
   "cell_type": "code",
   "execution_count": 32,
   "id": "28a5fe30",
   "metadata": {},
   "outputs": [
    {
     "data": {
      "image/png": "[encoded data removed]",
      "text/plain": [
       "<Figure size 640x480 with 1 Axes>"
      ]
     },
     "metadata": {},
     "output_type": "display_data"
    }
   ],
   "source": [
    "from matplotlib import pyplot as plt\n",
    "\n",
    "days_in_year = [88, 225, 365, 687, 4333, 10756, 30687, 60190, 90553]\n",
    "plt.bar(range(len(days_in_year)), days_in_year)\n",
    "plt.show()"
   ]
  },
  {
   "cell_type": "markdown",
   "id": "9760815b",
   "metadata": {},
   "source": [
    "# <span style=\"color:red\">Let's Code</span>"
   ]
  },
  {
   "cell_type": "code",
   "execution_count": 55,
   "id": "6d3425f7",
   "metadata": {},
   "outputs": [
    {
     "name": "stdout",
     "output_type": "stream",
     "text": [
      "<Increase or Decreasae in the population>\n",
      "Tokyo             -53324\n",
      "Delhi             890440\n",
      "Shanghai          737222\n",
      "Sao Paulo         194444\n",
      "Mexico City       136558\n",
      "Dhaka             735230\n",
      "Cairo             422146\n",
      "Karachi           365686\n",
      "Istanbul          224861\n",
      "Buenos Aires      103944\n",
      "Kinshasa          627967\n",
      "Lagos             493779\n",
      "Manila            235121\n",
      "Rio de Janeiro     86387\n",
      "Moscow             55298\n",
      "Bogota            189032\n",
      "Paris              61316\n",
      "Jakarta           144877\n",
      "Lima              163609\n",
      "dtype: int64\n"
     ]
    },
    {
     "data": {
      "image/png": "[encoded data removed]",
      "text/plain": [
       "<Figure size 1300x600 with 1 Axes>"
      ]
     },
     "metadata": {},
     "output_type": "display_data"
    },
    {
     "name": "stdout",
     "output_type": "stream",
     "text": [
      "<Population Density>\n",
      "Tokyo              17019.053783\n",
      "Delhi              21011.708895\n",
      "Shanghai            4384.180126\n",
      "Sao Paulo          14620.297173\n",
      "Mexico City        14760.226263\n",
      "Dhaka              70956.560052\n",
      "Cairo               6911.750405\n",
      "Karachi             4354.357672\n",
      "Istanbul            2885.120157\n",
      "Buenos Aires       75160.950739\n",
      "Kinshasa            1502.298645\n",
      "Lagos              12691.811272\n",
      "Manila            330190.601679\n",
      "Rio de Janeiro     10792.400000\n",
      "Moscow              5015.233771\n",
      "Bogota              6291.488451\n",
      "Paris             105109.544592\n",
      "Jakarta            16500.928193\n",
      "Lima                4072.903069\n",
      "dtype: float64\n"
     ]
    },
    {
     "data": {
      "image/png": "[encoded data removed]",
      "text/plain": [
       "<Figure size 1300x600 with 1 Axes>"
      ]
     },
     "metadata": {},
     "output_type": "display_data"
    },
    {
     "name": "stdout",
     "output_type": "stream",
     "text": [
      "Minimum Population Density: 1502.2986452584043\n",
      "Maximum Population Density: 330190.60167910444\n"
     ]
    }
   ],
   "source": [
    "import numpy as np\n",
    "import pandas as pd\n",
    "import matplotlib.pyplot as plt\n",
    "\n",
    "population_2020 = {'Tokyo' : 37339804,\n",
    "                  'Delhi' : 31181376,\n",
    "                  'Shanghai' : 27795702,\n",
    "                  'Sao Paulo' : 22237472,\n",
    "                  'Mexico City' : 21918936,\n",
    "                  'Dhaka' : 21741090,\n",
    "                  'Cairo' : 21322750,\n",
    "                  'Karachi' : 16459472,\n",
    "                  'Istanbul' : 15415197,\n",
    "                  'Buenos Aires' : 15257673,\n",
    "                  'Kinshasa' : 14970406,\n",
    "                  'Lagos' : 14862111,\n",
    "                  'Manila' : 14158573,\n",
    "                  'Rio de Janeiro' : 13544462,\n",
    "                  'Moscow' : 12593252,\n",
    "                  'Bogota' : 11167392,\n",
    "                  'Paris' : 11078546,\n",
    "                  'Jakarta' : 10915364,\n",
    "                  'Lima' : 10882797}\n",
    "\n",
    "population_2021 = {'Tokyo' : 37393128,\n",
    "                  'Delhi' : 30290936,\n",
    "                  'Shanghai' : 27058480,\n",
    "                  'Sao Paulo' : 22043028,\n",
    "                  'Mexico City' : 21782378,\n",
    "                  'Dhaka' : 21005860,\n",
    "                  'Cairo' : 20900604,\n",
    "                  'Karachi' : 16093786,\n",
    "                  'Istanbul' : 15190336,\n",
    "                  'Buenos Aires' : 15153729,\n",
    "                  'Kinshasa' : 14342439,\n",
    "                  'Lagos' : 14368332,\n",
    "                  'Manila' : 13923452,\n",
    "                  'Rio de Janeiro' : 13458075,\n",
    "                  'Moscow' : 12537954,\n",
    "                  'Bogota' : 10978360,\n",
    "                  'Paris' : 11017230,\n",
    "                  'Jakarta' : 10770487,\n",
    "                  'Lima' : 10719188}\n",
    "\n",
    "city_area = {'Tokyo' : 2194,\n",
    "          'Delhi' : 1484,\n",
    "          'Shanghai' : 6340,\n",
    "          'Sao Paulo' : 1521,\n",
    "          'Mexico City' : 1485,\n",
    "          'Dhaka' : 306.4,\n",
    "          'Cairo' : 3085,\n",
    "          'Karachi' : 3780,\n",
    "          'Istanbul' : 5343,\n",
    "          'Buenos Aires' : 203,\n",
    "          'Kinshasa' : 9965,\n",
    "          'Lagos' : 1171,\n",
    "          'Manila' : 42.88,\n",
    "          'Rio de Janeiro' : 1255,\n",
    "          'Moscow' : 2511,\n",
    "          'Bogota' : 1775,\n",
    "          'Paris' : 105.4,\n",
    "          'Jakarta' : 661.5,\n",
    "          'Lima' : 2672}\n",
    "\n",
    "s_2020 = pd.Series(population_2020)\n",
    "s_2021 = pd.Series(population_2021)\n",
    "s_area = pd.Series(city_area)\n",
    "\n",
    "growth = s_2020 - s_2021\n",
    "print('<Increase or Decreasae in the population>')\n",
    "print(growth)\n",
    "\n",
    "x = growth.index\n",
    "y = growth.values\n",
    "plt.figure(figsize = (13, 6))\n",
    "plt.xticks(rotation = 'vertical', size = 10)\n",
    "plt.barh(x, y)\n",
    "plt.show()\n",
    "\n",
    "population_density = s_2020 / s_area\n",
    "print('<Population Density>')\n",
    "print(population_density)\n",
    "\n",
    "x = population_density.index\n",
    "y = population_density.values\n",
    "plt.figure(figsize = (13, 6))\n",
    "plt.xticks(rotation = 45, size = 10)\n",
    "plt.barh(x, y, color = 'red')\n",
    "plt.title('Population density', size = 15)\n",
    "plt.ylabel('city', size = 15)\n",
    "plt.xlabel('population', size = 15)\n",
    "plt.show()\n",
    "\n",
    "print('Minimum Population Density:',population_density.min())\n",
    "print('Maximum Population Density:',population_density.max())"
   ]
  },
  {
   "cell_type": "code",
   "execution_count": null,
   "id": "ed8a2689",
   "metadata": {},
   "outputs": [],
   "source": []
  }
 ],
 "metadata": {
  "kernelspec": {
   "display_name": "Python 3 (ipykernel)",
   "language": "python",
   "name": "python3"
  },
  "language_info": {
   "codemirror_mode": {
    "name": "ipython",
    "version": 3
   },
   "file_extension": ".py",
   "mimetype": "text/x-python",
   "name": "python",
   "nbconvert_exporter": "python",
   "pygments_lexer": "ipython3",
   "version": "3.11.3"
  }
 },
 "nbformat": 4,
 "nbformat_minor": 5
}
