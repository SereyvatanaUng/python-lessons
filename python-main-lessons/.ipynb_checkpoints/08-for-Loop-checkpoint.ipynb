{
 "cells": [
  {
   "cell_type": "markdown",
   "id": "e0f24a33",
   "metadata": {},
   "source": [
    "# 2. Loops"
   ]
  },
  {
   "cell_type": "markdown",
   "id": "28436c4d",
   "metadata": {},
   "source": [
    "## 2.1. What is a loop ?\n",
    "\n",
    "- Loops are essential control statements widely used because they simplify repetitive tasks that humans perform."
   ]
  },
  {
   "cell_type": "code",
   "execution_count": 1,
   "id": "c59975f7",
   "metadata": {},
   "outputs": [
    {
     "name": "stdout",
     "output_type": "stream",
     "text": [
      "Welcome to everyone!!\n",
      "Welcome to everyone!!\n",
      "Welcome to everyone!!\n",
      "Welcome to everyone!!\n",
      "Welcome to everyone!!\n"
     ]
    }
   ],
   "source": [
    "for i in range(5) :\n",
    "    print(\"Welcome to everyone!!\")"
   ]
  },
  {
   "cell_type": "code",
   "execution_count": 2,
   "id": "a8156412",
   "metadata": {},
   "outputs": [
    {
     "name": "stdout",
     "output_type": "stream",
     "text": [
      "Welcome to everyone!!\n",
      "Welcome to everyone!!\n",
      "Welcome to everyone!!\n",
      "Welcome to everyone!!\n",
      "Welcome to everyone!!\n"
     ]
    }
   ],
   "source": [
    "i = 0 \n",
    "while i < 5 :\n",
    "    print(\"Welcome to everyone!!\")\n",
    "    i += 1"
   ]
  },
  {
   "cell_type": "markdown",
   "id": "e15c4f13",
   "metadata": {},
   "source": [
    "## 2.3. Blocks and Python's indentation\n",
    "\n",
    "- <span style=\"color:orange\">block</span> is a section where a series of code statements are frouped together as a single unit of execution.\n",
    "\n",
    "- The block of code in a loop statement is a chunk of code that can be executed when a certain condition is true.\n",
    "\n",
    "- In Python, the block of code in a loop statement also <span style=\"color:orange\">starts with identation</span>."
   ]
  },
  {
   "cell_type": "code",
   "execution_count": 3,
   "id": "ffd6aeb8",
   "metadata": {},
   "outputs": [
    {
     "ename": "IndentationError",
     "evalue": "expected an indented block after 'for' statement on line 1 (2602664884.py, line 2)",
     "output_type": "error",
     "traceback": [
      "\u001b[0;36m  Cell \u001b[0;32mIn[3], line 2\u001b[0;36m\u001b[0m\n\u001b[0;31m    print('welcome')\u001b[0m\n\u001b[0m    ^\u001b[0m\n\u001b[0;31mIndentationError\u001b[0m\u001b[0;31m:\u001b[0m expected an indented block after 'for' statement on line 1\n"
     ]
    }
   ],
   "source": [
    "for i in range(5):\n",
    "print('welcome')"
   ]
  },
  {
   "cell_type": "markdown",
   "id": "ea94fd9f",
   "metadata": {},
   "source": [
    "# 3. for Statement"
   ]
  },
  {
   "cell_type": "markdown",
   "id": "a35bb56f",
   "metadata": {},
   "source": [
    "## 3.2. Using the for-in statement with the string data type"
   ]
  },
  {
   "cell_type": "code",
   "execution_count": 5,
   "id": "5b163de5",
   "metadata": {},
   "outputs": [
    {
     "name": "stdout",
     "output_type": "stream",
     "text": [
      "H e l l o "
     ]
    }
   ],
   "source": [
    "for ch in 'Hello' :\n",
    "    print(ch, end = ' ')"
   ]
  },
  {
   "cell_type": "code",
   "execution_count": 8,
   "id": "7a73b784",
   "metadata": {},
   "outputs": [
    {
     "name": "stdout",
     "output_type": "stream",
     "text": [
      "s - e - p\n"
     ]
    }
   ],
   "source": [
    "print('s', 'e', 'p', sep = ' - ')"
   ]
  },
  {
   "cell_type": "code",
   "execution_count": 9,
   "id": "a1f77ed4",
   "metadata": {},
   "outputs": [
    {
     "name": "stdout",
     "output_type": "stream",
     "text": [
      "My name is David\n"
     ]
    }
   ],
   "source": [
    "print(\"My name is\", end = \" \")\n",
    "print(\"David\")"
   ]
  },
  {
   "cell_type": "code",
   "execution_count": 10,
   "id": "92c4feba",
   "metadata": {},
   "outputs": [
    {
     "name": "stdout",
     "output_type": "stream",
     "text": [
      "My name is : David\n"
     ]
    }
   ],
   "source": [
    "print(\"My name is\", end = \" : \")\n",
    "print(\"David\")"
   ]
  },
  {
   "cell_type": "markdown",
   "id": "175ca27b",
   "metadata": {},
   "source": [
    "## 3.3. Using the for-in statement with the list data type"
   ]
  },
  {
   "cell_type": "code",
   "execution_count": 11,
   "id": "17d507ac",
   "metadata": {},
   "outputs": [
    {
     "name": "stdout",
     "output_type": "stream",
     "text": [
      "n = 11\n",
      "n = 22\n",
      "n = 33\n",
      "n = 44\n",
      "n = 55\n",
      "n = 66\n"
     ]
    }
   ],
   "source": [
    "numbers = [11, 22, 33, 44, 55, 66]\n",
    "for n in numbers :\n",
    "    print('n =', n)"
   ]
  },
  {
   "cell_type": "code",
   "execution_count": 12,
   "id": "9c669626",
   "metadata": {},
   "outputs": [
    {
     "name": "stdout",
     "output_type": "stream",
     "text": [
      "Sum of list item values : 150\n"
     ]
    }
   ],
   "source": [
    "numbers = [10, 20, 30, 40, 50]\n",
    "s = 0\n",
    "for n in numbers :\n",
    "    s += n\n",
    "print('Sum of list item values :', s)"
   ]
  },
  {
   "cell_type": "code",
   "execution_count": 13,
   "id": "1a441cec",
   "metadata": {},
   "outputs": [
    {
     "name": "stdout",
     "output_type": "stream",
     "text": [
      "Sum of list item values : 150\n"
     ]
    }
   ],
   "source": [
    "numbers = [10, 20, 30, 40, 50]\n",
    "print('Sum of list item values :', sum(numbers))"
   ]
  },
  {
   "cell_type": "markdown",
   "id": "901b3b0a",
   "metadata": {},
   "source": [
    "## 3.4. for-in range statement\n",
    "\n",
    "- If the 'variable' that holds each element in the block of the for statement is not used, it can be ignored. The <span style=\"color:blue\">underscore(_)</span> symbol is a special anonymous notation used in place of a blank space for variable names or function names that are meant to be ignored. <br> This type of variable is called a <span style=\"color:orange\">dummy variable or throwaway variable</span>."
   ]
  },
  {
   "cell_type": "code",
   "execution_count": 14,
   "id": "9af7e0ef",
   "metadata": {},
   "outputs": [
    {
     "name": "stdout",
     "output_type": "stream",
     "text": [
      "Welcome to everyone!!\n",
      "Welcome to everyone!!\n",
      "Welcome to everyone!!\n",
      "Welcome to everyone!!\n",
      "Welcome to everyone!!\n"
     ]
    }
   ],
   "source": [
    "for _ in range(5) :\n",
    "    print(\"Welcome to everyone!!\")"
   ]
  },
  {
   "cell_type": "markdown",
   "id": "a7fb4311",
   "metadata": {},
   "source": [
    "## 3.5. Lists and range"
   ]
  },
  {
   "cell_type": "code",
   "execution_count": 15,
   "id": "921f87d3",
   "metadata": {},
   "outputs": [
    {
     "name": "stdout",
     "output_type": "stream",
     "text": [
      "Welcome to everyone!!\n",
      "Welcome to everyone!!\n",
      "Welcome to everyone!!\n",
      "Welcome to everyone!!\n",
      "Welcome to everyone!!\n"
     ]
    }
   ],
   "source": [
    "for _ in [1, 2, 3, 4, 5] :\n",
    "    print('Welcome to everyone!!')"
   ]
  },
  {
   "cell_type": "code",
   "execution_count": 16,
   "id": "c9ede58a",
   "metadata": {},
   "outputs": [
    {
     "name": "stdout",
     "output_type": "stream",
     "text": [
      "[0, 1, 2, 3, 4, 5, 6, 7, 8, 9, 10, 11, 12, 13, 14, 15, 16, 17, 18, 19, 20, 21, 22, 23, 24, 25, 26, 27, 28, 29, 30, 31, 32, 33, 34, 35, 36, 37, 38, 39, 40, 41, 42, 43, 44, 45, 46, 47, 48, 49, 50, 51, 52, 53, 54, 55, 56, 57, 58, 59, 60, 61, 62, 63, 64, 65, 66, 67, 68, 69, 70, 71, 72, 73, 74, 75, 76, 77, 78, 79, 80, 81, 82, 83, 84, 85, 86, 87, 88, 89, 90, 91, 92, 93, 94, 95, 96, 97, 98, 99]\n"
     ]
    }
   ],
   "source": [
    "print(list(range(100)))"
   ]
  },
  {
   "cell_type": "markdown",
   "id": "a59710c3",
   "metadata": {},
   "source": [
    "# 4. range"
   ]
  },
  {
   "cell_type": "markdown",
   "id": "98cbbbaa",
   "metadata": {},
   "source": [
    "## 4.1. Usage of the range function\n",
    "\n",
    "- The range built-in function has three parameters. Among them, the first parameter, start, and the last parameter, step, have default values assigned (0 for start and 1 for step), so they can be omitted.\n",
    "\n",
    "- Therefore, when we use range(n), it returns a sequence of integers increasing by 1 from 0 to n-1.\n",
    "\n",
    "## <span style=\"color:orange\">range ( start = 0, stop, step = 1 )</span>"
   ]
  },
  {
   "cell_type": "code",
   "execution_count": 18,
   "id": "336e1528",
   "metadata": {},
   "outputs": [
    {
     "name": "stdout",
     "output_type": "stream",
     "text": [
      "[0, 1, 2, 3, 4]\n"
     ]
    }
   ],
   "source": [
    "print(list(range(5)))"
   ]
  },
  {
   "cell_type": "code",
   "execution_count": 19,
   "id": "eaaf6e22",
   "metadata": {},
   "outputs": [
    {
     "name": "stdout",
     "output_type": "stream",
     "text": [
      "[0, 1, 2, 3, 4]\n"
     ]
    }
   ],
   "source": [
    "print(list(range(0, 5)))"
   ]
  },
  {
   "cell_type": "code",
   "execution_count": 20,
   "id": "1b381de2",
   "metadata": {},
   "outputs": [
    {
     "name": "stdout",
     "output_type": "stream",
     "text": [
      "[0, 1, 2, 3, 4]\n"
     ]
    }
   ],
   "source": [
    "print(list(range(0, 5, 1)))"
   ]
  },
  {
   "cell_type": "code",
   "execution_count": 21,
   "id": "41d1fe6b",
   "metadata": {},
   "outputs": [
    {
     "name": "stdout",
     "output_type": "stream",
     "text": [
      "[0, 2, 4]\n"
     ]
    }
   ],
   "source": [
    "print(list(range(0, 5, 2)))"
   ]
  },
  {
   "cell_type": "code",
   "execution_count": 22,
   "id": "008aed98",
   "metadata": {},
   "outputs": [
    {
     "name": "stdout",
     "output_type": "stream",
     "text": [
      "[5, 4, 3, 2, 1]\n"
     ]
    }
   ],
   "source": [
    "print(list(range(5, 0, -1)))"
   ]
  },
  {
   "cell_type": "code",
   "execution_count": 23,
   "id": "eb007c60",
   "metadata": {},
   "outputs": [
    {
     "name": "stdout",
     "output_type": "stream",
     "text": [
      "[5, 3, 1]\n"
     ]
    }
   ],
   "source": [
    "print(list(range(5, 0, -2)))"
   ]
  },
  {
   "cell_type": "code",
   "execution_count": 24,
   "id": "b3c165d7",
   "metadata": {},
   "outputs": [
    {
     "name": "stdout",
     "output_type": "stream",
     "text": [
      "[5, 4, 3, 2, 1, 0]\n"
     ]
    }
   ],
   "source": [
    "print(list(range(5, -1, -1)))"
   ]
  },
  {
   "cell_type": "code",
   "execution_count": 25,
   "id": "b58a91f0",
   "metadata": {},
   "outputs": [
    {
     "name": "stdout",
     "output_type": "stream",
     "text": [
      "[-1, 1, 3]\n"
     ]
    }
   ],
   "source": [
    "print(list(range(-1, 5, 2)))"
   ]
  },
  {
   "cell_type": "code",
   "execution_count": 26,
   "id": "8a496429",
   "metadata": {},
   "outputs": [
    {
     "ename": "TypeError",
     "evalue": "'float' object cannot be interpreted as an integer",
     "output_type": "error",
     "traceback": [
      "\u001b[0;31m---------------------------------------------------------------------------\u001b[0m",
      "\u001b[0;31mTypeError\u001b[0m                                 Traceback (most recent call last)",
      "Cell \u001b[0;32mIn[26], line 1\u001b[0m\n\u001b[0;32m----> 1\u001b[0m \u001b[38;5;28;01mfor\u001b[39;00m i \u001b[38;5;129;01min\u001b[39;00m \u001b[38;5;28;43mrange\u001b[39;49m\u001b[43m(\u001b[49m\u001b[38;5;241;43m0.9\u001b[39;49m\u001b[43m)\u001b[49m :\n\u001b[1;32m      2\u001b[0m     \u001b[38;5;28mprint\u001b[39m(i, \u001b[38;5;124m'\u001b[39m\u001b[38;5;124mWelcome to everyone!!\u001b[39m\u001b[38;5;124m'\u001b[39m)\n",
      "\u001b[0;31mTypeError\u001b[0m: 'float' object cannot be interpreted as an integer"
     ]
    }
   ],
   "source": [
    "for i in range(0.9) :\n",
    "    print(i, 'Welcome to everyone!!')"
   ]
  },
  {
   "cell_type": "code",
   "execution_count": 27,
   "id": "f0cbb1e3",
   "metadata": {},
   "outputs": [
    {
     "name": "stdout",
     "output_type": "stream",
     "text": [
      "[0.9 1.  1.1]\n"
     ]
    }
   ],
   "source": [
    "import numpy as np\n",
    "print(np.arange(0.9, 1.2, 0.1))"
   ]
  },
  {
   "cell_type": "markdown",
   "id": "a824e4dd",
   "metadata": {},
   "source": [
    "## 4.3. Using the sum function, sum variable, and name duplicaiton"
   ]
  },
  {
   "cell_type": "code",
   "execution_count": null,
   "id": "3d95770c",
   "metadata": {},
   "outputs": [],
   "source": []
  },
  {
   "cell_type": "code",
   "execution_count": null,
   "id": "bcc4d151",
   "metadata": {},
   "outputs": [],
   "source": [
    "sum = 0\n",
    "for in range(1, 11) :\n",
    "    sum += i\n",
    "print('The sum of 1 to 10 :', sum)\n",
    "print(sum(range(1, 11)))"
   ]
  }
 ],
 "metadata": {
  "kernelspec": {
   "display_name": "Python 3 (ipykernel)",
   "language": "python",
   "name": "python3"
  },
  "language_info": {
   "codemirror_mode": {
    "name": "ipython",
    "version": 3
   },
   "file_extension": ".py",
   "mimetype": "text/x-python",
   "name": "python",
   "nbconvert_exporter": "python",
   "pygments_lexer": "ipython3",
   "version": "3.10.9"
  }
 },
 "nbformat": 4,
 "nbformat_minor": 5
}
