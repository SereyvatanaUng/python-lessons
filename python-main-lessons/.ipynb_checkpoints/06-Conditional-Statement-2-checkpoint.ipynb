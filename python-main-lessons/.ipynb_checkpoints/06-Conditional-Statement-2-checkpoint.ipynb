{
 "cells": [
  {
   "cell_type": "markdown",
   "id": "bc4997fd",
   "metadata": {},
   "source": [
    "### 1.2. if-else statement"
   ]
  },
  {
   "cell_type": "code",
   "execution_count": 2,
   "id": "4e5af877",
   "metadata": {},
   "outputs": [
    {
     "name": "stdout",
     "output_type": "stream",
     "text": [
      "It's morning.\n"
     ]
    }
   ],
   "source": [
    "hour = 10\n",
    "\n",
    "if hour < 12 :\n",
    "    print(\"It's morning.\")\n",
    "else :\n",
    "    print(\"It's afternoon.\")"
   ]
  },
  {
   "cell_type": "code",
   "execution_count": 3,
   "id": "b23bef50",
   "metadata": {},
   "outputs": [
    {
     "name": "stdout",
     "output_type": "stream",
     "text": [
      "You passed.\n",
      "Get a scholarship, too.\n"
     ]
    }
   ],
   "source": [
    "score = 99 \n",
    "if score > 90 :\n",
    "    print('You passed.')\n",
    "    print('Get a scholarship, too.')\n",
    "else :\n",
    "    print('You failed.')"
   ]
  },
  {
   "cell_type": "markdown",
   "id": "b4da551e",
   "metadata": {},
   "source": [
    "# 2. if-else statements"
   ]
  },
  {
   "cell_type": "markdown",
   "id": "741fac25",
   "metadata": {},
   "source": [
    "### 2.2. Odd and even number determination"
   ]
  },
  {
   "cell_type": "code",
   "execution_count": 4,
   "id": "9e770da4",
   "metadata": {},
   "outputs": [
    {
     "name": "stdout",
     "output_type": "stream",
     "text": [
      "10 is an even number.\n"
     ]
    }
   ],
   "source": [
    "num = 10\n",
    "if num % 2 == 0 :\n",
    "    print(num, 'is an even number.')\n",
    "else :\n",
    "    print(num, 'is an odd number.')"
   ]
  },
  {
   "cell_type": "markdown",
   "id": "ad8c4dd8",
   "metadata": {},
   "source": [
    "### 2.3. Numeric type determination"
   ]
  },
  {
   "cell_type": "code",
   "execution_count": 7,
   "id": "7e39188a",
   "metadata": {},
   "outputs": [
    {
     "name": "stdout",
     "output_type": "stream",
     "text": [
      "Enter the first integer: 2\n",
      "Input data type : <class 'int'>\n"
     ]
    }
   ],
   "source": [
    "x = input('Enter the first integer: ')\n",
    "if x.isdigit() == True :\n",
    "    x = int(x)\n",
    "    print('Input data type :', type(x))\n",
    "else :\n",
    "    print('x is not a numeric character.')"
   ]
  },
  {
   "cell_type": "code",
   "execution_count": 8,
   "id": "725dce90",
   "metadata": {},
   "outputs": [
    {
     "name": "stdout",
     "output_type": "stream",
     "text": [
      "Enter your ID: iloveyou\n",
      "Welcome.\n"
     ]
    }
   ],
   "source": [
    "id = 'iloveyou'\n",
    "s = input(\"Enter your ID: \")\n",
    "if s == id :\n",
    "    print('Welcome.')\n",
    "else :\n",
    "    print(\"No ID found.\")"
   ]
  },
  {
   "cell_type": "code",
   "execution_count": 10,
   "id": "d06c15c2",
   "metadata": {},
   "outputs": [
    {
     "name": "stdout",
     "output_type": "stream",
     "text": [
      "Let's start the coin toss game.\n",
      "Back\n",
      "Game over\n"
     ]
    }
   ],
   "source": [
    "import random\n",
    "\n",
    "print(\"Let's start the coin toss game.\")\n",
    "coin = random.randrange(2)\n",
    "if coin == 0 :\n",
    "    print(\"Front\")\n",
    "else :\n",
    "    print(\"Back\")\n",
    "print(\"Game over\")"
   ]
  },
  {
   "cell_type": "markdown",
   "id": "79616c29",
   "metadata": {},
   "source": [
    "# 3. Nested conditional statements"
   ]
  },
  {
   "cell_type": "markdown",
   "id": "a707ad3c",
   "metadata": {},
   "source": [
    "### 3.1. What is nested conditional statement\n",
    "\n",
    "- In situations where specific conditions result in True or False, there may be a need to check further detailed conditions. In such cases, nested conditional statements are used."
   ]
  },
  {
   "cell_type": "markdown",
   "id": "ba2bab7e",
   "metadata": {},
   "source": [
    "### 3.2. Putting if-else statements inside if-else statement"
   ]
  },
  {
   "cell_type": "code",
   "execution_count": 11,
   "id": "675d4fe3",
   "metadata": {},
   "outputs": [
    {
     "name": "stdout",
     "output_type": "stream",
     "text": [
      "Enter an integer: -20\n",
      "It's a negative number.\n"
     ]
    }
   ],
   "source": [
    "num = int(input(\"Enter an integer: \"))\n",
    "if num >= 0 :\n",
    "    if num == 0 :\n",
    "        print(\"It's 0.\")\n",
    "    else :\n",
    "        print(\"It's a positive number.\")\n",
    "else :\n",
    "    print(\"It's a negative number.\")"
   ]
  },
  {
   "cell_type": "markdown",
   "id": "4a4982c6",
   "metadata": {},
   "source": [
    "# 4. Nested Conditonal Statements"
   ]
  },
  {
   "cell_type": "markdown",
   "id": "e641c882",
   "metadata": {},
   "source": [
    "### 4.1. Using nesting to determine even or odd"
   ]
  },
  {
   "cell_type": "code",
   "execution_count": 12,
   "id": "4b2f3282",
   "metadata": {},
   "outputs": [
    {
     "name": "stdout",
     "output_type": "stream",
     "text": [
      "100 is not a negative number.\n",
      "100 is an even number.\n"
     ]
    }
   ],
   "source": [
    "num = 100\n",
    "if num < 0 :\n",
    "    print(num, 'is a negative number.')\n",
    "else :\n",
    "    print(num, 'is not a negative number.')\n",
    "    if num % 2 == 0 :\n",
    "        print(num, 'is an even number.')\n",
    "    else :\n",
    "        print(num, 'is an odd number.')"
   ]
  },
  {
   "cell_type": "markdown",
   "id": "a45a87f9",
   "metadata": {},
   "source": [
    "# 5. Making Multi-directional Decisions Using elif"
   ]
  },
  {
   "cell_type": "markdown",
   "id": "82324da5",
   "metadata": {},
   "source": [
    "### 5.1. Checking multiple conditions sequentially"
   ]
  },
  {
   "cell_type": "code",
   "execution_count": 13,
   "id": "fec945c1",
   "metadata": {},
   "outputs": [
    {
     "name": "stdout",
     "output_type": "stream",
     "text": [
      "Enter an integer: 0\n",
      "It's zero(0).\n"
     ]
    }
   ],
   "source": [
    "num = int(input(\"Enter an integer: \"))\n",
    "\n",
    "if num > 0 :\n",
    "    print(\"It's a positive number.\")\n",
    "elif num == 0 :\n",
    "    print(\"It's zero(0).\")\n",
    "else :\n",
    "    print(\"It's a negative number.\")"
   ]
  },
  {
   "cell_type": "code",
   "execution_count": null,
   "id": "beb838e8",
   "metadata": {},
   "outputs": [],
   "source": []
  }
 ],
 "metadata": {
  "kernelspec": {
   "display_name": "Python 3 (ipykernel)",
   "language": "python",
   "name": "python3"
  },
  "language_info": {
   "codemirror_mode": {
    "name": "ipython",
    "version": 3
   },
   "file_extension": ".py",
   "mimetype": "text/x-python",
   "name": "python",
   "nbconvert_exporter": "python",
   "pygments_lexer": "ipython3",
   "version": "3.10.9"
  }
 },
 "nbformat": 4,
 "nbformat_minor": 5
}
