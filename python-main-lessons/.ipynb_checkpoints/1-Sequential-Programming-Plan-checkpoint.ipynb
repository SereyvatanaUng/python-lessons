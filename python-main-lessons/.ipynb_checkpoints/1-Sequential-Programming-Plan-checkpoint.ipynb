{
 "cells": [
  {
   "cell_type": "markdown",
   "id": "3d24a257",
   "metadata": {},
   "source": [
    "# Sequential Programming Plan"
   ]
  },
  {
   "cell_type": "raw",
   "id": "d2d1bc26",
   "metadata": {},
   "source": [
    "Five competencies required for future talents\n",
    "+ Critical Thinking :\n",
    "    - Information & Discovery\n",
    "    - Interpretation & Analysis Reasoning\n",
    "    - Constructing Arguments\n",
    "    - Problem Solving\n",
    "    - System Thinking \n",
    "    - Common Sense"
   ]
  },
  {
   "cell_type": "raw",
   "id": "6b053a30",
   "metadata": {},
   "source": [
    "+ Collaboration :\n",
    "    - Leadership & Initiative\n",
    "    - Co-operation\n",
    "    - Flexible\n",
    "    - Responsibility & Productivity\n",
    "    - Collaboration (Digitally)\n",
    "    - Resp9onsiveness"
   ]
  },
  {
   "cell_type": "raw",
   "id": "ea57d833",
   "metadata": {},
   "source": [
    "+ Creativity :\n",
    "    - Idea Generation & Refinement\n",
    "    - Openness, Courage to Explore\n",
    "    - Work Creatively with others\n",
    "    - Create Production & Innovation\n",
    "    - Innovation with Technology"
   ]
  },
  {
   "cell_type": "raw",
   "id": "04f08d99",
   "metadata": {},
   "source": [
    "+ Connected :\n",
    "    - Consideration (Digital well-being & identify)\n",
    "    - Contribution\n",
    "    - Commitment\n",
    "    - Curation (navigating / selecting / supporting)\n",
    "    - Community\n",
    "    - Community Builders (Active Leaders)"
   ]
  },
  {
   "cell_type": "raw",
   "id": "5befac5c",
   "metadata": {},
   "source": [
    "+ Communication\n",
    "    - Effective Lestening\n",
    "    - Delivering oral Presentations\n",
    "    - Communication (Digital)\n",
    "    - Engage in conversations\n",
    "    - Present engaging webinars"
   ]
  },
  {
   "cell_type": "raw",
   "id": "3627013e",
   "metadata": {},
   "source": [
    "1.1. Sequential Structure\n",
    "\n",
    "+ Sequential refers to the process of executing commands created  by coding in order.\n",
    "\n",
    "+ Although programs appear to perform tasks simultaneously due to their high speed, computers actually process commands in the order specified in the code.\n",
    "\n",
    "+ Naturally, even if the commands are the same, completely different resultrs will occur if the order is changed."
   ]
  },
  {
   "cell_type": "raw",
   "id": "48ddedbd",
   "metadata": {},
   "source": [
    "1.2. Pseudocode\n",
    "\n",
    "\n",
    "+ Pseudocode is the process of writing commands for the computer to execute in order.\n",
    "\n",
    "+ It is a good way to start coding with limited knowledge of programming because it users everyday language.\n",
    "\n",
    "+ It can also serve as a bridge when completing flowcharts and transitioning to actual coding."
   ]
  },
  {
   "cell_type": "code",
   "execution_count": null,
   "id": "76fa7474",
   "metadata": {},
   "outputs": [],
   "source": []
  },
  {
   "cell_type": "code",
   "execution_count": null,
   "id": "9446ca98",
   "metadata": {},
   "outputs": [],
   "source": []
  },
  {
   "cell_type": "code",
   "execution_count": null,
   "id": "634d402c",
   "metadata": {},
   "outputs": [],
   "source": []
  }
 ],
 "metadata": {
  "kernelspec": {
   "display_name": "Python 3 (ipykernel)",
   "language": "python",
   "name": "python3"
  },
  "language_info": {
   "codemirror_mode": {
    "name": "ipython",
    "version": 3
   },
   "file_extension": ".py",
   "mimetype": "text/x-python",
   "name": "python",
   "nbconvert_exporter": "python",
   "pygments_lexer": "ipython3",
   "version": "3.11.3"
  }
 },
 "nbformat": 4,
 "nbformat_minor": 5
}
