{
 "cells": [
  {
   "cell_type": "markdown",
   "id": "c951f61a",
   "metadata": {},
   "source": [
    "# FireFlies Python Midterm Answersheet"
   ]
  },
  {
   "cell_type": "markdown",
   "id": "f248ab40",
   "metadata": {},
   "source": [
    "# 1\n"
   ]
  },
  {
   "cell_type": "code",
   "execution_count": 1,
   "id": "f5369958",
   "metadata": {},
   "outputs": [
    {
     "name": "stdout",
     "output_type": "stream",
     "text": [
      "15\n"
     ]
    }
   ],
   "source": [
    "print(1 + 2 + 3 + 4 + 5)"
   ]
  },
  {
   "cell_type": "markdown",
   "id": "9ed31ab9",
   "metadata": {},
   "source": [
    "# 2"
   ]
  },
  {
   "cell_type": "code",
   "execution_count": 3,
   "id": "f8989b52",
   "metadata": {},
   "outputs": [
    {
     "name": "stdout",
     "output_type": "stream",
     "text": [
      "****************************************\n",
      "# # # # # # # # # # # # # # # # # # # # \n"
     ]
    }
   ],
   "source": [
    "print('*' * 40)\n",
    "print('# ' * 20)"
   ]
  },
  {
   "cell_type": "markdown",
   "id": "d10f5e5b",
   "metadata": {},
   "source": [
    "# 3"
   ]
  },
  {
   "cell_type": "code",
   "execution_count": 5,
   "id": "3264da75",
   "metadata": {},
   "outputs": [
    {
     "name": "stdout",
     "output_type": "stream",
     "text": [
      "4 2\n",
      "2 4\n"
     ]
    }
   ],
   "source": [
    "x, y = input().split()\n",
    "x = int(x)\n",
    "y = int(y)\n",
    "if x < y:\n",
    "    print(x, y)\n",
    "else:\n",
    "    print(y, x)"
   ]
  },
  {
   "cell_type": "markdown",
   "id": "ce20c3fb",
   "metadata": {},
   "source": [
    "# 4"
   ]
  },
  {
   "cell_type": "code",
   "execution_count": 14,
   "id": "332e9110",
   "metadata": {},
   "outputs": [
    {
     "name": "stdout",
     "output_type": "stream",
     "text": [
      "2 is prime.\n",
      "3 is prime.\n",
      "4 is composite.\n",
      "5 is prime.\n",
      "6 is composite.\n",
      "7 is prime.\n",
      "8 is composite.\n",
      "9 is composite.\n",
      "10 is composite.\n",
      "11 is prime.\n"
     ]
    }
   ],
   "source": [
    "for i in range(2,12):\n",
    "    if (i % 2 != 0 and i % 3 != 0) or (i == 2 or i == 3) : \n",
    "        print(\"{} is prime.\".format(i))\n",
    "    else:\n",
    "        print(\"{} is composite.\".format(i))"
   ]
  },
  {
   "cell_type": "markdown",
   "id": "4353fbff",
   "metadata": {},
   "source": [
    "# 5"
   ]
  },
  {
   "cell_type": "code",
   "execution_count": 29,
   "id": "155bd8c0",
   "metadata": {},
   "outputs": [
    {
     "name": "stdout",
     "output_type": "stream",
     "text": [
      "153 370 371 407 "
     ]
    }
   ],
   "source": [
    "for i in range(100, 1000) :\n",
    "    st = str(i)\n",
    "    if int(st[0])**3 + int(st[1])**3 + int(st[2])**3 == i :\n",
    "        print(i, end=' ')"
   ]
  },
  {
   "cell_type": "code",
   "execution_count": 28,
   "id": "6de6ed99",
   "metadata": {},
   "outputs": [
    {
     "name": "stdout",
     "output_type": "stream",
     "text": [
      "153 370 371 407 "
     ]
    }
   ],
   "source": [
    "for i in range(100, 1000) :\n",
    "    st = str(i)\n",
    "    sumA = int(st[0])**3 + int(st[1])**3 + int(st[2])**3\n",
    "    if sumA == i :\n",
    "        print(i, end=' ') "
   ]
  },
  {
   "cell_type": "markdown",
   "id": "b11fa976",
   "metadata": {},
   "source": [
    "# 6"
   ]
  },
  {
   "cell_type": "code",
   "execution_count": 36,
   "id": "dd73c16b",
   "metadata": {},
   "outputs": [
    {
     "name": "stdout",
     "output_type": "stream",
     "text": [
      "I like pancake.\n",
      "I like kiwi juice.\n",
      "I like expresso.\n",
      "I love pancake.\n",
      "I love kiwi juice.\n",
      "I love expresso.\n"
     ]
    }
   ],
   "source": [
    "l1 = ['I like', 'I love']\n",
    "l2 = ['Pancake', 'Kiwi Juice', 'Expresso']\n",
    "\n",
    "for i in l1:\n",
    "    for x in l2:\n",
    "        print(i, x.lower() + '.')"
   ]
  },
  {
   "cell_type": "markdown",
   "id": "734ea08e",
   "metadata": {},
   "source": [
    "# 7"
   ]
  },
  {
   "cell_type": "markdown",
   "id": "a42d2ef2",
   "metadata": {},
   "source": [
    "Given list =  [5, 6, 3, 9, 2, 12, 3, 8, 7] <br>\n",
    "Result list =  [5, 3, 6, 2, 9, 3, 8, 7, 12]"
   ]
  },
  {
   "cell_type": "code",
   "execution_count": 49,
   "id": "4bd7dbcd",
   "metadata": {},
   "outputs": [
    {
     "name": "stdout",
     "output_type": "stream",
     "text": [
      "Given list = [5, 6, 3, 9, 2, 12, 3, 8, 7]\n",
      "Result list = [5, 3, 6, 2, 9, 3, 8, 7, 12]\n"
     ]
    }
   ],
   "source": [
    "tup = (5, 6, 3, 9, 2, 12, 3, 8, 7)\n",
    "list1 = list(tup)\n",
    "print('Given list =', list1)\n",
    "for i in range(len(list1) - 1) :\n",
    "    if list1[i] > list1[i+1] :\n",
    "        list1[i], list1[i+1] = list1[i+1], list1[i]\n",
    "print('Result list =', list1)"
   ]
  },
  {
   "cell_type": "markdown",
   "id": "22592aaf",
   "metadata": {},
   "source": [
    "# 8"
   ]
  },
  {
   "cell_type": "code",
   "execution_count": 55,
   "id": "289412d2",
   "metadata": {},
   "outputs": [
    {
     "name": "stdout",
     "output_type": "stream",
     "text": [
      "Student's average math score is 91.2\n"
     ]
    }
   ],
   "source": [
    "scores = (('Hyun', 88, 95, 90), ('Kang', 85, 90, 95), ('Park', 70, 90, 80), ('Hong', 90, 90, 95))\n",
    "m = []\n",
    "for i in scores :\n",
    "    _, _, math, _ = i\n",
    "    m.append(math)\n",
    "    \n",
    "avg = sum(m) / len(m)\n",
    "    \n",
    "print(\"Student's average math score is {:.1f}\".format(avg))"
   ]
  },
  {
   "cell_type": "markdown",
   "id": "4f54f663",
   "metadata": {},
   "source": [
    "# 9"
   ]
  },
  {
   "cell_type": "code",
   "execution_count": 59,
   "id": "05013f4b",
   "metadata": {},
   "outputs": [
    {
     "name": "stdout",
     "output_type": "stream",
     "text": [
      "7\n",
      "The area of a circle 153.86\n",
      "The circumference of a circle 43.96\n"
     ]
    }
   ],
   "source": [
    "radius = int(input())\n",
    "Pi = 3.14\n",
    "area = Pi * radius * radius\n",
    "circumference = 2 * Pi * radius\n",
    "\n",
    "print('The area of a circle', area)\n",
    "print('The circumference of a circle', circumference)"
   ]
  },
  {
   "cell_type": "markdown",
   "id": "ea31ca57",
   "metadata": {},
   "source": [
    "# 10"
   ]
  },
  {
   "cell_type": "code",
   "execution_count": 65,
   "id": "fec6c67d",
   "metadata": {},
   "outputs": [
    {
     "name": "stdout",
     "output_type": "stream",
     "text": [
      "100\n",
      "5050\n"
     ]
    }
   ],
   "source": [
    "print(int('50') + 50)\n",
    "print(str(50) + '50')"
   ]
  },
  {
   "cell_type": "markdown",
   "id": "c2ef158a",
   "metadata": {},
   "source": [
    "# 11"
   ]
  },
  {
   "cell_type": "code",
   "execution_count": 66,
   "id": "d4c0800c",
   "metadata": {},
   "outputs": [
    {
     "data": {
      "text/plain": [
       "1000"
      ]
     },
     "execution_count": 66,
     "metadata": {},
     "output_type": "execute_result"
    }
   ],
   "source": [
    "int('1' + '0' + '0' + '0')"
   ]
  },
  {
   "cell_type": "markdown",
   "id": "80b09e23",
   "metadata": {},
   "source": [
    "# 12"
   ]
  },
  {
   "cell_type": "code",
   "execution_count": 69,
   "id": "7b58d20f",
   "metadata": {},
   "outputs": [
    {
     "name": "stdout",
     "output_type": "stream",
     "text": [
      "3\n",
      "3! = 6\n",
      "5\n",
      "5! = 120\n",
      "10\n",
      "10! = 3628800\n"
     ]
    }
   ],
   "source": [
    "N = int(input())\n",
    "print(\"{}! = {}\".format(N, 3 * 2 * 1))\n",
    "N = int(input())\n",
    "print(\"{}! = {}\".format(N, 5 * 4 * 3 * 2 * 1))\n",
    "N = int(input())\n",
    "print(\"{}! = {}\".format(N, 10 * 9 * 8 * 7 * 6 * 5 * 4 * 3 * 2 * 1))"
   ]
  },
  {
   "cell_type": "markdown",
   "id": "1c732920",
   "metadata": {},
   "source": [
    "# 13"
   ]
  },
  {
   "cell_type": "code",
   "execution_count": 71,
   "id": "727d15c1",
   "metadata": {},
   "outputs": [
    {
     "name": "stdout",
     "output_type": "stream",
     "text": [
      "180\n",
      "70\n",
      "21.60\n"
     ]
    }
   ],
   "source": [
    "height = int(input())\n",
    "weight = int(input())\n",
    "\n",
    "h = height / 100    # height in meter\n",
    "BMI = weight / (h * h)\n",
    "print(\"%.2f\" % BMI)"
   ]
  },
  {
   "cell_type": "markdown",
   "id": "38a87136",
   "metadata": {},
   "source": [
    "# 14"
   ]
  },
  {
   "cell_type": "code",
   "execution_count": 72,
   "id": "f3fde858",
   "metadata": {},
   "outputs": [
    {
     "name": "stdout",
     "output_type": "stream",
     "text": [
      "Area of rectangle 1800\n"
     ]
    }
   ],
   "source": [
    "width = 30\n",
    "height = 60\n",
    "\n",
    "area = width * height\n",
    "print(\"Area of rectangle\",area)\n"
   ]
  },
  {
   "cell_type": "markdown",
   "id": "386b48d8",
   "metadata": {},
   "source": [
    "# 15"
   ]
  },
  {
   "cell_type": "code",
   "execution_count": 73,
   "id": "01126b7a",
   "metadata": {},
   "outputs": [
    {
     "name": "stdout",
     "output_type": "stream",
     "text": [
      "3\n",
      "4\n",
      "5.0\n"
     ]
    }
   ],
   "source": [
    "import math\n",
    "\n",
    "a = int(input())\n",
    "b = int(input())\n",
    "\n",
    "c = math.sqrt(pow(a, 2) + pow(b, 2))\n",
    "print(c)"
   ]
  },
  {
   "cell_type": "markdown",
   "id": "9baf4ed1",
   "metadata": {},
   "source": [
    "# 16"
   ]
  },
  {
   "cell_type": "code",
   "execution_count": 75,
   "id": "089c3f60",
   "metadata": {},
   "outputs": [
    {
     "name": "stdout",
     "output_type": "stream",
     "text": [
      "3\n",
      "1\n",
      "8\n",
      "27\n",
      "64\n",
      "125\n",
      "216\n",
      "343\n",
      "512\n",
      "729\n"
     ]
    }
   ],
   "source": [
    "a = int(input())\n",
    "print(pow(1,a))\n",
    "print(pow(2,a))\n",
    "print(pow(3,a))\n",
    "print(pow(4,a))\n",
    "print(pow(5,a))\n",
    "print(pow(6,a))\n",
    "print(pow(7,a))\n",
    "print(pow(8,a))\n",
    "print(pow(9,a))"
   ]
  },
  {
   "cell_type": "markdown",
   "id": "aae42e1d",
   "metadata": {},
   "source": [
    "# 17"
   ]
  },
  {
   "cell_type": "code",
   "execution_count": 81,
   "id": "1f681eab",
   "metadata": {},
   "outputs": [
    {
     "name": "stdout",
     "output_type": "stream",
     "text": [
      "2023\n",
      "False\n"
     ]
    }
   ],
   "source": [
    "year = int(input())\n",
    "print((year % 4 == 0 and year % 100 != 0) or year % 400 == 0)"
   ]
  },
  {
   "cell_type": "markdown",
   "id": "dfd7493d",
   "metadata": {},
   "source": [
    "# 18"
   ]
  },
  {
   "cell_type": "code",
   "execution_count": 83,
   "id": "d81200fe",
   "metadata": {},
   "outputs": [
    {
     "name": "stdout",
     "output_type": "stream",
     "text": [
      "20\n",
      "False\n"
     ]
    }
   ],
   "source": [
    "N = int(input())\n",
    "\n",
    "if N % 2 == 1 :\n",
    "    print(True)\n",
    "else :\n",
    "    print(False)"
   ]
  },
  {
   "cell_type": "markdown",
   "id": "e2bc724a",
   "metadata": {},
   "source": [
    "# 19"
   ]
  },
  {
   "cell_type": "code",
   "execution_count": 89,
   "id": "ccd6e3cd",
   "metadata": {},
   "outputs": [
    {
     "name": "stdout",
     "output_type": "stream",
     "text": [
      "1\n",
      "True\n"
     ]
    }
   ],
   "source": [
    "N = int(input())\n",
    "if N > 0 and N <10 and N % 2 == 1 :\n",
    "    print(True)\n",
    "else :\n",
    "    print(False)"
   ]
  },
  {
   "cell_type": "markdown",
   "id": "97651d4a",
   "metadata": {},
   "source": [
    "# 20"
   ]
  },
  {
   "cell_type": "code",
   "execution_count": 91,
   "id": "d7ef0cfe",
   "metadata": {},
   "outputs": [
    {
     "name": "stdout",
     "output_type": "stream",
     "text": [
      "222\n",
      "False\n"
     ]
    }
   ],
   "source": [
    "N = int(input())\n",
    "\n",
    "if N >= 300 and N < 400 :\n",
    "    print(True)\n",
    "else : \n",
    "    print(False)"
   ]
  },
  {
   "cell_type": "markdown",
   "id": "b5f5937f",
   "metadata": {},
   "source": [
    "# 21"
   ]
  },
  {
   "cell_type": "code",
   "execution_count": 92,
   "id": "780cd044",
   "metadata": {},
   "outputs": [
    {
     "name": "stdout",
     "output_type": "stream",
     "text": [
      "125\n",
      "True\n"
     ]
    }
   ],
   "source": [
    "N = int(input())\n",
    "print(N % 5 == 0)"
   ]
  },
  {
   "cell_type": "markdown",
   "id": "3574aee0",
   "metadata": {},
   "source": [
    "# 22"
   ]
  },
  {
   "cell_type": "code",
   "execution_count": 95,
   "id": "71d5e97b",
   "metadata": {},
   "outputs": [
    {
     "name": "stdout",
     "output_type": "stream",
     "text": [
      "2 2 2\n",
      "You lose\n"
     ]
    }
   ],
   "source": [
    "a, b, c = input().split()\n",
    "a, b, c = int(a), int(b), int(c)\n",
    "\n",
    "w1 = 2\n",
    "w2 = 3\n",
    "w3 = 9\n",
    "\n",
    "if (a == w1 or b == w1 or c == w1) and (a == w2 or b == w2 or c == w2) and (a == w3 or b == w3 or c == w3) :\n",
    "    print(\"You won the lottery\")\n",
    "else :\n",
    "    print(\"You lose\")"
   ]
  },
  {
   "cell_type": "markdown",
   "id": "6cbb9e13",
   "metadata": {},
   "source": [
    "# 23"
   ]
  },
  {
   "cell_type": "code",
   "execution_count": 98,
   "id": "cead91ba",
   "metadata": {},
   "outputs": [
    {
     "name": "stdout",
     "output_type": "stream",
     "text": [
      "100\n",
      "Natural Number\n"
     ]
    }
   ],
   "source": [
    "n = int(input())\n",
    "if n > 0  and n >= 100 :\n",
    "    print(\"Natural Number\")"
   ]
  },
  {
   "cell_type": "markdown",
   "id": "6b578db8",
   "metadata": {},
   "source": [
    "# 24"
   ]
  },
  {
   "cell_type": "code",
   "execution_count": 103,
   "id": "5df52a2b",
   "metadata": {},
   "outputs": [
    {
     "name": "stdout",
     "output_type": "stream",
     "text": [
      "8 120\n",
      "Kid\n"
     ]
    }
   ],
   "source": [
    "a, b = input().split()\n",
    "a, b = int(a), int(b)\n",
    "if a >= 20 and a <= 65 :\n",
    "    print('Adult')\n",
    "elif a < 20 and a >= 10 :\n",
    "    print('Youth')\n",
    "elif a < 10 and a > 1 :\n",
    "    print('Kid')\n",
    "    \n",
    "    \n",
    "if b >= 110 and (a >= 10 and a < 65) :\n",
    "    print('You can enter')"
   ]
  },
  {
   "cell_type": "markdown",
   "id": "335e56e4",
   "metadata": {},
   "source": [
    "# 25"
   ]
  },
  {
   "cell_type": "code",
   "execution_count": 139,
   "id": "744c6910",
   "metadata": {},
   "outputs": [
    {
     "name": "stdout",
     "output_type": "stream",
     "text": [
      "left\n",
      "Computer defence position: right\n",
      "GOAL!\n"
     ]
    }
   ],
   "source": [
    "from random import randint\n",
    "r = randint(0, 2)\n",
    "if r == 0 :\n",
    "    computer = 'left'\n",
    "elif r == 1 :\n",
    "    computer = 'center'\n",
    "else :\n",
    "    computer = 'right'\n",
    "\n",
    "user = input()\n",
    "print('Computer defence position:', computer)\n",
    "if user == computer : \n",
    "    print('No goal!')\n",
    "else :\n",
    "    print('GOAL!')"
   ]
  },
  {
   "cell_type": "markdown",
   "id": "bd0710f6",
   "metadata": {},
   "source": [
    "# 26"
   ]
  },
  {
   "cell_type": "code",
   "execution_count": 142,
   "id": "2df3fb2c",
   "metadata": {},
   "outputs": [
    {
     "name": "stdout",
     "output_type": "stream",
     "text": [
      "l\n",
      "Consonant\n"
     ]
    }
   ],
   "source": [
    "user = input()\n",
    "if user in ['a', 'e', 'i', 'o', 'u'] :\n",
    "    print('Vowel')\n",
    "else :\n",
    "    print('Consonant')"
   ]
  },
  {
   "cell_type": "markdown",
   "id": "36206ec2",
   "metadata": {},
   "source": [
    "# 27"
   ]
  },
  {
   "cell_type": "code",
   "execution_count": 146,
   "id": "ed9922a4",
   "metadata": {},
   "outputs": [
    {
     "name": "stdout",
     "output_type": "stream",
     "text": [
      "-5 -5\n",
      "3\n"
     ]
    }
   ],
   "source": [
    "x, y = input().split()\n",
    "x, y = float(x), float(y)\n",
    "\n",
    "if x > 0 and y > 0 :\n",
    "    print(1)\n",
    "elif x < 0 and y > 0 :\n",
    "    print(2)\n",
    "elif x < 0 and y < 0 :\n",
    "    print(3)\n",
    "elif x > 0 and y < 0 :\n",
    "    print(4)"
   ]
  },
  {
   "cell_type": "markdown",
   "id": "f117e882",
   "metadata": {},
   "source": [
    "# 28"
   ]
  },
  {
   "cell_type": "code",
   "execution_count": 147,
   "id": "59f1bf46",
   "metadata": {},
   "outputs": [
    {
     "name": "stdout",
     "output_type": "stream",
     "text": [
      "26.75\n"
     ]
    }
   ],
   "source": [
    "person1 = ['David Doe', 20, 1, 180.0, 100.0]\n",
    "person2 = ['John Smith', 25, 1, 170.0, 70.0]\n",
    "person3 = ['Jane Carter', 22, 0, 169.0, 60.0]\n",
    "person4 = ['Peter Kelly', 40, 1, 150.0, 50.0]\n",
    "\n",
    "person = person1 + person2 + person3 + person4\n",
    "\n",
    "age = sum(person[1::5])\n",
    "p = len(person) / len(person1)\n",
    "\n",
    "avg = age / p\n",
    "print(avg)"
   ]
  },
  {
   "cell_type": "markdown",
   "id": "704c04ba",
   "metadata": {},
   "source": [
    "# 29"
   ]
  },
  {
   "cell_type": "code",
   "execution_count": 164,
   "id": "20bb7a8b",
   "metadata": {},
   "outputs": [
    {
     "name": "stdout",
     "output_type": "stream",
     "text": [
      "AnB School student g\n",
      "g\n"
     ]
    }
   ],
   "source": [
    "a = input().split()\n",
    "b = a[0]\n",
    "for i in a :\n",
    "    if len(b) > len(i) :\n",
    "        b = i\n",
    "print(b)"
   ]
  },
  {
   "cell_type": "markdown",
   "id": "79f718e5",
   "metadata": {},
   "source": [
    "# 30"
   ]
  },
  {
   "cell_type": "code",
   "execution_count": 190,
   "id": "bef6a301",
   "metadata": {},
   "outputs": [
    {
     "name": "stdout",
     "output_type": "stream",
     "text": [
      "abc bcd bcdefg abba cddc opq\n",
      "abc, bcd, opq\n"
     ]
    }
   ],
   "source": [
    "s_list = input().split()\n",
    "b = s_list[0]\n",
    "list1 = []\n",
    "for i in s_list :\n",
    "    if len(b) >= len(i) :\n",
    "        b = i\n",
    "for j in s_list :\n",
    "    if len(j) == len(b) :\n",
    "        list1.append(j)\n",
    "print(*list1, sep = ', ')"
   ]
  },
  {
   "cell_type": "markdown",
   "id": "ce6ccabb",
   "metadata": {},
   "source": [
    "# 31"
   ]
  },
  {
   "cell_type": "code",
   "execution_count": 192,
   "id": "6a87618c",
   "metadata": {},
   "outputs": [
    {
     "name": "stdout",
     "output_type": "stream",
     "text": [
      "Rye bread + Meatball + Lettuce + Mayonnaise\n",
      "Rye bread + Meatball + Lettuce + Honey mustard\n",
      "Rye bread + Meatball + Lettuce + Chili sauce\n",
      "Rye bread + Meatball + Tomato + Mayonnaise\n",
      "Rye bread + Meatball + Tomato + Honey mustard\n",
      "Rye bread + Meatball + Tomato + Chili sauce\n",
      "Rye bread + Meatball + Cucumber + Mayonnaise\n",
      "Rye bread + Meatball + Cucumber + Honey mustard\n",
      "Rye bread + Meatball + Cucumber + Chili sauce\n",
      "Rye bread + Sausages + Lettuce + Mayonnaise\n",
      "Rye bread + Sausages + Lettuce + Honey mustard\n",
      "Rye bread + Sausages + Lettuce + Chili sauce\n",
      "Rye bread + Sausages + Tomato + Mayonnaise\n",
      "Rye bread + Sausages + Tomato + Honey mustard\n",
      "Rye bread + Sausages + Tomato + Chili sauce\n",
      "Rye bread + Sausages + Cucumber + Mayonnaise\n",
      "Rye bread + Sausages + Cucumber + Honey mustard\n",
      "Rye bread + Sausages + Cucumber + Chili sauce\n",
      "Rye bread + Chicken breast + Lettuce + Mayonnaise\n",
      "Rye bread + Chicken breast + Lettuce + Honey mustard\n",
      "Rye bread + Chicken breast + Lettuce + Chili sauce\n",
      "Rye bread + Chicken breast + Tomato + Mayonnaise\n",
      "Rye bread + Chicken breast + Tomato + Honey mustard\n",
      "Rye bread + Chicken breast + Tomato + Chili sauce\n",
      "Rye bread + Chicken breast + Cucumber + Mayonnaise\n",
      "Rye bread + Chicken breast + Cucumber + Honey mustard\n",
      "Rye bread + Chicken breast + Cucumber + Chili sauce\n",
      "Wheat + Meatball + Lettuce + Mayonnaise\n",
      "Wheat + Meatball + Lettuce + Honey mustard\n",
      "Wheat + Meatball + Lettuce + Chili sauce\n",
      "Wheat + Meatball + Tomato + Mayonnaise\n",
      "Wheat + Meatball + Tomato + Honey mustard\n",
      "Wheat + Meatball + Tomato + Chili sauce\n",
      "Wheat + Meatball + Cucumber + Mayonnaise\n",
      "Wheat + Meatball + Cucumber + Honey mustard\n",
      "Wheat + Meatball + Cucumber + Chili sauce\n",
      "Wheat + Sausages + Lettuce + Mayonnaise\n",
      "Wheat + Sausages + Lettuce + Honey mustard\n",
      "Wheat + Sausages + Lettuce + Chili sauce\n",
      "Wheat + Sausages + Tomato + Mayonnaise\n",
      "Wheat + Sausages + Tomato + Honey mustard\n",
      "Wheat + Sausages + Tomato + Chili sauce\n",
      "Wheat + Sausages + Cucumber + Mayonnaise\n",
      "Wheat + Sausages + Cucumber + Honey mustard\n",
      "Wheat + Sausages + Cucumber + Chili sauce\n",
      "Wheat + Chicken breast + Lettuce + Mayonnaise\n",
      "Wheat + Chicken breast + Lettuce + Honey mustard\n",
      "Wheat + Chicken breast + Lettuce + Chili sauce\n",
      "Wheat + Chicken breast + Tomato + Mayonnaise\n",
      "Wheat + Chicken breast + Tomato + Honey mustard\n",
      "Wheat + Chicken breast + Tomato + Chili sauce\n",
      "Wheat + Chicken breast + Cucumber + Mayonnaise\n",
      "Wheat + Chicken breast + Cucumber + Honey mustard\n",
      "Wheat + Chicken breast + Cucumber + Chili sauce\n",
      "White + Meatball + Lettuce + Mayonnaise\n",
      "White + Meatball + Lettuce + Honey mustard\n",
      "White + Meatball + Lettuce + Chili sauce\n",
      "White + Meatball + Tomato + Mayonnaise\n",
      "White + Meatball + Tomato + Honey mustard\n",
      "White + Meatball + Tomato + Chili sauce\n",
      "White + Meatball + Cucumber + Mayonnaise\n",
      "White + Meatball + Cucumber + Honey mustard\n",
      "White + Meatball + Cucumber + Chili sauce\n",
      "White + Sausages + Lettuce + Mayonnaise\n",
      "White + Sausages + Lettuce + Honey mustard\n",
      "White + Sausages + Lettuce + Chili sauce\n",
      "White + Sausages + Tomato + Mayonnaise\n",
      "White + Sausages + Tomato + Honey mustard\n",
      "White + Sausages + Tomato + Chili sauce\n",
      "White + Sausages + Cucumber + Mayonnaise\n",
      "White + Sausages + Cucumber + Honey mustard\n",
      "White + Sausages + Cucumber + Chili sauce\n",
      "White + Chicken breast + Lettuce + Mayonnaise\n",
      "White + Chicken breast + Lettuce + Honey mustard\n",
      "White + Chicken breast + Lettuce + Chili sauce\n",
      "White + Chicken breast + Tomato + Mayonnaise\n",
      "White + Chicken breast + Tomato + Honey mustard\n",
      "White + Chicken breast + Tomato + Chili sauce\n",
      "White + Chicken breast + Cucumber + Mayonnaise\n",
      "White + Chicken breast + Cucumber + Honey mustard\n",
      "White + Chicken breast + Cucumber + Chili sauce\n"
     ]
    }
   ],
   "source": [
    "breads = [\"Rye bread\", \"Wheat\", \"White\"]\n",
    "meats = [\"Meatball\", \"Sausages\", \"Chicken breast\"]\n",
    "vegetables = [\"Lettuce\", \"Tomato\", \"Cucumber\"]\n",
    "sauces = [\"Mayonnaise\", \"Honey mustard\", \"Chili sauce\"]\n",
    "for b in breads :\n",
    "    for m in meats :\n",
    "        for v in vegetables :\n",
    "            for s in sauces :\n",
    "                print(b + \" + \" + m + \" + \" + v + \" + \" + s)"
   ]
  },
  {
   "cell_type": "markdown",
   "id": "f2190b64",
   "metadata": {},
   "source": [
    "# 32"
   ]
  },
  {
   "cell_type": "code",
   "execution_count": 224,
   "id": "ecad880e",
   "metadata": {},
   "outputs": [
    {
     "name": "stdout",
     "output_type": "stream",
     "text": [
      "5\n",
      " 1  2  3  4  5 \n",
      "10  9  8  7  6 \n",
      "11 12 13 14 15 \n",
      "20 19 18 17 16 \n",
      "21 22 23 24 25 \n"
     ]
    }
   ],
   "source": [
    "n = int(input())\n",
    "x = 1\n",
    "for i in range(1, n+1) :\n",
    "    if i % 2 == 0 :\n",
    "        for j in range(n, 0, -1) :\n",
    "            print('{:2d}'.format(x+j-1), end = ' ')\n",
    "        x += n\n",
    "    else :\n",
    "        for j in range(1, n+1) :\n",
    "            print('{:2d}'.format(x), end = ' ')\n",
    "            x += 1\n",
    "    print()"
   ]
  },
  {
   "cell_type": "markdown",
   "id": "22b39b46",
   "metadata": {},
   "source": [
    "# 33"
   ]
  },
  {
   "cell_type": "code",
   "execution_count": 229,
   "id": "18c8fc8a",
   "metadata": {},
   "outputs": [
    {
     "name": "stdout",
     "output_type": "stream",
     "text": [
      "50\n",
      "Higher\n",
      "60\n",
      "Higher\n",
      "70\n",
      "Lower\n",
      "68\n",
      "Higher\n",
      "69\n",
      "Answer\n"
     ]
    }
   ],
   "source": [
    "from random import randint\n",
    "ans = randint(1, 100)\n",
    "while True :\n",
    "    n = int(input())\n",
    "    if n > ans :\n",
    "        print('Lower')\n",
    "    elif n < ans :\n",
    "        print('Higher')\n",
    "    else :\n",
    "        print('Answer')\n",
    "        break"
   ]
  },
  {
   "cell_type": "markdown",
   "id": "adec6ecd",
   "metadata": {},
   "source": [
    "# 34 "
   ]
  },
  {
   "cell_type": "code",
   "execution_count": 233,
   "id": "1183d544",
   "metadata": {},
   "outputs": [
    {
     "name": "stdout",
     "output_type": "stream",
     "text": [
      "100 150 230 120 180 100 140 95 81 21 4\n",
      "300 420 530 420 400 300 40 5 1 1 1\n",
      "0.165 0.003\n"
     ]
    }
   ],
   "source": [
    "vilA = input().split()\n",
    "vilB = input().split()\n",
    "vilA = tuple([int(num) for num in vilA])\n",
    "vilB = tuple([int(num) for num in vilB])\n",
    "oldA_ratio = sum(vilA[7:]) / sum(vilA)\n",
    "oldB_ratio = sum(vilB[7:]) / sum(vilB)\n",
    "print('{:.3f} {:.3f}'.format(oldA_ratio, oldB_ratio))"
   ]
  },
  {
   "cell_type": "markdown",
   "id": "2ce27058",
   "metadata": {},
   "source": [
    "# 35"
   ]
  },
  {
   "cell_type": "code",
   "execution_count": 234,
   "id": "8bb2564e",
   "metadata": {},
   "outputs": [
    {
     "name": "stdout",
     "output_type": "stream",
     "text": [
      "100 121 120 130 140 120 122 123 190 125\n",
      "3\n"
     ]
    }
   ],
   "source": [
    "lst = input().split()\n",
    "tup = tuple([int(num) for num in lst])\n",
    "count = 0\n",
    "for i in range(1, len(tup)) :\n",
    "    if tup[i] < tup[i-1] :\n",
    "        count += 1\n",
    "print(count)"
   ]
  },
  {
   "cell_type": "markdown",
   "id": "c9f35756",
   "metadata": {},
   "source": [
    "# 36"
   ]
  },
  {
   "cell_type": "code",
   "execution_count": 245,
   "id": "09985070",
   "metadata": {},
   "outputs": [
    {
     "name": "stdout",
     "output_type": "stream",
     "text": [
      "1 2 5 4 3 2 1 4 7 8 9 9 3 7 3 9\n",
      "9\n"
     ]
    }
   ],
   "source": [
    "lst = input().split()\n",
    "lst = [int(num) for num in lst]\n",
    "lst.sort()\n",
    "most_freq = lst[0]\n",
    "for i in lst :\n",
    "    if most_freq < i and lst.count(most_freq) <= lst.count(i) :\n",
    "        most_freq = i\n",
    "print(most_freq)"
   ]
  },
  {
   "cell_type": "markdown",
   "id": "3a44e137",
   "metadata": {},
   "source": [
    "# 37"
   ]
  },
  {
   "cell_type": "code",
   "execution_count": 257,
   "id": "769cb603",
   "metadata": {},
   "outputs": [
    {
     "name": "stdout",
     "output_type": "stream",
     "text": [
      "[(1,), 'abc', (1,), ('a',), ('a', 'b'), ((),)]\n"
     ]
    }
   ],
   "source": [
    "lst = [(), (1,), [], 'abc', (), (), (1,), ('a',), ('a', 'b'), ((),), '']\n",
    "i = 0\n",
    "while i < len(lst) :\n",
    "    if bool(lst[i]) == False :\n",
    "        lst.pop(i)\n",
    "        i -= 1\n",
    "    i += 1\n",
    "print(lst)"
   ]
  },
  {
   "cell_type": "markdown",
   "id": "daca141e",
   "metadata": {},
   "source": [
    "# 38"
   ]
  },
  {
   "cell_type": "code",
   "execution_count": 5,
   "id": "8860e51d",
   "metadata": {},
   "outputs": [
    {
     "name": "stdout",
     "output_type": "stream",
     "text": [
      "Do you want to  continue the game? (yes, no): yes\n",
      "Choose among scissors, rock, paper> scissors\n",
      "scissors\n",
      "Do you want to  continue the game? (yes, no): no\n",
      "Game Over\n"
     ]
    }
   ],
   "source": [
    "while True :\n",
    "    user_input = input('Do you want to  continue the game? (yes, no): ') \n",
    "    if user_input.lower() == 'no':\n",
    "        print('Game Over')\n",
    "        break\n",
    "    elif user_input.lower() == 'yes' :\n",
    "        while True :\n",
    "            play = input('Choose among scissors, rock, paper> ')\n",
    "            if play.lower() in ['paper', 'rock', 'scissors'] :\n",
    "                print(play)\n",
    "                break\n",
    "                "
   ]
  },
  {
   "cell_type": "markdown",
   "id": "20b0e979",
   "metadata": {},
   "source": [
    "# 39"
   ]
  },
  {
   "cell_type": "code",
   "execution_count": 7,
   "id": "2825772d",
   "metadata": {},
   "outputs": [
    {
     "name": "stdout",
     "output_type": "stream",
     "text": [
      "#\n",
      "##\n",
      "###\n",
      "####\n",
      "#####\n"
     ]
    }
   ],
   "source": [
    "print(\"#\")\n",
    "print(\"##\")\n",
    "print(\"###\")\n",
    "print(\"####\")\n",
    "print(\"#####\")"
   ]
  },
  {
   "cell_type": "markdown",
   "id": "7e28cc43",
   "metadata": {},
   "source": [
    "# 40"
   ]
  },
  {
   "cell_type": "code",
   "execution_count": 11,
   "id": "212a3191",
   "metadata": {},
   "outputs": [
    {
     "name": "stdout",
     "output_type": "stream",
     "text": [
      "1\n",
      "2\n"
     ]
    }
   ],
   "source": [
    "print(10 // 8)\n",
    "print(10 % 8)"
   ]
  },
  {
   "cell_type": "markdown",
   "id": "583a7fa4",
   "metadata": {},
   "source": [
    "# 41"
   ]
  },
  {
   "cell_type": "code",
   "execution_count": 12,
   "id": "115d5dd5",
   "metadata": {},
   "outputs": [
    {
     "name": "stdout",
     "output_type": "stream",
     "text": [
      "86\n",
      "22\n",
      "1728\n",
      "1.6875\n"
     ]
    }
   ],
   "source": [
    "print(54 + 32)\n",
    "print(54 - 32)\n",
    "print(54 * 32)\n",
    "print(54 / 32)"
   ]
  },
  {
   "cell_type": "markdown",
   "id": "e575a3cc",
   "metadata": {},
   "source": [
    "# 42"
   ]
  },
  {
   "cell_type": "code",
   "execution_count": 13,
   "id": "ab8d5e68",
   "metadata": {},
   "outputs": [
    {
     "name": "stdout",
     "output_type": "stream",
     "text": [
      "54\n",
      "32\n",
      "54+32=86\n",
      "54+32=22\n"
     ]
    }
   ],
   "source": [
    "a = int(input())\n",
    "b = int(input())\n",
    "\n",
    "print(\"{}+{}={}\".format(a, b, a + b))\n",
    "print(\"{}+{}={}\".format(a, b, a - b))"
   ]
  },
  {
   "cell_type": "markdown",
   "id": "40da2b64",
   "metadata": {},
   "source": [
    "# 43"
   ]
  },
  {
   "cell_type": "code",
   "execution_count": 14,
   "id": "a852ecad",
   "metadata": {},
   "outputs": [
    {
     "name": "stdout",
     "output_type": "stream",
     "text": [
      "2\n",
      "4\n",
      "6\n",
      "8\n",
      "10\n",
      "12\n",
      "14\n",
      "16\n",
      "18\n"
     ]
    }
   ],
   "source": [
    "N = int(input())\n",
    "for i in range(2, 10):\n",
    "    a = N * i\n",
    "    print(a)\n",
    "    "
   ]
  },
  {
   "cell_type": "markdown",
   "id": "4af54d21",
   "metadata": {},
   "source": [
    "# 44"
   ]
  },
  {
   "cell_type": "code",
   "execution_count": 15,
   "id": "d7469676",
   "metadata": {},
   "outputs": [
    {
     "name": "stdout",
     "output_type": "stream",
     "text": [
      "6 3 2\n",
      "11\n",
      "1\n",
      "36\n",
      "1.0\n"
     ]
    }
   ],
   "source": [
    "A, B, C = input().split()\n",
    "A, B, C = int(A), int(B), int(C)\n",
    "\n",
    "print(A + B + C)\n",
    "print(A - B - C)\n",
    "print(A * B * C)\n",
    "print(A / B / C)\n"
   ]
  },
  {
   "cell_type": "markdown",
   "id": "f1ee8a4d",
   "metadata": {},
   "source": [
    "# 45"
   ]
  },
  {
   "cell_type": "code",
   "execution_count": 16,
   "id": "c2db4b8a",
   "metadata": {},
   "outputs": [
    {
     "name": "stdout",
     "output_type": "stream",
     "text": [
      "A Z\n",
      "A:65\n",
      "Z:90\n"
     ]
    }
   ],
   "source": [
    "char1, char2 = input().split()\n",
    "\n",
    "ascii1, ascii2 = ord(char1), ord(char2)\n",
    "\n",
    "print(\"{}:{}\".format(char1, ascii1))\n",
    "print(\"{}:{}\".format(char2, ascii2))"
   ]
  },
  {
   "cell_type": "markdown",
   "id": "bf035335",
   "metadata": {},
   "source": [
    "# 46"
   ]
  },
  {
   "cell_type": "code",
   "execution_count": 5,
   "id": "9b772a78",
   "metadata": {},
   "outputs": [
    {
     "name": "stdout",
     "output_type": "stream",
     "text": [
      "5\n",
      "8\n",
      "7\n",
      "8\n",
      "11\n",
      "5\n",
      "13\n",
      "20\n",
      "28\n",
      "39\n"
     ]
    }
   ],
   "source": [
    "s = []\n",
    "k = 0\n",
    "for i in range(1, 6) :\n",
    "    n = int(input())\n",
    "    s.append(n)\n",
    "for j in s:\n",
    "    k += j\n",
    "    print(k)"
   ]
  },
  {
   "cell_type": "markdown",
   "id": "b7f3a68a",
   "metadata": {},
   "source": [
    "# 47"
   ]
  },
  {
   "cell_type": "code",
   "execution_count": 9,
   "id": "cefe5863",
   "metadata": {},
   "outputs": [
    {
     "name": "stdout",
     "output_type": "stream",
     "text": [
      "4 3\n",
      "2\n"
     ]
    }
   ],
   "source": [
    "R1, S = input().split()\n",
    "R1 = int(R1)\n",
    "S = int(S)\n",
    "\n",
    "R2 = S * 2 - R1\n",
    "\n",
    "print(R2)"
   ]
  },
  {
   "cell_type": "markdown",
   "id": "b2278207",
   "metadata": {},
   "source": [
    "# 48"
   ]
  },
  {
   "cell_type": "code",
   "execution_count": 1,
   "id": "d7fb5240",
   "metadata": {},
   "outputs": [
    {
     "name": "stdout",
     "output_type": "stream",
     "text": [
      "23 58\n",
      "22\n",
      "0 20\n"
     ]
    }
   ],
   "source": [
    "h_s, mn_s = input().split()\n",
    "h_s, mn_s = int(h_s), int(mn_s)\n",
    "end_mn = int(input())\n",
    "\n",
    "start_hour = h_s * 60\n",
    "sum_mn = start_hour + mn_s + end_mn\n",
    "hours = sum_mn // 60\n",
    "minute = sum_mn % 60\n",
    "\n",
    "day = 24\n",
    "while True :\n",
    "    if hours < day :\n",
    "        break\n",
    "    hours -= day\n",
    "print(hours, minute)"
   ]
  },
  {
   "cell_type": "markdown",
   "id": "2d2df179",
   "metadata": {},
   "source": [
    "# 49"
   ]
  },
  {
   "cell_type": "code",
   "execution_count": 31,
   "id": "590d0d2b",
   "metadata": {},
   "outputs": [
    {
     "name": "stdout",
     "output_type": "stream",
     "text": [
      "7\n",
      "20\n"
     ]
    }
   ],
   "source": [
    "n = int(input())\n",
    "hor = n // 2\n",
    "ver = n - hor\n",
    "max_cut = (hor + 1) * (ver + 1)\n",
    "print(max_cut)"
   ]
  },
  {
   "cell_type": "markdown",
   "id": "79e58b3e",
   "metadata": {},
   "source": [
    "# 50"
   ]
  },
  {
   "cell_type": "code",
   "execution_count": 3,
   "id": "6623576a",
   "metadata": {},
   "outputs": [
    {
     "name": "stdout",
     "output_type": "stream",
     "text": [
      "8\n",
      "even\n"
     ]
    }
   ],
   "source": [
    "n = int(input())\n",
    "if n % 2 == 0 :\n",
    "    print(\"even\")\n",
    "else :\n",
    "    print(\"odd\")"
   ]
  },
  {
   "cell_type": "markdown",
   "id": "d850ecff",
   "metadata": {},
   "source": [
    "# 51"
   ]
  },
  {
   "cell_type": "code",
   "execution_count": 6,
   "id": "f562d97d",
   "metadata": {},
   "outputs": [
    {
     "name": "stdout",
     "output_type": "stream",
     "text": [
      "20000 90\n",
      ">\n"
     ]
    }
   ],
   "source": [
    "a, b = input().split()\n",
    "a, b = int(a), int(b)\n",
    "\n",
    "if a > b :\n",
    "    print(\">\")\n",
    "elif a < b :\n",
    "    print(\"<\")\n",
    "else :\n",
    "    print(\"=\")"
   ]
  },
  {
   "cell_type": "markdown",
   "id": "b5ac72b6",
   "metadata": {},
   "source": [
    "# 52"
   ]
  },
  {
   "cell_type": "code",
   "execution_count": 8,
   "id": "213e1538",
   "metadata": {},
   "outputs": [
    {
     "name": "stdout",
     "output_type": "stream",
     "text": [
      "3 5\n",
      "even\n"
     ]
    }
   ],
   "source": [
    "a, b = input().split()\n",
    "a, b = int(a), int(b)\n",
    "\n",
    "if (a + b) % 2 == 0 :\n",
    "    print(\"even\")\n",
    "else :\n",
    "    print(\"odd\")"
   ]
  },
  {
   "cell_type": "markdown",
   "id": "7ca1099f",
   "metadata": {},
   "source": [
    "# 53"
   ]
  },
  {
   "cell_type": "code",
   "execution_count": 10,
   "id": "7e8d3c9a",
   "metadata": {},
   "outputs": [
    {
     "name": "stdout",
     "output_type": "stream",
     "text": [
      "-4 3\n",
      "0 or Negative Number\n"
     ]
    }
   ],
   "source": [
    "a, b = input().split()\n",
    "a, b = int(a), int(b)\n",
    "\n",
    "if (a + b) > 0 :\n",
    "    print(\"Natural Number\")\n",
    "else :\n",
    "    print(\"0 or Negative Number\")"
   ]
  },
  {
   "cell_type": "markdown",
   "id": "5baa7f2c",
   "metadata": {},
   "source": [
    "# 54"
   ]
  },
  {
   "cell_type": "code",
   "execution_count": 14,
   "id": "52c4a231",
   "metadata": {},
   "outputs": [
    {
     "name": "stdout",
     "output_type": "stream",
     "text": [
      "700 3 6000\n",
      "0\n"
     ]
    }
   ],
   "source": [
    "a, b, c = input().split()\n",
    "a, b, c = int(a), int(b), int(c)\n",
    "\n",
    "d = a * b - c\n",
    "\n",
    "if d < 0 :\n",
    "    print(0)\n",
    "else :\n",
    "    print(abs(d))"
   ]
  },
  {
   "cell_type": "markdown",
   "id": "1233281a",
   "metadata": {},
   "source": [
    "# 55"
   ]
  },
  {
   "cell_type": "code",
   "execution_count": 16,
   "id": "7a2a5f53",
   "metadata": {},
   "outputs": [
    {
     "name": "stdout",
     "output_type": "stream",
     "text": [
      "91 78 87 100\n",
      "88 100 89 73\n",
      "356\n"
     ]
    }
   ],
   "source": [
    "a = input()\n",
    "b = input()\n",
    "a = [int(i) for i in a.split()]\n",
    "b = [int(i) for i in b.split()]\n",
    "\n",
    "for i in a :\n",
    "    if i > 100 :\n",
    "        a = input()\n",
    "        a = [int(i) for i in a.split()]\n",
    "        \n",
    "for j in b :\n",
    "    if j > 100 :\n",
    "        b = input()\n",
    "        b = [int(i) for i in b.split()]\n",
    "        \n",
    "\n",
    "\n",
    "if sum(a) > sum(b) :\n",
    "    print(sum(a))\n",
    "else :\n",
    "    print(sum(b))"
   ]
  },
  {
   "cell_type": "markdown",
   "id": "df8d2472",
   "metadata": {},
   "source": [
    "# 56"
   ]
  },
  {
   "cell_type": "code",
   "execution_count": 25,
   "id": "c5436d94",
   "metadata": {},
   "outputs": [
    {
     "name": "stdout",
     "output_type": "stream",
     "text": [
      "91 78 87 100\n",
      "88 100 89 73\n",
      "356\n"
     ]
    }
   ],
   "source": [
    "a = input()\n",
    "b = input()\n",
    "a = [int(i) for i in a.split()]\n",
    "b = [int(i) for i in b.split()]\n",
    "\n",
    "if len(a) > 4 or len(b) > 4 :\n",
    "    print()\n",
    "else :\n",
    "    x, y = sum(a), sum(b)\n",
    "    k = False\n",
    "    l = False\n",
    "    for i in a :\n",
    "        if i > 100 :\n",
    "            k = True\n",
    "    for j in b :\n",
    "        if j > 100 :\n",
    "            l = True\n",
    "            \n",
    "    if k or l :\n",
    "        print()\n",
    "    else :\n",
    "        print(max(x, y))"
   ]
  },
  {
   "cell_type": "markdown",
   "id": "5d6cd1cf",
   "metadata": {},
   "source": [
    "# 57"
   ]
  },
  {
   "cell_type": "code",
   "execution_count": 41,
   "id": "5afb7afd",
   "metadata": {},
   "outputs": [
    {
     "name": "stdout",
     "output_type": "stream",
     "text": [
      "0 0\n",
      "Both a and b are zero or more.\n"
     ]
    }
   ],
   "source": [
    "a, b = input().split()\n",
    "a = int(a)\n",
    "b = int(b)\n",
    "if a < 0 or b < 0 :\n",
    "    print(\"One of a or b is negative number.\")\n",
    "else :\n",
    "    print(\"Both a and b are zero or more.\")"
   ]
  },
  {
   "cell_type": "markdown",
   "id": "ee96039e",
   "metadata": {},
   "source": [
    "# 58"
   ]
  },
  {
   "cell_type": "code",
   "execution_count": 46,
   "id": "84304697",
   "metadata": {},
   "outputs": [
    {
     "name": "stdout",
     "output_type": "stream",
     "text": [
      "7\n",
      "No\n"
     ]
    }
   ],
   "source": [
    "W = int(input())\n",
    "if W % 2 == 0 :\n",
    "    print('YES')\n",
    "else :\n",
    "    print('No')"
   ]
  },
  {
   "cell_type": "markdown",
   "id": "dab1ea3c",
   "metadata": {},
   "source": [
    "# 59"
   ]
  },
  {
   "cell_type": "code",
   "execution_count": 55,
   "id": "4a0724d5",
   "metadata": {},
   "outputs": [
    {
     "name": "stdout",
     "output_type": "stream",
     "text": [
      "0002\n",
      "0001\n",
      "1\n"
     ]
    }
   ],
   "source": [
    "lock1 = input()\n",
    "lock2 = input()\n",
    "result = 1\n",
    "for i in range(1, 10000) :\n",
    "    if i % 2 == 0 :\n",
    "        lock = lock2\n",
    "    else :\n",
    "        lock = lock1\n",
    "    guess = '{:0>4}'.format(i)\n",
    "    if guess == lock :\n",
    "        result = 0\n",
    "        break\n"
   ]
  },
  {
   "cell_type": "markdown",
   "id": "3af08334",
   "metadata": {},
   "source": [
    "# 60"
   ]
  },
  {
   "cell_type": "code",
   "execution_count": 61,
   "id": "70b35553",
   "metadata": {},
   "outputs": [
    {
     "name": "stdout",
     "output_type": "stream",
     "text": [
      "67\n",
      "D\n"
     ]
    }
   ],
   "source": [
    "S = int(input())\n",
    "if 90 <= S <= 100 :\n",
    "    print('A')\n",
    "elif 80 <= S <= 89 :\n",
    "    print('B')\n",
    "elif 70 <= S <= 79 :\n",
    "    print('C')\n",
    "elif 60 <= S <= 69 :\n",
    "    print('D')\n",
    "else :\n",
    "    print('F')"
   ]
  },
  {
   "cell_type": "markdown",
   "id": "73af644e",
   "metadata": {},
   "source": [
    "# 61"
   ]
  },
  {
   "cell_type": "code",
   "execution_count": 67,
   "id": "fe3978a8",
   "metadata": {},
   "outputs": [
    {
     "name": "stdout",
     "output_type": "stream",
     "text": [
      "0 0 \n",
      "neither\n"
     ]
    }
   ],
   "source": [
    "a, b = input().split()\n",
    "a, b = int(a), int(b)\n",
    "if a == 1 and b == 1 :\n",
    "    print('both')\n",
    "elif a == 1 or b == 1 :\n",
    "    print('either')\n",
    "else :\n",
    "    print('neither')"
   ]
  },
  {
   "cell_type": "markdown",
   "id": "64517d3b",
   "metadata": {},
   "source": [
    "# 62"
   ]
  },
  {
   "cell_type": "code",
   "execution_count": 71,
   "id": "5c2f4459",
   "metadata": {},
   "outputs": [
    {
     "name": "stdout",
     "output_type": "stream",
     "text": [
      "5 15 3\n",
      "5 = 15 / 3\n"
     ]
    }
   ],
   "source": [
    "a, b, c = input().split()\n",
    "a, b, c = int(a), int(b), int(c)\n",
    "if a + b == c :\n",
    "    print(f'{a} + {b} = {c}')\n",
    "elif a == b + c :\n",
    "    print(f'{a} = {b} + {c}')\n",
    "elif a - b == c :\n",
    "    print(f'{a} - {b} = {c}')\n",
    "elif a == b - c :\n",
    "    print(f'{a} = {b} - {c}')\n",
    "elif a * b == c :\n",
    "    print(f'{a} * {b} = {c}')\n",
    "elif a == b * c :\n",
    "    print(f'{a} = {b} * {c}')\n",
    "elif a / b == c :\n",
    "    print(f'{a} / {b} = {c}')\n",
    "elif a == b / c :\n",
    "    print(f'{a} = {b} / {c}')"
   ]
  },
  {
   "cell_type": "markdown",
   "id": "2118bfbe",
   "metadata": {},
   "source": [
    "# 63"
   ]
  },
  {
   "cell_type": "code",
   "execution_count": 79,
   "id": "40fcb5ab",
   "metadata": {},
   "outputs": [
    {
     "name": "stdout",
     "output_type": "stream",
     "text": [
      "2 2 5\n",
      "1200\n"
     ]
    }
   ],
   "source": [
    "num = input().split()\n",
    "num = [int(i) for i in num]\n",
    "coin = 0\n",
    "for i in num :\n",
    "    if num.count(i) == 3 :\n",
    "        coin = 10000 + (i * 1000)\n",
    "        break\n",
    "    elif num.count(i) == 2 :\n",
    "        coin = 1000 + (i * 100)\n",
    "        break\n",
    "    else :\n",
    "        coin = max(num) * 100\n",
    "print(coin)"
   ]
  },
  {
   "cell_type": "markdown",
   "id": "a73b70e4",
   "metadata": {},
   "source": [
    "# 64"
   ]
  },
  {
   "cell_type": "code",
   "execution_count": 95,
   "id": "3c6d517a",
   "metadata": {},
   "outputs": [
    {
     "name": "stdout",
     "output_type": "stream",
     "text": [
      "5 2\n",
      "6\n"
     ]
    }
   ],
   "source": [
    "N, K = input().split()\n",
    "N, K = int(N), int(K)\n",
    "mins = 0\n",
    "for i in range(0, N, K) :\n",
    "    mins += 2\n",
    "print(mins)"
   ]
  },
  {
   "cell_type": "markdown",
   "id": "16734b7d",
   "metadata": {},
   "source": [
    "# 65"
   ]
  },
  {
   "cell_type": "code",
   "execution_count": 101,
   "id": "befa3fba",
   "metadata": {},
   "outputs": [
    {
     "name": "stdout",
     "output_type": "stream",
     "text": [
      "13\n",
      "1 2 3 4 5 6 7 8 9 10 11 12 13 "
     ]
    }
   ],
   "source": [
    "n = int(input())\n",
    "\n",
    "for i in range(1, n +1):\n",
    "    print(i, end=\" \")"
   ]
  },
  {
   "cell_type": "markdown",
   "id": "7e4b162e",
   "metadata": {},
   "source": [
    "# 66"
   ]
  },
  {
   "cell_type": "code",
   "execution_count": 5,
   "id": "9e353845",
   "metadata": {},
   "outputs": [
    {
     "name": "stdout",
     "output_type": "stream",
     "text": [
      "10\n",
      "1 2 7\n",
      "1 3 6\n",
      "1 4 5\n",
      "2 3 5\n",
      "4\n"
     ]
    }
   ],
   "source": [
    "n = int(input())\n",
    "count = 0\n",
    "for i in range(1, 10):\n",
    "    for j in range(1, 10) :\n",
    "        for k in range(1, 10) :\n",
    "            if i + j + k == n and i < j < k:\n",
    "                print(i, j, k)\n",
    "                count += 1\n",
    "print(count)"
   ]
  },
  {
   "cell_type": "markdown",
   "id": "df6066f4",
   "metadata": {},
   "source": [
    "# 67"
   ]
  },
  {
   "cell_type": "code",
   "execution_count": 106,
   "id": "25a2f812",
   "metadata": {},
   "outputs": [
    {
     "name": "stdout",
     "output_type": "stream",
     "text": [
      "3 8\n",
      "3 4 5 6 7 8 "
     ]
    }
   ],
   "source": [
    "a, b = input().split()\n",
    "a = int(a)\n",
    "b = int(b)\n",
    "\n",
    "for i in range(a, b + 1):\n",
    "    print(i, end=\" \") "
   ]
  },
  {
   "cell_type": "markdown",
   "id": "a87a4150",
   "metadata": {},
   "source": [
    "# 68"
   ]
  },
  {
   "cell_type": "code",
   "execution_count": 1,
   "id": "a92ba5ad",
   "metadata": {},
   "outputs": [
    {
     "name": "stdout",
     "output_type": "stream",
     "text": [
      "3 8 \n",
      "8 7 6 5 4 3 "
     ]
    }
   ],
   "source": [
    "a, b = input().split()\n",
    "a = int(a)\n",
    "b = int(b)\n",
    "\n",
    "for i in range(b, a - 1, - 1):\n",
    "    print(i, end=\" \")"
   ]
  },
  {
   "cell_type": "markdown",
   "id": "e2cff2d6",
   "metadata": {},
   "source": [
    "# 69"
   ]
  },
  {
   "cell_type": "code",
   "execution_count": 15,
   "id": "feb6e280",
   "metadata": {},
   "outputs": [
    {
     "name": "stdout",
     "output_type": "stream",
     "text": [
      "10\n",
      "220\n"
     ]
    }
   ],
   "source": [
    "N = int(input())\n",
    "j = N\n",
    "result = 0\n",
    "for i in range(1, N + 1):\n",
    "    result += i * j\n",
    "    j -= 1\n",
    "print(result)"
   ]
  },
  {
   "cell_type": "markdown",
   "id": "6d20596d",
   "metadata": {},
   "source": [
    "# 70"
   ]
  },
  {
   "cell_type": "code",
   "execution_count": 7,
   "id": "910afc09",
   "metadata": {},
   "outputs": [
    {
     "name": "stdout",
     "output_type": "stream",
     "text": [
      "100\n",
      "5050\n"
     ]
    }
   ],
   "source": [
    "N = int(input())\n",
    "print(sum(range(1, N + 1)))"
   ]
  },
  {
   "cell_type": "markdown",
   "id": "53bd46a0",
   "metadata": {},
   "source": [
    "# 71"
   ]
  },
  {
   "cell_type": "code",
   "execution_count": 2,
   "id": "d0652455",
   "metadata": {},
   "outputs": [
    {
     "name": "stdout",
     "output_type": "stream",
     "text": [
      "51 100\n",
      "3775\n"
     ]
    }
   ],
   "source": [
    "a, b = input().split()\n",
    "a = int(a)\n",
    "b = int(b)\n",
    "\n",
    "print(sum(range(a, b + 1)))"
   ]
  },
  {
   "cell_type": "markdown",
   "id": "85bceeee",
   "metadata": {},
   "source": [
    "# 72"
   ]
  },
  {
   "cell_type": "code",
   "execution_count": 6,
   "id": "7367dea4",
   "metadata": {},
   "outputs": [
    {
     "name": "stdout",
     "output_type": "stream",
     "text": [
      "11\n",
      "1 3 5 7 9 11\n"
     ]
    }
   ],
   "source": [
    "N = int(input())\n",
    "print(*range(1, N +1, 2))"
   ]
  },
  {
   "cell_type": "markdown",
   "id": "3bb24192",
   "metadata": {},
   "source": [
    "# 73"
   ]
  },
  {
   "cell_type": "code",
   "execution_count": 1,
   "id": "5c7a423b",
   "metadata": {},
   "outputs": [
    {
     "name": "stdout",
     "output_type": "stream",
     "text": [
      "12\n",
      "6\n"
     ]
    }
   ],
   "source": [
    "N = int(input())\n",
    "count = 0 \n",
    "for i in range(1, N +1):\n",
    "    if N % i == 0:\n",
    "        count += 1\n",
    "print(count)"
   ]
  },
  {
   "cell_type": "markdown",
   "id": "94006a6b",
   "metadata": {},
   "source": [
    "# 74"
   ]
  },
  {
   "cell_type": "code",
   "execution_count": 11,
   "id": "47b0a548",
   "metadata": {},
   "outputs": [
    {
     "name": "stdout",
     "output_type": "stream",
     "text": [
      "10\n",
      "23\n"
     ]
    }
   ],
   "source": [
    "N = int(input())\n",
    "count = 0\n",
    "for i in range(1, N):\n",
    "    if i % 3 == 0 or i % 5 == 0:\n",
    "        count += i\n",
    "print(count)"
   ]
  },
  {
   "cell_type": "markdown",
   "id": "922798bd",
   "metadata": {},
   "source": [
    "# 75"
   ]
  },
  {
   "cell_type": "code",
   "execution_count": 14,
   "id": "4195e289",
   "metadata": {},
   "outputs": [
    {
     "name": "stdout",
     "output_type": "stream",
     "text": [
      "12\n",
      "28\n"
     ]
    }
   ],
   "source": [
    "N = int(input())\n",
    "s = 0\n",
    "for i in range(1, N+1) :\n",
    "    if N % i == 0 :\n",
    "        s += i\n",
    "print(s)"
   ]
  },
  {
   "cell_type": "markdown",
   "id": "f5db8ded",
   "metadata": {},
   "source": [
    "# 76"
   ]
  },
  {
   "cell_type": "code",
   "execution_count": 15,
   "id": "ae0e7204",
   "metadata": {},
   "outputs": [
    {
     "name": "stdout",
     "output_type": "stream",
     "text": [
      "10\n",
      "2\n"
     ]
    }
   ],
   "source": [
    "N = int(input())\n",
    "s = 0\n",
    "for i in range(1, N) :\n",
    "    for j in range(1, i + 1) :\n",
    "        if i % 2 == 0 and j % 2 == 0 and i * j < N :\n",
    "            s += 1\n",
    "print(s)"
   ]
  },
  {
   "cell_type": "markdown",
   "id": "da2485e0",
   "metadata": {},
   "source": [
    "# 77"
   ]
  },
  {
   "cell_type": "code",
   "execution_count": 18,
   "id": "b29a09a9",
   "metadata": {},
   "outputs": [
    {
     "name": "stdout",
     "output_type": "stream",
     "text": [
      "10\n",
      "DEFICIENT\n"
     ]
    }
   ],
   "source": [
    "N = int(input())\n",
    "s = 0\n",
    "for i in range(1, N) :\n",
    "    if N % i == 0:\n",
    "        s += i\n",
    "if s == N :\n",
    "    print(\"PERFECT\")\n",
    "elif s > N :\n",
    "    print(\"ABUNDANT\")\n",
    "elif s < N :\n",
    "    print(\"DEFICIENT\")"
   ]
  },
  {
   "cell_type": "markdown",
   "id": "a7b91ec4",
   "metadata": {},
   "source": [
    "# 78"
   ]
  },
  {
   "cell_type": "code",
   "execution_count": 19,
   "id": "dfd1f60c",
   "metadata": {},
   "outputs": [
    {
     "name": "stdout",
     "output_type": "stream",
     "text": [
      "#\n",
      "##\n",
      "###\n",
      "####\n",
      "#####\n"
     ]
    }
   ],
   "source": [
    "n = 5\n",
    "\n",
    "for i in range(1, n+1) :\n",
    "    print(\"#\" * i)"
   ]
  },
  {
   "cell_type": "markdown",
   "id": "0321eb7b",
   "metadata": {},
   "source": [
    "# 79"
   ]
  },
  {
   "cell_type": "code",
   "execution_count": 20,
   "id": "c5ad3b8b",
   "metadata": {},
   "outputs": [
    {
     "name": "stdout",
     "output_type": "stream",
     "text": [
      "#####\n",
      "####\n",
      "###\n",
      "##\n",
      "#\n"
     ]
    }
   ],
   "source": [
    "for i in range(5, 0, -1) :\n",
    "    print('#' * i)"
   ]
  },
  {
   "cell_type": "markdown",
   "id": "250aa180",
   "metadata": {},
   "source": [
    "# 80"
   ]
  },
  {
   "cell_type": "code",
   "execution_count": 42,
   "id": "6a3ac12e",
   "metadata": {},
   "outputs": [
    {
     "name": "stdout",
     "output_type": "stream",
     "text": [
      "    #\n",
      "   ##\n",
      "  ###\n",
      " ####\n",
      "#####\n"
     ]
    }
   ],
   "source": [
    "for i in range(1, 6) :\n",
    "    print(\"{}{}\".format(' ' * (5-i), '#' * i))"
   ]
  },
  {
   "cell_type": "markdown",
   "id": "917fec36",
   "metadata": {},
   "source": [
    "# 81"
   ]
  },
  {
   "cell_type": "code",
   "execution_count": 41,
   "id": "1e76fcd3",
   "metadata": {},
   "outputs": [
    {
     "name": "stdout",
     "output_type": "stream",
     "text": [
      "#####\n",
      " ####\n",
      "  ###\n",
      "   ##\n",
      "    #\n"
     ]
    }
   ],
   "source": [
    "for i in range(1, 6) :\n",
    "    print(\"{}{}\".format(' '*(i-1), '#'*(6-i)))"
   ]
  },
  {
   "cell_type": "markdown",
   "id": "368b8858",
   "metadata": {},
   "source": [
    "# 82"
   ]
  },
  {
   "cell_type": "code",
   "execution_count": 47,
   "id": "91dfc5e7",
   "metadata": {},
   "outputs": [
    {
     "name": "stdout",
     "output_type": "stream",
     "text": [
      "    #\n",
      "   ###\n",
      "  #####\n",
      " #######\n",
      "#########\n"
     ]
    }
   ],
   "source": [
    "for i in range(1, 6) :\n",
    "    print(\"{}{}\".format(' '*(5-i), '#'*(i*2-1)))"
   ]
  },
  {
   "cell_type": "markdown",
   "id": "205fae6e",
   "metadata": {},
   "source": [
    "# 83"
   ]
  },
  {
   "cell_type": "code",
   "execution_count": 4,
   "id": "0cdbd8dd",
   "metadata": {},
   "outputs": [
    {
     "name": "stdout",
     "output_type": "stream",
     "text": [
      "#########\n",
      " #######\n",
      "  #####\n",
      "   ###\n",
      "    #\n"
     ]
    }
   ],
   "source": [
    "for i in range(5,0, -1) :\n",
    "    print(\" \"*(5 - i), end='')\n",
    "    print(\"#\"*(2*i-1))"
   ]
  },
  {
   "cell_type": "markdown",
   "id": "cb952109",
   "metadata": {},
   "source": [
    "# 84"
   ]
  },
  {
   "cell_type": "code",
   "execution_count": 23,
   "id": "201d7cd0",
   "metadata": {},
   "outputs": [
    {
     "name": "stdout",
     "output_type": "stream",
     "text": [
      "20\n",
      "1 1 3\n",
      "2 2 2\n",
      "3 3 1\n",
      "6 1 1\n",
      "4\n"
     ]
    }
   ],
   "source": [
    "G = int(input())\n",
    "count = 0\n",
    "for g2 in range(1, 10):\n",
    "    for g3 in range(1, 10):\n",
    "        for g5 in range(1, 10):\n",
    "            if (g2 * 2) + (g3 * 3) + (g5 * 5) == G :\n",
    "                print(g2, g3, g5)\n",
    "                count += 1\n",
    "print(count)"
   ]
  },
  {
   "cell_type": "markdown",
   "id": "194b4dd9",
   "metadata": {},
   "source": [
    "# 85"
   ]
  },
  {
   "cell_type": "code",
   "execution_count": 93,
   "id": "b6140bf1",
   "metadata": {},
   "outputs": [
    {
     "name": "stdout",
     "output_type": "stream",
     "text": [
      "5\n",
      "1       1\n",
      "12     21\n",
      "123   321\n",
      "1234 4321\n",
      "123454321\n",
      "1234 4321\n",
      "123   321\n",
      "12     21\n",
      "1       1\n"
     ]
    }
   ],
   "source": [
    "while True :\n",
    "    N = int(input())\n",
    "    if N >= 1 and N <= 10 :\n",
    "        break\n",
    "    \n",
    "for i in range(1, N):\n",
    "    print(*range(1, i+1), sep='', end='')\n",
    "    if N >= 10 :\n",
    "        print('{}'.format(' '*((N-i)*2)), end='')\n",
    "    else :\n",
    "        print('{}'.format(' '*((N-i)*2-1)), end='')\n",
    "    print(*range(i, 0, -1), sep='')\n",
    "            \n",
    "\n",
    "print(*range(1, N+1),*range(N-1, 0, -1), sep='')\n",
    "    \n",
    "for j in range(N, 1, -1) :\n",
    "    print(*range(1, j), sep='', end='')\n",
    "    if N >= 10 :\n",
    "        print('{}'.format(' '*((N-j+1)*2)), end='')\n",
    "    else :\n",
    "        print('{}'.format(' '*((N-j+1)*2-1)), end='')\n",
    "    print(*range(j-1, 0, -1), sep='')\n",
    "    "
   ]
  },
  {
   "cell_type": "markdown",
   "id": "35aa4a4e",
   "metadata": {},
   "source": [
    "# 86"
   ]
  },
  {
   "cell_type": "code",
   "execution_count": 95,
   "id": "1d48d813",
   "metadata": {},
   "outputs": [
    {
     "name": "stdout",
     "output_type": "stream",
     "text": [
      "1250\n",
      "8750\n",
      "7500\n",
      "6250\n",
      "5000\n",
      "3750\n",
      "2500\n",
      "1250\n",
      "0\n",
      "8\n"
     ]
    }
   ],
   "source": [
    "A = int(input())\n",
    "balance = 10000\n",
    "count = 0\n",
    "while True :\n",
    "    if balance < A :\n",
    "        break\n",
    "    balance -= A\n",
    "    count += 1\n",
    "    print(balance)\n",
    "print(count)"
   ]
  },
  {
   "cell_type": "markdown",
   "id": "d7b9ab33",
   "metadata": {},
   "source": [
    "# 87"
   ]
  },
  {
   "cell_type": "code",
   "execution_count": 97,
   "id": "e4d06327",
   "metadata": {},
   "outputs": [
    {
     "name": "stdout",
     "output_type": "stream",
     "text": [
      "150 50 1000 100\n",
      "450\n"
     ]
    }
   ],
   "source": [
    "a, b, c, d = input().split()\n",
    "a = int(a)\n",
    "b = int(b)\n",
    "c = int(c)\n",
    "d = int(d)\n",
    "while True :\n",
    "    if a>c :\n",
    "        print(a)\n",
    "        break\n",
    "    a += b\n",
    "    c -= d"
   ]
  },
  {
   "cell_type": "markdown",
   "id": "a6330128",
   "metadata": {},
   "source": [
    "# 88"
   ]
  },
  {
   "cell_type": "code",
   "execution_count": 122,
   "id": "2188a726",
   "metadata": {},
   "outputs": [
    {
     "name": "stdout",
     "output_type": "stream",
     "text": [
      "10 3\n",
      "14\n"
     ]
    }
   ],
   "source": [
    "N, K = input().split()\n",
    "N = int(N)\n",
    "K = int(K)\n",
    "count = N\n",
    "while N >= K :\n",
    "    N = N - K + 1\n",
    "    count += 1\n",
    "print(count)"
   ]
  },
  {
   "cell_type": "markdown",
   "id": "005f0b83",
   "metadata": {},
   "source": [
    "# 89"
   ]
  },
  {
   "cell_type": "code",
   "execution_count": 141,
   "id": "9f4f2fc9",
   "metadata": {},
   "outputs": [
    {
     "name": "stdout",
     "output_type": "stream",
     "text": [
      "10\n",
      "30\n"
     ]
    }
   ],
   "source": [
    "N = int(input())\n",
    "count = 0\n",
    "total = 0\n",
    "coin = 1\n",
    "for i in range(1, N + 1) :\n",
    "    total += coin\n",
    "    count += 1\n",
    "    if count == coin :\n",
    "        coin += 1\n",
    "        count = 0\n",
    "print(total)"
   ]
  },
  {
   "cell_type": "markdown",
   "id": "bc95f796",
   "metadata": {},
   "source": [
    "# 90"
   ]
  },
  {
   "cell_type": "code",
   "execution_count": 145,
   "id": "7ad07f14",
   "metadata": {},
   "outputs": [
    {
     "name": "stdout",
     "output_type": "stream",
     "text": [
      "3\n",
      "14\n"
     ]
    }
   ],
   "source": [
    "N = int(input())\n",
    "total_square = 0\n",
    "for i in range(1, N+1) :\n",
    "    num_square = i * i\n",
    "    total_square += num_square\n",
    "print(total_square)"
   ]
  },
  {
   "cell_type": "markdown",
   "id": "b3700f04",
   "metadata": {},
   "source": [
    "# 91"
   ]
  },
  {
   "cell_type": "code",
   "execution_count": 7,
   "id": "f9c2ff66",
   "metadata": {},
   "outputs": [
    {
     "name": "stdout",
     "output_type": "stream",
     "text": [
      "3\n",
      "14\n"
     ]
    }
   ],
   "source": [
    "N = int(input())\n",
    "odd = []\n",
    "for i in range(1, N+1):\n",
    "    odd.append(i**2)\n",
    "print(sum(odd))"
   ]
  },
  {
   "cell_type": "markdown",
   "id": "a18d866d",
   "metadata": {},
   "source": [
    "# 92"
   ]
  },
  {
   "cell_type": "code",
   "execution_count": 8,
   "id": "cee421d2",
   "metadata": {},
   "outputs": [
    {
     "name": "stdout",
     "output_type": "stream",
     "text": [
      "1 100\n",
      "385\n",
      "1\n"
     ]
    }
   ],
   "source": [
    "from math import sqrt\n",
    "a, b = [int(n) for n in input().split()]\n",
    "summ = 0\n",
    "lst = []\n",
    "for i in range(a, b + 1) :\n",
    "    if sqrt(i) % 1 == 0 :\n",
    "        summ += i\n",
    "        lst.append(i)\n",
    "if bool(lst) == False :\n",
    "    print(-1)\n",
    "else :\n",
    "    print(summ)\n",
    "    print(lst[0])"
   ]
  },
  {
   "cell_type": "markdown",
   "id": "38ab93a4",
   "metadata": {},
   "source": [
    "# 93"
   ]
  },
  {
   "cell_type": "code",
   "execution_count": 3,
   "id": "19dc3bf0",
   "metadata": {
    "scrolled": true
   },
   "outputs": [
    {
     "name": "stdout",
     "output_type": "stream",
     "text": [
      "5\n",
      "2\n"
     ]
    }
   ],
   "source": [
    "N = int(input())\n",
    "# render prison cells in the first round\n",
    "# -1 dont count\n",
    "# 0 indicate the cells is open\n",
    "# 1 indicate the cells is closed\n",
    "lock = 1\n",
    "unlock = 0\n",
    "cells = [unlock]*N\n",
    "for i in range(2, N+1) :\n",
    "    for j in range(1, N+1) :\n",
    "        if i * j <= N and cells[i*j-1] == unlock :\n",
    "            cells[i*j-1] = lock\n",
    "        elif i*j <= N :\n",
    "            cells[i*j-1] = unlock        \n",
    "print(cells.count(unlock))"
   ]
  },
  {
   "cell_type": "markdown",
   "id": "ad8bb854",
   "metadata": {},
   "source": [
    "# 94"
   ]
  },
  {
   "cell_type": "code",
   "execution_count": 65,
   "id": "c6b33283",
   "metadata": {},
   "outputs": [
    {
     "name": "stdout",
     "output_type": "stream",
     "text": [
      "25\n",
      "5\n"
     ]
    }
   ],
   "source": [
    "import math\n",
    "n = int(input())\n",
    "print(int(math.sqrt(n)))"
   ]
  },
  {
   "cell_type": "markdown",
   "id": "80e1ca1d",
   "metadata": {},
   "source": [
    "# 95"
   ]
  },
  {
   "cell_type": "code",
   "execution_count": 73,
   "id": "0b83cda8",
   "metadata": {},
   "outputs": [
    {
     "name": "stdout",
     "output_type": "stream",
     "text": [
      "120\n",
      "Normal Number\n"
     ]
    }
   ],
   "source": [
    "n = input()\n",
    "reverse = n[::-1]\n",
    "if n == reverse :\n",
    "    print('Palindrome Number')\n",
    "else :\n",
    "    print('Normal Number')"
   ]
  },
  {
   "cell_type": "markdown",
   "id": "c27d5163",
   "metadata": {},
   "source": [
    "# 96"
   ]
  },
  {
   "cell_type": "code",
   "execution_count": 102,
   "id": "0d839d07",
   "metadata": {},
   "outputs": [
    {
     "name": "stdout",
     "output_type": "stream",
     "text": [
      "2 3 5 7 11\n",
      "13 17 19 23 29\n",
      "31 37 41 43 47\n",
      "53 59 61 67 71\n",
      "73 79 83 89 97\n"
     ]
    }
   ],
   "source": [
    "count = 0\n",
    "prime = []\n",
    "for i in range(1, 101) :\n",
    "    for j in range(1, i + 1) :\n",
    "        if i % j == 0 :\n",
    "            count += 1\n",
    "    if count == 2 :\n",
    "        prime.append(i)\n",
    "    count = 0\n",
    "for i in range(0, len(prime), 5) :\n",
    "    print(*prime[i:i+5])\n",
    "\n",
    "    "
   ]
  },
  {
   "cell_type": "markdown",
   "id": "53a77e37",
   "metadata": {},
   "source": [
    "# 97"
   ]
  },
  {
   "cell_type": "code",
   "execution_count": 106,
   "id": "c6360355",
   "metadata": {},
   "outputs": [
    {
     "name": "stdout",
     "output_type": "stream",
     "text": [
      "2 4 6 8 10 12 14\n",
      "56\n"
     ]
    }
   ],
   "source": [
    "lst = []\n",
    "nst = []\n",
    "summ = 0\n",
    "for i in range(1, 101) :\n",
    "    if i % 2 == 0 :\n",
    "        lst.append(i)\n",
    "for i in lst :\n",
    "    summ += i\n",
    "    nst.append(i)\n",
    "    if summ > 50 :\n",
    "        break\n",
    "print(*nst)\n",
    "print(summ)"
   ]
  },
  {
   "cell_type": "markdown",
   "id": "77c1cbc6",
   "metadata": {},
   "source": [
    "# 98"
   ]
  },
  {
   "cell_type": "code",
   "execution_count": 116,
   "id": "72e109cd",
   "metadata": {},
   "outputs": [
    {
     "name": "stdout",
     "output_type": "stream",
     "text": [
      "1 2\n",
      "2 3\n",
      "3 4\n",
      "4 5\n",
      "0 0\n",
      "9\n"
     ]
    }
   ],
   "source": [
    "lst = []\n",
    "while True :\n",
    "    a, b = input().split()\n",
    "    a, b = int(a), int(b)\n",
    "    if (a and b) == 0 :\n",
    "        break\n",
    "    c = a + b\n",
    "    lst.append(c)\n",
    "\n",
    "print(max(lst))\n"
   ]
  },
  {
   "cell_type": "markdown",
   "id": "438fb436",
   "metadata": {},
   "source": [
    "# 99"
   ]
  },
  {
   "cell_type": "code",
   "execution_count": 149,
   "id": "807eb809",
   "metadata": {},
   "outputs": [
    {
     "name": "stdout",
     "output_type": "stream",
     "text": [
      "1 5 7 11 13 17 19 23 25 29 \n",
      "31 35 37 41 43 47 49 53 55 59 \n",
      "61 65 67 71 73 77 79 83 85 89 \n",
      "91 95 97 "
     ]
    }
   ],
   "source": [
    "count = 0\n",
    "for i in range(1, 101) :\n",
    "    if i % 2 == 0 or i % 3 == 0 :\n",
    "        continue\n",
    "    print(i, end=' ')\n",
    "    count += 1\n",
    "    if count == 10 :\n",
    "        print()\n",
    "        count = 0"
   ]
  },
  {
   "cell_type": "markdown",
   "id": "aea07034",
   "metadata": {},
   "source": [
    "# 100"
   ]
  },
  {
   "cell_type": "code",
   "execution_count": 162,
   "id": "657a311d",
   "metadata": {},
   "outputs": [
    {
     "name": "stdout",
     "output_type": "stream",
     "text": [
      "5 3\n",
      "6 2\n",
      "7 2\n",
      "5 3\n",
      "5 4\n",
      "0 4\n",
      "0 6\n",
      "0 0\n",
      "3\n"
     ]
    }
   ],
   "source": [
    "list1 = []\n",
    "while True:\n",
    "    s1,s2 = input().split()\n",
    "    s1,s2 = int(s1), int(s2)\n",
    "    score = s1 + s2\n",
    "    list1.append(score)\n",
    "    if s1 == s2 == 0:\n",
    "        break\n",
    "print(list1.index(max(list1))+1)"
   ]
  },
  {
   "cell_type": "markdown",
   "id": "dd0952cb",
   "metadata": {},
   "source": [
    "# 101\n"
   ]
  },
  {
   "cell_type": "code",
   "execution_count": 163,
   "id": "815c84c2",
   "metadata": {},
   "outputs": [
    {
     "name": "stdout",
     "output_type": "stream",
     "text": [
      "70\n"
     ]
    }
   ],
   "source": [
    "list1 = [4, 7, 6, 8, 11, -3, 8, 11, 5, 13]\n",
    "print(sum(list1))"
   ]
  },
  {
   "cell_type": "markdown",
   "id": "633f7972",
   "metadata": {},
   "source": [
    "# 102"
   ]
  },
  {
   "cell_type": "code",
   "execution_count": 176,
   "id": "de2c6387",
   "metadata": {},
   "outputs": [
    {
     "name": "stdout",
     "output_type": "stream",
     "text": [
      "20\n"
     ]
    }
   ],
   "source": [
    "list1 = [5, 7, 13, 11, 6, 10, 45, 11, 4, 9]\n",
    "sum1 = 0\n",
    "\n",
    "for i in list1:\n",
    "    if i % 2 == 0:\n",
    "        sum1 += i\n",
    "print(sum1)"
   ]
  },
  {
   "cell_type": "markdown",
   "id": "02baff88",
   "metadata": {},
   "source": [
    "# 103"
   ]
  },
  {
   "cell_type": "code",
   "execution_count": 193,
   "id": "5f0ce6e1",
   "metadata": {},
   "outputs": [
    {
     "name": "stdout",
     "output_type": "stream",
     "text": [
      "2 1 2 1 2 1\n",
      "-1 0 0 1 0 7\n"
     ]
    }
   ],
   "source": [
    "origin = [1, 1, 2, 2, 2, 8]\n",
    "user = [int(i) for i in input().split()]\n",
    "need = []\n",
    "for i in range(len(origin)) :\n",
    "    need.append(origin[i] - user[i])\n",
    "print(*need)"
   ]
  },
  {
   "cell_type": "markdown",
   "id": "fd3f0049",
   "metadata": {},
   "source": [
    "# 104"
   ]
  },
  {
   "cell_type": "code",
   "execution_count": 268,
   "id": "a35c1440",
   "metadata": {},
   "outputs": [
    {
     "name": "stdout",
     "output_type": "stream",
     "text": [
      "123 234 345\n",
      "[9, 9, 2, 9, 7, 9, 0]\n",
      "1\n",
      "0\n",
      "1\n",
      "0\n",
      "0\n",
      "0\n",
      "0\n",
      "1\n",
      "0\n",
      "4\n"
     ]
    }
   ],
   "source": [
    "A, B, C = input().split()\n",
    "product = int(A) * int(B) * int(C) \n",
    "\n",
    "lst = list(str(product))\n",
    "nlst = [int(i) for i in lst]\n",
    " \n",
    "for i in range(0, 10) :\n",
    "    print(nlst.count(i))"
   ]
  },
  {
   "cell_type": "markdown",
   "id": "b9b3620d",
   "metadata": {},
   "source": [
    "# 105"
   ]
  },
  {
   "cell_type": "code",
   "execution_count": 190,
   "id": "4792da24",
   "metadata": {},
   "outputs": [
    {
     "name": "stdout",
     "output_type": "stream",
     "text": [
      "2500\n"
     ]
    }
   ],
   "source": [
    "tup = tuple(range(1, 100, 2))\n",
    "print(sum(tup))"
   ]
  },
  {
   "cell_type": "markdown",
   "id": "f0174185",
   "metadata": {},
   "source": [
    "# 106\n"
   ]
  },
  {
   "cell_type": "code",
   "execution_count": 234,
   "id": "3da9965f",
   "metadata": {},
   "outputs": [
    {
     "name": "stdout",
     "output_type": "stream",
     "text": [
      "[2, 3, 4, 5, 6, 7, 8, 9, 10, 1]\n"
     ]
    }
   ],
   "source": [
    "data = [1, 2, 3, 4, 5, 6, 7, 8, 9, 10]\n",
    "for i in range(len(data)-1):\n",
    "    data[i], data[i+1] = data[i+1], data[i]\n",
    "print(data)"
   ]
  },
  {
   "cell_type": "markdown",
   "id": "344e12e1",
   "metadata": {},
   "source": [
    "# 107"
   ]
  },
  {
   "cell_type": "code",
   "execution_count": 242,
   "id": "5dc44fe4",
   "metadata": {},
   "outputs": [
    {
     "name": "stdout",
     "output_type": "stream",
     "text": [
      "[10, 1, 2, 3, 4, 5, 6, 7, 8, 9]\n"
     ]
    }
   ],
   "source": [
    "data = [1, 2, 3, 4, 5, 6, 7, 8, 9, 10]\n",
    "for i in range(len(data)-1, 0, -1) :\n",
    "    data[i-1], data[i] = data[i], data[i-1]\n",
    "print(data)"
   ]
  },
  {
   "cell_type": "markdown",
   "id": "cb6f5497",
   "metadata": {},
   "source": [
    "# 108"
   ]
  },
  {
   "cell_type": "code",
   "execution_count": 276,
   "id": "1d1c7712",
   "metadata": {},
   "outputs": [
    {
     "name": "stdout",
     "output_type": "stream",
     "text": [
      "20211224\n",
      "2021Y 12M 24D\n"
     ]
    }
   ],
   "source": [
    "lst = input()\n",
    "\n",
    "print(\"{}Y {}M {}D\".format(lst[:4], lst[4:6], lst[6:]))"
   ]
  },
  {
   "cell_type": "markdown",
   "id": "17654bf7",
   "metadata": {},
   "source": [
    "# 109"
   ]
  },
  {
   "cell_type": "code",
   "execution_count": 281,
   "id": "315a6ace",
   "metadata": {},
   "outputs": [
    {
     "name": "stdout",
     "output_type": "stream",
     "text": [
      "4 2\n",
      "0 0 0 0\n",
      "0\n"
     ]
    }
   ],
   "source": [
    "N, K = input().split()\n",
    "N, K = int(N), int(K) \n",
    "next_round = input()\n",
    "next_round = [int(i) for i in next_round.split()]\n",
    "\n",
    "s = 0\n",
    "\n",
    "for i in next_round :\n",
    "    if i > K and i != 0 :\n",
    "        s += 1\n",
    "\n",
    "print(s)"
   ]
  },
  {
   "cell_type": "markdown",
   "id": "455643fa",
   "metadata": {},
   "source": [
    "# 110"
   ]
  },
  {
   "cell_type": "code",
   "execution_count": 298,
   "id": "9573e900",
   "metadata": {},
   "outputs": [
    {
     "name": "stdout",
     "output_type": "stream",
     "text": [
      "10 \n",
      "3\n",
      "4\n",
      "6\n",
      "2\n",
      "28\n"
     ]
    }
   ],
   "source": [
    "data = int(input())\n",
    "m = int(input())\n",
    "amount = []\n",
    "for i in range(m) :\n",
    "    month = int(input())\n",
    "    amount.append(data - month)\n",
    "    \n",
    "print(sum(amount) + data )"
   ]
  },
  {
   "cell_type": "markdown",
   "id": "7ee3002a",
   "metadata": {},
   "source": [
    "# 111"
   ]
  },
  {
   "cell_type": "code",
   "execution_count": 293,
   "id": "bf4fe5c7",
   "metadata": {},
   "outputs": [
    {
     "name": "stdout",
     "output_type": "stream",
     "text": [
      "6 \n",
      "5 2 4 1 7 5\n",
      "[1, 3, 1]\n",
      "5\n"
     ]
    }
   ],
   "source": [
    "a = int(input())\n",
    "while True :\n",
    "    n = input().split()\n",
    "    k = [int(i) for i in n]\n",
    "    if len(n) == a :\n",
    "        break\n",
    "lst = []\n",
    "summ = sum(k) // len(k)\n",
    "count = 0\n",
    "for i in n :\n",
    "    i = int(i)\n",
    "    c = i - summ\n",
    "    if c > 0 :\n",
    "        lst.append(c)\n",
    "print(lst)\n",
    "print(sum(lst))"
   ]
  },
  {
   "cell_type": "markdown",
   "id": "f518fdba",
   "metadata": {},
   "source": [
    "# 112"
   ]
  },
  {
   "cell_type": "code",
   "execution_count": 302,
   "id": "3468fd48",
   "metadata": {},
   "outputs": [
    {
     "name": "stdout",
     "output_type": "stream",
     "text": [
      "5 \n",
      "1 3 3 4 5\n",
      "1 5 3 7 9 "
     ]
    }
   ],
   "source": [
    "\n",
    "a = int(input())\n",
    "while True :\n",
    "    n = input().split()\n",
    "    lst = [int(i) for i in n]\n",
    "    if len(n) == a :\n",
    "        break\n",
    "res = 0\n",
    "prev = 0\n",
    "for i in range(1, len(lst) + 1) :\n",
    "    res = lst[i-1] * i - prev\n",
    "    prev = lst[i-1] * i\n",
    "    print(res, end = \" \")"
   ]
  },
  {
   "cell_type": "markdown",
   "id": "cf95a38a",
   "metadata": {},
   "source": [
    "# 113"
   ]
  },
  {
   "cell_type": "code",
   "execution_count": 306,
   "id": "0c932b93",
   "metadata": {},
   "outputs": [
    {
     "name": "stdout",
     "output_type": "stream",
     "text": [
      "1 4 3 2 9 7 18 22 0 \n",
      "3\n"
     ]
    }
   ],
   "source": [
    "# 113lst = [int(i) for i in input().split()]\n",
    "count = 0\n",
    "for i in lst :\n",
    "    if i * 2 in lst and i != 0 :\n",
    "        count += 1\n",
    "print(count)\n",
    "    "
   ]
  },
  {
   "cell_type": "markdown",
   "id": "f1e28c96",
   "metadata": {},
   "source": [
    "# 114"
   ]
  },
  {
   "cell_type": "code",
   "execution_count": 312,
   "id": "65453dec",
   "metadata": {},
   "outputs": [
    {
     "name": "stdout",
     "output_type": "stream",
     "text": [
      "24 2\n",
      "1 1\n",
      "1 2\n",
      "2 1\n",
      "2 2\n",
      "3 1\n",
      "3 2\n",
      "4 1\n",
      "4 2\n",
      "6 1\n",
      "6 2\n",
      "8 1\n",
      "8 2\n",
      "12 1\n",
      "12 2\n",
      "24 1\n",
      "24 2\n"
     ]
    }
   ],
   "source": [
    "# 113P, Q = input().split()\n",
    "P, Q = int(P), int(Q)\n",
    "count = 0\n",
    "for i in range(1, P + 1) :\n",
    "    for j in range(1, Q + 1) :\n",
    "        if P % i == 0 and Q % j == 0 :\n",
    "            print(i, j)"
   ]
  },
  {
   "cell_type": "markdown",
   "id": "ab79667b",
   "metadata": {},
   "source": [
    "# 115"
   ]
  },
  {
   "cell_type": "code",
   "execution_count": 313,
   "id": "0adfb7f8",
   "metadata": {},
   "outputs": [
    {
     "name": "stdout",
     "output_type": "stream",
     "text": [
      "123 45\n",
      "54\n"
     ]
    }
   ],
   "source": [
    "P, Q = input().split()\n",
    "P = [int(i) for i in P]\n",
    "Q = [int(i) for i in Q]\n",
    "\n",
    "summ = 0\n",
    "for i in Q :\n",
    "    for j in P :\n",
    "        summ += i * j\n",
    "print(summ)"
   ]
  },
  {
   "cell_type": "markdown",
   "id": "9f2ba03c",
   "metadata": {},
   "source": [
    "# 116"
   ]
  },
  {
   "cell_type": "code",
   "execution_count": 314,
   "id": "93b9f834",
   "metadata": {},
   "outputs": [
    {
     "name": "stdout",
     "output_type": "stream",
     "text": [
      "77\n",
      "-99\n",
      "98\n"
     ]
    }
   ],
   "source": [
    "n = [7, -5, 4, -99, 45, 11, 0, 8, 50, 77]\n",
    "print(max(n))\n",
    "print(min(n))\n",
    "print(sum(n))"
   ]
  },
  {
   "cell_type": "markdown",
   "id": "0da9940f",
   "metadata": {},
   "source": [
    "# 117"
   ]
  },
  {
   "cell_type": "code",
   "execution_count": 318,
   "id": "2e0023cc",
   "metadata": {},
   "outputs": [
    {
     "name": "stdout",
     "output_type": "stream",
     "text": [
      "10\n",
      "20\n",
      "30\n",
      "40\n",
      "50\n",
      "60\n",
      "70\n",
      "80\n",
      "90\n",
      "90\n",
      "9\n"
     ]
    }
   ],
   "source": [
    "lst = []\n",
    "for i in range(1, 10) :\n",
    "    n = int(input())\n",
    "    lst.append(n)\n",
    "\n",
    "print(max(lst))\n",
    "print(lst.index(max(lst))+1)"
   ]
  },
  {
   "cell_type": "markdown",
   "id": "40592bfc",
   "metadata": {},
   "source": [
    "# 118"
   ]
  },
  {
   "cell_type": "code",
   "execution_count": 323,
   "id": "ec1e9144",
   "metadata": {},
   "outputs": [
    {
     "name": "stdout",
     "output_type": "stream",
     "text": [
      "5 4 4 5\n",
      "5 4 4 4 \n",
      "5 5 4 4\n",
      "5 5 5 4\n",
      "4 4 4 5\n",
      "4 19\n"
     ]
    }
   ],
   "source": [
    "lst = []\n",
    "for i in range(1, 6) :\n",
    "    n = [int(j) for j in input().split()]\n",
    "    lst.append(sum(n))\n",
    "print(lst.index(max(lst))+1, max(lst))"
   ]
  },
  {
   "cell_type": "markdown",
   "id": "68b67947",
   "metadata": {},
   "source": [
    "# 119"
   ]
  },
  {
   "cell_type": "code",
   "execution_count": 326,
   "id": "fbae39d6",
   "metadata": {},
   "outputs": [
    {
     "name": "stdout",
     "output_type": "stream",
     "text": [
      "5\n",
      "512\n",
      "532\n",
      "532\n",
      "585\n",
      "599\n",
      "532\n"
     ]
    }
   ],
   "source": [
    "n = int(input())\n",
    "lst = []\n",
    "for i in range(n) :\n",
    "    lst.append(input())\n",
    "fav = lst[0]   \n",
    "for i in lst :\n",
    "    if lst.count(i) > lst.count(fav) :\n",
    "        fav = i\n",
    "        \n",
    "print(fav)\n",
    "    "
   ]
  },
  {
   "cell_type": "markdown",
   "id": "361e70c8",
   "metadata": {},
   "source": [
    "# 120"
   ]
  },
  {
   "cell_type": "code",
   "execution_count": 348,
   "id": "eb8c2b04",
   "metadata": {},
   "outputs": [
    {
     "name": "stdout",
     "output_type": "stream",
     "text": [
      "5\n",
      "3\n",
      "2 -1 1 2 2\n",
      "25\n"
     ]
    }
   ],
   "source": [
    "while True :\n",
    "    N = int(input())\n",
    "    K = int(input())\n",
    "    if N > 0 and -3 <= K <= 3:\n",
    "        break\n",
    "x = [int(i) for i in input().split()]\n",
    "x = x[:N]\n",
    "summ = 0\n",
    "for i in x :\n",
    "    if i ** K > 0 :\n",
    "        summ += i ** K\n",
    "print(summ)"
   ]
  },
  {
   "cell_type": "markdown",
   "id": "187bdce9",
   "metadata": {},
   "source": [
    "# 121"
   ]
  },
  {
   "cell_type": "code",
   "execution_count": 345,
   "id": "d08d5fee",
   "metadata": {},
   "outputs": [
    {
     "name": "stdout",
     "output_type": "stream",
     "text": [
      "3 2 3\n",
      "5\n"
     ]
    }
   ],
   "source": [
    "while True :\n",
    "    S1, S2, S3 = input().split()\n",
    "    S1, S2, S3 = int(S1), int(S2), int(S3)\n",
    "    if 2 <= S1 <= 20 and 2 <= S2 <= 20 and 2 <= S3 <= 20 :\n",
    "        break\n",
    "lst = []\n",
    "for i in range(1, S1 + 1) :\n",
    "    for j in range(i, S2 + 1) :\n",
    "        for k in range(j, S3 + 1) :\n",
    "            lst.append(i + j + k)\n",
    "mini = lst[0]\n",
    "for i in lst :\n",
    "    if lst.count(mini) < lst.count(i) :\n",
    "        mini = i\n",
    "print(mini)"
   ]
  },
  {
   "cell_type": "markdown",
   "id": "01a9685d",
   "metadata": {},
   "source": [
    "# 122"
   ]
  },
  {
   "cell_type": "code",
   "execution_count": 369,
   "id": "ca20d016",
   "metadata": {},
   "outputs": [
    {
     "name": "stdout",
     "output_type": "stream",
     "text": [
      "100\n",
      "3\n",
      "75 5 25\n",
      "1 3\n"
     ]
    }
   ],
   "source": [
    "C = int(input())\n",
    "N = int(input())\n",
    "S = [int(i) for i in input().split()]\n",
    "S = S[:N]\n",
    "lst = []\n",
    "for i in range(N) :\n",
    "    for j in range(i, N) :\n",
    "        if S[i] + S[j] == C :\n",
    "            lst.append([i+1, j+1])\n",
    "if bool(lst) :\n",
    "    print(*lst[0])\n",
    "else :\n",
    "    print(0)"
   ]
  },
  {
   "cell_type": "markdown",
   "id": "ab4da5a4",
   "metadata": {},
   "source": [
    "# 123"
   ]
  },
  {
   "cell_type": "code",
   "execution_count": 385,
   "id": "1bab6786",
   "metadata": {},
   "outputs": [
    {
     "name": "stdout",
     "output_type": "stream",
     "text": [
      "2\n",
      "60 1\n",
      "30 5\n",
      "180\n"
     ]
    }
   ],
   "source": [
    "N = int(input())\n",
    "S = []\n",
    "T = []\n",
    "\n",
    "for _ in range(N) :\n",
    "    while True :\n",
    "        s, t = input().split()\n",
    "        s, t = int(s), int(t)\n",
    "        if 1 <= s <= 90 and 1 <= t <= 12 :\n",
    "            S.append(s)\n",
    "            T.append(t)\n",
    "            break\n",
    "\n",
    "total = 0\n",
    "prev = 0\n",
    "for i in range(0, N) :\n",
    "    total += S[i] * (T[i]-prev)\n",
    "    prev = T[i]\n",
    "print(total)    "
   ]
  },
  {
   "cell_type": "markdown",
   "id": "47b4900b",
   "metadata": {},
   "source": [
    "# 124"
   ]
  },
  {
   "cell_type": "code",
   "execution_count": 389,
   "id": "3114e328",
   "metadata": {},
   "outputs": [
    {
     "name": "stdout",
     "output_type": "stream",
     "text": [
      "1\n",
      "3\n",
      "4\n",
      "5\n",
      "6\n",
      "7\n",
      "9\n",
      "10\n",
      "11\n",
      "12\n",
      "13\n",
      "14\n",
      "15\n",
      "16\n",
      "17\n",
      "18\n",
      "19\n",
      "20\n",
      "21\n",
      "22\n",
      "23\n",
      "24\n",
      "25\n",
      "26\n",
      "27\n",
      "28\n",
      "29\n",
      "30\n",
      "2\n",
      "8\n"
     ]
    }
   ],
   "source": [
    "s = list(range(1, 31))\n",
    "lst = []\n",
    "for i in range(28) :\n",
    "    x = int(input())\n",
    "    lst.append(x)\n",
    "for j in s :\n",
    "    if j not in lst :\n",
    "        print(j)"
   ]
  },
  {
   "cell_type": "markdown",
   "id": "6acce37a",
   "metadata": {},
   "source": [
    "# 125"
   ]
  },
  {
   "cell_type": "code",
   "execution_count": 395,
   "id": "a45a9848",
   "metadata": {},
   "outputs": [
    {
     "name": "stdout",
     "output_type": "stream",
     "text": [
      "42\n",
      "84\n",
      "252\n",
      "420\n",
      "840\n",
      "126\n",
      "42\n",
      "42\n",
      "42\n",
      "42\n",
      "[0]\n",
      "1\n"
     ]
    }
   ],
   "source": [
    "lst = []\n",
    "remainder = []\n",
    "for _ in range(10) :\n",
    "    A = int(input())\n",
    "    lst.append(A)\n",
    "for i in lst :\n",
    "    if i % 42 not in remainder :\n",
    "        remainder.append(i%42)\n",
    "print(len(remainder))"
   ]
  },
  {
   "cell_type": "markdown",
   "id": "640c503c",
   "metadata": {},
   "source": [
    "# 126"
   ]
  },
  {
   "cell_type": "code",
   "execution_count": 31,
   "id": "d20f1e2e",
   "metadata": {},
   "outputs": [
    {
     "name": "stdout",
     "output_type": "stream",
     "text": [
      "30 3\n",
      "[-1, 0, 0, 0, 0, 0, 0, 0, 0, 0, 0, 0, 0, 0, 0, 0, 0, 0, 0, 0, 0, 0, 0, 0, 0, 0, 0, 0, 0, 0, 0]\n",
      "\n",
      "1 3\n",
      "[-1, 'R', 0, 0, 'R', 0, 0, 'R', 0, 0, 'R', 0, 0, 'R', 0, 0, 'R', 0, 0, 'R', 0, 0, 'R', 0, 0, 'R', 0, 0, 'R', 0, 0]\n",
      "3 7\n",
      "[-1, 'R', 0, 'B', 'R', 0, 0, 'R', 0, 0, 'R', 0, 0, 'R', 0, 0, 'R', 'B', 0, 'R', 0, 0, 'R', 0, 'B', 'R', 0, 0, 'R', 0, 0]\n",
      "1 4\n",
      "[-1, 'R', 0, 'B', 'R', 'D', 0, 'R', 0, 'D', 'R', 0, 0, 'R', 0, 0, 'R', 'B', 0, 'R', 0, 'D', 'R', 0, 'B', 'R', 0, 0, 'R', 'D', 0]\n",
      "13\n"
     ]
    }
   ],
   "source": [
    "slots, N = input().split()\n",
    "slots, N = int(slots), int(N)\n",
    "S = [-1] + [0] * slots\n",
    "print(S)\n",
    "types = ['R','B','D']\n",
    "print()\n",
    "for i in range(N) :\n",
    "    a, b = input().split()\n",
    "    a, b = int(a), int(b)\n",
    "    for j in range(a, len(S), b) :\n",
    "        if S[j] == 0 :\n",
    "            S[j] = types[i]\n",
    "        \n",
    "    print(S)\n",
    "print(S.count(0))"
   ]
  },
  {
   "cell_type": "markdown",
   "id": "799e476c",
   "metadata": {},
   "source": [
    "# 127"
   ]
  },
  {
   "cell_type": "code",
   "execution_count": 35,
   "id": "8c3cb8b3",
   "metadata": {},
   "outputs": [
    {
     "name": "stdout",
     "output_type": "stream",
     "text": [
      "4 5\n",
      "0 1 2\n",
      "0 2 4\n",
      "1 2 3\n",
      "1\n",
      "0 2 4\n",
      "1 1 4\n",
      "2\n"
     ]
    }
   ],
   "source": [
    "N, M = input().split()\n",
    "N, M = int(N), int(M)\n",
    "off = 0\n",
    "on = 1\n",
    "N = [-1] + [0] * N\n",
    "for i in range(M) :\n",
    "    op, S_i, E_i = input().split()\n",
    "    op, S_i, E_i = int(op), int(S_i), int(E_i)\n",
    "    if op == 0:\n",
    "        for j in range(S_i, E_i + 1) :\n",
    "            if N[j] == off :\n",
    "                N[j] = on\n",
    "            elif N[j] == on :\n",
    "                N[j] = off\n",
    "    elif op == 1 :\n",
    "        print(N[S_i : E_i+1].count(on))"
   ]
  },
  {
   "cell_type": "markdown",
   "id": "0011cd1b",
   "metadata": {},
   "source": [
    "# 128"
   ]
  },
  {
   "cell_type": "code",
   "execution_count": 40,
   "id": "da680150",
   "metadata": {},
   "outputs": [
    {
     "name": "stdout",
     "output_type": "stream",
     "text": [
      "5\n",
      "2\n",
      "2\n",
      "1\n",
      "[-1, 1, 1, 1, 0, 0] \n",
      "\n",
      "5\n",
      "[-1, 1, 1, 1, 1, 1] \n",
      "\n",
      "0\n"
     ]
    }
   ],
   "source": [
    "N = int(input())\n",
    "M = int(input())\n",
    "K = int(input())\n",
    "check = [-1] + [0] * N\n",
    "for _ in range(M) :\n",
    "    x = int(input())\n",
    "    for j in range(x- K, x + K + 1) :\n",
    "        if 1 <= j <= N :\n",
    "            check[j] = 1\n",
    "    print(check, '\\n')\n",
    "cnt = 0\n",
    "for i in range(1, N + 1) :\n",
    "    if check[i] == 0 :\n",
    "        cnt += 1 \n",
    "        for j in range(i, min(i + K * 2, N) + 1) :\n",
    "            check[j] = 1\n",
    "            print(check, '\\n')\n",
    "print(cnt)"
   ]
  },
  {
   "cell_type": "markdown",
   "id": "d8183379",
   "metadata": {},
   "source": [
    "# 129"
   ]
  },
  {
   "cell_type": "code",
   "execution_count": 45,
   "id": "c9c363ae",
   "metadata": {},
   "outputs": [
    {
     "name": "stdout",
     "output_type": "stream",
     "text": [
      "300 1\n",
      "100 200\n",
      "200\n"
     ]
    }
   ],
   "source": [
    "L, M = input().split()\n",
    "L, M = int(L), int(M)\n",
    "trees = [0] * (L + 1)\n",
    "for _ in range(M) :\n",
    "    S, E = input().split()\n",
    "    S, E = int(S), int(E)\n",
    "    for j in range(S, E + 1) :\n",
    "        trees[j-1] = 1\n",
    "print(trees.count(0))"
   ]
  },
  {
   "cell_type": "markdown",
   "id": "04c1b291",
   "metadata": {},
   "source": [
    "# 130"
   ]
  },
  {
   "cell_type": "code",
   "execution_count": 48,
   "id": "003b270a",
   "metadata": {},
   "outputs": [
    {
     "name": "stdout",
     "output_type": "stream",
     "text": [
      "5 3 1\n",
      "1 3\n",
      "3 5\n",
      "0 0\n",
      "20\n"
     ]
    }
   ],
   "source": [
    "time = [-1] + [0] * 100\n",
    "a, b, c = [int(n) for n in input().split()]\n",
    "for i in range(3) :\n",
    "    start, end = [int(n) for n in input().split()]\n",
    "    for j in range(start, end) :\n",
    "        time[j] += 1\n",
    "total = 0\n",
    "for _ in range(len(time)) :\n",
    "    if time[_] == 1 :\n",
    "        total += a\n",
    "    elif time[_] == 2 :\n",
    "        total += b*2\n",
    "    elif time[_] == 3 :\n",
    "        total += c*3\n",
    "print(total)"
   ]
  },
  {
   "cell_type": "markdown",
   "id": "0544b314",
   "metadata": {},
   "source": [
    "# 131"
   ]
  },
  {
   "cell_type": "code",
   "execution_count": 51,
   "id": "44c5b9b6",
   "metadata": {},
   "outputs": [
    {
     "name": "stdout",
     "output_type": "stream",
     "text": [
      "3\n",
      "5 9\n",
      "1 10\n",
      "3 8\n",
      "350\n",
      "450\n",
      "330\n"
     ]
    }
   ],
   "source": [
    "a = [10, 20, 30, 40, 50, 60, 70, 80, 90]\n",
    "T = int(input())\n",
    "total = []\n",
    "for i in range(T) :\n",
    "    S, E = [int(n) for n in input().split()]\n",
    "    total.append(sum(a[S-1:E]))\n",
    "print(*total,sep='\\n')"
   ]
  },
  {
   "cell_type": "markdown",
   "id": "dd218143",
   "metadata": {},
   "source": [
    "# 132"
   ]
  },
  {
   "cell_type": "code",
   "execution_count": 55,
   "id": "0872cb46",
   "metadata": {},
   "outputs": [
    {
     "name": "stdout",
     "output_type": "stream",
     "text": [
      "4 2\n",
      "5\n",
      "8\n",
      "12\n",
      "6\n",
      "1 3\n",
      "2 4\n",
      "25\n",
      "26\n"
     ]
    }
   ],
   "source": [
    "N, Q = [int(i) for i in input().split()]\n",
    "H = []\n",
    "food = []\n",
    "for _ in range(N) :\n",
    "    H.append(int(input()))\n",
    "for _ in range(Q) :\n",
    "    S, E = [int(i) for i in input().split()]\n",
    "    food.append(sum(H[S-1:E]))\n",
    "print(*food, sep='\\n')"
   ]
  },
  {
   "cell_type": "markdown",
   "id": "c4799c2d",
   "metadata": {},
   "source": [
    "# 133"
   ]
  },
  {
   "cell_type": "code",
   "execution_count": 61,
   "id": "d3e62498",
   "metadata": {},
   "outputs": [
    {
     "name": "stdout",
     "output_type": "stream",
     "text": [
      "5 3\n",
      "2\n",
      "5\n",
      "-4\n",
      "10\n",
      "3\n",
      "11\n"
     ]
    }
   ],
   "source": [
    "N, K = [int(i) for i in input().split()]\n",
    "lst = []\n",
    "sumlst = []\n",
    "for _ in range(N) :\n",
    "    lst.append(int(input()))\n",
    "for i in range(len(lst)) :\n",
    "    if i + K <= len(lst) :\n",
    "        sumlst.append(sum(lst[i:i+K]))\n",
    "print(max(sumlst))"
   ]
  },
  {
   "cell_type": "markdown",
   "id": "84b72ff3",
   "metadata": {},
   "source": [
    "# 134"
   ]
  },
  {
   "cell_type": "code",
   "execution_count": 62,
   "id": "c6adf745",
   "metadata": {},
   "outputs": [
    {
     "name": "stdout",
     "output_type": "stream",
     "text": [
      "4\n",
      "+\n",
      "5\n",
      "*\n",
      "9\n",
      "81\n"
     ]
    }
   ],
   "source": [
    "A = int(input())\n",
    "op1 = input()\n",
    "B = int(input())\n",
    "op2 = input()\n",
    "C = int(input())\n",
    "\n",
    "if op1 == '+' :\n",
    "    D = A + B\n",
    "elif op1 == '-' :\n",
    "    D = A - B\n",
    "elif op1 == '*' :\n",
    "    D = A * B \n",
    "elif op1 == '/' :\n",
    "    D = A / B\n",
    "    \n",
    "if op2 == '+' :\n",
    "    E = D + C\n",
    "elif op2 == '-' :\n",
    "    E = D - C\n",
    "elif op2 == '*' :\n",
    "    E = D * C\n",
    "elif op2 == '/' :\n",
    "    E = D / C\n",
    "\n",
    "print(E)"
   ]
  },
  {
   "cell_type": "markdown",
   "id": "f8c04819",
   "metadata": {},
   "source": [
    "# 135"
   ]
  },
  {
   "cell_type": "code",
   "execution_count": 84,
   "id": "ceac3fff",
   "metadata": {},
   "outputs": [
    {
     "name": "stdout",
     "output_type": "stream",
     "text": [
      "13 5 3 2 1\n",
      "u\n",
      "f\n",
      "u\n",
      "d\n",
      "f\n",
      "3\n"
     ]
    }
   ],
   "source": [
    "M, T, U, F, D = [int(i) for i in input().split()]\n",
    "terrains = []\n",
    "backward = []\n",
    "for _ in range(T) :\n",
    "    x = input()\n",
    "    if x.upper() == 'U' :\n",
    "        terrains.append(U)\n",
    "        backward.append(D)\n",
    "    elif x.upper() == 'F' :\n",
    "        terrains.append(F)\n",
    "        backward.append(F)\n",
    "    elif x.upper() == 'D' :\n",
    "        terrains.append(D)\n",
    "        backward.append(U)\n",
    "        \n",
    "count = 0\n",
    "total = 0\n",
    "i = 0\n",
    "while True :\n",
    "    if total + terrains[i] + backward[i] > M :\n",
    "        break\n",
    "    elif total <= M :\n",
    "        total += terrains[i] + backward[i]\n",
    "        count += 1\n",
    "        i += 1\n",
    "        if i == len(terrains) :\n",
    "            i = 0\n",
    "print(count)"
   ]
  },
  {
   "cell_type": "markdown",
   "id": "1b8df082",
   "metadata": {},
   "source": [
    "# 136"
   ]
  },
  {
   "cell_type": "code",
   "execution_count": 81,
   "id": "61d2808d",
   "metadata": {},
   "outputs": [
    {
     "name": "stdout",
     "output_type": "stream",
     "text": [
      "1 1 1 1 1 3 3 1 1 1 7 7 \n",
      "1\n",
      "5\n"
     ]
    }
   ],
   "source": [
    "lst = [int(i) for i in input().split()]\n",
    "start = []\n",
    "end = []\n",
    "compare = []\n",
    "count = []\n",
    "for i in range(len(lst)-1, -1, -1) :\n",
    "    if lst[i] != lst[i-1] :\n",
    "        start.append(i+1)\n",
    "start.reverse()\n",
    "for i in range(len(lst)-1) :\n",
    "    if lst[i] != lst[i+1] :\n",
    "        end.append(i+1)\n",
    "        compare.append(lst[i+1])\n",
    "compare.insert(0, lst[0])\n",
    "end.append(len(lst))\n",
    "for i in range(len(start)) :\n",
    "    count.append(end[i]-start[i]+1)\n",
    "maxi = max(count)\n",
    "for i in range(len(count)) :\n",
    "    if maxi == count[i] :\n",
    "        print(compare[i])\n",
    "print(maxi)"
   ]
  },
  {
   "cell_type": "markdown",
   "id": "a2153b3a",
   "metadata": {},
   "source": [
    "# 137"
   ]
  },
  {
   "cell_type": "code",
   "execution_count": 87,
   "id": "57561ece",
   "metadata": {},
   "outputs": [
    {
     "name": "stdout",
     "output_type": "stream",
     "text": [
      "6\n",
      "1 0 0 1 1 1\n",
      "[1, 0, 0, 1, 1, 1]\n",
      "2\n"
     ]
    }
   ],
   "source": [
    "N = int(input())\n",
    "lst = [int(i) for i in input().split()]\n",
    "lst[:N]\n",
    "print(lst)\n",
    "count = 0\n",
    "for i in range(1, len(lst)) :\n",
    "    if lst[i] != lst[i-1] :\n",
    "        count += 1\n",
    "print(count)"
   ]
  },
  {
   "cell_type": "markdown",
   "id": "686ec5d7",
   "metadata": {},
   "source": [
    "# 138"
   ]
  },
  {
   "cell_type": "code",
   "execution_count": 25,
   "id": "5daf7c11",
   "metadata": {},
   "outputs": [
    {
     "name": "stdout",
     "output_type": "stream",
     "text": [
      "1 2 3 4 5 6 7 8\n",
      "ascending\n"
     ]
    }
   ],
   "source": [
    "lst = [int(i) for i in input().split()]\n",
    "alst = lst[:]\n",
    "alst.sort()\n",
    "dlst = lst[:]\n",
    "dlst.sort(reverse = True)\n",
    "if lst == alst :\n",
    "    print('ascending')\n",
    "elif lst == dlst :\n",
    "    print('desending')\n",
    "else :\n",
    "    print('mixed')"
   ]
  },
  {
   "cell_type": "markdown",
   "id": "ce3b6f5d",
   "metadata": {},
   "source": [
    "# 139"
   ]
  },
  {
   "cell_type": "code",
   "execution_count": 36,
   "id": "990b9894",
   "metadata": {},
   "outputs": [
    {
     "name": "stdout",
     "output_type": "stream",
     "text": [
      "6\n",
      "C\n",
      "C\n",
      "P\n",
      "C\n",
      "Z\n",
      "Z\n",
      "4\n"
     ]
    }
   ],
   "source": [
    "N = int(input())\n",
    "lst = []\n",
    "for i in range(N) :\n",
    "    x = input()\n",
    "    lst.append(x)\n",
    "count = 0\n",
    "for i in range(1, len(lst)) :\n",
    "    if lst[i] != lst[i-1] :\n",
    "        count += 1\n",
    "print(count+1)"
   ]
  },
  {
   "cell_type": "markdown",
   "id": "75bce56a",
   "metadata": {},
   "source": [
    "# 140"
   ]
  },
  {
   "cell_type": "code",
   "execution_count": 3,
   "id": "e4bcd5d4",
   "metadata": {},
   "outputs": [
    {
     "name": "stdout",
     "output_type": "stream",
     "text": [
      "7\n",
      "0 0\n",
      "1 0\n",
      "1 1\n",
      "0 0 \n",
      "0 0\n",
      "0 0\n",
      "0 1\n",
      "6\n"
     ]
    }
   ],
   "source": [
    "N = int(input())\n",
    "count = 0\n",
    "max_count = 0\n",
    "for _ in range(N) :\n",
    "    if input().split() == ['0', '0'] :\n",
    "        count += 1\n",
    "    else :\n",
    "        count = 0\n",
    "    if max_count < count :\n",
    "        max_count = count\n",
    "print(max_count * 2)"
   ]
  }
 ],
 "metadata": {
  "kernelspec": {
   "display_name": "Python 3 (ipykernel)",
   "language": "python",
   "name": "python3"
  },
  "language_info": {
   "codemirror_mode": {
    "name": "ipython",
    "version": 3
   },
   "file_extension": ".py",
   "mimetype": "text/x-python",
   "name": "python",
   "nbconvert_exporter": "python",
   "pygments_lexer": "ipython3",
   "version": "3.10.9"
  }
 },
 "nbformat": 4,
 "nbformat_minor": 5
}
